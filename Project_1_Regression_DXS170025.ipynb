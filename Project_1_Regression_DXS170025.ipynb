{
 "cells": [
  {
   "cell_type": "markdown",
   "metadata": {},
   "source": [
    "# Project 1 - Regression Task"
   ]
  },
  {
   "cell_type": "markdown",
   "metadata": {},
   "source": [
    "The dataset used can be obtained from the link shared here : https://www.kaggle.com/harlfoxem/housesalesprediction"
   ]
  },
  {
   "cell_type": "code",
   "execution_count": 1,
   "metadata": {},
   "outputs": [],
   "source": [
    "from IPython.core.interactiveshell import InteractiveShell\n",
    "InteractiveShell.ast_node_interactivity = \"all\""
   ]
  },
  {
   "cell_type": "markdown",
   "metadata": {},
   "source": [
    "Load libraries"
   ]
  },
  {
   "cell_type": "code",
   "execution_count": 2,
   "metadata": {},
   "outputs": [],
   "source": [
    "import pandas as pd\n",
    "import numpy as np\n",
    "import matplotlib.pyplot as plt\n",
    "import seaborn as sns"
   ]
  },
  {
   "cell_type": "code",
   "execution_count": 3,
   "metadata": {},
   "outputs": [],
   "source": [
    "from sklearn.linear_model import LinearRegression\n",
    "from sklearn.preprocessing import StandardScaler\n",
    "from sklearn.svm import LinearSVR\n",
    "from sklearn.model_selection import train_test_split\n",
    "from sklearn.svm import SVR\n",
    "from sklearn.model_selection import GridSearchCV\n",
    "from sklearn.neighbors import KNeighborsRegressor\n",
    "from sklearn.preprocessing import PolynomialFeatures\n",
    "from sklearn.linear_model import Ridge\n",
    "from sklearn.linear_model import Lasso\n",
    "from sklearn.preprocessing import MinMaxScaler"
   ]
  },
  {
   "cell_type": "markdown",
   "metadata": {},
   "source": [
    "Load dataset"
   ]
  },
  {
   "cell_type": "code",
   "execution_count": 4,
   "metadata": {},
   "outputs": [],
   "source": [
    "salesdata = pd.read_csv(\"kc_house_data.csv\")"
   ]
  },
  {
   "cell_type": "markdown",
   "metadata": {},
   "source": [
    "# Outline of Data"
   ]
  },
  {
   "cell_type": "code",
   "execution_count": 5,
   "metadata": {},
   "outputs": [
    {
     "data": {
      "text/plain": [
       "(21613, 21)"
      ]
     },
     "execution_count": 5,
     "metadata": {},
     "output_type": "execute_result"
    },
    {
     "data": {
      "text/html": [
       "<div>\n",
       "<style scoped>\n",
       "    .dataframe tbody tr th:only-of-type {\n",
       "        vertical-align: middle;\n",
       "    }\n",
       "\n",
       "    .dataframe tbody tr th {\n",
       "        vertical-align: top;\n",
       "    }\n",
       "\n",
       "    .dataframe thead th {\n",
       "        text-align: right;\n",
       "    }\n",
       "</style>\n",
       "<table border=\"1\" class=\"dataframe\">\n",
       "  <thead>\n",
       "    <tr style=\"text-align: right;\">\n",
       "      <th></th>\n",
       "      <th>id</th>\n",
       "      <th>date</th>\n",
       "      <th>price</th>\n",
       "      <th>bedrooms</th>\n",
       "      <th>bathrooms</th>\n",
       "      <th>sqft_living</th>\n",
       "      <th>sqft_lot</th>\n",
       "      <th>floors</th>\n",
       "      <th>waterfront</th>\n",
       "      <th>view</th>\n",
       "      <th>...</th>\n",
       "      <th>grade</th>\n",
       "      <th>sqft_above</th>\n",
       "      <th>sqft_basement</th>\n",
       "      <th>yr_built</th>\n",
       "      <th>yr_renovated</th>\n",
       "      <th>zipcode</th>\n",
       "      <th>lat</th>\n",
       "      <th>long</th>\n",
       "      <th>sqft_living15</th>\n",
       "      <th>sqft_lot15</th>\n",
       "    </tr>\n",
       "  </thead>\n",
       "  <tbody>\n",
       "    <tr>\n",
       "      <th>0</th>\n",
       "      <td>7129300520</td>\n",
       "      <td>20141013T000000</td>\n",
       "      <td>221900.0</td>\n",
       "      <td>3</td>\n",
       "      <td>1.00</td>\n",
       "      <td>1180</td>\n",
       "      <td>5650</td>\n",
       "      <td>1.0</td>\n",
       "      <td>0</td>\n",
       "      <td>0</td>\n",
       "      <td>...</td>\n",
       "      <td>7</td>\n",
       "      <td>1180</td>\n",
       "      <td>0</td>\n",
       "      <td>1955</td>\n",
       "      <td>0</td>\n",
       "      <td>98178</td>\n",
       "      <td>47.5112</td>\n",
       "      <td>-122.257</td>\n",
       "      <td>1340</td>\n",
       "      <td>5650</td>\n",
       "    </tr>\n",
       "    <tr>\n",
       "      <th>1</th>\n",
       "      <td>6414100192</td>\n",
       "      <td>20141209T000000</td>\n",
       "      <td>538000.0</td>\n",
       "      <td>3</td>\n",
       "      <td>2.25</td>\n",
       "      <td>2570</td>\n",
       "      <td>7242</td>\n",
       "      <td>2.0</td>\n",
       "      <td>0</td>\n",
       "      <td>0</td>\n",
       "      <td>...</td>\n",
       "      <td>7</td>\n",
       "      <td>2170</td>\n",
       "      <td>400</td>\n",
       "      <td>1951</td>\n",
       "      <td>1991</td>\n",
       "      <td>98125</td>\n",
       "      <td>47.7210</td>\n",
       "      <td>-122.319</td>\n",
       "      <td>1690</td>\n",
       "      <td>7639</td>\n",
       "    </tr>\n",
       "    <tr>\n",
       "      <th>2</th>\n",
       "      <td>5631500400</td>\n",
       "      <td>20150225T000000</td>\n",
       "      <td>180000.0</td>\n",
       "      <td>2</td>\n",
       "      <td>1.00</td>\n",
       "      <td>770</td>\n",
       "      <td>10000</td>\n",
       "      <td>1.0</td>\n",
       "      <td>0</td>\n",
       "      <td>0</td>\n",
       "      <td>...</td>\n",
       "      <td>6</td>\n",
       "      <td>770</td>\n",
       "      <td>0</td>\n",
       "      <td>1933</td>\n",
       "      <td>0</td>\n",
       "      <td>98028</td>\n",
       "      <td>47.7379</td>\n",
       "      <td>-122.233</td>\n",
       "      <td>2720</td>\n",
       "      <td>8062</td>\n",
       "    </tr>\n",
       "    <tr>\n",
       "      <th>3</th>\n",
       "      <td>2487200875</td>\n",
       "      <td>20141209T000000</td>\n",
       "      <td>604000.0</td>\n",
       "      <td>4</td>\n",
       "      <td>3.00</td>\n",
       "      <td>1960</td>\n",
       "      <td>5000</td>\n",
       "      <td>1.0</td>\n",
       "      <td>0</td>\n",
       "      <td>0</td>\n",
       "      <td>...</td>\n",
       "      <td>7</td>\n",
       "      <td>1050</td>\n",
       "      <td>910</td>\n",
       "      <td>1965</td>\n",
       "      <td>0</td>\n",
       "      <td>98136</td>\n",
       "      <td>47.5208</td>\n",
       "      <td>-122.393</td>\n",
       "      <td>1360</td>\n",
       "      <td>5000</td>\n",
       "    </tr>\n",
       "    <tr>\n",
       "      <th>4</th>\n",
       "      <td>1954400510</td>\n",
       "      <td>20150218T000000</td>\n",
       "      <td>510000.0</td>\n",
       "      <td>3</td>\n",
       "      <td>2.00</td>\n",
       "      <td>1680</td>\n",
       "      <td>8080</td>\n",
       "      <td>1.0</td>\n",
       "      <td>0</td>\n",
       "      <td>0</td>\n",
       "      <td>...</td>\n",
       "      <td>8</td>\n",
       "      <td>1680</td>\n",
       "      <td>0</td>\n",
       "      <td>1987</td>\n",
       "      <td>0</td>\n",
       "      <td>98074</td>\n",
       "      <td>47.6168</td>\n",
       "      <td>-122.045</td>\n",
       "      <td>1800</td>\n",
       "      <td>7503</td>\n",
       "    </tr>\n",
       "    <tr>\n",
       "      <th>5</th>\n",
       "      <td>7237550310</td>\n",
       "      <td>20140512T000000</td>\n",
       "      <td>1225000.0</td>\n",
       "      <td>4</td>\n",
       "      <td>4.50</td>\n",
       "      <td>5420</td>\n",
       "      <td>101930</td>\n",
       "      <td>1.0</td>\n",
       "      <td>0</td>\n",
       "      <td>0</td>\n",
       "      <td>...</td>\n",
       "      <td>11</td>\n",
       "      <td>3890</td>\n",
       "      <td>1530</td>\n",
       "      <td>2001</td>\n",
       "      <td>0</td>\n",
       "      <td>98053</td>\n",
       "      <td>47.6561</td>\n",
       "      <td>-122.005</td>\n",
       "      <td>4760</td>\n",
       "      <td>101930</td>\n",
       "    </tr>\n",
       "    <tr>\n",
       "      <th>6</th>\n",
       "      <td>1321400060</td>\n",
       "      <td>20140627T000000</td>\n",
       "      <td>257500.0</td>\n",
       "      <td>3</td>\n",
       "      <td>2.25</td>\n",
       "      <td>1715</td>\n",
       "      <td>6819</td>\n",
       "      <td>2.0</td>\n",
       "      <td>0</td>\n",
       "      <td>0</td>\n",
       "      <td>...</td>\n",
       "      <td>7</td>\n",
       "      <td>1715</td>\n",
       "      <td>0</td>\n",
       "      <td>1995</td>\n",
       "      <td>0</td>\n",
       "      <td>98003</td>\n",
       "      <td>47.3097</td>\n",
       "      <td>-122.327</td>\n",
       "      <td>2238</td>\n",
       "      <td>6819</td>\n",
       "    </tr>\n",
       "    <tr>\n",
       "      <th>7</th>\n",
       "      <td>2008000270</td>\n",
       "      <td>20150115T000000</td>\n",
       "      <td>291850.0</td>\n",
       "      <td>3</td>\n",
       "      <td>1.50</td>\n",
       "      <td>1060</td>\n",
       "      <td>9711</td>\n",
       "      <td>1.0</td>\n",
       "      <td>0</td>\n",
       "      <td>0</td>\n",
       "      <td>...</td>\n",
       "      <td>7</td>\n",
       "      <td>1060</td>\n",
       "      <td>0</td>\n",
       "      <td>1963</td>\n",
       "      <td>0</td>\n",
       "      <td>98198</td>\n",
       "      <td>47.4095</td>\n",
       "      <td>-122.315</td>\n",
       "      <td>1650</td>\n",
       "      <td>9711</td>\n",
       "    </tr>\n",
       "  </tbody>\n",
       "</table>\n",
       "<p>8 rows × 21 columns</p>\n",
       "</div>"
      ],
      "text/plain": [
       "           id             date      price  bedrooms  bathrooms  sqft_living  \\\n",
       "0  7129300520  20141013T000000   221900.0         3       1.00         1180   \n",
       "1  6414100192  20141209T000000   538000.0         3       2.25         2570   \n",
       "2  5631500400  20150225T000000   180000.0         2       1.00          770   \n",
       "3  2487200875  20141209T000000   604000.0         4       3.00         1960   \n",
       "4  1954400510  20150218T000000   510000.0         3       2.00         1680   \n",
       "5  7237550310  20140512T000000  1225000.0         4       4.50         5420   \n",
       "6  1321400060  20140627T000000   257500.0         3       2.25         1715   \n",
       "7  2008000270  20150115T000000   291850.0         3       1.50         1060   \n",
       "\n",
       "   sqft_lot  floors  waterfront  view  ...  grade  sqft_above  sqft_basement  \\\n",
       "0      5650     1.0           0     0  ...      7        1180              0   \n",
       "1      7242     2.0           0     0  ...      7        2170            400   \n",
       "2     10000     1.0           0     0  ...      6         770              0   \n",
       "3      5000     1.0           0     0  ...      7        1050            910   \n",
       "4      8080     1.0           0     0  ...      8        1680              0   \n",
       "5    101930     1.0           0     0  ...     11        3890           1530   \n",
       "6      6819     2.0           0     0  ...      7        1715              0   \n",
       "7      9711     1.0           0     0  ...      7        1060              0   \n",
       "\n",
       "   yr_built  yr_renovated  zipcode      lat     long  sqft_living15  \\\n",
       "0      1955             0    98178  47.5112 -122.257           1340   \n",
       "1      1951          1991    98125  47.7210 -122.319           1690   \n",
       "2      1933             0    98028  47.7379 -122.233           2720   \n",
       "3      1965             0    98136  47.5208 -122.393           1360   \n",
       "4      1987             0    98074  47.6168 -122.045           1800   \n",
       "5      2001             0    98053  47.6561 -122.005           4760   \n",
       "6      1995             0    98003  47.3097 -122.327           2238   \n",
       "7      1963             0    98198  47.4095 -122.315           1650   \n",
       "\n",
       "   sqft_lot15  \n",
       "0        5650  \n",
       "1        7639  \n",
       "2        8062  \n",
       "3        5000  \n",
       "4        7503  \n",
       "5      101930  \n",
       "6        6819  \n",
       "7        9711  \n",
       "\n",
       "[8 rows x 21 columns]"
      ]
     },
     "execution_count": 5,
     "metadata": {},
     "output_type": "execute_result"
    }
   ],
   "source": [
    "salesdata.shape\n",
    "salesdata.head(8)"
   ]
  },
  {
   "cell_type": "code",
   "execution_count": 6,
   "metadata": {},
   "outputs": [
    {
     "data": {
      "text/plain": [
       "id                 int64\n",
       "date              object\n",
       "price            float64\n",
       "bedrooms           int64\n",
       "bathrooms        float64\n",
       "sqft_living        int64\n",
       "sqft_lot           int64\n",
       "floors           float64\n",
       "waterfront         int64\n",
       "view               int64\n",
       "condition          int64\n",
       "grade              int64\n",
       "sqft_above         int64\n",
       "sqft_basement      int64\n",
       "yr_built           int64\n",
       "yr_renovated       int64\n",
       "zipcode            int64\n",
       "lat              float64\n",
       "long             float64\n",
       "sqft_living15      int64\n",
       "sqft_lot15         int64\n",
       "dtype: object"
      ]
     },
     "execution_count": 6,
     "metadata": {},
     "output_type": "execute_result"
    }
   ],
   "source": [
    "salesdata.dtypes"
   ]
  },
  {
   "cell_type": "markdown",
   "metadata": {},
   "source": [
    "# Data PreProcessing \n",
    "\n",
    "Convert the datatypes of certain columns for easier analysis \n",
    "Columns id, bedrooms, bathrooms, floors, waterfront, view, condition, grade, yr_built, yr_renovated, zipcode are categorical variables"
   ]
  },
  {
   "cell_type": "code",
   "execution_count": 7,
   "metadata": {},
   "outputs": [],
   "source": [
    "salesdata[['id','bedrooms','bathrooms','floors','waterfront','view','condition','grade','yr_built','yr_renovated','zipcode']] = salesdata[['id','bedrooms','bathrooms','floors','waterfront','view','condition','grade','yr_built','yr_renovated','zipcode']].astype(object)"
   ]
  },
  {
   "cell_type": "markdown",
   "metadata": {},
   "source": [
    "Drop the column id as it is not significant in predicting house prices"
   ]
  },
  {
   "cell_type": "code",
   "execution_count": 8,
   "metadata": {},
   "outputs": [
    {
     "data": {
      "text/plain": [
       "date              object\n",
       "price            float64\n",
       "bedrooms          object\n",
       "bathrooms         object\n",
       "sqft_living        int64\n",
       "sqft_lot           int64\n",
       "floors            object\n",
       "waterfront        object\n",
       "view              object\n",
       "condition         object\n",
       "grade             object\n",
       "sqft_above         int64\n",
       "sqft_basement      int64\n",
       "yr_built          object\n",
       "yr_renovated      object\n",
       "zipcode           object\n",
       "lat              float64\n",
       "long             float64\n",
       "sqft_living15      int64\n",
       "sqft_lot15         int64\n",
       "dtype: object"
      ]
     },
     "execution_count": 8,
     "metadata": {},
     "output_type": "execute_result"
    }
   ],
   "source": [
    "salesdata1 = salesdata.drop(['id'],axis=1)\n",
    "salesdata1.dtypes"
   ]
  },
  {
   "cell_type": "markdown",
   "metadata": {},
   "source": [
    "# Handling Null Values"
   ]
  },
  {
   "cell_type": "markdown",
   "metadata": {},
   "source": [
    "Creating and Handling Null Values\n",
    "Drop column Price so that null values are not popultated for this column "
   ]
  },
  {
   "cell_type": "code",
   "execution_count": 9,
   "metadata": {},
   "outputs": [
    {
     "data": {
      "text/plain": [
       "date             1128\n",
       "bedrooms         1099\n",
       "bathrooms        1140\n",
       "sqft_living      1120\n",
       "sqft_lot         1069\n",
       "floors           1061\n",
       "waterfront       1096\n",
       "view             1119\n",
       "condition        1078\n",
       "grade            1087\n",
       "sqft_above       1127\n",
       "sqft_basement    1080\n",
       "yr_built         1031\n",
       "yr_renovated     1177\n",
       "zipcode          1128\n",
       "lat              1087\n",
       "long             1137\n",
       "sqft_living15    1097\n",
       "sqft_lot15       1123\n",
       "dtype: int64"
      ]
     },
     "execution_count": 9,
     "metadata": {},
     "output_type": "execute_result"
    }
   ],
   "source": [
    "salesdata_price = salesdata1['price']\n",
    "salesdata_new = salesdata1.drop(['price'],axis=1)\n",
    "np.random.seed(0)\n",
    "salesdata_new = salesdata_new.mask(np.random.random(salesdata_new.shape) < .051)\n",
    "salesdata_new.isnull().sum()"
   ]
  },
  {
   "cell_type": "code",
   "execution_count": 10,
   "metadata": {},
   "outputs": [
    {
     "data": {
      "text/html": [
       "<div>\n",
       "<style scoped>\n",
       "    .dataframe tbody tr th:only-of-type {\n",
       "        vertical-align: middle;\n",
       "    }\n",
       "\n",
       "    .dataframe tbody tr th {\n",
       "        vertical-align: top;\n",
       "    }\n",
       "\n",
       "    .dataframe thead th {\n",
       "        text-align: right;\n",
       "    }\n",
       "</style>\n",
       "<table border=\"1\" class=\"dataframe\">\n",
       "  <thead>\n",
       "    <tr style=\"text-align: right;\">\n",
       "      <th></th>\n",
       "      <th>date</th>\n",
       "      <th>bedrooms</th>\n",
       "      <th>bathrooms</th>\n",
       "      <th>sqft_living</th>\n",
       "      <th>sqft_lot</th>\n",
       "      <th>floors</th>\n",
       "      <th>waterfront</th>\n",
       "      <th>view</th>\n",
       "      <th>condition</th>\n",
       "      <th>grade</th>\n",
       "      <th>sqft_above</th>\n",
       "      <th>sqft_basement</th>\n",
       "      <th>yr_built</th>\n",
       "      <th>yr_renovated</th>\n",
       "      <th>zipcode</th>\n",
       "      <th>lat</th>\n",
       "      <th>long</th>\n",
       "      <th>sqft_living15</th>\n",
       "      <th>sqft_lot15</th>\n",
       "    </tr>\n",
       "  </thead>\n",
       "  <tbody>\n",
       "    <tr>\n",
       "      <th>0</th>\n",
       "      <td>20141013T000000</td>\n",
       "      <td>3</td>\n",
       "      <td>1</td>\n",
       "      <td>1180.0</td>\n",
       "      <td>5650.0</td>\n",
       "      <td>1</td>\n",
       "      <td>0</td>\n",
       "      <td>0</td>\n",
       "      <td>3</td>\n",
       "      <td>7</td>\n",
       "      <td>1180.0</td>\n",
       "      <td>0.0</td>\n",
       "      <td>1955</td>\n",
       "      <td>0</td>\n",
       "      <td>98178</td>\n",
       "      <td>47.5112</td>\n",
       "      <td>NaN</td>\n",
       "      <td>1340.0</td>\n",
       "      <td>5650.0</td>\n",
       "    </tr>\n",
       "    <tr>\n",
       "      <th>1</th>\n",
       "      <td>20141209T000000</td>\n",
       "      <td>3</td>\n",
       "      <td>2.25</td>\n",
       "      <td>2570.0</td>\n",
       "      <td>7242.0</td>\n",
       "      <td>2</td>\n",
       "      <td>0</td>\n",
       "      <td>0</td>\n",
       "      <td>3</td>\n",
       "      <td>7</td>\n",
       "      <td>2170.0</td>\n",
       "      <td>400.0</td>\n",
       "      <td>1951</td>\n",
       "      <td>1991</td>\n",
       "      <td>98125</td>\n",
       "      <td>NaN</td>\n",
       "      <td>-122.319</td>\n",
       "      <td>1690.0</td>\n",
       "      <td>7639.0</td>\n",
       "    </tr>\n",
       "    <tr>\n",
       "      <th>3</th>\n",
       "      <td>20141209T000000</td>\n",
       "      <td>4</td>\n",
       "      <td>3</td>\n",
       "      <td>1960.0</td>\n",
       "      <td>5000.0</td>\n",
       "      <td>1</td>\n",
       "      <td>0</td>\n",
       "      <td>0</td>\n",
       "      <td>5</td>\n",
       "      <td>7</td>\n",
       "      <td>1050.0</td>\n",
       "      <td>910.0</td>\n",
       "      <td>1965</td>\n",
       "      <td>0</td>\n",
       "      <td>98136</td>\n",
       "      <td>47.5208</td>\n",
       "      <td>-122.393</td>\n",
       "      <td>1360.0</td>\n",
       "      <td>NaN</td>\n",
       "    </tr>\n",
       "    <tr>\n",
       "      <th>5</th>\n",
       "      <td>20140512T000000</td>\n",
       "      <td>4</td>\n",
       "      <td>NaN</td>\n",
       "      <td>5420.0</td>\n",
       "      <td>NaN</td>\n",
       "      <td>1</td>\n",
       "      <td>0</td>\n",
       "      <td>0</td>\n",
       "      <td>3</td>\n",
       "      <td>11</td>\n",
       "      <td>3890.0</td>\n",
       "      <td>1530.0</td>\n",
       "      <td>2001</td>\n",
       "      <td>0</td>\n",
       "      <td>98053</td>\n",
       "      <td>47.6561</td>\n",
       "      <td>-122.005</td>\n",
       "      <td>4760.0</td>\n",
       "      <td>101930.0</td>\n",
       "    </tr>\n",
       "    <tr>\n",
       "      <th>6</th>\n",
       "      <td>20140627T000000</td>\n",
       "      <td>3</td>\n",
       "      <td>2.25</td>\n",
       "      <td>1715.0</td>\n",
       "      <td>6819.0</td>\n",
       "      <td>2</td>\n",
       "      <td>0</td>\n",
       "      <td>0</td>\n",
       "      <td>3</td>\n",
       "      <td>7</td>\n",
       "      <td>1715.0</td>\n",
       "      <td>0.0</td>\n",
       "      <td>NaN</td>\n",
       "      <td>0</td>\n",
       "      <td>98003</td>\n",
       "      <td>47.3097</td>\n",
       "      <td>-122.327</td>\n",
       "      <td>2238.0</td>\n",
       "      <td>6819.0</td>\n",
       "    </tr>\n",
       "    <tr>\n",
       "      <th>...</th>\n",
       "      <td>...</td>\n",
       "      <td>...</td>\n",
       "      <td>...</td>\n",
       "      <td>...</td>\n",
       "      <td>...</td>\n",
       "      <td>...</td>\n",
       "      <td>...</td>\n",
       "      <td>...</td>\n",
       "      <td>...</td>\n",
       "      <td>...</td>\n",
       "      <td>...</td>\n",
       "      <td>...</td>\n",
       "      <td>...</td>\n",
       "      <td>...</td>\n",
       "      <td>...</td>\n",
       "      <td>...</td>\n",
       "      <td>...</td>\n",
       "      <td>...</td>\n",
       "      <td>...</td>\n",
       "    </tr>\n",
       "    <tr>\n",
       "      <th>21608</th>\n",
       "      <td>20140521T000000</td>\n",
       "      <td>3</td>\n",
       "      <td>2.5</td>\n",
       "      <td>1530.0</td>\n",
       "      <td>1131.0</td>\n",
       "      <td>NaN</td>\n",
       "      <td>0</td>\n",
       "      <td>0</td>\n",
       "      <td>3</td>\n",
       "      <td>8</td>\n",
       "      <td>1530.0</td>\n",
       "      <td>0.0</td>\n",
       "      <td>2009</td>\n",
       "      <td>0</td>\n",
       "      <td>98103</td>\n",
       "      <td>47.6993</td>\n",
       "      <td>-122.346</td>\n",
       "      <td>1530.0</td>\n",
       "      <td>1509.0</td>\n",
       "    </tr>\n",
       "    <tr>\n",
       "      <th>21609</th>\n",
       "      <td>20150223T000000</td>\n",
       "      <td>4</td>\n",
       "      <td>2.5</td>\n",
       "      <td>NaN</td>\n",
       "      <td>5813.0</td>\n",
       "      <td>2</td>\n",
       "      <td>0</td>\n",
       "      <td>0</td>\n",
       "      <td>3</td>\n",
       "      <td>8</td>\n",
       "      <td>2310.0</td>\n",
       "      <td>NaN</td>\n",
       "      <td>NaN</td>\n",
       "      <td>0</td>\n",
       "      <td>98146</td>\n",
       "      <td>47.5107</td>\n",
       "      <td>-122.362</td>\n",
       "      <td>1830.0</td>\n",
       "      <td>7200.0</td>\n",
       "    </tr>\n",
       "    <tr>\n",
       "      <th>21610</th>\n",
       "      <td>20140623T000000</td>\n",
       "      <td>2</td>\n",
       "      <td>0.75</td>\n",
       "      <td>1020.0</td>\n",
       "      <td>1350.0</td>\n",
       "      <td>NaN</td>\n",
       "      <td>0</td>\n",
       "      <td>0</td>\n",
       "      <td>3</td>\n",
       "      <td>7</td>\n",
       "      <td>1020.0</td>\n",
       "      <td>0.0</td>\n",
       "      <td>2009</td>\n",
       "      <td>NaN</td>\n",
       "      <td>98144</td>\n",
       "      <td>47.5944</td>\n",
       "      <td>-122.299</td>\n",
       "      <td>1020.0</td>\n",
       "      <td>2007.0</td>\n",
       "    </tr>\n",
       "    <tr>\n",
       "      <th>21611</th>\n",
       "      <td>20150116T000000</td>\n",
       "      <td>3</td>\n",
       "      <td>2.5</td>\n",
       "      <td>1600.0</td>\n",
       "      <td>2388.0</td>\n",
       "      <td>2</td>\n",
       "      <td>0</td>\n",
       "      <td>NaN</td>\n",
       "      <td>3</td>\n",
       "      <td>8</td>\n",
       "      <td>1600.0</td>\n",
       "      <td>0.0</td>\n",
       "      <td>2004</td>\n",
       "      <td>0</td>\n",
       "      <td>98027</td>\n",
       "      <td>47.5345</td>\n",
       "      <td>-122.069</td>\n",
       "      <td>1410.0</td>\n",
       "      <td>1287.0</td>\n",
       "    </tr>\n",
       "    <tr>\n",
       "      <th>21612</th>\n",
       "      <td>20141015T000000</td>\n",
       "      <td>2</td>\n",
       "      <td>0.75</td>\n",
       "      <td>1020.0</td>\n",
       "      <td>NaN</td>\n",
       "      <td>NaN</td>\n",
       "      <td>0</td>\n",
       "      <td>0</td>\n",
       "      <td>3</td>\n",
       "      <td>7</td>\n",
       "      <td>1020.0</td>\n",
       "      <td>0.0</td>\n",
       "      <td>2008</td>\n",
       "      <td>0</td>\n",
       "      <td>98144</td>\n",
       "      <td>47.5941</td>\n",
       "      <td>-122.299</td>\n",
       "      <td>1020.0</td>\n",
       "      <td>1357.0</td>\n",
       "    </tr>\n",
       "  </tbody>\n",
       "</table>\n",
       "<p>13637 rows × 19 columns</p>\n",
       "</div>"
      ],
      "text/plain": [
       "                  date bedrooms bathrooms  sqft_living  sqft_lot floors  \\\n",
       "0      20141013T000000        3         1       1180.0    5650.0      1   \n",
       "1      20141209T000000        3      2.25       2570.0    7242.0      2   \n",
       "3      20141209T000000        4         3       1960.0    5000.0      1   \n",
       "5      20140512T000000        4       NaN       5420.0       NaN      1   \n",
       "6      20140627T000000        3      2.25       1715.0    6819.0      2   \n",
       "...                ...      ...       ...          ...       ...    ...   \n",
       "21608  20140521T000000        3       2.5       1530.0    1131.0    NaN   \n",
       "21609  20150223T000000        4       2.5          NaN    5813.0      2   \n",
       "21610  20140623T000000        2      0.75       1020.0    1350.0    NaN   \n",
       "21611  20150116T000000        3       2.5       1600.0    2388.0      2   \n",
       "21612  20141015T000000        2      0.75       1020.0       NaN    NaN   \n",
       "\n",
       "      waterfront view condition grade  sqft_above  sqft_basement yr_built  \\\n",
       "0              0    0         3     7      1180.0            0.0     1955   \n",
       "1              0    0         3     7      2170.0          400.0     1951   \n",
       "3              0    0         5     7      1050.0          910.0     1965   \n",
       "5              0    0         3    11      3890.0         1530.0     2001   \n",
       "6              0    0         3     7      1715.0            0.0      NaN   \n",
       "...          ...  ...       ...   ...         ...            ...      ...   \n",
       "21608          0    0         3     8      1530.0            0.0     2009   \n",
       "21609          0    0         3     8      2310.0            NaN      NaN   \n",
       "21610          0    0         3     7      1020.0            0.0     2009   \n",
       "21611          0  NaN         3     8      1600.0            0.0     2004   \n",
       "21612          0    0         3     7      1020.0            0.0     2008   \n",
       "\n",
       "      yr_renovated zipcode      lat     long  sqft_living15  sqft_lot15  \n",
       "0                0   98178  47.5112      NaN         1340.0      5650.0  \n",
       "1             1991   98125      NaN -122.319         1690.0      7639.0  \n",
       "3                0   98136  47.5208 -122.393         1360.0         NaN  \n",
       "5                0   98053  47.6561 -122.005         4760.0    101930.0  \n",
       "6                0   98003  47.3097 -122.327         2238.0      6819.0  \n",
       "...            ...     ...      ...      ...            ...         ...  \n",
       "21608            0   98103  47.6993 -122.346         1530.0      1509.0  \n",
       "21609            0   98146  47.5107 -122.362         1830.0      7200.0  \n",
       "21610          NaN   98144  47.5944 -122.299         1020.0      2007.0  \n",
       "21611            0   98027  47.5345 -122.069         1410.0      1287.0  \n",
       "21612            0   98144  47.5941 -122.299         1020.0      1357.0  \n",
       "\n",
       "[13637 rows x 19 columns]"
      ]
     },
     "execution_count": 10,
     "metadata": {},
     "output_type": "execute_result"
    }
   ],
   "source": [
    "salesdata_new[salesdata_new.isnull().any(axis=1)]"
   ]
  },
  {
   "cell_type": "markdown",
   "metadata": {},
   "source": [
    "13637 rows have null values in them.Hence, we impute null values at every possible scenario."
   ]
  },
  {
   "cell_type": "markdown",
   "metadata": {},
   "source": [
    "Using the complete dataset along with price column to impute null values"
   ]
  },
  {
   "cell_type": "code",
   "execution_count": 11,
   "metadata": {},
   "outputs": [],
   "source": [
    "salesdata_final = pd.concat([salesdata_new,salesdata_price],axis=1)"
   ]
  },
  {
   "cell_type": "code",
   "execution_count": 12,
   "metadata": {},
   "outputs": [
    {
     "data": {
      "text/plain": [
       "(21613, 20)"
      ]
     },
     "execution_count": 12,
     "metadata": {},
     "output_type": "execute_result"
    }
   ],
   "source": [
    "salesdata_final.shape"
   ]
  },
  {
   "cell_type": "markdown",
   "metadata": {},
   "source": [
    "Splitting the date column to sale year and sale month "
   ]
  },
  {
   "cell_type": "code",
   "execution_count": 13,
   "metadata": {},
   "outputs": [],
   "source": [
    "salesdata_final['sale_year'] = salesdata_final['date'].str[:4]"
   ]
  },
  {
   "cell_type": "code",
   "execution_count": 14,
   "metadata": {},
   "outputs": [],
   "source": [
    "salesdata_final['sale_month'] = salesdata_final['date'].str[4:6]"
   ]
  },
  {
   "cell_type": "code",
   "execution_count": 15,
   "metadata": {},
   "outputs": [],
   "source": [
    "salesdata_final.sale_year.fillna('nan',inplace=True)\n",
    "salesdata_final.sale_month.fillna('nan',inplace=True)"
   ]
  },
  {
   "cell_type": "code",
   "execution_count": 16,
   "metadata": {},
   "outputs": [
    {
     "data": {
      "text/plain": [
       "2014    13890\n",
       "2015     6595\n",
       "nan      1128\n",
       "Name: sale_year, dtype: int64"
      ]
     },
     "execution_count": 16,
     "metadata": {},
     "output_type": "execute_result"
    }
   ],
   "source": [
    "salesdata_final['sale_year'].value_counts()\n"
   ]
  },
  {
   "cell_type": "code",
   "execution_count": 17,
   "metadata": {},
   "outputs": [
    {
     "data": {
      "text/plain": [
       "array(['2014', '2015', 'nan'], dtype=object)"
      ]
     },
     "execution_count": 17,
     "metadata": {},
     "output_type": "execute_result"
    }
   ],
   "source": [
    "salesdata_final['sale_year'].unique()"
   ]
  },
  {
   "cell_type": "code",
   "execution_count": 18,
   "metadata": {},
   "outputs": [
    {
     "data": {
      "text/plain": [
       "05     2282\n",
       "04     2110\n",
       "06     2083\n",
       "07     2081\n",
       "08     1851\n",
       "10     1779\n",
       "03     1769\n",
       "09     1682\n",
       "12     1404\n",
       "11     1330\n",
       "02     1188\n",
       "nan    1128\n",
       "01      926\n",
       "Name: sale_month, dtype: int64"
      ]
     },
     "execution_count": 18,
     "metadata": {},
     "output_type": "execute_result"
    }
   ],
   "source": [
    "salesdata_final['sale_month'].value_counts()\n"
   ]
  },
  {
   "cell_type": "code",
   "execution_count": 19,
   "metadata": {},
   "outputs": [
    {
     "data": {
      "text/plain": [
       "array(['10', '12', '02', '05', '06', '01', '04', '03', '07', '08', '11',\n",
       "       'nan', '09'], dtype=object)"
      ]
     },
     "execution_count": 19,
     "metadata": {},
     "output_type": "execute_result"
    }
   ],
   "source": [
    "salesdata_final['sale_month'].unique()"
   ]
  },
  {
   "cell_type": "code",
   "execution_count": 20,
   "metadata": {},
   "outputs": [
    {
     "data": {
      "text/html": [
       "<div>\n",
       "<style scoped>\n",
       "    .dataframe tbody tr th:only-of-type {\n",
       "        vertical-align: middle;\n",
       "    }\n",
       "\n",
       "    .dataframe tbody tr th {\n",
       "        vertical-align: top;\n",
       "    }\n",
       "\n",
       "    .dataframe thead th {\n",
       "        text-align: right;\n",
       "    }\n",
       "</style>\n",
       "<table border=\"1\" class=\"dataframe\">\n",
       "  <thead>\n",
       "    <tr style=\"text-align: right;\">\n",
       "      <th></th>\n",
       "      <th>price</th>\n",
       "    </tr>\n",
       "    <tr>\n",
       "      <th>sale_month</th>\n",
       "      <th></th>\n",
       "    </tr>\n",
       "  </thead>\n",
       "  <tbody>\n",
       "    <tr>\n",
       "      <th>01</th>\n",
       "      <td>522241.234341</td>\n",
       "    </tr>\n",
       "    <tr>\n",
       "      <th>02</th>\n",
       "      <td>510867.191919</td>\n",
       "    </tr>\n",
       "    <tr>\n",
       "      <th>03</th>\n",
       "      <td>544219.411532</td>\n",
       "    </tr>\n",
       "    <tr>\n",
       "      <th>04</th>\n",
       "      <td>559923.529384</td>\n",
       "    </tr>\n",
       "    <tr>\n",
       "      <th>05</th>\n",
       "      <td>550857.783961</td>\n",
       "    </tr>\n",
       "    <tr>\n",
       "      <th>06</th>\n",
       "      <td>559200.219395</td>\n",
       "    </tr>\n",
       "    <tr>\n",
       "      <th>07</th>\n",
       "      <td>544410.160980</td>\n",
       "    </tr>\n",
       "    <tr>\n",
       "      <th>08</th>\n",
       "      <td>537774.263641</td>\n",
       "    </tr>\n",
       "    <tr>\n",
       "      <th>09</th>\n",
       "      <td>526874.859096</td>\n",
       "    </tr>\n",
       "    <tr>\n",
       "      <th>10</th>\n",
       "      <td>538100.655987</td>\n",
       "    </tr>\n",
       "    <tr>\n",
       "      <th>11</th>\n",
       "      <td>519752.912782</td>\n",
       "    </tr>\n",
       "    <tr>\n",
       "      <th>12</th>\n",
       "      <td>525533.119658</td>\n",
       "    </tr>\n",
       "    <tr>\n",
       "      <th>nan</th>\n",
       "      <td>545605.437943</td>\n",
       "    </tr>\n",
       "  </tbody>\n",
       "</table>\n",
       "</div>"
      ],
      "text/plain": [
       "                    price\n",
       "sale_month               \n",
       "01          522241.234341\n",
       "02          510867.191919\n",
       "03          544219.411532\n",
       "04          559923.529384\n",
       "05          550857.783961\n",
       "06          559200.219395\n",
       "07          544410.160980\n",
       "08          537774.263641\n",
       "09          526874.859096\n",
       "10          538100.655987\n",
       "11          519752.912782\n",
       "12          525533.119658\n",
       "nan         545605.437943"
      ]
     },
     "execution_count": 20,
     "metadata": {},
     "output_type": "execute_result"
    }
   ],
   "source": [
    "salesdata_month = salesdata_final[['sale_month','price']]\n",
    "salesdata_month.groupby('sale_month').mean()"
   ]
  },
  {
   "cell_type": "markdown",
   "metadata": {},
   "source": [
    "Since the mean values of the house doesnot vary much over each month we can drop nan values."
   ]
  },
  {
   "cell_type": "code",
   "execution_count": 21,
   "metadata": {},
   "outputs": [],
   "source": [
    "salesdata_final = salesdata_final[salesdata_final.sale_month != 'nan']"
   ]
  },
  {
   "cell_type": "code",
   "execution_count": 22,
   "metadata": {},
   "outputs": [
    {
     "data": {
      "text/html": [
       "<div>\n",
       "<style scoped>\n",
       "    .dataframe tbody tr th:only-of-type {\n",
       "        vertical-align: middle;\n",
       "    }\n",
       "\n",
       "    .dataframe tbody tr th {\n",
       "        vertical-align: top;\n",
       "    }\n",
       "\n",
       "    .dataframe thead th {\n",
       "        text-align: right;\n",
       "    }\n",
       "</style>\n",
       "<table border=\"1\" class=\"dataframe\">\n",
       "  <thead>\n",
       "    <tr style=\"text-align: right;\">\n",
       "      <th></th>\n",
       "      <th>price</th>\n",
       "    </tr>\n",
       "    <tr>\n",
       "      <th>sale_year</th>\n",
       "      <th></th>\n",
       "    </tr>\n",
       "  </thead>\n",
       "  <tbody>\n",
       "    <tr>\n",
       "      <th>2014</th>\n",
       "      <td>539228.267171</td>\n",
       "    </tr>\n",
       "    <tr>\n",
       "      <th>2015</th>\n",
       "      <td>540955.487945</td>\n",
       "    </tr>\n",
       "  </tbody>\n",
       "</table>\n",
       "</div>"
      ],
      "text/plain": [
       "                   price\n",
       "sale_year               \n",
       "2014       539228.267171\n",
       "2015       540955.487945"
      ]
     },
     "execution_count": 22,
     "metadata": {},
     "output_type": "execute_result"
    }
   ],
   "source": [
    "salesdata_year = salesdata_final[['sale_year','price']]\n",
    "salesdata_year.groupby('sale_year').mean()"
   ]
  },
  {
   "cell_type": "markdown",
   "metadata": {},
   "source": [
    "Impute nan values with 2015 and replacing 2014 with 0 and 2015 with 1"
   ]
  },
  {
   "cell_type": "code",
   "execution_count": 23,
   "metadata": {},
   "outputs": [],
   "source": [
    "salesdata_final['sale_year'] = salesdata_final['sale_year'].replace({'nan':'2015'})"
   ]
  },
  {
   "cell_type": "code",
   "execution_count": 24,
   "metadata": {},
   "outputs": [
    {
     "data": {
      "text/plain": [
       "0    13890\n",
       "1     6595\n",
       "Name: sale_year, dtype: int64"
      ]
     },
     "execution_count": 24,
     "metadata": {},
     "output_type": "execute_result"
    }
   ],
   "source": [
    "salesdata_final['sale_year'] = salesdata_final['sale_year'].replace({'2014':'0'})\n",
    "salesdata_final['sale_year'] = salesdata_final['sale_year'].replace({'2015':'1'})\n",
    "salesdata_final['sale_year'].value_counts()"
   ]
  },
  {
   "cell_type": "markdown",
   "metadata": {},
   "source": [
    "To deal with null values in columns bedrooms and bathrooms "
   ]
  },
  {
   "cell_type": "code",
   "execution_count": 25,
   "metadata": {},
   "outputs": [],
   "source": [
    "salesdata_final.bedrooms.fillna('nan',inplace=True)\n",
    "salesdata_final.bathrooms.fillna('nan',inplace=True)"
   ]
  },
  {
   "cell_type": "code",
   "execution_count": 26,
   "metadata": {},
   "outputs": [
    {
     "data": {
      "text/plain": [
       "array([3, 2, 4, 5, 'nan', 1, 6, 7, 0, 8, 9, 11, 10, 33], dtype=object)"
      ]
     },
     "execution_count": 26,
     "metadata": {},
     "output_type": "execute_result"
    }
   ],
   "source": [
    "salesdata_final['bedrooms'].unique()"
   ]
  },
  {
   "cell_type": "code",
   "execution_count": 27,
   "metadata": {},
   "outputs": [
    {
     "data": {
      "text/plain": [
       "3      8863\n",
       "4      6199\n",
       "2      2452\n",
       "5      1431\n",
       "nan    1046\n",
       "6       243\n",
       "1       180\n",
       "7        36\n",
       "8        13\n",
       "0        12\n",
       "9         5\n",
       "10        3\n",
       "33        1\n",
       "11        1\n",
       "Name: bedrooms, dtype: int64"
      ]
     },
     "execution_count": 27,
     "metadata": {},
     "output_type": "execute_result"
    }
   ],
   "source": [
    "salesdata_final['bedrooms'].value_counts()\n"
   ]
  },
  {
   "cell_type": "code",
   "execution_count": 28,
   "metadata": {},
   "outputs": [
    {
     "data": {
      "text/plain": [
       "array([1.0, 2.25, 3.0, 2.0, 'nan', 1.5, 2.5, 1.75, 2.75, 3.25, 4.0, 3.5,\n",
       "       0.75, 4.75, 5.0, 4.25, 4.5, 3.75, 0.0, 1.25, 5.25, 6.0, 0.5, 5.5,\n",
       "       6.75, 5.75, 8.0, 7.5, 7.75, 6.25, 6.5], dtype=object)"
      ]
     },
     "execution_count": 28,
     "metadata": {},
     "output_type": "execute_result"
    }
   ],
   "source": [
    "salesdata_final['bathrooms'].unique()\n"
   ]
  },
  {
   "cell_type": "code",
   "execution_count": 29,
   "metadata": {},
   "outputs": [
    {
     "data": {
      "text/plain": [
       "2.5     4845\n",
       "1.0     3466\n",
       "1.75    2747\n",
       "2.25    1837\n",
       "2.0     1726\n",
       "1.5     1286\n",
       "nan     1073\n",
       "2.75    1071\n",
       "3.0      671\n",
       "3.5      663\n",
       "3.25     517\n",
       "3.75     139\n",
       "4.0      119\n",
       "4.5       87\n",
       "4.25      73\n",
       "0.75      67\n",
       "4.75      19\n",
       "5.0       19\n",
       "5.25      13\n",
       "0.0        9\n",
       "5.5        9\n",
       "1.25       7\n",
       "6.0        6\n",
       "5.75       4\n",
       "0.5        4\n",
       "8.0        2\n",
       "6.75       2\n",
       "7.75       1\n",
       "6.25       1\n",
       "7.5        1\n",
       "6.5        1\n",
       "Name: bathrooms, dtype: int64"
      ]
     },
     "execution_count": 29,
     "metadata": {},
     "output_type": "execute_result"
    }
   ],
   "source": [
    "salesdata_final['bathrooms'].value_counts()"
   ]
  },
  {
   "cell_type": "markdown",
   "metadata": {},
   "source": [
    "Values with 0 bedroom and bathromm are dropped since its not practical"
   ]
  },
  {
   "cell_type": "code",
   "execution_count": 30,
   "metadata": {},
   "outputs": [],
   "source": [
    "salesdata_final = salesdata_final[salesdata_final.bedrooms != 0]\n",
    "salesdata_final = salesdata_final[salesdata_final.bathrooms != 0]"
   ]
  },
  {
   "cell_type": "markdown",
   "metadata": {},
   "source": [
    "Based on the values, replace nan values for bedroom with 3 and for bathrooms with 2.25"
   ]
  },
  {
   "cell_type": "code",
   "execution_count": 31,
   "metadata": {},
   "outputs": [],
   "source": [
    "salesdata_final['bedrooms'] = salesdata_final['bedrooms'].replace({'nan':3})\n",
    "salesdata_final['bathrooms'] = salesdata_final['bathrooms'].replace({'nan':2.25})"
   ]
  },
  {
   "cell_type": "markdown",
   "metadata": {},
   "source": [
    "Considering the next column with null values - sqft_living"
   ]
  },
  {
   "cell_type": "code",
   "execution_count": 32,
   "metadata": {},
   "outputs": [
    {
     "data": {
      "text/plain": [
       "1062"
      ]
     },
     "execution_count": 32,
     "metadata": {},
     "output_type": "execute_result"
    }
   ],
   "source": [
    "salesdata_final['sqft_living'].isnull().sum()"
   ]
  },
  {
   "cell_type": "code",
   "execution_count": 33,
   "metadata": {},
   "outputs": [
    {
     "data": {
      "text/plain": [
       "1920.0"
      ]
     },
     "execution_count": 33,
     "metadata": {},
     "output_type": "execute_result"
    }
   ],
   "source": [
    "salesdata_final['sqft_living'].median()"
   ]
  },
  {
   "cell_type": "code",
   "execution_count": 34,
   "metadata": {},
   "outputs": [
    {
     "data": {
      "text/plain": [
       "count    19408.000000\n",
       "mean      2081.284367\n",
       "std        917.777180\n",
       "min        370.000000\n",
       "25%       1430.000000\n",
       "50%       1920.000000\n",
       "75%       2550.000000\n",
       "max      13540.000000\n",
       "Name: sqft_living, dtype: float64"
      ]
     },
     "execution_count": 34,
     "metadata": {},
     "output_type": "execute_result"
    }
   ],
   "source": [
    "salesdata_final['sqft_living'].describe()"
   ]
  },
  {
   "cell_type": "code",
   "execution_count": 35,
   "metadata": {},
   "outputs": [
    {
     "data": {
      "text/plain": [
       "<matplotlib.axes._subplots.AxesSubplot at 0x21e0a224940>"
      ]
     },
     "execution_count": 35,
     "metadata": {},
     "output_type": "execute_result"
    },
    {
     "data": {
      "image/png": "[encoded data removed]",
      "text/plain": [
       "<Figure size 720x720 with 1 Axes>"
      ]
     },
     "metadata": {
      "needs_background": "light"
     },
     "output_type": "display_data"
    }
   ],
   "source": [
    "a4_dims = (10,10)\n",
    "fig, ax = plt.subplots(figsize=a4_dims)\n",
    "sns.scatterplot(x='sqft_living',y='price',data=salesdata_final)"
   ]
  },
  {
   "cell_type": "markdown",
   "metadata": {},
   "source": [
    "Replacing null values with median values "
   ]
  },
  {
   "cell_type": "code",
   "execution_count": 36,
   "metadata": {},
   "outputs": [],
   "source": [
    "salesdata_final['sqft_living']=salesdata_final['sqft_living'].fillna(salesdata_final['sqft_living'].median())"
   ]
  },
  {
   "cell_type": "code",
   "execution_count": 37,
   "metadata": {},
   "outputs": [
    {
     "data": {
      "text/plain": [
       "date                0\n",
       "bedrooms            0\n",
       "bathrooms           0\n",
       "sqft_living         0\n",
       "sqft_lot         1022\n",
       "floors           1000\n",
       "waterfront       1025\n",
       "view             1078\n",
       "condition        1019\n",
       "grade            1031\n",
       "sqft_above       1079\n",
       "sqft_basement    1030\n",
       "yr_built          971\n",
       "yr_renovated     1102\n",
       "zipcode          1060\n",
       "lat              1027\n",
       "long             1078\n",
       "sqft_living15    1041\n",
       "sqft_lot15       1059\n",
       "price               0\n",
       "sale_year           0\n",
       "sale_month          0\n",
       "dtype: int64"
      ]
     },
     "execution_count": 37,
     "metadata": {},
     "output_type": "execute_result"
    }
   ],
   "source": [
    "salesdata_final.isnull().sum()"
   ]
  },
  {
   "cell_type": "markdown",
   "metadata": {},
   "source": [
    "Considering next column into account - sqft_loft "
   ]
  },
  {
   "cell_type": "code",
   "execution_count": 38,
   "metadata": {},
   "outputs": [
    {
     "data": {
      "text/plain": [
       "1022"
      ]
     },
     "execution_count": 38,
     "metadata": {},
     "output_type": "execute_result"
    }
   ],
   "source": [
    "salesdata_final['sqft_lot'].isnull().sum()"
   ]
  },
  {
   "cell_type": "code",
   "execution_count": 39,
   "metadata": {},
   "outputs": [
    {
     "data": {
      "text/plain": [
       "count    1.944800e+04\n",
       "mean     1.506629e+04\n",
       "std      4.177920e+04\n",
       "min      5.200000e+02\n",
       "25%      5.053750e+03\n",
       "50%      7.620000e+03\n",
       "75%      1.070400e+04\n",
       "max      1.651359e+06\n",
       "Name: sqft_lot, dtype: float64"
      ]
     },
     "execution_count": 39,
     "metadata": {},
     "output_type": "execute_result"
    }
   ],
   "source": [
    "salesdata_final['sqft_lot'].describe()"
   ]
  },
  {
   "cell_type": "code",
   "execution_count": 40,
   "metadata": {},
   "outputs": [
    {
     "data": {
      "text/plain": [
       "7620.0"
      ]
     },
     "execution_count": 40,
     "metadata": {},
     "output_type": "execute_result"
    }
   ],
   "source": [
    "salesdata_final['sqft_lot'].median()"
   ]
  },
  {
   "cell_type": "markdown",
   "metadata": {},
   "source": [
    "Replace null values with median "
   ]
  },
  {
   "cell_type": "code",
   "execution_count": 41,
   "metadata": {},
   "outputs": [],
   "source": [
    "salesdata_final['sqft_lot']=salesdata_final['sqft_lot'].fillna(salesdata_final['sqft_lot'].median())"
   ]
  },
  {
   "cell_type": "code",
   "execution_count": 42,
   "metadata": {},
   "outputs": [
    {
     "data": {
      "text/plain": [
       "0"
      ]
     },
     "execution_count": 42,
     "metadata": {},
     "output_type": "execute_result"
    }
   ],
   "source": [
    "salesdata_final['sqft_lot'].isnull().sum()"
   ]
  },
  {
   "cell_type": "markdown",
   "metadata": {},
   "source": [
    "Now considering floor null values"
   ]
  },
  {
   "cell_type": "code",
   "execution_count": 43,
   "metadata": {},
   "outputs": [],
   "source": [
    "salesdata_final.floors.fillna('nan',inplace=True)"
   ]
  },
  {
   "cell_type": "code",
   "execution_count": 44,
   "metadata": {},
   "outputs": [
    {
     "data": {
      "text/plain": [
       "1.0    9602\n",
       "2.0    7436\n",
       "1.5    1731\n",
       "nan    1000\n",
       "3.0     549\n",
       "2.5     145\n",
       "3.5       7\n",
       "Name: floors, dtype: int64"
      ]
     },
     "execution_count": 44,
     "metadata": {},
     "output_type": "execute_result"
    }
   ],
   "source": [
    "salesdata_final['floors'].value_counts()"
   ]
  },
  {
   "cell_type": "code",
   "execution_count": 45,
   "metadata": {},
   "outputs": [
    {
     "data": {
      "text/html": [
       "<div>\n",
       "<style scoped>\n",
       "    .dataframe tbody tr th:only-of-type {\n",
       "        vertical-align: middle;\n",
       "    }\n",
       "\n",
       "    .dataframe tbody tr th {\n",
       "        vertical-align: top;\n",
       "    }\n",
       "\n",
       "    .dataframe thead th {\n",
       "        text-align: right;\n",
       "    }\n",
       "</style>\n",
       "<table border=\"1\" class=\"dataframe\">\n",
       "  <thead>\n",
       "    <tr style=\"text-align: right;\">\n",
       "      <th></th>\n",
       "      <th>price</th>\n",
       "    </tr>\n",
       "    <tr>\n",
       "      <th>floors</th>\n",
       "      <th></th>\n",
       "    </tr>\n",
       "  </thead>\n",
       "  <tbody>\n",
       "    <tr>\n",
       "      <th>1.0</th>\n",
       "      <td>4.415906e+05</td>\n",
       "    </tr>\n",
       "    <tr>\n",
       "      <th>1.5</th>\n",
       "      <td>5.584669e+05</td>\n",
       "    </tr>\n",
       "    <tr>\n",
       "      <th>2.0</th>\n",
       "      <td>6.483285e+05</td>\n",
       "    </tr>\n",
       "    <tr>\n",
       "      <th>2.5</th>\n",
       "      <td>1.069188e+06</td>\n",
       "    </tr>\n",
       "    <tr>\n",
       "      <th>3.0</th>\n",
       "      <td>5.889418e+05</td>\n",
       "    </tr>\n",
       "    <tr>\n",
       "      <th>3.5</th>\n",
       "      <td>9.102143e+05</td>\n",
       "    </tr>\n",
       "    <tr>\n",
       "      <th>nan</th>\n",
       "      <td>5.388322e+05</td>\n",
       "    </tr>\n",
       "  </tbody>\n",
       "</table>\n",
       "</div>"
      ],
      "text/plain": [
       "               price\n",
       "floors              \n",
       "1.0     4.415906e+05\n",
       "1.5     5.584669e+05\n",
       "2.0     6.483285e+05\n",
       "2.5     1.069188e+06\n",
       "3.0     5.889418e+05\n",
       "3.5     9.102143e+05\n",
       "nan     5.388322e+05"
      ]
     },
     "execution_count": 45,
     "metadata": {},
     "output_type": "execute_result"
    }
   ],
   "source": [
    "salesdata_price_floors = salesdata_final[['floors','price']]\n",
    "salesdata_price_floors.groupby('floors').mean()"
   ]
  },
  {
   "cell_type": "markdown",
   "metadata": {},
   "source": [
    "Compute null vlaues with the value of 1.5"
   ]
  },
  {
   "cell_type": "code",
   "execution_count": 46,
   "metadata": {},
   "outputs": [],
   "source": [
    "salesdata_final['floors'] = salesdata_final['floors'].replace({'nan':1.5})"
   ]
  },
  {
   "cell_type": "code",
   "execution_count": 47,
   "metadata": {},
   "outputs": [
    {
     "data": {
      "text/plain": [
       "1.0    9602\n",
       "2.0    7436\n",
       "1.5    2731\n",
       "3.0     549\n",
       "2.5     145\n",
       "3.5       7\n",
       "Name: floors, dtype: int64"
      ]
     },
     "execution_count": 47,
     "metadata": {},
     "output_type": "execute_result"
    }
   ],
   "source": [
    "salesdata_final['floors'].value_counts()"
   ]
  },
  {
   "cell_type": "markdown",
   "metadata": {},
   "source": [
    "Null values for waterfront "
   ]
  },
  {
   "cell_type": "code",
   "execution_count": 48,
   "metadata": {},
   "outputs": [
    {
     "data": {
      "text/plain": [
       "0      19302\n",
       "nan     1025\n",
       "1        143\n",
       "Name: waterfront, dtype: int64"
      ]
     },
     "execution_count": 48,
     "metadata": {},
     "output_type": "execute_result"
    }
   ],
   "source": [
    "salesdata_final.waterfront.fillna('nan',inplace=True)\n",
    "salesdata_final['waterfront'].value_counts()"
   ]
  },
  {
   "cell_type": "code",
   "execution_count": 49,
   "metadata": {},
   "outputs": [
    {
     "data": {
      "text/plain": [
       "<matplotlib.axes._subplots.AxesSubplot at 0x21e0c9aeac8>"
      ]
     },
     "execution_count": 49,
     "metadata": {},
     "output_type": "execute_result"
    },
    {
     "data": {
      "image/png": "[encoded data removed]",
      "text/plain": [
       "<Figure size 432x288 with 1 Axes>"
      ]
     },
     "metadata": {
      "needs_background": "light"
     },
     "output_type": "display_data"
    }
   ],
   "source": [
    "sns.boxplot(x='waterfront',y='price',data=salesdata_final)"
   ]
  },
  {
   "cell_type": "markdown",
   "metadata": {},
   "source": [
    "The values in 0 closely align to values in nan, hence computing null values with 0"
   ]
  },
  {
   "cell_type": "code",
   "execution_count": 50,
   "metadata": {},
   "outputs": [],
   "source": [
    "val = 0\n",
    "salesdata_final['waterfront'] = salesdata_final['waterfront'].replace({'nan':val})\n"
   ]
  },
  {
   "cell_type": "code",
   "execution_count": 51,
   "metadata": {},
   "outputs": [
    {
     "data": {
      "text/plain": [
       "0    20327\n",
       "1      143\n",
       "Name: waterfront, dtype: int64"
      ]
     },
     "execution_count": 51,
     "metadata": {},
     "output_type": "execute_result"
    }
   ],
   "source": [
    "salesdata_final['waterfront'].value_counts()"
   ]
  },
  {
   "cell_type": "code",
   "execution_count": 52,
   "metadata": {
    "scrolled": true
   },
   "outputs": [
    {
     "data": {
      "text/plain": [
       "date                0\n",
       "bedrooms            0\n",
       "bathrooms           0\n",
       "sqft_living         0\n",
       "sqft_lot            0\n",
       "floors              0\n",
       "waterfront          0\n",
       "view             1078\n",
       "condition        1019\n",
       "grade            1031\n",
       "sqft_above       1079\n",
       "sqft_basement    1030\n",
       "yr_built          971\n",
       "yr_renovated     1102\n",
       "zipcode          1060\n",
       "lat              1027\n",
       "long             1078\n",
       "sqft_living15    1041\n",
       "sqft_lot15       1059\n",
       "price               0\n",
       "sale_year           0\n",
       "sale_month          0\n",
       "dtype: int64"
      ]
     },
     "execution_count": 52,
     "metadata": {},
     "output_type": "execute_result"
    }
   ],
   "source": [
    "salesdata_final.isnull().sum()"
   ]
  },
  {
   "cell_type": "markdown",
   "metadata": {},
   "source": [
    "Let's consider sqft_living15 and sqft_lot15 attributes and replace null values with mean values"
   ]
  },
  {
   "cell_type": "code",
   "execution_count": 53,
   "metadata": {},
   "outputs": [],
   "source": [
    "salesdata_final['sqft_living15']=salesdata_final['sqft_living15'].fillna(salesdata_final['sqft_living15'].mean())\n",
    "salesdata_final['sqft_lot15']=salesdata_final['sqft_lot15'].fillna(salesdata_final['sqft_lot15'].mean())"
   ]
  },
  {
   "cell_type": "markdown",
   "metadata": {},
   "source": [
    "We are dropping columns lat and long, hence their null values are not dealt with here"
   ]
  },
  {
   "cell_type": "code",
   "execution_count": 54,
   "metadata": {},
   "outputs": [],
   "source": [
    "salesdata_final = salesdata_final.drop(['lat','long'],axis=1)"
   ]
  },
  {
   "cell_type": "markdown",
   "metadata": {},
   "source": [
    "Null values in yr_built"
   ]
  },
  {
   "cell_type": "code",
   "execution_count": 55,
   "metadata": {},
   "outputs": [
    {
     "data": {
      "text/plain": [
       "<matplotlib.axes._subplots.AxesSubplot at 0x21e0a622128>"
      ]
     },
     "execution_count": 55,
     "metadata": {},
     "output_type": "execute_result"
    },
    {
     "data": {
      "image/png": "[encoded data removed]",
      "text/plain": [
       "<Figure size 432x288 with 1 Axes>"
      ]
     },
     "metadata": {
      "needs_background": "light"
     },
     "output_type": "display_data"
    }
   ],
   "source": [
    "sns.scatterplot(x='yr_built',y='price',data=salesdata_final)"
   ]
  },
  {
   "cell_type": "markdown",
   "metadata": {},
   "source": [
    "It is clear from the graph that the value of price doesnt change significantly based of year built hence we can drop the column"
   ]
  },
  {
   "cell_type": "code",
   "execution_count": 56,
   "metadata": {},
   "outputs": [],
   "source": [
    "salesdata_final = salesdata_final.drop(['yr_built'],axis=1)"
   ]
  },
  {
   "cell_type": "markdown",
   "metadata": {},
   "source": [
    "Null values in yr_renovated"
   ]
  },
  {
   "cell_type": "code",
   "execution_count": 57,
   "metadata": {},
   "outputs": [],
   "source": [
    "salesdata_final.yr_renovated.fillna('nan',inplace=True)"
   ]
  },
  {
   "cell_type": "code",
   "execution_count": 58,
   "metadata": {},
   "outputs": [
    {
     "data": {
      "text/plain": [
       "array([0, 1991, 'nan', 2002, 2010, 1992, 2013, 2005, 2008, 2003, 1994,\n",
       "       1984, 1954, 2014, 2011, 1974, 1999, 1983, 1990, 1988, 1957, 1977,\n",
       "       1981, 1995, 1978, 2000, 1998, 1970, 1989, 2004, 1986, 2009, 2007,\n",
       "       1987, 1973, 2006, 2001, 1980, 1971, 1945, 1979, 1997, 1950, 1948,\n",
       "       2015, 2012, 1968, 1963, 1951, 1993, 1962, 1996, 1972, 1985, 1953,\n",
       "       1955, 1982, 1956, 1969, 1940, 1946, 1975, 1958, 1964, 1976, 1959,\n",
       "       1960, 1967, 1965, 1934, 1944], dtype=object)"
      ]
     },
     "execution_count": 58,
     "metadata": {},
     "output_type": "execute_result"
    }
   ],
   "source": [
    "salesdata_final['yr_renovated'].unique()"
   ]
  },
  {
   "cell_type": "markdown",
   "metadata": {},
   "source": [
    "Grouping them on basis of renovated and non renovated by conisdering values of 0 and 1"
   ]
  },
  {
   "cell_type": "code",
   "execution_count": 59,
   "metadata": {},
   "outputs": [],
   "source": [
    "salesdata_final.loc[((salesdata_final.yr_renovated != 0) & (salesdata_final.yr_renovated != 'nan')),'yr_renovated']='1'"
   ]
  },
  {
   "cell_type": "code",
   "execution_count": 60,
   "metadata": {},
   "outputs": [
    {
     "data": {
      "text/plain": [
       "0      18559\n",
       "nan     1102\n",
       "1        809\n",
       "Name: yr_renovated, dtype: int64"
      ]
     },
     "execution_count": 60,
     "metadata": {},
     "output_type": "execute_result"
    }
   ],
   "source": [
    "salesdata_final['yr_renovated'].value_counts()"
   ]
  },
  {
   "cell_type": "code",
   "execution_count": 61,
   "metadata": {},
   "outputs": [
    {
     "data": {
      "text/plain": [
       "<matplotlib.axes._subplots.AxesSubplot at 0x21e0a6927b8>"
      ]
     },
     "execution_count": 61,
     "metadata": {},
     "output_type": "execute_result"
    },
    {
     "data": {
      "image/png": "[encoded data removed]",
      "text/plain": [
       "<Figure size 432x288 with 1 Axes>"
      ]
     },
     "metadata": {
      "needs_background": "light"
     },
     "output_type": "display_data"
    }
   ],
   "source": [
    "sns.boxplot(x='yr_renovated',y='price',data=salesdata_final)"
   ]
  },
  {
   "cell_type": "code",
   "execution_count": 62,
   "metadata": {},
   "outputs": [],
   "source": [
    "salesdata_final['yr_renovated'] = salesdata_final['yr_renovated'].replace({'nan':0})"
   ]
  },
  {
   "cell_type": "code",
   "execution_count": 63,
   "metadata": {},
   "outputs": [
    {
     "data": {
      "text/plain": [
       "0    19661\n",
       "1      809\n",
       "Name: yr_renovated, dtype: int64"
      ]
     },
     "execution_count": 63,
     "metadata": {},
     "output_type": "execute_result"
    }
   ],
   "source": [
    "salesdata_final['yr_renovated'].value_counts()"
   ]
  },
  {
   "cell_type": "markdown",
   "metadata": {},
   "source": [
    "Plug in nan values in column 'view' which has no data in it initially  "
   ]
  },
  {
   "cell_type": "code",
   "execution_count": 64,
   "metadata": {},
   "outputs": [],
   "source": [
    "salesdata_final.view.fillna('nan',inplace=True)"
   ]
  },
  {
   "cell_type": "code",
   "execution_count": 65,
   "metadata": {},
   "outputs": [
    {
     "data": {
      "text/plain": [
       "0      17520\n",
       "nan     1078\n",
       "2        846\n",
       "3        444\n",
       "1        299\n",
       "4        283\n",
       "Name: view, dtype: int64"
      ]
     },
     "execution_count": 65,
     "metadata": {},
     "output_type": "execute_result"
    }
   ],
   "source": [
    "salesdata_final['view'].value_counts()"
   ]
  },
  {
   "cell_type": "code",
   "execution_count": 66,
   "metadata": {},
   "outputs": [
    {
     "data": {
      "text/plain": [
       "<matplotlib.axes._subplots.AxesSubplot at 0x21e0a6cbd30>"
      ]
     },
     "execution_count": 66,
     "metadata": {},
     "output_type": "execute_result"
    },
    {
     "data": {
      "image/png": "[encoded data removed]",
      "text/plain": [
       "<Figure size 432x288 with 1 Axes>"
      ]
     },
     "metadata": {
      "needs_background": "light"
     },
     "output_type": "display_data"
    }
   ],
   "source": [
    "sns.boxplot(x='view',y='price',data=salesdata_final)"
   ]
  },
  {
   "cell_type": "markdown",
   "metadata": {},
   "source": [
    "Price range for 0 and nan is the same hence we impute nan with 0"
   ]
  },
  {
   "cell_type": "code",
   "execution_count": 67,
   "metadata": {},
   "outputs": [
    {
     "data": {
      "text/plain": [
       "0    18598\n",
       "2      846\n",
       "3      444\n",
       "1      299\n",
       "4      283\n",
       "Name: view, dtype: int64"
      ]
     },
     "execution_count": 67,
     "metadata": {},
     "output_type": "execute_result"
    }
   ],
   "source": [
    "num = 0\n",
    "salesdata_final['view'] = salesdata_final['view'].replace({'nan':num})\n",
    "salesdata_final['view'].value_counts()"
   ]
  },
  {
   "cell_type": "markdown",
   "metadata": {},
   "source": [
    "Taking into account 'condition' attribute to eliminate the null values"
   ]
  },
  {
   "cell_type": "code",
   "execution_count": 68,
   "metadata": {},
   "outputs": [
    {
     "data": {
      "text/plain": [
       "3      12584\n",
       "4       5147\n",
       "5       1544\n",
       "nan     1019\n",
       "2        147\n",
       "1         29\n",
       "Name: condition, dtype: int64"
      ]
     },
     "execution_count": 68,
     "metadata": {},
     "output_type": "execute_result"
    },
    {
     "data": {
      "text/html": [
       "<div>\n",
       "<style scoped>\n",
       "    .dataframe tbody tr th:only-of-type {\n",
       "        vertical-align: middle;\n",
       "    }\n",
       "\n",
       "    .dataframe tbody tr th {\n",
       "        vertical-align: top;\n",
       "    }\n",
       "\n",
       "    .dataframe thead th {\n",
       "        text-align: right;\n",
       "    }\n",
       "</style>\n",
       "<table border=\"1\" class=\"dataframe\">\n",
       "  <thead>\n",
       "    <tr style=\"text-align: right;\">\n",
       "      <th></th>\n",
       "      <th>price</th>\n",
       "    </tr>\n",
       "    <tr>\n",
       "      <th>condition</th>\n",
       "      <th></th>\n",
       "    </tr>\n",
       "  </thead>\n",
       "  <tbody>\n",
       "    <tr>\n",
       "      <th>1</th>\n",
       "      <td>341067.241379</td>\n",
       "    </tr>\n",
       "    <tr>\n",
       "      <th>2</th>\n",
       "      <td>318611.489796</td>\n",
       "    </tr>\n",
       "    <tr>\n",
       "      <th>3</th>\n",
       "      <td>540408.542673</td>\n",
       "    </tr>\n",
       "    <tr>\n",
       "      <th>4</th>\n",
       "      <td>522513.077715</td>\n",
       "    </tr>\n",
       "    <tr>\n",
       "      <th>5</th>\n",
       "      <td>611373.721503</td>\n",
       "    </tr>\n",
       "    <tr>\n",
       "      <th>nan</th>\n",
       "      <td>550373.647694</td>\n",
       "    </tr>\n",
       "  </tbody>\n",
       "</table>\n",
       "</div>"
      ],
      "text/plain": [
       "                   price\n",
       "condition               \n",
       "1          341067.241379\n",
       "2          318611.489796\n",
       "3          540408.542673\n",
       "4          522513.077715\n",
       "5          611373.721503\n",
       "nan        550373.647694"
      ]
     },
     "execution_count": 68,
     "metadata": {},
     "output_type": "execute_result"
    }
   ],
   "source": [
    "salesdata_final.condition.fillna('nan',inplace=True)\n",
    "salesdata_final['condition'].value_counts()\n",
    "salesdata_price_condition = salesdata_final[['condition','price']]\n",
    "salesdata_price_condition.groupby('condition').mean()"
   ]
  },
  {
   "cell_type": "markdown",
   "metadata": {},
   "source": [
    "Replace nan with 3 since the price range values is the closest to it"
   ]
  },
  {
   "cell_type": "code",
   "execution_count": 69,
   "metadata": {},
   "outputs": [
    {
     "data": {
      "text/plain": [
       "3    13603\n",
       "4     5147\n",
       "5     1544\n",
       "2      147\n",
       "1       29\n",
       "Name: condition, dtype: int64"
      ]
     },
     "execution_count": 69,
     "metadata": {},
     "output_type": "execute_result"
    }
   ],
   "source": [
    "new = 3\n",
    "salesdata_final['condition'] = salesdata_final['condition'].replace({'nan':new})\n",
    "salesdata_final['condition'].value_counts()"
   ]
  },
  {
   "cell_type": "markdown",
   "metadata": {},
   "source": [
    "Looking into 'grade' attribute in the same way"
   ]
  },
  {
   "cell_type": "code",
   "execution_count": 70,
   "metadata": {},
   "outputs": [
    {
     "data": {
      "text/plain": [
       "7      8098\n",
       "8      5477\n",
       "9      2330\n",
       "6      1818\n",
       "nan    1031\n",
       "10     1027\n",
       "11      352\n",
       "5       218\n",
       "12       79\n",
       "4        26\n",
       "13       13\n",
       "3         1\n",
       "Name: grade, dtype: int64"
      ]
     },
     "execution_count": 70,
     "metadata": {},
     "output_type": "execute_result"
    }
   ],
   "source": [
    "salesdata_final.grade.fillna('nan',inplace=True)\n",
    "salesdata_final['grade'].value_counts()"
   ]
  },
  {
   "cell_type": "code",
   "execution_count": 71,
   "metadata": {},
   "outputs": [
    {
     "data": {
      "text/plain": [
       "array([2, 1, 3, 4, 'nan', 0], dtype=object)"
      ]
     },
     "execution_count": 71,
     "metadata": {},
     "output_type": "execute_result"
    }
   ],
   "source": [
    "salesdata_final['grade'] = salesdata_final['grade'].replace({1:0,3:0,4:1,5:1,6:1,7:2,8:3,9:3,10:3,11:4,12:4,13:4})\n",
    "salesdata_final['grade'].unique()"
   ]
  },
  {
   "cell_type": "code",
   "execution_count": 72,
   "metadata": {},
   "outputs": [
    {
     "data": {
      "text/html": [
       "<div>\n",
       "<style scoped>\n",
       "    .dataframe tbody tr th:only-of-type {\n",
       "        vertical-align: middle;\n",
       "    }\n",
       "\n",
       "    .dataframe tbody tr th {\n",
       "        vertical-align: top;\n",
       "    }\n",
       "\n",
       "    .dataframe thead th {\n",
       "        text-align: right;\n",
       "    }\n",
       "</style>\n",
       "<table border=\"1\" class=\"dataframe\">\n",
       "  <thead>\n",
       "    <tr style=\"text-align: right;\">\n",
       "      <th></th>\n",
       "      <th>price</th>\n",
       "    </tr>\n",
       "    <tr>\n",
       "      <th>grade</th>\n",
       "      <th></th>\n",
       "    </tr>\n",
       "  </thead>\n",
       "  <tbody>\n",
       "    <tr>\n",
       "      <th>0</th>\n",
       "      <td>2.620000e+05</td>\n",
       "    </tr>\n",
       "    <tr>\n",
       "      <th>1</th>\n",
       "      <td>2.956212e+05</td>\n",
       "    </tr>\n",
       "    <tr>\n",
       "      <th>2</th>\n",
       "      <td>4.026813e+05</td>\n",
       "    </tr>\n",
       "    <tr>\n",
       "      <th>3</th>\n",
       "      <td>6.656492e+05</td>\n",
       "    </tr>\n",
       "    <tr>\n",
       "      <th>4</th>\n",
       "      <td>1.690680e+06</td>\n",
       "    </tr>\n",
       "    <tr>\n",
       "      <th>nan</th>\n",
       "      <td>5.331155e+05</td>\n",
       "    </tr>\n",
       "  </tbody>\n",
       "</table>\n",
       "</div>"
      ],
      "text/plain": [
       "              price\n",
       "grade              \n",
       "0      2.620000e+05\n",
       "1      2.956212e+05\n",
       "2      4.026813e+05\n",
       "3      6.656492e+05\n",
       "4      1.690680e+06\n",
       "nan    5.331155e+05"
      ]
     },
     "execution_count": 72,
     "metadata": {},
     "output_type": "execute_result"
    }
   ],
   "source": [
    "salesdata_price_grade = salesdata_final[['grade','price']]\n",
    "salesdata_price_grade.groupby('grade').mean()"
   ]
  },
  {
   "cell_type": "code",
   "execution_count": 73,
   "metadata": {},
   "outputs": [
    {
     "data": {
      "text/plain": [
       "3      8834\n",
       "2      8098\n",
       "1      2062\n",
       "nan    1031\n",
       "4       444\n",
       "0         1\n",
       "Name: grade, dtype: int64"
      ]
     },
     "execution_count": 73,
     "metadata": {},
     "output_type": "execute_result"
    }
   ],
   "source": [
    "salesdata_final['grade'].value_counts()"
   ]
  },
  {
   "cell_type": "markdown",
   "metadata": {},
   "source": [
    "The attribute 'grade' is an ordinal variable. Hence, let's assign a new value 2.5 to the nan value, so that higher the grade, higher the price."
   ]
  },
  {
   "cell_type": "code",
   "execution_count": 74,
   "metadata": {},
   "outputs": [],
   "source": [
    "salesdata_final['grade'] = salesdata_final['grade'].replace({'nan':2.5})"
   ]
  },
  {
   "cell_type": "code",
   "execution_count": 75,
   "metadata": {},
   "outputs": [
    {
     "data": {
      "text/plain": [
       "3.0    8834\n",
       "2.0    8098\n",
       "1.0    2062\n",
       "2.5    1031\n",
       "4.0     444\n",
       "0.0       1\n",
       "Name: grade, dtype: int64"
      ]
     },
     "execution_count": 75,
     "metadata": {},
     "output_type": "execute_result"
    }
   ],
   "source": [
    "salesdata_final['grade'].value_counts()"
   ]
  },
  {
   "cell_type": "code",
   "execution_count": 76,
   "metadata": {},
   "outputs": [
    {
     "data": {
      "text/plain": [
       "date                0\n",
       "bedrooms            0\n",
       "bathrooms           0\n",
       "sqft_living         0\n",
       "sqft_lot            0\n",
       "floors              0\n",
       "waterfront          0\n",
       "view                0\n",
       "condition           0\n",
       "grade               0\n",
       "sqft_above       1079\n",
       "sqft_basement    1030\n",
       "yr_renovated        0\n",
       "zipcode          1060\n",
       "sqft_living15       0\n",
       "sqft_lot15          0\n",
       "price               0\n",
       "sale_year           0\n",
       "sale_month          0\n",
       "dtype: int64"
      ]
     },
     "execution_count": 76,
     "metadata": {},
     "output_type": "execute_result"
    }
   ],
   "source": [
    "salesdata_final.isnull().sum()"
   ]
  },
  {
   "cell_type": "markdown",
   "metadata": {},
   "source": [
    "Considering null values of sqft_above and sqft_basement"
   ]
  },
  {
   "cell_type": "code",
   "execution_count": 77,
   "metadata": {},
   "outputs": [
    {
     "data": {
      "text/plain": [
       "count    19391.000000\n",
       "mean      1788.368934\n",
       "std        827.641928\n",
       "min        380.000000\n",
       "25%       1190.000000\n",
       "50%       1560.000000\n",
       "75%       2210.000000\n",
       "max       9410.000000\n",
       "Name: sqft_above, dtype: float64"
      ]
     },
     "execution_count": 77,
     "metadata": {},
     "output_type": "execute_result"
    }
   ],
   "source": [
    "salesdata_final['sqft_above'].describe()"
   ]
  },
  {
   "cell_type": "code",
   "execution_count": 78,
   "metadata": {},
   "outputs": [
    {
     "data": {
      "text/plain": [
       "count    19440.000000\n",
       "mean       290.629835\n",
       "std        442.046942\n",
       "min          0.000000\n",
       "25%          0.000000\n",
       "50%          0.000000\n",
       "75%        560.000000\n",
       "max       4820.000000\n",
       "Name: sqft_basement, dtype: float64"
      ]
     },
     "execution_count": 78,
     "metadata": {},
     "output_type": "execute_result"
    }
   ],
   "source": [
    "salesdata_final['sqft_basement'].describe()"
   ]
  },
  {
   "cell_type": "markdown",
   "metadata": {},
   "source": [
    "Fill the null values with mean and median"
   ]
  },
  {
   "cell_type": "code",
   "execution_count": 79,
   "metadata": {},
   "outputs": [],
   "source": [
    "salesdata_final['sqft_above']=salesdata_final['sqft_above'].fillna(salesdata_final['sqft_above'].mean())\n",
    "salesdata_final['sqft_basement']=salesdata_final['sqft_basement'].fillna(salesdata_final['sqft_basement'].median())"
   ]
  },
  {
   "cell_type": "markdown",
   "metadata": {},
   "source": [
    "Considering the zipcode attribute now"
   ]
  },
  {
   "cell_type": "code",
   "execution_count": 80,
   "metadata": {},
   "outputs": [
    {
     "data": {
      "text/plain": [
       "nan      1060\n",
       "98103     545\n",
       "98038     537\n",
       "98115     522\n",
       "98052     516\n",
       "         ... \n",
       "98102      91\n",
       "98010      85\n",
       "98024      69\n",
       "98148      55\n",
       "98039      44\n",
       "Name: zipcode, Length: 71, dtype: int64"
      ]
     },
     "execution_count": 80,
     "metadata": {},
     "output_type": "execute_result"
    }
   ],
   "source": [
    "salesdata_final.zipcode.fillna('nan',inplace=True)\n",
    "salesdata_final['zipcode'].value_counts()"
   ]
  },
  {
   "cell_type": "markdown",
   "metadata": {},
   "source": [
    "Let's group the zipcode based on price to get a range of suitable zipcodes"
   ]
  },
  {
   "cell_type": "code",
   "execution_count": 81,
   "metadata": {},
   "outputs": [
    {
     "data": {
      "text/plain": [
       "nan      1060\n",
       "98103     545\n",
       "98038     537\n",
       "98115     522\n",
       "98052     516\n",
       "         ... \n",
       "98102      91\n",
       "98010      85\n",
       "98024      69\n",
       "98148      55\n",
       "98039      44\n",
       "Name: zipcode, Length: 71, dtype: int64"
      ]
     },
     "execution_count": 81,
     "metadata": {},
     "output_type": "execute_result"
    }
   ],
   "source": [
    "salesdata_final['zipcode'].value_counts()\n",
    "salesdata_price_floors = salesdata_final[['zipcode','price']]"
   ]
  },
  {
   "cell_type": "code",
   "execution_count": 82,
   "metadata": {},
   "outputs": [
    {
     "data": {
      "text/plain": [
       "Index(['price', 'zipcode'], dtype='object')"
      ]
     },
     "execution_count": 82,
     "metadata": {},
     "output_type": "execute_result"
    },
    {
     "data": {
      "text/html": [
       "<div>\n",
       "<style scoped>\n",
       "    .dataframe tbody tr th:only-of-type {\n",
       "        vertical-align: middle;\n",
       "    }\n",
       "\n",
       "    .dataframe tbody tr th {\n",
       "        vertical-align: top;\n",
       "    }\n",
       "\n",
       "    .dataframe thead th {\n",
       "        text-align: right;\n",
       "    }\n",
       "</style>\n",
       "<table border=\"1\" class=\"dataframe\">\n",
       "  <thead>\n",
       "    <tr style=\"text-align: right;\">\n",
       "      <th></th>\n",
       "      <th>price</th>\n",
       "      <th>zipcode</th>\n",
       "    </tr>\n",
       "    <tr>\n",
       "      <th>zipcode</th>\n",
       "      <th></th>\n",
       "      <th></th>\n",
       "    </tr>\n",
       "  </thead>\n",
       "  <tbody>\n",
       "    <tr>\n",
       "      <th>98002</th>\n",
       "      <td>2.343375e+05</td>\n",
       "      <td>98002</td>\n",
       "    </tr>\n",
       "    <tr>\n",
       "      <th>98168</th>\n",
       "      <td>2.392333e+05</td>\n",
       "      <td>98168</td>\n",
       "    </tr>\n",
       "    <tr>\n",
       "      <th>98032</th>\n",
       "      <td>2.510807e+05</td>\n",
       "      <td>98032</td>\n",
       "    </tr>\n",
       "    <tr>\n",
       "      <th>98001</th>\n",
       "      <td>2.817160e+05</td>\n",
       "      <td>98001</td>\n",
       "    </tr>\n",
       "    <tr>\n",
       "      <th>98023</th>\n",
       "      <td>2.854189e+05</td>\n",
       "      <td>98023</td>\n",
       "    </tr>\n",
       "    <tr>\n",
       "      <th>...</th>\n",
       "      <td>...</td>\n",
       "      <td>...</td>\n",
       "    </tr>\n",
       "    <tr>\n",
       "      <th>98102</th>\n",
       "      <td>9.076143e+05</td>\n",
       "      <td>98102</td>\n",
       "    </tr>\n",
       "    <tr>\n",
       "      <th>98112</th>\n",
       "      <td>1.101850e+06</td>\n",
       "      <td>98112</td>\n",
       "    </tr>\n",
       "    <tr>\n",
       "      <th>98040</th>\n",
       "      <td>1.191401e+06</td>\n",
       "      <td>98040</td>\n",
       "    </tr>\n",
       "    <tr>\n",
       "      <th>98004</th>\n",
       "      <td>1.357889e+06</td>\n",
       "      <td>98004</td>\n",
       "    </tr>\n",
       "    <tr>\n",
       "      <th>98039</th>\n",
       "      <td>2.201303e+06</td>\n",
       "      <td>98039</td>\n",
       "    </tr>\n",
       "  </tbody>\n",
       "</table>\n",
       "<p>71 rows × 2 columns</p>\n",
       "</div>"
      ],
      "text/plain": [
       "                price zipcode\n",
       "zipcode                      \n",
       "98002    2.343375e+05   98002\n",
       "98168    2.392333e+05   98168\n",
       "98032    2.510807e+05   98032\n",
       "98001    2.817160e+05   98001\n",
       "98023    2.854189e+05   98023\n",
       "...               ...     ...\n",
       "98102    9.076143e+05   98102\n",
       "98112    1.101850e+06   98112\n",
       "98040    1.191401e+06   98040\n",
       "98004    1.357889e+06   98004\n",
       "98039    2.201303e+06   98039\n",
       "\n",
       "[71 rows x 2 columns]"
      ]
     },
     "execution_count": 82,
     "metadata": {},
     "output_type": "execute_result"
    }
   ],
   "source": [
    "newzipcode_data = salesdata_price_floors.groupby('zipcode').mean()\n",
    "newzipcode_data = pd.DataFrame(newzipcode_data)\n",
    "newzipcode_data['zipcode'] = newzipcode_data.index\n",
    "newzipcode_data.columns\n",
    "newzipcode_data.sort_values('price')"
   ]
  },
  {
   "cell_type": "code",
   "execution_count": 83,
   "metadata": {},
   "outputs": [],
   "source": [
    "newzipcode_data.loc[((newzipcode_data.price < 300000)),'price']= 1\n",
    "newzipcode_data.loc[((newzipcode_data.price >= 300000) & (newzipcode_data.price <= 600000)),'price']= 2\n",
    "newzipcode_data.loc[((newzipcode_data.price > 600000) & (newzipcode_data.price <= 900000)),'price']= 3\n",
    "newzipcode_data.loc[(newzipcode_data.price >= 900000),'price']= 4"
   ]
  },
  {
   "cell_type": "code",
   "execution_count": 84,
   "metadata": {},
   "outputs": [
    {
     "data": {
      "text/plain": [
       "2.0    36\n",
       "3.0    20\n",
       "1.0    10\n",
       "4.0     5\n",
       "Name: price, dtype: int64"
      ]
     },
     "execution_count": 84,
     "metadata": {},
     "output_type": "execute_result"
    }
   ],
   "source": [
    "newzipcode_data['price']. value_counts()"
   ]
  },
  {
   "cell_type": "code",
   "execution_count": 85,
   "metadata": {},
   "outputs": [
    {
     "data": {
      "text/plain": [
       "array([98001, 98002, 98003, 98023, 98030, 98031, 98032, 98148, 98168,\n",
       "       98188], dtype=object)"
      ]
     },
     "execution_count": 85,
     "metadata": {},
     "output_type": "execute_result"
    }
   ],
   "source": [
    "q = newzipcode_data.loc[newzipcode_data['price']==1]\n",
    "q_1 = q['zipcode'].unique()\n",
    "q_1"
   ]
  },
  {
   "cell_type": "code",
   "execution_count": 86,
   "metadata": {},
   "outputs": [
    {
     "data": {
      "text/plain": [
       "array([98010, 98011, 98014, 98019, 98022, 98024, 98028, 98034, 98038,\n",
       "       98042, 98045, 98055, 98056, 98058, 98059, 98065, 98070, 98072,\n",
       "       98092, 98103, 98106, 98107, 98108, 98117, 98118, 98125, 98126,\n",
       "       98133, 98136, 98144, 98146, 98155, 98166, 98178, 98198, 'nan'],\n",
       "      dtype=object)"
      ]
     },
     "execution_count": 86,
     "metadata": {},
     "output_type": "execute_result"
    }
   ],
   "source": [
    "w = newzipcode_data.loc[newzipcode_data['price']==2]\n",
    "w_1 = w['zipcode'].unique()\n",
    "w_1"
   ]
  },
  {
   "cell_type": "code",
   "execution_count": 87,
   "metadata": {},
   "outputs": [
    {
     "data": {
      "text/plain": [
       "array([98005, 98006, 98007, 98008, 98027, 98029, 98033, 98052, 98053,\n",
       "       98074, 98075, 98077, 98105, 98109, 98115, 98116, 98119, 98122,\n",
       "       98177, 98199], dtype=object)"
      ]
     },
     "execution_count": 87,
     "metadata": {},
     "output_type": "execute_result"
    }
   ],
   "source": [
    "e = newzipcode_data.loc[newzipcode_data['price']==3]\n",
    "e_1 = e['zipcode'].unique()\n",
    "e_1"
   ]
  },
  {
   "cell_type": "code",
   "execution_count": 88,
   "metadata": {},
   "outputs": [
    {
     "data": {
      "text/plain": [
       "array([98004, 98039, 98040, 98102, 98112], dtype=object)"
      ]
     },
     "execution_count": 88,
     "metadata": {},
     "output_type": "execute_result"
    }
   ],
   "source": [
    "r = newzipcode_data.loc[newzipcode_data['price']==4]\n",
    "r_1 = r['zipcode'].unique()\n",
    "r_1"
   ]
  },
  {
   "cell_type": "markdown",
   "metadata": {},
   "source": [
    "Grouping of zipcodes and dropping the null values"
   ]
  },
  {
   "cell_type": "code",
   "execution_count": 89,
   "metadata": {},
   "outputs": [
    {
     "data": {
      "text/plain": [
       "0"
      ]
     },
     "execution_count": 89,
     "metadata": {},
     "output_type": "execute_result"
    }
   ],
   "source": [
    "salesdata_final = salesdata_final[salesdata_final.zipcode != 'nan']\n",
    "salesdata_final['zipcode'].isnull().sum()"
   ]
  },
  {
   "cell_type": "code",
   "execution_count": 90,
   "metadata": {},
   "outputs": [],
   "source": [
    "salesdata_final['zipcode'] = salesdata_final['zipcode'].astype(object)"
   ]
  },
  {
   "cell_type": "code",
   "execution_count": 91,
   "metadata": {},
   "outputs": [],
   "source": [
    "salesdata_final['zipcode'] = salesdata_final['zipcode'].replace(q_1, '1')\n",
    "salesdata_final['zipcode'] = salesdata_final['zipcode'].replace(w_1, '2')\n",
    "salesdata_final['zipcode'] = salesdata_final['zipcode'].replace(e_1, '3')\n",
    "salesdata_final['zipcode'] = salesdata_final['zipcode'].replace(r_1, '4')"
   ]
  },
  {
   "cell_type": "code",
   "execution_count": 92,
   "metadata": {},
   "outputs": [
    {
     "data": {
      "text/plain": [
       "2    10396\n",
       "3     5880\n",
       "1     2207\n",
       "4      927\n",
       "Name: zipcode, dtype: int64"
      ]
     },
     "execution_count": 92,
     "metadata": {},
     "output_type": "execute_result"
    }
   ],
   "source": [
    "salesdata_final['zipcode'].value_counts()"
   ]
  },
  {
   "cell_type": "markdown",
   "metadata": {},
   "source": [
    "Dropping date attribute "
   ]
  },
  {
   "cell_type": "code",
   "execution_count": 93,
   "metadata": {},
   "outputs": [],
   "source": [
    "salesdata_final = salesdata_final.drop(['date'],axis=1)"
   ]
  },
  {
   "cell_type": "raw",
   "metadata": {},
   "source": [
    "Dataset after preprocessing"
   ]
  },
  {
   "cell_type": "code",
   "execution_count": 94,
   "metadata": {},
   "outputs": [
    {
     "data": {
      "text/plain": [
       "(19410, 18)"
      ]
     },
     "execution_count": 94,
     "metadata": {},
     "output_type": "execute_result"
    }
   ],
   "source": [
    "salesdata_final.shape"
   ]
  },
  {
   "cell_type": "code",
   "execution_count": 95,
   "metadata": {},
   "outputs": [
    {
     "data": {
      "text/html": [
       "<div>\n",
       "<style scoped>\n",
       "    .dataframe tbody tr th:only-of-type {\n",
       "        vertical-align: middle;\n",
       "    }\n",
       "\n",
       "    .dataframe tbody tr th {\n",
       "        vertical-align: top;\n",
       "    }\n",
       "\n",
       "    .dataframe thead th {\n",
       "        text-align: right;\n",
       "    }\n",
       "</style>\n",
       "<table border=\"1\" class=\"dataframe\">\n",
       "  <thead>\n",
       "    <tr style=\"text-align: right;\">\n",
       "      <th></th>\n",
       "      <th>bedrooms</th>\n",
       "      <th>bathrooms</th>\n",
       "      <th>sqft_living</th>\n",
       "      <th>sqft_lot</th>\n",
       "      <th>floors</th>\n",
       "      <th>waterfront</th>\n",
       "      <th>view</th>\n",
       "      <th>condition</th>\n",
       "      <th>grade</th>\n",
       "      <th>sqft_above</th>\n",
       "      <th>sqft_basement</th>\n",
       "      <th>yr_renovated</th>\n",
       "      <th>zipcode</th>\n",
       "      <th>sqft_living15</th>\n",
       "      <th>sqft_lot15</th>\n",
       "      <th>price</th>\n",
       "      <th>sale_year</th>\n",
       "      <th>sale_month</th>\n",
       "    </tr>\n",
       "  </thead>\n",
       "  <tbody>\n",
       "    <tr>\n",
       "      <th>0</th>\n",
       "      <td>3</td>\n",
       "      <td>1.00</td>\n",
       "      <td>1180.0</td>\n",
       "      <td>5650.0</td>\n",
       "      <td>1.0</td>\n",
       "      <td>0</td>\n",
       "      <td>0</td>\n",
       "      <td>3</td>\n",
       "      <td>2.0</td>\n",
       "      <td>1180.0</td>\n",
       "      <td>0.0</td>\n",
       "      <td>0</td>\n",
       "      <td>2</td>\n",
       "      <td>1340.0</td>\n",
       "      <td>5650.000000</td>\n",
       "      <td>221900.0</td>\n",
       "      <td>0</td>\n",
       "      <td>10</td>\n",
       "    </tr>\n",
       "    <tr>\n",
       "      <th>1</th>\n",
       "      <td>3</td>\n",
       "      <td>2.25</td>\n",
       "      <td>2570.0</td>\n",
       "      <td>7242.0</td>\n",
       "      <td>2.0</td>\n",
       "      <td>0</td>\n",
       "      <td>0</td>\n",
       "      <td>3</td>\n",
       "      <td>2.0</td>\n",
       "      <td>2170.0</td>\n",
       "      <td>400.0</td>\n",
       "      <td>1</td>\n",
       "      <td>2</td>\n",
       "      <td>1690.0</td>\n",
       "      <td>7639.000000</td>\n",
       "      <td>538000.0</td>\n",
       "      <td>0</td>\n",
       "      <td>12</td>\n",
       "    </tr>\n",
       "    <tr>\n",
       "      <th>2</th>\n",
       "      <td>2</td>\n",
       "      <td>1.00</td>\n",
       "      <td>770.0</td>\n",
       "      <td>10000.0</td>\n",
       "      <td>1.0</td>\n",
       "      <td>0</td>\n",
       "      <td>0</td>\n",
       "      <td>3</td>\n",
       "      <td>1.0</td>\n",
       "      <td>770.0</td>\n",
       "      <td>0.0</td>\n",
       "      <td>0</td>\n",
       "      <td>2</td>\n",
       "      <td>2720.0</td>\n",
       "      <td>8062.000000</td>\n",
       "      <td>180000.0</td>\n",
       "      <td>1</td>\n",
       "      <td>02</td>\n",
       "    </tr>\n",
       "    <tr>\n",
       "      <th>3</th>\n",
       "      <td>4</td>\n",
       "      <td>3.00</td>\n",
       "      <td>1960.0</td>\n",
       "      <td>5000.0</td>\n",
       "      <td>1.0</td>\n",
       "      <td>0</td>\n",
       "      <td>0</td>\n",
       "      <td>5</td>\n",
       "      <td>2.0</td>\n",
       "      <td>1050.0</td>\n",
       "      <td>910.0</td>\n",
       "      <td>0</td>\n",
       "      <td>2</td>\n",
       "      <td>1360.0</td>\n",
       "      <td>12761.664005</td>\n",
       "      <td>604000.0</td>\n",
       "      <td>0</td>\n",
       "      <td>12</td>\n",
       "    </tr>\n",
       "    <tr>\n",
       "      <th>4</th>\n",
       "      <td>3</td>\n",
       "      <td>2.00</td>\n",
       "      <td>1680.0</td>\n",
       "      <td>8080.0</td>\n",
       "      <td>1.0</td>\n",
       "      <td>0</td>\n",
       "      <td>0</td>\n",
       "      <td>3</td>\n",
       "      <td>3.0</td>\n",
       "      <td>1680.0</td>\n",
       "      <td>0.0</td>\n",
       "      <td>0</td>\n",
       "      <td>3</td>\n",
       "      <td>1800.0</td>\n",
       "      <td>7503.000000</td>\n",
       "      <td>510000.0</td>\n",
       "      <td>1</td>\n",
       "      <td>02</td>\n",
       "    </tr>\n",
       "  </tbody>\n",
       "</table>\n",
       "</div>"
      ],
      "text/plain": [
       "   bedrooms  bathrooms  sqft_living  sqft_lot  floors  waterfront  view  \\\n",
       "0         3       1.00       1180.0    5650.0     1.0           0     0   \n",
       "1         3       2.25       2570.0    7242.0     2.0           0     0   \n",
       "2         2       1.00        770.0   10000.0     1.0           0     0   \n",
       "3         4       3.00       1960.0    5000.0     1.0           0     0   \n",
       "4         3       2.00       1680.0    8080.0     1.0           0     0   \n",
       "\n",
       "   condition  grade  sqft_above  sqft_basement yr_renovated zipcode  \\\n",
       "0          3    2.0      1180.0            0.0            0       2   \n",
       "1          3    2.0      2170.0          400.0            1       2   \n",
       "2          3    1.0       770.0            0.0            0       2   \n",
       "3          5    2.0      1050.0          910.0            0       2   \n",
       "4          3    3.0      1680.0            0.0            0       3   \n",
       "\n",
       "   sqft_living15    sqft_lot15     price sale_year sale_month  \n",
       "0         1340.0   5650.000000  221900.0         0         10  \n",
       "1         1690.0   7639.000000  538000.0         0         12  \n",
       "2         2720.0   8062.000000  180000.0         1         02  \n",
       "3         1360.0  12761.664005  604000.0         0         12  \n",
       "4         1800.0   7503.000000  510000.0         1         02  "
      ]
     },
     "execution_count": 95,
     "metadata": {},
     "output_type": "execute_result"
    }
   ],
   "source": [
    "salesdata_final.head()"
   ]
  },
  {
   "cell_type": "code",
   "execution_count": 96,
   "metadata": {},
   "outputs": [
    {
     "data": {
      "text/plain": [
       "bedrooms           int64\n",
       "bathrooms        float64\n",
       "sqft_living      float64\n",
       "sqft_lot         float64\n",
       "floors           float64\n",
       "waterfront         int64\n",
       "view               int64\n",
       "condition          int64\n",
       "grade            float64\n",
       "sqft_above       float64\n",
       "sqft_basement    float64\n",
       "yr_renovated      object\n",
       "zipcode           object\n",
       "sqft_living15    float64\n",
       "sqft_lot15       float64\n",
       "price            float64\n",
       "sale_year         object\n",
       "sale_month        object\n",
       "dtype: object"
      ]
     },
     "execution_count": 96,
     "metadata": {},
     "output_type": "execute_result"
    }
   ],
   "source": [
    "salesdata_final.dtypes"
   ]
  },
  {
   "cell_type": "code",
   "execution_count": 97,
   "metadata": {},
   "outputs": [],
   "source": [
    "salesdata_final['yr_renovated'] = salesdata_final['yr_renovated'].astype(int)\n",
    "salesdata_final['sale_year'] = salesdata_final['sale_year'].astype(int)"
   ]
  },
  {
   "cell_type": "markdown",
   "metadata": {},
   "source": [
    "Perform one hot vector encoding for the column sale_month"
   ]
  },
  {
   "cell_type": "code",
   "execution_count": 98,
   "metadata": {},
   "outputs": [],
   "source": [
    "kingscounty_sales = pd.get_dummies(salesdata_final)"
   ]
  },
  {
   "cell_type": "code",
   "execution_count": 99,
   "metadata": {},
   "outputs": [
    {
     "data": {
      "text/plain": [
       "(19410, 32)"
      ]
     },
     "execution_count": 99,
     "metadata": {},
     "output_type": "execute_result"
    }
   ],
   "source": [
    "kingscounty_sales.shape"
   ]
  },
  {
   "cell_type": "code",
   "execution_count": 100,
   "metadata": {},
   "outputs": [
    {
     "data": {
      "text/plain": [
       "Index(['bedrooms', 'bathrooms', 'sqft_living', 'sqft_lot', 'floors',\n",
       "       'waterfront', 'view', 'condition', 'grade', 'sqft_above',\n",
       "       'sqft_basement', 'yr_renovated', 'sqft_living15', 'sqft_lot15', 'price',\n",
       "       'sale_year', 'zipcode_1', 'zipcode_2', 'zipcode_3', 'zipcode_4',\n",
       "       'sale_month_01', 'sale_month_02', 'sale_month_03', 'sale_month_04',\n",
       "       'sale_month_05', 'sale_month_06', 'sale_month_07', 'sale_month_08',\n",
       "       'sale_month_09', 'sale_month_10', 'sale_month_11', 'sale_month_12'],\n",
       "      dtype='object')"
      ]
     },
     "execution_count": 100,
     "metadata": {},
     "output_type": "execute_result"
    }
   ],
   "source": [
    "kingscounty_sales.columns"
   ]
  },
  {
   "cell_type": "code",
   "execution_count": 101,
   "metadata": {},
   "outputs": [
    {
     "data": {
      "text/html": [
       "<div>\n",
       "<style scoped>\n",
       "    .dataframe tbody tr th:only-of-type {\n",
       "        vertical-align: middle;\n",
       "    }\n",
       "\n",
       "    .dataframe tbody tr th {\n",
       "        vertical-align: top;\n",
       "    }\n",
       "\n",
       "    .dataframe thead th {\n",
       "        text-align: right;\n",
       "    }\n",
       "</style>\n",
       "<table border=\"1\" class=\"dataframe\">\n",
       "  <thead>\n",
       "    <tr style=\"text-align: right;\">\n",
       "      <th></th>\n",
       "      <th>bedrooms</th>\n",
       "      <th>bathrooms</th>\n",
       "      <th>sqft_living</th>\n",
       "      <th>sqft_lot</th>\n",
       "      <th>floors</th>\n",
       "      <th>waterfront</th>\n",
       "      <th>view</th>\n",
       "      <th>condition</th>\n",
       "      <th>grade</th>\n",
       "      <th>sqft_above</th>\n",
       "      <th>...</th>\n",
       "      <th>sale_month_03</th>\n",
       "      <th>sale_month_04</th>\n",
       "      <th>sale_month_05</th>\n",
       "      <th>sale_month_06</th>\n",
       "      <th>sale_month_07</th>\n",
       "      <th>sale_month_08</th>\n",
       "      <th>sale_month_09</th>\n",
       "      <th>sale_month_10</th>\n",
       "      <th>sale_month_11</th>\n",
       "      <th>sale_month_12</th>\n",
       "    </tr>\n",
       "  </thead>\n",
       "  <tbody>\n",
       "    <tr>\n",
       "      <th>0</th>\n",
       "      <td>3</td>\n",
       "      <td>1.00</td>\n",
       "      <td>1180.0</td>\n",
       "      <td>5650.0</td>\n",
       "      <td>1.0</td>\n",
       "      <td>0</td>\n",
       "      <td>0</td>\n",
       "      <td>3</td>\n",
       "      <td>2.0</td>\n",
       "      <td>1180.0</td>\n",
       "      <td>...</td>\n",
       "      <td>0</td>\n",
       "      <td>0</td>\n",
       "      <td>0</td>\n",
       "      <td>0</td>\n",
       "      <td>0</td>\n",
       "      <td>0</td>\n",
       "      <td>0</td>\n",
       "      <td>1</td>\n",
       "      <td>0</td>\n",
       "      <td>0</td>\n",
       "    </tr>\n",
       "    <tr>\n",
       "      <th>1</th>\n",
       "      <td>3</td>\n",
       "      <td>2.25</td>\n",
       "      <td>2570.0</td>\n",
       "      <td>7242.0</td>\n",
       "      <td>2.0</td>\n",
       "      <td>0</td>\n",
       "      <td>0</td>\n",
       "      <td>3</td>\n",
       "      <td>2.0</td>\n",
       "      <td>2170.0</td>\n",
       "      <td>...</td>\n",
       "      <td>0</td>\n",
       "      <td>0</td>\n",
       "      <td>0</td>\n",
       "      <td>0</td>\n",
       "      <td>0</td>\n",
       "      <td>0</td>\n",
       "      <td>0</td>\n",
       "      <td>0</td>\n",
       "      <td>0</td>\n",
       "      <td>1</td>\n",
       "    </tr>\n",
       "    <tr>\n",
       "      <th>2</th>\n",
       "      <td>2</td>\n",
       "      <td>1.00</td>\n",
       "      <td>770.0</td>\n",
       "      <td>10000.0</td>\n",
       "      <td>1.0</td>\n",
       "      <td>0</td>\n",
       "      <td>0</td>\n",
       "      <td>3</td>\n",
       "      <td>1.0</td>\n",
       "      <td>770.0</td>\n",
       "      <td>...</td>\n",
       "      <td>0</td>\n",
       "      <td>0</td>\n",
       "      <td>0</td>\n",
       "      <td>0</td>\n",
       "      <td>0</td>\n",
       "      <td>0</td>\n",
       "      <td>0</td>\n",
       "      <td>0</td>\n",
       "      <td>0</td>\n",
       "      <td>0</td>\n",
       "    </tr>\n",
       "    <tr>\n",
       "      <th>3</th>\n",
       "      <td>4</td>\n",
       "      <td>3.00</td>\n",
       "      <td>1960.0</td>\n",
       "      <td>5000.0</td>\n",
       "      <td>1.0</td>\n",
       "      <td>0</td>\n",
       "      <td>0</td>\n",
       "      <td>5</td>\n",
       "      <td>2.0</td>\n",
       "      <td>1050.0</td>\n",
       "      <td>...</td>\n",
       "      <td>0</td>\n",
       "      <td>0</td>\n",
       "      <td>0</td>\n",
       "      <td>0</td>\n",
       "      <td>0</td>\n",
       "      <td>0</td>\n",
       "      <td>0</td>\n",
       "      <td>0</td>\n",
       "      <td>0</td>\n",
       "      <td>1</td>\n",
       "    </tr>\n",
       "    <tr>\n",
       "      <th>4</th>\n",
       "      <td>3</td>\n",
       "      <td>2.00</td>\n",
       "      <td>1680.0</td>\n",
       "      <td>8080.0</td>\n",
       "      <td>1.0</td>\n",
       "      <td>0</td>\n",
       "      <td>0</td>\n",
       "      <td>3</td>\n",
       "      <td>3.0</td>\n",
       "      <td>1680.0</td>\n",
       "      <td>...</td>\n",
       "      <td>0</td>\n",
       "      <td>0</td>\n",
       "      <td>0</td>\n",
       "      <td>0</td>\n",
       "      <td>0</td>\n",
       "      <td>0</td>\n",
       "      <td>0</td>\n",
       "      <td>0</td>\n",
       "      <td>0</td>\n",
       "      <td>0</td>\n",
       "    </tr>\n",
       "    <tr>\n",
       "      <th>5</th>\n",
       "      <td>4</td>\n",
       "      <td>2.25</td>\n",
       "      <td>5420.0</td>\n",
       "      <td>7620.0</td>\n",
       "      <td>1.0</td>\n",
       "      <td>0</td>\n",
       "      <td>0</td>\n",
       "      <td>3</td>\n",
       "      <td>4.0</td>\n",
       "      <td>3890.0</td>\n",
       "      <td>...</td>\n",
       "      <td>0</td>\n",
       "      <td>0</td>\n",
       "      <td>1</td>\n",
       "      <td>0</td>\n",
       "      <td>0</td>\n",
       "      <td>0</td>\n",
       "      <td>0</td>\n",
       "      <td>0</td>\n",
       "      <td>0</td>\n",
       "      <td>0</td>\n",
       "    </tr>\n",
       "    <tr>\n",
       "      <th>6</th>\n",
       "      <td>3</td>\n",
       "      <td>2.25</td>\n",
       "      <td>1715.0</td>\n",
       "      <td>6819.0</td>\n",
       "      <td>2.0</td>\n",
       "      <td>0</td>\n",
       "      <td>0</td>\n",
       "      <td>3</td>\n",
       "      <td>2.0</td>\n",
       "      <td>1715.0</td>\n",
       "      <td>...</td>\n",
       "      <td>0</td>\n",
       "      <td>0</td>\n",
       "      <td>0</td>\n",
       "      <td>1</td>\n",
       "      <td>0</td>\n",
       "      <td>0</td>\n",
       "      <td>0</td>\n",
       "      <td>0</td>\n",
       "      <td>0</td>\n",
       "      <td>0</td>\n",
       "    </tr>\n",
       "    <tr>\n",
       "      <th>7</th>\n",
       "      <td>3</td>\n",
       "      <td>1.50</td>\n",
       "      <td>1060.0</td>\n",
       "      <td>9711.0</td>\n",
       "      <td>1.0</td>\n",
       "      <td>0</td>\n",
       "      <td>0</td>\n",
       "      <td>3</td>\n",
       "      <td>2.0</td>\n",
       "      <td>1060.0</td>\n",
       "      <td>...</td>\n",
       "      <td>0</td>\n",
       "      <td>0</td>\n",
       "      <td>0</td>\n",
       "      <td>0</td>\n",
       "      <td>0</td>\n",
       "      <td>0</td>\n",
       "      <td>0</td>\n",
       "      <td>0</td>\n",
       "      <td>0</td>\n",
       "      <td>0</td>\n",
       "    </tr>\n",
       "    <tr>\n",
       "      <th>9</th>\n",
       "      <td>3</td>\n",
       "      <td>2.25</td>\n",
       "      <td>1890.0</td>\n",
       "      <td>6560.0</td>\n",
       "      <td>2.0</td>\n",
       "      <td>0</td>\n",
       "      <td>0</td>\n",
       "      <td>3</td>\n",
       "      <td>2.0</td>\n",
       "      <td>1890.0</td>\n",
       "      <td>...</td>\n",
       "      <td>1</td>\n",
       "      <td>0</td>\n",
       "      <td>0</td>\n",
       "      <td>0</td>\n",
       "      <td>0</td>\n",
       "      <td>0</td>\n",
       "      <td>0</td>\n",
       "      <td>0</td>\n",
       "      <td>0</td>\n",
       "      <td>0</td>\n",
       "    </tr>\n",
       "    <tr>\n",
       "      <th>11</th>\n",
       "      <td>2</td>\n",
       "      <td>1.00</td>\n",
       "      <td>1160.0</td>\n",
       "      <td>6000.0</td>\n",
       "      <td>1.5</td>\n",
       "      <td>0</td>\n",
       "      <td>0</td>\n",
       "      <td>4</td>\n",
       "      <td>2.0</td>\n",
       "      <td>860.0</td>\n",
       "      <td>...</td>\n",
       "      <td>0</td>\n",
       "      <td>0</td>\n",
       "      <td>1</td>\n",
       "      <td>0</td>\n",
       "      <td>0</td>\n",
       "      <td>0</td>\n",
       "      <td>0</td>\n",
       "      <td>0</td>\n",
       "      <td>0</td>\n",
       "      <td>0</td>\n",
       "    </tr>\n",
       "  </tbody>\n",
       "</table>\n",
       "<p>10 rows × 32 columns</p>\n",
       "</div>"
      ],
      "text/plain": [
       "    bedrooms  bathrooms  sqft_living  sqft_lot  floors  waterfront  view  \\\n",
       "0          3       1.00       1180.0    5650.0     1.0           0     0   \n",
       "1          3       2.25       2570.0    7242.0     2.0           0     0   \n",
       "2          2       1.00        770.0   10000.0     1.0           0     0   \n",
       "3          4       3.00       1960.0    5000.0     1.0           0     0   \n",
       "4          3       2.00       1680.0    8080.0     1.0           0     0   \n",
       "5          4       2.25       5420.0    7620.0     1.0           0     0   \n",
       "6          3       2.25       1715.0    6819.0     2.0           0     0   \n",
       "7          3       1.50       1060.0    9711.0     1.0           0     0   \n",
       "9          3       2.25       1890.0    6560.0     2.0           0     0   \n",
       "11         2       1.00       1160.0    6000.0     1.5           0     0   \n",
       "\n",
       "    condition  grade  sqft_above  ...  sale_month_03  sale_month_04  \\\n",
       "0           3    2.0      1180.0  ...              0              0   \n",
       "1           3    2.0      2170.0  ...              0              0   \n",
       "2           3    1.0       770.0  ...              0              0   \n",
       "3           5    2.0      1050.0  ...              0              0   \n",
       "4           3    3.0      1680.0  ...              0              0   \n",
       "5           3    4.0      3890.0  ...              0              0   \n",
       "6           3    2.0      1715.0  ...              0              0   \n",
       "7           3    2.0      1060.0  ...              0              0   \n",
       "9           3    2.0      1890.0  ...              1              0   \n",
       "11          4    2.0       860.0  ...              0              0   \n",
       "\n",
       "    sale_month_05  sale_month_06  sale_month_07  sale_month_08  sale_month_09  \\\n",
       "0               0              0              0              0              0   \n",
       "1               0              0              0              0              0   \n",
       "2               0              0              0              0              0   \n",
       "3               0              0              0              0              0   \n",
       "4               0              0              0              0              0   \n",
       "5               1              0              0              0              0   \n",
       "6               0              1              0              0              0   \n",
       "7               0              0              0              0              0   \n",
       "9               0              0              0              0              0   \n",
       "11              1              0              0              0              0   \n",
       "\n",
       "    sale_month_10  sale_month_11  sale_month_12  \n",
       "0               1              0              0  \n",
       "1               0              0              1  \n",
       "2               0              0              0  \n",
       "3               0              0              1  \n",
       "4               0              0              0  \n",
       "5               0              0              0  \n",
       "6               0              0              0  \n",
       "7               0              0              0  \n",
       "9               0              0              0  \n",
       "11              0              0              0  \n",
       "\n",
       "[10 rows x 32 columns]"
      ]
     },
     "execution_count": 101,
     "metadata": {},
     "output_type": "execute_result"
    }
   ],
   "source": [
    "kingscounty_sales.head(10)"
   ]
  },
  {
   "cell_type": "markdown",
   "metadata": {},
   "source": [
    "# Train and Test Data Split"
   ]
  },
  {
   "cell_type": "markdown",
   "metadata": {},
   "source": [
    "Splitting the data into Train and Test "
   ]
  },
  {
   "cell_type": "code",
   "execution_count": 102,
   "metadata": {},
   "outputs": [
    {
     "data": {
      "text/plain": [
       "(14557,)"
      ]
     },
     "execution_count": 102,
     "metadata": {},
     "output_type": "execute_result"
    }
   ],
   "source": [
    "X = kingscounty_sales.drop(['price'],axis=1)\n",
    "y = kingscounty_sales['price']\n",
    "\n",
    "X_traindata, X_testdata, y_train, y_test = train_test_split(X, y, test_size=0.25, random_state=0)\n",
    "y_train.shape"
   ]
  },
  {
   "cell_type": "code",
   "execution_count": 103,
   "metadata": {},
   "outputs": [
    {
     "data": {
      "text/plain": [
       "(4853,)"
      ]
     },
     "execution_count": 103,
     "metadata": {},
     "output_type": "execute_result"
    }
   ],
   "source": [
    "y_test.shape"
   ]
  },
  {
   "cell_type": "code",
   "execution_count": 104,
   "metadata": {},
   "outputs": [
    {
     "data": {
      "text/plain": [
       "(14557, 31)"
      ]
     },
     "execution_count": 104,
     "metadata": {},
     "output_type": "execute_result"
    }
   ],
   "source": [
    "X_traindata.shape"
   ]
  },
  {
   "cell_type": "code",
   "execution_count": 105,
   "metadata": {},
   "outputs": [
    {
     "data": {
      "text/plain": [
       "(4853, 31)"
      ]
     },
     "execution_count": 105,
     "metadata": {},
     "output_type": "execute_result"
    }
   ],
   "source": [
    "X_testdata.shape"
   ]
  },
  {
   "cell_type": "code",
   "execution_count": 106,
   "metadata": {},
   "outputs": [],
   "source": [
    "scaler = StandardScaler()"
   ]
  },
  {
   "cell_type": "code",
   "execution_count": 107,
   "metadata": {},
   "outputs": [],
   "source": [
    "X_train_scale = scaler.fit_transform(X_traindata)"
   ]
  },
  {
   "cell_type": "code",
   "execution_count": 108,
   "metadata": {},
   "outputs": [],
   "source": [
    "X_test_scale = scaler.transform(X_testdata)"
   ]
  },
  {
   "cell_type": "markdown",
   "metadata": {},
   "source": [
    "# Linear Regression"
   ]
  },
  {
   "cell_type": "code",
   "execution_count": 109,
   "metadata": {},
   "outputs": [
    {
     "data": {
      "text/plain": [
       "GridSearchCV(cv=6, error_score=nan,\n",
       "             estimator=LinearRegression(copy_X=True, fit_intercept=True,\n",
       "                                        n_jobs=None, normalize=False),\n",
       "             iid='deprecated', n_jobs=None,\n",
       "             param_grid={'normalize': [True, False]}, pre_dispatch='2*n_jobs',\n",
       "             refit=True, return_train_score=True, scoring=None, verbose=0)"
      ]
     },
     "execution_count": 109,
     "metadata": {},
     "output_type": "execute_result"
    }
   ],
   "source": [
    "from sklearn.model_selection import GridSearchCV\n",
    "model = LinearRegression()\n",
    "parameters = {'normalize':[True,False]}\n",
    "grid_search_lr = GridSearchCV(model,parameters, cv=6, return_train_score=True)\n",
    "grid_search_lr.fit(X_traindata, y_train)"
   ]
  },
  {
   "cell_type": "code",
   "execution_count": 110,
   "metadata": {},
   "outputs": [
    {
     "name": "stdout",
     "output_type": "stream",
     "text": [
      "Best parameters: {'normalize': True}\n",
      "Best cross-validation score: 0.7039\n"
     ]
    }
   ],
   "source": [
    "print(\"Best parameters: {}\".format(grid_search_lr.best_params_))\n",
    "print(\"Best cross-validation score: {:.4f}\".format(grid_search_lr.best_score_))"
   ]
  },
  {
   "cell_type": "code",
   "execution_count": 111,
   "metadata": {},
   "outputs": [
    {
     "data": {
      "text/html": [
       "<div>\n",
       "<style scoped>\n",
       "    .dataframe tbody tr th:only-of-type {\n",
       "        vertical-align: middle;\n",
       "    }\n",
       "\n",
       "    .dataframe tbody tr th {\n",
       "        vertical-align: top;\n",
       "    }\n",
       "\n",
       "    .dataframe thead th {\n",
       "        text-align: right;\n",
       "    }\n",
       "</style>\n",
       "<table border=\"1\" class=\"dataframe\">\n",
       "  <thead>\n",
       "    <tr style=\"text-align: right;\">\n",
       "      <th></th>\n",
       "      <th>mean_fit_time</th>\n",
       "      <th>std_fit_time</th>\n",
       "      <th>mean_score_time</th>\n",
       "      <th>std_score_time</th>\n",
       "      <th>param_normalize</th>\n",
       "      <th>params</th>\n",
       "      <th>split0_test_score</th>\n",
       "      <th>split1_test_score</th>\n",
       "      <th>split2_test_score</th>\n",
       "      <th>split3_test_score</th>\n",
       "      <th>...</th>\n",
       "      <th>std_test_score</th>\n",
       "      <th>rank_test_score</th>\n",
       "      <th>split0_train_score</th>\n",
       "      <th>split1_train_score</th>\n",
       "      <th>split2_train_score</th>\n",
       "      <th>split3_train_score</th>\n",
       "      <th>split4_train_score</th>\n",
       "      <th>split5_train_score</th>\n",
       "      <th>mean_train_score</th>\n",
       "      <th>std_train_score</th>\n",
       "    </tr>\n",
       "  </thead>\n",
       "  <tbody>\n",
       "    <tr>\n",
       "      <th>0</th>\n",
       "      <td>0.014784</td>\n",
       "      <td>0.001063</td>\n",
       "      <td>0.001663</td>\n",
       "      <td>4.697690e-04</td>\n",
       "      <td>True</td>\n",
       "      <td>{'normalize': True}</td>\n",
       "      <td>0.709608</td>\n",
       "      <td>0.716118</td>\n",
       "      <td>0.720027</td>\n",
       "      <td>0.697553</td>\n",
       "      <td>...</td>\n",
       "      <td>0.012651</td>\n",
       "      <td>1</td>\n",
       "      <td>0.706208</td>\n",
       "      <td>0.705047</td>\n",
       "      <td>0.704192</td>\n",
       "      <td>0.708333</td>\n",
       "      <td>0.711879</td>\n",
       "      <td>0.708505</td>\n",
       "      <td>0.707361</td>\n",
       "      <td>0.002562</td>\n",
       "    </tr>\n",
       "    <tr>\n",
       "      <th>1</th>\n",
       "      <td>0.013948</td>\n",
       "      <td>0.000585</td>\n",
       "      <td>0.000998</td>\n",
       "      <td>7.207536e-07</td>\n",
       "      <td>False</td>\n",
       "      <td>{'normalize': False}</td>\n",
       "      <td>0.709625</td>\n",
       "      <td>0.716089</td>\n",
       "      <td>0.719894</td>\n",
       "      <td>0.697534</td>\n",
       "      <td>...</td>\n",
       "      <td>0.012626</td>\n",
       "      <td>2</td>\n",
       "      <td>0.706213</td>\n",
       "      <td>0.705056</td>\n",
       "      <td>0.704224</td>\n",
       "      <td>0.708336</td>\n",
       "      <td>0.711885</td>\n",
       "      <td>0.708506</td>\n",
       "      <td>0.707370</td>\n",
       "      <td>0.002556</td>\n",
       "    </tr>\n",
       "  </tbody>\n",
       "</table>\n",
       "<p>2 rows × 23 columns</p>\n",
       "</div>"
      ],
      "text/plain": [
       "   mean_fit_time  std_fit_time  mean_score_time  std_score_time  \\\n",
       "0       0.014784      0.001063         0.001663    4.697690e-04   \n",
       "1       0.013948      0.000585         0.000998    7.207536e-07   \n",
       "\n",
       "  param_normalize                params  split0_test_score  split1_test_score  \\\n",
       "0            True   {'normalize': True}           0.709608           0.716118   \n",
       "1           False  {'normalize': False}           0.709625           0.716089   \n",
       "\n",
       "   split2_test_score  split3_test_score  ...  std_test_score  rank_test_score  \\\n",
       "0           0.720027           0.697553  ...        0.012651                1   \n",
       "1           0.719894           0.697534  ...        0.012626                2   \n",
       "\n",
       "   split0_train_score  split1_train_score  split2_train_score  \\\n",
       "0            0.706208            0.705047            0.704192   \n",
       "1            0.706213            0.705056            0.704224   \n",
       "\n",
       "   split3_train_score  split4_train_score  split5_train_score  \\\n",
       "0            0.708333            0.711879            0.708505   \n",
       "1            0.708336            0.711885            0.708506   \n",
       "\n",
       "   mean_train_score  std_train_score  \n",
       "0          0.707361         0.002562  \n",
       "1          0.707370         0.002556  \n",
       "\n",
       "[2 rows x 23 columns]"
      ]
     },
     "execution_count": 111,
     "metadata": {},
     "output_type": "execute_result"
    }
   ],
   "source": [
    "output = pd.DataFrame(grid_search_lr.cv_results_)\n",
    "output"
   ]
  },
  {
   "cell_type": "code",
   "execution_count": 112,
   "metadata": {},
   "outputs": [
    {
     "data": {
      "text/plain": [
       "LinearRegression(copy_X=True, fit_intercept=True, n_jobs=None, normalize=True)"
      ]
     },
     "execution_count": 112,
     "metadata": {},
     "output_type": "execute_result"
    },
    {
     "name": "stdout",
     "output_type": "stream",
     "text": [
      "0.7069561645872875\n",
      "0.7054360786523051\n"
     ]
    }
   ],
   "source": [
    "linreg = LinearRegression(normalize = True)\n",
    "linreg.fit(X_traindata, y_train)\n",
    "print(linreg.score(X_traindata, y_train))\n",
    "print(linreg.score(X_testdata, y_test))"
   ]
  },
  {
   "cell_type": "code",
   "execution_count": 113,
   "metadata": {},
   "outputs": [
    {
     "name": "stdout",
     "output_type": "stream",
     "text": [
      "Cross-validation scores:\n",
      "[0.70960753 0.71611763 0.72002693 0.6975525  0.68330304 0.69656092]\n",
      "0.7038614246686351\n"
     ]
    }
   ],
   "source": [
    "from sklearn.model_selection import KFold\n",
    "from sklearn.model_selection import cross_val_score\n",
    "\n",
    "  \n",
    "kfold = KFold(n_splits=6)\n",
    "print(\"Cross-validation scores:\\n{}\".format(cross_val_score(linreg , X_traindata, y_train, cv=kfold)))\n",
    "val = cross_val_score(linreg , X_traindata, y_train, cv=kfold)\n",
    "print(np.mean(val))"
   ]
  },
  {
   "cell_type": "code",
   "execution_count": 114,
   "metadata": {},
   "outputs": [
    {
     "data": {
      "text/plain": [
       "LinearRegression(copy_X=True, fit_intercept=True, n_jobs=None, normalize=True)"
      ]
     },
     "execution_count": 114,
     "metadata": {},
     "output_type": "execute_result"
    },
    {
     "data": {
      "text/plain": [
       "[<matplotlib.lines.Line2D at 0x21e0a8c0be0>]"
      ]
     },
     "execution_count": 114,
     "metadata": {},
     "output_type": "execute_result"
    },
    {
     "data": {
      "text/plain": [
       "<matplotlib.collections.PathCollection at 0x21e0a88da20>"
      ]
     },
     "execution_count": 114,
     "metadata": {},
     "output_type": "execute_result"
    },
    {
     "data": {
      "text/plain": [
       "Text(0.5, 0, 'sqft_living')"
      ]
     },
     "execution_count": 114,
     "metadata": {},
     "output_type": "execute_result"
    },
    {
     "data": {
      "image/png": "[encoded data removed]",
      "text/plain": [
       "<Figure size 432x288 with 1 Axes>"
      ]
     },
     "metadata": {
      "needs_background": "light"
     },
     "output_type": "display_data"
    }
   ],
   "source": [
    "%matplotlib inline\n",
    "import matplotlib.pyplot as plt\n",
    "\n",
    "X_train_array = X_traindata.to_numpy()\n",
    "\n",
    "X_train_rm = X_train_array[:,2].reshape(-1,1)\n",
    "linreg.fit(X_train_rm, y_train)\n",
    "y_pred = linreg.predict(X_train_rm)\n",
    "\n",
    "plt.plot(X_train_rm, y_pred, c = 'r')\n",
    "plt.scatter(X_train_rm,y_train)\n",
    "plt.xlabel('sqft_living')"
   ]
  },
  {
   "cell_type": "markdown",
   "metadata": {},
   "source": [
    "Linear Regression Result:\n",
    "Best parameter: {'normalize': True}\n",
    "Average Cross validation score: 0.7038\n",
    "Test score: 0.7054"
   ]
  },
  {
   "cell_type": "markdown",
   "metadata": {},
   "source": [
    "# KNN Regression"
   ]
  },
  {
   "cell_type": "code",
   "execution_count": 115,
   "metadata": {},
   "outputs": [],
   "source": [
    "knn_parms = {'n_neighbors':[1,5,10,15,20]}"
   ]
  },
  {
   "cell_type": "code",
   "execution_count": 116,
   "metadata": {},
   "outputs": [
    {
     "data": {
      "text/plain": [
       "GridSearchCV(cv=6, error_score=nan,\n",
       "             estimator=KNeighborsRegressor(algorithm='auto', leaf_size=30,\n",
       "                                           metric='minkowski',\n",
       "                                           metric_params=None, n_jobs=None,\n",
       "                                           n_neighbors=5, p=2,\n",
       "                                           weights='uniform'),\n",
       "             iid='deprecated', n_jobs=-1,\n",
       "             param_grid={'n_neighbors': [1, 5, 10, 15, 20]},\n",
       "             pre_dispatch='2*n_jobs', refit=True, return_train_score=True,\n",
       "             scoring=None, verbose=0)"
      ]
     },
     "execution_count": 116,
     "metadata": {},
     "output_type": "execute_result"
    }
   ],
   "source": [
    "knn = KNeighborsRegressor()\n",
    "grid_search_knn = GridSearchCV(knn, knn_parms,cv=6,return_train_score=True,n_jobs= -1)\n",
    "grid_search_knn.fit(X_train_scale, y_train)"
   ]
  },
  {
   "cell_type": "code",
   "execution_count": 117,
   "metadata": {},
   "outputs": [
    {
     "name": "stdout",
     "output_type": "stream",
     "text": [
      "Best parameters: {'n_neighbors': 10}\n",
      "Best cross-validation score: 0.7051\n"
     ]
    }
   ],
   "source": [
    "print(\"Best parameters: {}\".format(grid_search_knn.best_params_))\n",
    "print(\"Best cross-validation score: {:.4f}\".format(grid_search_knn.best_score_))"
   ]
  },
  {
   "cell_type": "code",
   "execution_count": 118,
   "metadata": {},
   "outputs": [
    {
     "data": {
      "text/html": [
       "<div>\n",
       "<style scoped>\n",
       "    .dataframe tbody tr th:only-of-type {\n",
       "        vertical-align: middle;\n",
       "    }\n",
       "\n",
       "    .dataframe tbody tr th {\n",
       "        vertical-align: top;\n",
       "    }\n",
       "\n",
       "    .dataframe thead th {\n",
       "        text-align: right;\n",
       "    }\n",
       "</style>\n",
       "<table border=\"1\" class=\"dataframe\">\n",
       "  <thead>\n",
       "    <tr style=\"text-align: right;\">\n",
       "      <th></th>\n",
       "      <th>mean_fit_time</th>\n",
       "      <th>std_fit_time</th>\n",
       "      <th>mean_score_time</th>\n",
       "      <th>std_score_time</th>\n",
       "      <th>param_n_neighbors</th>\n",
       "      <th>params</th>\n",
       "      <th>split0_test_score</th>\n",
       "      <th>split1_test_score</th>\n",
       "      <th>split2_test_score</th>\n",
       "      <th>split3_test_score</th>\n",
       "      <th>...</th>\n",
       "      <th>std_test_score</th>\n",
       "      <th>rank_test_score</th>\n",
       "      <th>split0_train_score</th>\n",
       "      <th>split1_train_score</th>\n",
       "      <th>split2_train_score</th>\n",
       "      <th>split3_train_score</th>\n",
       "      <th>split4_train_score</th>\n",
       "      <th>split5_train_score</th>\n",
       "      <th>mean_train_score</th>\n",
       "      <th>std_train_score</th>\n",
       "    </tr>\n",
       "  </thead>\n",
       "  <tbody>\n",
       "    <tr>\n",
       "      <th>0</th>\n",
       "      <td>0.318482</td>\n",
       "      <td>0.046955</td>\n",
       "      <td>2.747655</td>\n",
       "      <td>0.423635</td>\n",
       "      <td>1</td>\n",
       "      <td>{'n_neighbors': 1}</td>\n",
       "      <td>0.592134</td>\n",
       "      <td>0.622535</td>\n",
       "      <td>0.619786</td>\n",
       "      <td>0.530163</td>\n",
       "      <td>...</td>\n",
       "      <td>0.036369</td>\n",
       "      <td>5</td>\n",
       "      <td>1.000000</td>\n",
       "      <td>0.999999</td>\n",
       "      <td>0.999999</td>\n",
       "      <td>1.000000</td>\n",
       "      <td>0.999999</td>\n",
       "      <td>0.999999</td>\n",
       "      <td>1.000000</td>\n",
       "      <td>3.534154e-07</td>\n",
       "    </tr>\n",
       "    <tr>\n",
       "      <th>1</th>\n",
       "      <td>0.340590</td>\n",
       "      <td>0.033509</td>\n",
       "      <td>3.848985</td>\n",
       "      <td>0.641627</td>\n",
       "      <td>5</td>\n",
       "      <td>{'n_neighbors': 5}</td>\n",
       "      <td>0.706774</td>\n",
       "      <td>0.718098</td>\n",
       "      <td>0.719744</td>\n",
       "      <td>0.719948</td>\n",
       "      <td>...</td>\n",
       "      <td>0.024723</td>\n",
       "      <td>2</td>\n",
       "      <td>0.793072</td>\n",
       "      <td>0.796259</td>\n",
       "      <td>0.795847</td>\n",
       "      <td>0.801615</td>\n",
       "      <td>0.808304</td>\n",
       "      <td>0.801869</td>\n",
       "      <td>0.799494</td>\n",
       "      <td>5.045726e-03</td>\n",
       "    </tr>\n",
       "    <tr>\n",
       "      <th>2</th>\n",
       "      <td>0.419444</td>\n",
       "      <td>0.029784</td>\n",
       "      <td>5.174423</td>\n",
       "      <td>0.433563</td>\n",
       "      <td>10</td>\n",
       "      <td>{'n_neighbors': 10}</td>\n",
       "      <td>0.710293</td>\n",
       "      <td>0.715626</td>\n",
       "      <td>0.718757</td>\n",
       "      <td>0.714730</td>\n",
       "      <td>...</td>\n",
       "      <td>0.018587</td>\n",
       "      <td>1</td>\n",
       "      <td>0.751369</td>\n",
       "      <td>0.752289</td>\n",
       "      <td>0.750330</td>\n",
       "      <td>0.755683</td>\n",
       "      <td>0.764954</td>\n",
       "      <td>0.759887</td>\n",
       "      <td>0.755752</td>\n",
       "      <td>5.202373e-03</td>\n",
       "    </tr>\n",
       "    <tr>\n",
       "      <th>3</th>\n",
       "      <td>0.414184</td>\n",
       "      <td>0.011996</td>\n",
       "      <td>4.926798</td>\n",
       "      <td>0.123307</td>\n",
       "      <td>15</td>\n",
       "      <td>{'n_neighbors': 15}</td>\n",
       "      <td>0.703749</td>\n",
       "      <td>0.704602</td>\n",
       "      <td>0.705746</td>\n",
       "      <td>0.704762</td>\n",
       "      <td>...</td>\n",
       "      <td>0.020405</td>\n",
       "      <td>3</td>\n",
       "      <td>0.727925</td>\n",
       "      <td>0.727956</td>\n",
       "      <td>0.729058</td>\n",
       "      <td>0.732730</td>\n",
       "      <td>0.742003</td>\n",
       "      <td>0.734934</td>\n",
       "      <td>0.732434</td>\n",
       "      <td>4.994907e-03</td>\n",
       "    </tr>\n",
       "    <tr>\n",
       "      <th>4</th>\n",
       "      <td>0.427541</td>\n",
       "      <td>0.048647</td>\n",
       "      <td>5.116960</td>\n",
       "      <td>0.183487</td>\n",
       "      <td>20</td>\n",
       "      <td>{'n_neighbors': 20}</td>\n",
       "      <td>0.691178</td>\n",
       "      <td>0.700316</td>\n",
       "      <td>0.696074</td>\n",
       "      <td>0.696653</td>\n",
       "      <td>...</td>\n",
       "      <td>0.021290</td>\n",
       "      <td>4</td>\n",
       "      <td>0.710162</td>\n",
       "      <td>0.709354</td>\n",
       "      <td>0.708808</td>\n",
       "      <td>0.711955</td>\n",
       "      <td>0.723584</td>\n",
       "      <td>0.715161</td>\n",
       "      <td>0.713170</td>\n",
       "      <td>5.107723e-03</td>\n",
       "    </tr>\n",
       "  </tbody>\n",
       "</table>\n",
       "<p>5 rows × 23 columns</p>\n",
       "</div>"
      ],
      "text/plain": [
       "   mean_fit_time  std_fit_time  mean_score_time  std_score_time  \\\n",
       "0       0.318482      0.046955         2.747655        0.423635   \n",
       "1       0.340590      0.033509         3.848985        0.641627   \n",
       "2       0.419444      0.029784         5.174423        0.433563   \n",
       "3       0.414184      0.011996         4.926798        0.123307   \n",
       "4       0.427541      0.048647         5.116960        0.183487   \n",
       "\n",
       "  param_n_neighbors               params  split0_test_score  \\\n",
       "0                 1   {'n_neighbors': 1}           0.592134   \n",
       "1                 5   {'n_neighbors': 5}           0.706774   \n",
       "2                10  {'n_neighbors': 10}           0.710293   \n",
       "3                15  {'n_neighbors': 15}           0.703749   \n",
       "4                20  {'n_neighbors': 20}           0.691178   \n",
       "\n",
       "   split1_test_score  split2_test_score  split3_test_score  ...  \\\n",
       "0           0.622535           0.619786           0.530163  ...   \n",
       "1           0.718098           0.719744           0.719948  ...   \n",
       "2           0.715626           0.718757           0.714730  ...   \n",
       "3           0.704602           0.705746           0.704762  ...   \n",
       "4           0.700316           0.696074           0.696653  ...   \n",
       "\n",
       "   std_test_score  rank_test_score  split0_train_score  split1_train_score  \\\n",
       "0        0.036369                5            1.000000            0.999999   \n",
       "1        0.024723                2            0.793072            0.796259   \n",
       "2        0.018587                1            0.751369            0.752289   \n",
       "3        0.020405                3            0.727925            0.727956   \n",
       "4        0.021290                4            0.710162            0.709354   \n",
       "\n",
       "   split2_train_score  split3_train_score  split4_train_score  \\\n",
       "0            0.999999            1.000000            0.999999   \n",
       "1            0.795847            0.801615            0.808304   \n",
       "2            0.750330            0.755683            0.764954   \n",
       "3            0.729058            0.732730            0.742003   \n",
       "4            0.708808            0.711955            0.723584   \n",
       "\n",
       "   split5_train_score  mean_train_score  std_train_score  \n",
       "0            0.999999          1.000000     3.534154e-07  \n",
       "1            0.801869          0.799494     5.045726e-03  \n",
       "2            0.759887          0.755752     5.202373e-03  \n",
       "3            0.734934          0.732434     4.994907e-03  \n",
       "4            0.715161          0.713170     5.107723e-03  \n",
       "\n",
       "[5 rows x 23 columns]"
      ]
     },
     "execution_count": 118,
     "metadata": {},
     "output_type": "execute_result"
    }
   ],
   "source": [
    "pd.DataFrame(grid_search_knn.cv_results_)"
   ]
  },
  {
   "cell_type": "code",
   "execution_count": 119,
   "metadata": {},
   "outputs": [
    {
     "data": {
      "text/plain": [
       "KNeighborsRegressor(algorithm='auto', leaf_size=30, metric='minkowski',\n",
       "                    metric_params=None, n_jobs=None, n_neighbors=10, p=2,\n",
       "                    weights='uniform')"
      ]
     },
     "execution_count": 119,
     "metadata": {},
     "output_type": "execute_result"
    },
    {
     "name": "stdout",
     "output_type": "stream",
     "text": [
      "0.7596338833761177\n",
      "0.7091548053079557\n"
     ]
    }
   ],
   "source": [
    "knn_data = KNeighborsRegressor(n_neighbors = 10)\n",
    "knn_data.fit(X_train_scale, y_train)\n",
    "print(knn_data.score(X_train_scale, y_train))\n",
    "print(knn_data.score(X_test_scale, y_test))"
   ]
  },
  {
   "cell_type": "code",
   "execution_count": 120,
   "metadata": {},
   "outputs": [
    {
     "name": "stdout",
     "output_type": "stream",
     "text": [
      "Cross-validation scores:\n",
      "[0.71029319 0.71562632 0.71875725 0.71472986 0.66443416 0.70654159]\n",
      "0.7050637288170553\n"
     ]
    }
   ],
   "source": [
    "from sklearn.model_selection import KFold\n",
    "from sklearn.model_selection import cross_val_score\n",
    "\n",
    "  \n",
    "kfold = KFold(n_splits=6)\n",
    "print(\"Cross-validation scores:\\n{}\".format(cross_val_score(knn_data, X_train_scale, y_train, cv=kfold)))\n",
    "vals = cross_val_score(knn_data, X_train_scale, y_train, cv=kfold)\n",
    "print(np.mean(vals))"
   ]
  },
  {
   "cell_type": "code",
   "execution_count": 121,
   "metadata": {},
   "outputs": [
    {
     "data": {
      "text/plain": [
       "KNeighborsRegressor(algorithm='auto', leaf_size=30, metric='minkowski',\n",
       "                    metric_params=None, n_jobs=None, n_neighbors=10, p=2,\n",
       "                    weights='uniform')"
      ]
     },
     "execution_count": 121,
     "metadata": {},
     "output_type": "execute_result"
    },
    {
     "data": {
      "text/plain": [
       "[<matplotlib.lines.Line2D at 0x21e0cbac9e8>]"
      ]
     },
     "execution_count": 121,
     "metadata": {},
     "output_type": "execute_result"
    },
    {
     "data": {
      "text/plain": [
       "<matplotlib.collections.PathCollection at 0x21e0cb40f60>"
      ]
     },
     "execution_count": 121,
     "metadata": {},
     "output_type": "execute_result"
    },
    {
     "data": {
      "text/plain": [
       "Text(0.5, 0, 'sqft_living')"
      ]
     },
     "execution_count": 121,
     "metadata": {},
     "output_type": "execute_result"
    },
    {
     "data": {
      "image/png": "[encoded data removed]",
      "text/plain": [
       "<Figure size 432x288 with 1 Axes>"
      ]
     },
     "metadata": {
      "needs_background": "light"
     },
     "output_type": "display_data"
    }
   ],
   "source": [
    "X_q = X_train_array[:50,2].reshape(-1,1)\n",
    "y_q = y_train[:50]\n",
    "\n",
    "knn_reg_model = KNeighborsRegressor(10)\n",
    "knn_reg_model.fit(X_q, y_q)\n",
    "\n",
    "X_w=np.linspace(X_q.min(), X_q.max(), 50).reshape(50, 1)\n",
    "y_pred = knn_reg_model.predict(X_w)\n",
    "\n",
    "plt.plot(X_w, y_pred, c = 'r')\n",
    "plt.scatter(X_q, y_q)\n",
    "plt.xlabel('sqft_living')"
   ]
  },
  {
   "cell_type": "markdown",
   "metadata": {},
   "source": [
    "KNN Regression Result:\n",
    "Best parameter: {n_neighbors: 10}\n",
    "Average Cross validation score: 0.7050\n",
    "Test score: 0.7091"
   ]
  },
  {
   "cell_type": "markdown",
   "metadata": {},
   "source": [
    "# Ridge Regression"
   ]
  },
  {
   "cell_type": "code",
   "execution_count": 122,
   "metadata": {},
   "outputs": [],
   "source": [
    "ridge_parms = {'alpha': [0.01, 0.1, 1, 10, 100]}"
   ]
  },
  {
   "cell_type": "code",
   "execution_count": 123,
   "metadata": {},
   "outputs": [
    {
     "data": {
      "text/plain": [
       "GridSearchCV(cv=5, error_score=nan,\n",
       "             estimator=Ridge(alpha=1.0, copy_X=True, fit_intercept=True,\n",
       "                             max_iter=None, normalize=False, random_state=None,\n",
       "                             solver='auto', tol=0.001),\n",
       "             iid='deprecated', n_jobs=-1,\n",
       "             param_grid={'alpha': [0.01, 0.1, 1, 10, 100]},\n",
       "             pre_dispatch='2*n_jobs', refit=True, return_train_score=True,\n",
       "             scoring=None, verbose=0)"
      ]
     },
     "execution_count": 123,
     "metadata": {},
     "output_type": "execute_result"
    },
    {
     "name": "stdout",
     "output_type": "stream",
     "text": [
      "Best parameters: {'alpha': 1}\n",
      "Best cross-validation score: 0.7044\n"
     ]
    }
   ],
   "source": [
    "ridge = Ridge()\n",
    "grid_ridge = GridSearchCV(estimator = ridge,param_grid = ridge_parms,return_train_score=True,n_jobs= -1,cv=5)\n",
    "grid_ridge.fit(X_traindata, y_train)\n",
    "print(\"Best parameters: {}\".format(grid_ridge.best_params_))\n",
    "\n",
    "print(\"Best cross-validation score: {:.4f}\".format(grid_ridge.best_score_))"
   ]
  },
  {
   "cell_type": "code",
   "execution_count": 124,
   "metadata": {},
   "outputs": [
    {
     "data": {
      "text/plain": [
       "Ridge(alpha=1, copy_X=True, fit_intercept=True, max_iter=None, normalize=False,\n",
       "      random_state=None, solver='auto', tol=0.001)"
      ]
     },
     "execution_count": 124,
     "metadata": {},
     "output_type": "execute_result"
    },
    {
     "name": "stdout",
     "output_type": "stream",
     "text": [
      "0.7069982548814961\n",
      "0.7058583518270751\n"
     ]
    }
   ],
   "source": [
    "ridge_reg = Ridge(alpha = 1)\n",
    "ridge_reg.fit(X_traindata, y_train)\n",
    "print(ridge_reg.score(X_traindata, y_train))\n",
    "print(ridge_reg.score(X_testdata, y_test))"
   ]
  },
  {
   "cell_type": "code",
   "execution_count": 125,
   "metadata": {},
   "outputs": [
    {
     "name": "stdout",
     "output_type": "stream",
     "text": [
      "Cross-validation scores:\n",
      "[0.7097873  0.71599983 0.71998271 0.69773947 0.68300824 0.69661781]\n",
      "0.7038558924850089\n"
     ]
    }
   ],
   "source": [
    "from sklearn.model_selection import KFold\n",
    "from sklearn.model_selection import cross_val_score\n",
    "\n",
    "  \n",
    "kfold = KFold(n_splits=6)\n",
    "print(\"Cross-validation scores:\\n{}\".format(cross_val_score(ridge_reg , X_traindata, y_train, cv=kfold)))\n",
    "vals = cross_val_score(ridge_reg , X_traindata, y_train, cv=kfold)\n",
    "print(np.mean(vals))"
   ]
  },
  {
   "cell_type": "code",
   "execution_count": 126,
   "metadata": {},
   "outputs": [
    {
     "data": {
      "text/html": [
       "<div>\n",
       "<style scoped>\n",
       "    .dataframe tbody tr th:only-of-type {\n",
       "        vertical-align: middle;\n",
       "    }\n",
       "\n",
       "    .dataframe tbody tr th {\n",
       "        vertical-align: top;\n",
       "    }\n",
       "\n",
       "    .dataframe thead th {\n",
       "        text-align: right;\n",
       "    }\n",
       "</style>\n",
       "<table border=\"1\" class=\"dataframe\">\n",
       "  <thead>\n",
       "    <tr style=\"text-align: right;\">\n",
       "      <th></th>\n",
       "      <th>mean_fit_time</th>\n",
       "      <th>std_fit_time</th>\n",
       "      <th>mean_score_time</th>\n",
       "      <th>std_score_time</th>\n",
       "      <th>param_alpha</th>\n",
       "      <th>params</th>\n",
       "      <th>split0_test_score</th>\n",
       "      <th>split1_test_score</th>\n",
       "      <th>split2_test_score</th>\n",
       "      <th>split3_test_score</th>\n",
       "      <th>...</th>\n",
       "      <th>mean_test_score</th>\n",
       "      <th>std_test_score</th>\n",
       "      <th>rank_test_score</th>\n",
       "      <th>split0_train_score</th>\n",
       "      <th>split1_train_score</th>\n",
       "      <th>split2_train_score</th>\n",
       "      <th>split3_train_score</th>\n",
       "      <th>split4_train_score</th>\n",
       "      <th>mean_train_score</th>\n",
       "      <th>std_train_score</th>\n",
       "    </tr>\n",
       "  </thead>\n",
       "  <tbody>\n",
       "    <tr>\n",
       "      <th>0</th>\n",
       "      <td>0.018746</td>\n",
       "      <td>0.006248</td>\n",
       "      <td>0.000000</td>\n",
       "      <td>0.000000</td>\n",
       "      <td>0.01</td>\n",
       "      <td>{'alpha': 0.01}</td>\n",
       "      <td>0.711764</td>\n",
       "      <td>0.705579</td>\n",
       "      <td>0.714666</td>\n",
       "      <td>0.696597</td>\n",
       "      <td>...</td>\n",
       "      <td>0.704393</td>\n",
       "      <td>0.008293</td>\n",
       "      <td>3</td>\n",
       "      <td>0.705423</td>\n",
       "      <td>0.707091</td>\n",
       "      <td>0.704962</td>\n",
       "      <td>0.709036</td>\n",
       "      <td>0.710212</td>\n",
       "      <td>0.707345</td>\n",
       "      <td>0.002026</td>\n",
       "    </tr>\n",
       "    <tr>\n",
       "      <th>1</th>\n",
       "      <td>0.021871</td>\n",
       "      <td>0.015931</td>\n",
       "      <td>0.000000</td>\n",
       "      <td>0.000000</td>\n",
       "      <td>0.1</td>\n",
       "      <td>{'alpha': 0.1}</td>\n",
       "      <td>0.711779</td>\n",
       "      <td>0.705577</td>\n",
       "      <td>0.714681</td>\n",
       "      <td>0.696577</td>\n",
       "      <td>...</td>\n",
       "      <td>0.704394</td>\n",
       "      <td>0.008303</td>\n",
       "      <td>2</td>\n",
       "      <td>0.705423</td>\n",
       "      <td>0.707091</td>\n",
       "      <td>0.704962</td>\n",
       "      <td>0.709036</td>\n",
       "      <td>0.710212</td>\n",
       "      <td>0.707345</td>\n",
       "      <td>0.002026</td>\n",
       "    </tr>\n",
       "    <tr>\n",
       "      <th>2</th>\n",
       "      <td>0.018746</td>\n",
       "      <td>0.006248</td>\n",
       "      <td>0.003124</td>\n",
       "      <td>0.006249</td>\n",
       "      <td>1</td>\n",
       "      <td>{'alpha': 1}</td>\n",
       "      <td>0.711920</td>\n",
       "      <td>0.705553</td>\n",
       "      <td>0.714820</td>\n",
       "      <td>0.696372</td>\n",
       "      <td>...</td>\n",
       "      <td>0.704405</td>\n",
       "      <td>0.008399</td>\n",
       "      <td>1</td>\n",
       "      <td>0.705419</td>\n",
       "      <td>0.707087</td>\n",
       "      <td>0.704957</td>\n",
       "      <td>0.709033</td>\n",
       "      <td>0.710207</td>\n",
       "      <td>0.707340</td>\n",
       "      <td>0.002026</td>\n",
       "    </tr>\n",
       "    <tr>\n",
       "      <th>3</th>\n",
       "      <td>0.015621</td>\n",
       "      <td>0.000001</td>\n",
       "      <td>0.003124</td>\n",
       "      <td>0.006248</td>\n",
       "      <td>10</td>\n",
       "      <td>{'alpha': 10}</td>\n",
       "      <td>0.712871</td>\n",
       "      <td>0.705046</td>\n",
       "      <td>0.715634</td>\n",
       "      <td>0.694395</td>\n",
       "      <td>...</td>\n",
       "      <td>0.704192</td>\n",
       "      <td>0.009250</td>\n",
       "      <td>4</td>\n",
       "      <td>0.705049</td>\n",
       "      <td>0.706754</td>\n",
       "      <td>0.704593</td>\n",
       "      <td>0.708758</td>\n",
       "      <td>0.709849</td>\n",
       "      <td>0.707000</td>\n",
       "      <td>0.002043</td>\n",
       "    </tr>\n",
       "    <tr>\n",
       "      <th>4</th>\n",
       "      <td>0.012498</td>\n",
       "      <td>0.006249</td>\n",
       "      <td>0.000000</td>\n",
       "      <td>0.000000</td>\n",
       "      <td>100</td>\n",
       "      <td>{'alpha': 100}</td>\n",
       "      <td>0.710351</td>\n",
       "      <td>0.696113</td>\n",
       "      <td>0.709853</td>\n",
       "      <td>0.681547</td>\n",
       "      <td>...</td>\n",
       "      <td>0.696368</td>\n",
       "      <td>0.012253</td>\n",
       "      <td>5</td>\n",
       "      <td>0.696025</td>\n",
       "      <td>0.698660</td>\n",
       "      <td>0.695956</td>\n",
       "      <td>0.701624</td>\n",
       "      <td>0.701626</td>\n",
       "      <td>0.698778</td>\n",
       "      <td>0.002521</td>\n",
       "    </tr>\n",
       "  </tbody>\n",
       "</table>\n",
       "<p>5 rows × 21 columns</p>\n",
       "</div>"
      ],
      "text/plain": [
       "   mean_fit_time  std_fit_time  mean_score_time  std_score_time param_alpha  \\\n",
       "0       0.018746      0.006248         0.000000        0.000000        0.01   \n",
       "1       0.021871      0.015931         0.000000        0.000000         0.1   \n",
       "2       0.018746      0.006248         0.003124        0.006249           1   \n",
       "3       0.015621      0.000001         0.003124        0.006248          10   \n",
       "4       0.012498      0.006249         0.000000        0.000000         100   \n",
       "\n",
       "            params  split0_test_score  split1_test_score  split2_test_score  \\\n",
       "0  {'alpha': 0.01}           0.711764           0.705579           0.714666   \n",
       "1   {'alpha': 0.1}           0.711779           0.705577           0.714681   \n",
       "2     {'alpha': 1}           0.711920           0.705553           0.714820   \n",
       "3    {'alpha': 10}           0.712871           0.705046           0.715634   \n",
       "4   {'alpha': 100}           0.710351           0.696113           0.709853   \n",
       "\n",
       "   split3_test_score  ...  mean_test_score  std_test_score  rank_test_score  \\\n",
       "0           0.696597  ...         0.704393        0.008293                3   \n",
       "1           0.696577  ...         0.704394        0.008303                2   \n",
       "2           0.696372  ...         0.704405        0.008399                1   \n",
       "3           0.694395  ...         0.704192        0.009250                4   \n",
       "4           0.681547  ...         0.696368        0.012253                5   \n",
       "\n",
       "   split0_train_score  split1_train_score  split2_train_score  \\\n",
       "0            0.705423            0.707091            0.704962   \n",
       "1            0.705423            0.707091            0.704962   \n",
       "2            0.705419            0.707087            0.704957   \n",
       "3            0.705049            0.706754            0.704593   \n",
       "4            0.696025            0.698660            0.695956   \n",
       "\n",
       "   split3_train_score  split4_train_score  mean_train_score  std_train_score  \n",
       "0            0.709036            0.710212          0.707345         0.002026  \n",
       "1            0.709036            0.710212          0.707345         0.002026  \n",
       "2            0.709033            0.710207          0.707340         0.002026  \n",
       "3            0.708758            0.709849          0.707000         0.002043  \n",
       "4            0.701624            0.701626          0.698778         0.002521  \n",
       "\n",
       "[5 rows x 21 columns]"
      ]
     },
     "execution_count": 126,
     "metadata": {},
     "output_type": "execute_result"
    }
   ],
   "source": [
    "output_ridge = pd.DataFrame(grid_ridge.cv_results_)\n",
    "output_ridge"
   ]
  },
  {
   "cell_type": "code",
   "execution_count": 127,
   "metadata": {},
   "outputs": [
    {
     "data": {
      "text/plain": [
       "[<matplotlib.lines.Line2D at 0x21e0f14f198>]"
      ]
     },
     "execution_count": 127,
     "metadata": {},
     "output_type": "execute_result"
    },
    {
     "data": {
      "text/plain": [
       "[<matplotlib.lines.Line2D at 0x21e0f14f588>]"
      ]
     },
     "execution_count": 127,
     "metadata": {},
     "output_type": "execute_result"
    },
    {
     "data": {
      "text/plain": [
       "([<matplotlib.axis.XTick at 0x21e0cb67780>,\n",
       "  <matplotlib.axis.XTick at 0x21e06ddb6d8>,\n",
       "  <matplotlib.axis.XTick at 0x21e0f12b978>,\n",
       "  <matplotlib.axis.XTick at 0x21e0f14fcc0>,\n",
       "  <matplotlib.axis.XTick at 0x21e0f157208>],\n",
       " <a list of 5 Text xticklabel objects>)"
      ]
     },
     "execution_count": 127,
     "metadata": {},
     "output_type": "execute_result"
    },
    {
     "data": {
      "text/plain": [
       "[<matplotlib.lines.Line2D at 0x21e0f157ba8>]"
      ]
     },
     "execution_count": 127,
     "metadata": {},
     "output_type": "execute_result"
    },
    {
     "data": {
      "text/plain": [
       "[<matplotlib.lines.Line2D at 0x21e0f157438>]"
      ]
     },
     "execution_count": 127,
     "metadata": {},
     "output_type": "execute_result"
    },
    {
     "data": {
      "text/plain": [
       "<matplotlib.legend.Legend at 0x21e0f1577b8>"
      ]
     },
     "execution_count": 127,
     "metadata": {},
     "output_type": "execute_result"
    },
    {
     "data": {
      "text/plain": [
       "Text(0.5, 0, 'Alpha')"
      ]
     },
     "execution_count": 127,
     "metadata": {},
     "output_type": "execute_result"
    },
    {
     "data": {
      "image/png": "[encoded data removed]",
      "text/plain": [
       "<Figure size 432x288 with 1 Axes>"
      ]
     },
     "metadata": {
      "needs_background": "light"
     },
     "output_type": "display_data"
    }
   ],
   "source": [
    "import matplotlib.pyplot as plt\n",
    "%matplotlib inline\n",
    "\n",
    "plt.plot(range(output_ridge.shape[0]), output_ridge['mean_train_score'], label = 'mean train score')\n",
    "plt.plot(range(output_ridge.shape[0]), output_ridge['mean_test_score'], label = 'mean test score')\n",
    "plt.xticks(range(output_ridge.shape[0]), output_ridge['param_alpha'], rotation = 90)\n",
    "plt.plot([grid_ridge.best_index_], output_ridge['mean_train_score'][grid_ridge.best_index_], 'o', markersize = 10, fillstyle = \"none\")\n",
    "plt.plot([grid_ridge.best_index_], output_ridge['mean_test_score'][grid_ridge.best_index_], 'o', markersize = 10, fillstyle = \"none\")\n",
    "plt.grid()\n",
    "plt.legend()\n",
    "plt.xlabel('Alpha')"
   ]
  },
  {
   "cell_type": "markdown",
   "metadata": {},
   "source": [
    "Ridge Regression Result:\n",
    "Best parameter: {'alpha': 1}\n",
    "Average Cross validation score: 0.7038\n",
    "Test score: 0.7058"
   ]
  },
  {
   "cell_type": "markdown",
   "metadata": {},
   "source": [
    "# Lasso Regression"
   ]
  },
  {
   "cell_type": "code",
   "execution_count": 128,
   "metadata": {},
   "outputs": [],
   "source": [
    "lasso_parms = {'alpha': [0.01, 0.1, 1, 10,100]}"
   ]
  },
  {
   "cell_type": "code",
   "execution_count": 129,
   "metadata": {},
   "outputs": [
    {
     "data": {
      "text/plain": [
       "GridSearchCV(cv=5, error_score=nan,\n",
       "             estimator=Lasso(alpha=1.0, copy_X=True, fit_intercept=True,\n",
       "                             max_iter=1000, normalize=False, positive=False,\n",
       "                             precompute=False, random_state=None,\n",
       "                             selection='cyclic', tol=0.0001, warm_start=False),\n",
       "             iid='deprecated', n_jobs=-1,\n",
       "             param_grid={'alpha': [0.01, 0.1, 1, 10, 100]},\n",
       "             pre_dispatch='2*n_jobs', refit=True, return_train_score=True,\n",
       "             scoring=None, verbose=0)"
      ]
     },
     "execution_count": 129,
     "metadata": {},
     "output_type": "execute_result"
    },
    {
     "name": "stdout",
     "output_type": "stream",
     "text": [
      "Best parameters: {'alpha': 10}\n",
      "Best cross-validation score: 0.7044\n"
     ]
    }
   ],
   "source": [
    "lasso = Lasso()\n",
    "grid_lasso = GridSearchCV(estimator = lasso,param_grid = lasso_parms,return_train_score=True,n_jobs=-1,cv=5)\n",
    "grid_lasso.fit(X_traindata, y_train)\n",
    "print(\"Best parameters: {}\".format(grid_lasso.best_params_))\n",
    "print(\"Best cross-validation score: {:.4f}\".format(grid_lasso.best_score_))"
   ]
  },
  {
   "cell_type": "code",
   "execution_count": 130,
   "metadata": {},
   "outputs": [
    {
     "data": {
      "text/plain": [
       "Lasso(alpha=10, copy_X=True, fit_intercept=True, max_iter=1000, normalize=False,\n",
       "      positive=False, precompute=False, random_state=None, selection='cyclic',\n",
       "      tol=0.0001, warm_start=False)"
      ]
     },
     "execution_count": 130,
     "metadata": {},
     "output_type": "execute_result"
    },
    {
     "name": "stdout",
     "output_type": "stream",
     "text": [
      "0.707000030861227\n",
      "0.705741710476518\n"
     ]
    }
   ],
   "source": [
    "lass_model = Lasso(alpha = 10)\n",
    "lass_model.fit(X_traindata, y_train)\n",
    "print(lass_model.score(X_traindata, y_train))\n",
    "print(lass_model.score(X_testdata, y_test))"
   ]
  },
  {
   "cell_type": "code",
   "execution_count": 131,
   "metadata": {},
   "outputs": [
    {
     "name": "stdout",
     "output_type": "stream",
     "text": [
      "Cross-validation scores:\n",
      "[0.70962305 0.71607484 0.71994218 0.69756949 0.68323561 0.69658355]\n",
      "0.70383812154691\n"
     ]
    }
   ],
   "source": [
    "from sklearn.model_selection import KFold\n",
    "from sklearn.model_selection import cross_val_score\n",
    "\n",
    "  \n",
    "kfold = KFold(n_splits=6)\n",
    "print(\"Cross-validation scores:\\n{}\".format(cross_val_score(lass_model , X_traindata, y_train, cv=kfold)))\n",
    "vals = cross_val_score(lass_model , X_traindata, y_train, cv=kfold)\n",
    "print(np.mean(vals))"
   ]
  },
  {
   "cell_type": "code",
   "execution_count": 132,
   "metadata": {},
   "outputs": [
    {
     "data": {
      "text/html": [
       "<div>\n",
       "<style scoped>\n",
       "    .dataframe tbody tr th:only-of-type {\n",
       "        vertical-align: middle;\n",
       "    }\n",
       "\n",
       "    .dataframe tbody tr th {\n",
       "        vertical-align: top;\n",
       "    }\n",
       "\n",
       "    .dataframe thead th {\n",
       "        text-align: right;\n",
       "    }\n",
       "</style>\n",
       "<table border=\"1\" class=\"dataframe\">\n",
       "  <thead>\n",
       "    <tr style=\"text-align: right;\">\n",
       "      <th></th>\n",
       "      <th>mean_fit_time</th>\n",
       "      <th>std_fit_time</th>\n",
       "      <th>mean_score_time</th>\n",
       "      <th>std_score_time</th>\n",
       "      <th>param_alpha</th>\n",
       "      <th>params</th>\n",
       "      <th>split0_test_score</th>\n",
       "      <th>split1_test_score</th>\n",
       "      <th>split2_test_score</th>\n",
       "      <th>split3_test_score</th>\n",
       "      <th>...</th>\n",
       "      <th>mean_test_score</th>\n",
       "      <th>std_test_score</th>\n",
       "      <th>rank_test_score</th>\n",
       "      <th>split0_train_score</th>\n",
       "      <th>split1_train_score</th>\n",
       "      <th>split2_train_score</th>\n",
       "      <th>split3_train_score</th>\n",
       "      <th>split4_train_score</th>\n",
       "      <th>mean_train_score</th>\n",
       "      <th>std_train_score</th>\n",
       "    </tr>\n",
       "  </thead>\n",
       "  <tbody>\n",
       "    <tr>\n",
       "      <th>0</th>\n",
       "      <td>1.677657</td>\n",
       "      <td>0.145017</td>\n",
       "      <td>0.003923</td>\n",
       "      <td>0.006051</td>\n",
       "      <td>0.01</td>\n",
       "      <td>{'alpha': 0.01}</td>\n",
       "      <td>0.711763</td>\n",
       "      <td>0.705579</td>\n",
       "      <td>0.714665</td>\n",
       "      <td>0.696599</td>\n",
       "      <td>...</td>\n",
       "      <td>0.704393</td>\n",
       "      <td>0.008292</td>\n",
       "      <td>5</td>\n",
       "      <td>0.705423</td>\n",
       "      <td>0.707091</td>\n",
       "      <td>0.704962</td>\n",
       "      <td>0.709036</td>\n",
       "      <td>0.710212</td>\n",
       "      <td>0.707345</td>\n",
       "      <td>0.002026</td>\n",
       "    </tr>\n",
       "    <tr>\n",
       "      <th>1</th>\n",
       "      <td>1.672719</td>\n",
       "      <td>0.124725</td>\n",
       "      <td>0.004122</td>\n",
       "      <td>0.005866</td>\n",
       "      <td>0.1</td>\n",
       "      <td>{'alpha': 0.1}</td>\n",
       "      <td>0.711763</td>\n",
       "      <td>0.705579</td>\n",
       "      <td>0.714665</td>\n",
       "      <td>0.696599</td>\n",
       "      <td>...</td>\n",
       "      <td>0.704393</td>\n",
       "      <td>0.008292</td>\n",
       "      <td>4</td>\n",
       "      <td>0.705423</td>\n",
       "      <td>0.707091</td>\n",
       "      <td>0.704962</td>\n",
       "      <td>0.709036</td>\n",
       "      <td>0.710212</td>\n",
       "      <td>0.707345</td>\n",
       "      <td>0.002026</td>\n",
       "    </tr>\n",
       "    <tr>\n",
       "      <th>2</th>\n",
       "      <td>0.969186</td>\n",
       "      <td>0.300443</td>\n",
       "      <td>0.000399</td>\n",
       "      <td>0.000798</td>\n",
       "      <td>1</td>\n",
       "      <td>{'alpha': 1}</td>\n",
       "      <td>0.711764</td>\n",
       "      <td>0.705581</td>\n",
       "      <td>0.714668</td>\n",
       "      <td>0.696596</td>\n",
       "      <td>...</td>\n",
       "      <td>0.704393</td>\n",
       "      <td>0.008294</td>\n",
       "      <td>3</td>\n",
       "      <td>0.705423</td>\n",
       "      <td>0.707091</td>\n",
       "      <td>0.704962</td>\n",
       "      <td>0.709036</td>\n",
       "      <td>0.710212</td>\n",
       "      <td>0.707345</td>\n",
       "      <td>0.002026</td>\n",
       "    </tr>\n",
       "    <tr>\n",
       "      <th>3</th>\n",
       "      <td>0.398905</td>\n",
       "      <td>0.145976</td>\n",
       "      <td>0.003723</td>\n",
       "      <td>0.006061</td>\n",
       "      <td>10</td>\n",
       "      <td>{'alpha': 10}</td>\n",
       "      <td>0.711777</td>\n",
       "      <td>0.705603</td>\n",
       "      <td>0.714698</td>\n",
       "      <td>0.696567</td>\n",
       "      <td>...</td>\n",
       "      <td>0.704398</td>\n",
       "      <td>0.008312</td>\n",
       "      <td>1</td>\n",
       "      <td>0.705422</td>\n",
       "      <td>0.707090</td>\n",
       "      <td>0.704961</td>\n",
       "      <td>0.709035</td>\n",
       "      <td>0.710211</td>\n",
       "      <td>0.707344</td>\n",
       "      <td>0.002026</td>\n",
       "    </tr>\n",
       "    <tr>\n",
       "      <th>4</th>\n",
       "      <td>0.140592</td>\n",
       "      <td>0.023846</td>\n",
       "      <td>0.004719</td>\n",
       "      <td>0.005629</td>\n",
       "      <td>100</td>\n",
       "      <td>{'alpha': 100}</td>\n",
       "      <td>0.711878</td>\n",
       "      <td>0.705696</td>\n",
       "      <td>0.714951</td>\n",
       "      <td>0.696215</td>\n",
       "      <td>...</td>\n",
       "      <td>0.704396</td>\n",
       "      <td>0.008491</td>\n",
       "      <td>2</td>\n",
       "      <td>0.705370</td>\n",
       "      <td>0.707034</td>\n",
       "      <td>0.704907</td>\n",
       "      <td>0.708975</td>\n",
       "      <td>0.710157</td>\n",
       "      <td>0.707289</td>\n",
       "      <td>0.002025</td>\n",
       "    </tr>\n",
       "  </tbody>\n",
       "</table>\n",
       "<p>5 rows × 21 columns</p>\n",
       "</div>"
      ],
      "text/plain": [
       "   mean_fit_time  std_fit_time  mean_score_time  std_score_time param_alpha  \\\n",
       "0       1.677657      0.145017         0.003923        0.006051        0.01   \n",
       "1       1.672719      0.124725         0.004122        0.005866         0.1   \n",
       "2       0.969186      0.300443         0.000399        0.000798           1   \n",
       "3       0.398905      0.145976         0.003723        0.006061          10   \n",
       "4       0.140592      0.023846         0.004719        0.005629         100   \n",
       "\n",
       "            params  split0_test_score  split1_test_score  split2_test_score  \\\n",
       "0  {'alpha': 0.01}           0.711763           0.705579           0.714665   \n",
       "1   {'alpha': 0.1}           0.711763           0.705579           0.714665   \n",
       "2     {'alpha': 1}           0.711764           0.705581           0.714668   \n",
       "3    {'alpha': 10}           0.711777           0.705603           0.714698   \n",
       "4   {'alpha': 100}           0.711878           0.705696           0.714951   \n",
       "\n",
       "   split3_test_score  ...  mean_test_score  std_test_score  rank_test_score  \\\n",
       "0           0.696599  ...         0.704393        0.008292                5   \n",
       "1           0.696599  ...         0.704393        0.008292                4   \n",
       "2           0.696596  ...         0.704393        0.008294                3   \n",
       "3           0.696567  ...         0.704398        0.008312                1   \n",
       "4           0.696215  ...         0.704396        0.008491                2   \n",
       "\n",
       "   split0_train_score  split1_train_score  split2_train_score  \\\n",
       "0            0.705423            0.707091            0.704962   \n",
       "1            0.705423            0.707091            0.704962   \n",
       "2            0.705423            0.707091            0.704962   \n",
       "3            0.705422            0.707090            0.704961   \n",
       "4            0.705370            0.707034            0.704907   \n",
       "\n",
       "   split3_train_score  split4_train_score  mean_train_score  std_train_score  \n",
       "0            0.709036            0.710212          0.707345         0.002026  \n",
       "1            0.709036            0.710212          0.707345         0.002026  \n",
       "2            0.709036            0.710212          0.707345         0.002026  \n",
       "3            0.709035            0.710211          0.707344         0.002026  \n",
       "4            0.708975            0.710157          0.707289         0.002025  \n",
       "\n",
       "[5 rows x 21 columns]"
      ]
     },
     "execution_count": 132,
     "metadata": {},
     "output_type": "execute_result"
    }
   ],
   "source": [
    "output_lasso = pd.DataFrame(grid_lasso.cv_results_)\n",
    "output_lasso"
   ]
  },
  {
   "cell_type": "code",
   "execution_count": 133,
   "metadata": {
    "scrolled": true
   },
   "outputs": [
    {
     "data": {
      "text/plain": [
       "[<matplotlib.lines.Line2D at 0x21e0f1d1198>]"
      ]
     },
     "execution_count": 133,
     "metadata": {},
     "output_type": "execute_result"
    },
    {
     "data": {
      "text/plain": [
       "[<matplotlib.lines.Line2D at 0x21e0f1bd748>]"
      ]
     },
     "execution_count": 133,
     "metadata": {},
     "output_type": "execute_result"
    },
    {
     "data": {
      "text/plain": [
       "([<matplotlib.axis.XTick at 0x21e0f191b38>,\n",
       "  <matplotlib.axis.XTick at 0x21e0f191d68>,\n",
       "  <matplotlib.axis.XTick at 0x21e0f1910f0>,\n",
       "  <matplotlib.axis.XTick at 0x21e0f1d1ac8>,\n",
       "  <matplotlib.axis.XTick at 0x21e0f1d1e80>],\n",
       " <a list of 5 Text xticklabel objects>)"
      ]
     },
     "execution_count": 133,
     "metadata": {},
     "output_type": "execute_result"
    },
    {
     "data": {
      "text/plain": [
       "[<matplotlib.lines.Line2D at 0x21e0f1d17f0>]"
      ]
     },
     "execution_count": 133,
     "metadata": {},
     "output_type": "execute_result"
    },
    {
     "data": {
      "text/plain": [
       "[<matplotlib.lines.Line2D at 0x21e0f1b5e48>]"
      ]
     },
     "execution_count": 133,
     "metadata": {},
     "output_type": "execute_result"
    },
    {
     "data": {
      "text/plain": [
       "<matplotlib.legend.Legend at 0x21e0f1d9cc0>"
      ]
     },
     "execution_count": 133,
     "metadata": {},
     "output_type": "execute_result"
    },
    {
     "data": {
      "text/plain": [
       "Text(0.5, 0, 'Alpha')"
      ]
     },
     "execution_count": 133,
     "metadata": {},
     "output_type": "execute_result"
    },
    {
     "data": {
      "image/png": "[encoded data removed]",
      "text/plain": [
       "<Figure size 432x288 with 1 Axes>"
      ]
     },
     "metadata": {
      "needs_background": "light"
     },
     "output_type": "display_data"
    }
   ],
   "source": [
    "%matplotlib inline\n",
    "\n",
    "plt.plot(range(output_lasso.shape[0]), output_lasso['mean_train_score'], label = 'mean train score')\n",
    "plt.plot(range(output_lasso.shape[0]), output_lasso['mean_test_score'], label = 'mean test score')\n",
    "plt.xticks(range(output_lasso.shape[0]), output_lasso['param_alpha'], rotation = 90)\n",
    "plt.plot([grid_lasso.best_index_], output_lasso['mean_train_score'][grid_lasso.best_index_], 'o', markersize = 10, fillstyle = \"none\")\n",
    "plt.plot([grid_lasso.best_index_], output_lasso['mean_test_score'][grid_lasso.best_index_], 'o', markersize = 10, fillstyle = \"none\")\n",
    "plt.grid()\n",
    "plt.legend()\n",
    "plt.xlabel('Alpha')"
   ]
  },
  {
   "cell_type": "markdown",
   "metadata": {},
   "source": [
    "Lasso Regression Result:\n",
    "Best parameter: {'alpha': 10}\n",
    "Average Cross validation score: 0.7038\n",
    "Test score: 0.7057"
   ]
  },
  {
   "cell_type": "markdown",
   "metadata": {},
   "source": [
    "# Polynominal Regression"
   ]
  },
  {
   "cell_type": "code",
   "execution_count": 134,
   "metadata": {},
   "outputs": [],
   "source": [
    "from sklearn.preprocessing import PolynomialFeatures\n",
    "from sklearn.linear_model import LinearRegression\n",
    "from sklearn.pipeline import make_pipeline\n",
    "\n",
    "def PolynomialRegression(degree=2, **kwargs):\n",
    "    return make_pipeline(PolynomialFeatures(degree),\n",
    "                         LinearRegression(**kwargs))"
   ]
  },
  {
   "cell_type": "code",
   "execution_count": 135,
   "metadata": {},
   "outputs": [],
   "source": [
    "param_poly = {'polynomialfeatures__degree': np.arange(3)}\n",
    "\n",
    "grid_search_poly = GridSearchCV(PolynomialRegression(),param_poly,return_train_score=True,n_jobs=-1,cv=5)"
   ]
  },
  {
   "cell_type": "code",
   "execution_count": 136,
   "metadata": {},
   "outputs": [
    {
     "data": {
      "text/plain": [
       "GridSearchCV(cv=5, error_score=nan,\n",
       "             estimator=Pipeline(memory=None,\n",
       "                                steps=[('polynomialfeatures',\n",
       "                                        PolynomialFeatures(degree=2,\n",
       "                                                           include_bias=True,\n",
       "                                                           interaction_only=False,\n",
       "                                                           order='C')),\n",
       "                                       ('linearregression',\n",
       "                                        LinearRegression(copy_X=True,\n",
       "                                                         fit_intercept=True,\n",
       "                                                         n_jobs=None,\n",
       "                                                         normalize=False))],\n",
       "                                verbose=False),\n",
       "             iid='deprecated', n_jobs=-1,\n",
       "             param_grid={'polynomialfeatures__degree': array([0, 1, 2])},\n",
       "             pre_dispatch='2*n_jobs', refit=True, return_train_score=True,\n",
       "             scoring=None, verbose=0)"
      ]
     },
     "execution_count": 136,
     "metadata": {},
     "output_type": "execute_result"
    }
   ],
   "source": [
    "grid_search_poly.fit(X_traindata, y_train)"
   ]
  },
  {
   "cell_type": "code",
   "execution_count": 137,
   "metadata": {},
   "outputs": [
    {
     "name": "stdout",
     "output_type": "stream",
     "text": [
      "Best parameters: {'polynomialfeatures__degree': 2}\n",
      "Best cross-validation score: 0.7915\n"
     ]
    }
   ],
   "source": [
    "print(\"Best parameters: {}\".format(grid_search_poly.best_params_))\n",
    "print(\"Best cross-validation score: {:.4f}\".format(grid_search_poly.best_score_))"
   ]
  },
  {
   "cell_type": "code",
   "execution_count": 138,
   "metadata": {},
   "outputs": [
    {
     "data": {
      "text/plain": [
       "LinearRegression(copy_X=True, fit_intercept=True, n_jobs=None, normalize=False)"
      ]
     },
     "execution_count": 138,
     "metadata": {},
     "output_type": "execute_result"
    },
    {
     "name": "stdout",
     "output_type": "stream",
     "text": [
      "0.827800970141235\n",
      "0.7942434135250376\n"
     ]
    }
   ],
   "source": [
    "pol = PolynomialFeatures(degree = 2)\n",
    "Xpol = pol.fit_transform(X_traindata)\n",
    "X1pol = pol.fit_transform(X_testdata)\n",
    "pol_reg_model = LinearRegression()\n",
    "pol_reg_model.fit(Xpol,y_train)\n",
    "print(pol_reg_model.score(Xpol, y_train))\n",
    "print(pol_reg_model.score(X1pol, y_test))"
   ]
  },
  {
   "cell_type": "code",
   "execution_count": 139,
   "metadata": {},
   "outputs": [
    {
     "name": "stdout",
     "output_type": "stream",
     "text": [
      "Cross-validation scores:\n",
      "[0.7850203  0.79793215 0.78109303 0.79162462 0.80983747 0.76740216]\n",
      "0.788818287705111\n"
     ]
    }
   ],
   "source": [
    "from sklearn.model_selection import KFold\n",
    "from sklearn.model_selection import cross_val_score\n",
    "\n",
    "  \n",
    "kfold = KFold(n_splits=6)\n",
    "print(\"Cross-validation scores:\\n{}\".format(cross_val_score(pol_reg_model , Xpol, y_train, cv=kfold)))\n",
    "vals = cross_val_score(pol_reg_model , Xpol, y_train, cv=kfold)\n",
    "print(np.mean(vals))"
   ]
  },
  {
   "cell_type": "code",
   "execution_count": 140,
   "metadata": {},
   "outputs": [
    {
     "data": {
      "text/html": [
       "<div>\n",
       "<style scoped>\n",
       "    .dataframe tbody tr th:only-of-type {\n",
       "        vertical-align: middle;\n",
       "    }\n",
       "\n",
       "    .dataframe tbody tr th {\n",
       "        vertical-align: top;\n",
       "    }\n",
       "\n",
       "    .dataframe thead th {\n",
       "        text-align: right;\n",
       "    }\n",
       "</style>\n",
       "<table border=\"1\" class=\"dataframe\">\n",
       "  <thead>\n",
       "    <tr style=\"text-align: right;\">\n",
       "      <th></th>\n",
       "      <th>mean_fit_time</th>\n",
       "      <th>std_fit_time</th>\n",
       "      <th>mean_score_time</th>\n",
       "      <th>std_score_time</th>\n",
       "      <th>param_polynomialfeatures__degree</th>\n",
       "      <th>params</th>\n",
       "      <th>split0_test_score</th>\n",
       "      <th>split1_test_score</th>\n",
       "      <th>split2_test_score</th>\n",
       "      <th>split3_test_score</th>\n",
       "      <th>...</th>\n",
       "      <th>mean_test_score</th>\n",
       "      <th>std_test_score</th>\n",
       "      <th>rank_test_score</th>\n",
       "      <th>split0_train_score</th>\n",
       "      <th>split1_train_score</th>\n",
       "      <th>split2_train_score</th>\n",
       "      <th>split3_train_score</th>\n",
       "      <th>split4_train_score</th>\n",
       "      <th>mean_train_score</th>\n",
       "      <th>std_train_score</th>\n",
       "    </tr>\n",
       "  </thead>\n",
       "  <tbody>\n",
       "    <tr>\n",
       "      <th>0</th>\n",
       "      <td>0.009372</td>\n",
       "      <td>0.007653</td>\n",
       "      <td>0.000000</td>\n",
       "      <td>0.000000</td>\n",
       "      <td>0</td>\n",
       "      <td>{'polynomialfeatures__degree': 0}</td>\n",
       "      <td>NaN</td>\n",
       "      <td>NaN</td>\n",
       "      <td>NaN</td>\n",
       "      <td>NaN</td>\n",
       "      <td>...</td>\n",
       "      <td>NaN</td>\n",
       "      <td>NaN</td>\n",
       "      <td>3</td>\n",
       "      <td>NaN</td>\n",
       "      <td>NaN</td>\n",
       "      <td>NaN</td>\n",
       "      <td>NaN</td>\n",
       "      <td>NaN</td>\n",
       "      <td>NaN</td>\n",
       "      <td>NaN</td>\n",
       "    </tr>\n",
       "    <tr>\n",
       "      <th>1</th>\n",
       "      <td>0.037493</td>\n",
       "      <td>0.007653</td>\n",
       "      <td>0.003124</td>\n",
       "      <td>0.006248</td>\n",
       "      <td>1</td>\n",
       "      <td>{'polynomialfeatures__degree': 1}</td>\n",
       "      <td>0.711763</td>\n",
       "      <td>0.705579</td>\n",
       "      <td>0.714665</td>\n",
       "      <td>0.696599</td>\n",
       "      <td>...</td>\n",
       "      <td>0.704393</td>\n",
       "      <td>0.008292</td>\n",
       "      <td>2</td>\n",
       "      <td>0.705423</td>\n",
       "      <td>0.707091</td>\n",
       "      <td>0.704962</td>\n",
       "      <td>0.709036</td>\n",
       "      <td>0.710212</td>\n",
       "      <td>0.707345</td>\n",
       "      <td>0.002026</td>\n",
       "    </tr>\n",
       "    <tr>\n",
       "      <th>2</th>\n",
       "      <td>1.175804</td>\n",
       "      <td>0.035344</td>\n",
       "      <td>0.028324</td>\n",
       "      <td>0.005697</td>\n",
       "      <td>2</td>\n",
       "      <td>{'polynomialfeatures__degree': 2}</td>\n",
       "      <td>0.786826</td>\n",
       "      <td>0.790953</td>\n",
       "      <td>0.789973</td>\n",
       "      <td>0.811592</td>\n",
       "      <td>...</td>\n",
       "      <td>0.791462</td>\n",
       "      <td>0.011057</td>\n",
       "      <td>1</td>\n",
       "      <td>0.832264</td>\n",
       "      <td>0.832408</td>\n",
       "      <td>0.832170</td>\n",
       "      <td>0.824759</td>\n",
       "      <td>0.833153</td>\n",
       "      <td>0.830951</td>\n",
       "      <td>0.003115</td>\n",
       "    </tr>\n",
       "  </tbody>\n",
       "</table>\n",
       "<p>3 rows × 21 columns</p>\n",
       "</div>"
      ],
      "text/plain": [
       "   mean_fit_time  std_fit_time  mean_score_time  std_score_time  \\\n",
       "0       0.009372      0.007653         0.000000        0.000000   \n",
       "1       0.037493      0.007653         0.003124        0.006248   \n",
       "2       1.175804      0.035344         0.028324        0.005697   \n",
       "\n",
       "  param_polynomialfeatures__degree                             params  \\\n",
       "0                                0  {'polynomialfeatures__degree': 0}   \n",
       "1                                1  {'polynomialfeatures__degree': 1}   \n",
       "2                                2  {'polynomialfeatures__degree': 2}   \n",
       "\n",
       "   split0_test_score  split1_test_score  split2_test_score  split3_test_score  \\\n",
       "0                NaN                NaN                NaN                NaN   \n",
       "1           0.711763           0.705579           0.714665           0.696599   \n",
       "2           0.786826           0.790953           0.789973           0.811592   \n",
       "\n",
       "   ...  mean_test_score  std_test_score  rank_test_score  split0_train_score  \\\n",
       "0  ...              NaN             NaN                3                 NaN   \n",
       "1  ...         0.704393        0.008292                2            0.705423   \n",
       "2  ...         0.791462        0.011057                1            0.832264   \n",
       "\n",
       "   split1_train_score  split2_train_score  split3_train_score  \\\n",
       "0                 NaN                 NaN                 NaN   \n",
       "1            0.707091            0.704962            0.709036   \n",
       "2            0.832408            0.832170            0.824759   \n",
       "\n",
       "   split4_train_score  mean_train_score  std_train_score  \n",
       "0                 NaN               NaN              NaN  \n",
       "1            0.710212          0.707345         0.002026  \n",
       "2            0.833153          0.830951         0.003115  \n",
       "\n",
       "[3 rows x 21 columns]"
      ]
     },
     "execution_count": 140,
     "metadata": {},
     "output_type": "execute_result"
    }
   ],
   "source": [
    "output_poly = pd.DataFrame(grid_search_poly.cv_results_)\n",
    "output_poly"
   ]
  },
  {
   "cell_type": "code",
   "execution_count": 141,
   "metadata": {},
   "outputs": [
    {
     "data": {
      "text/plain": [
       "[<matplotlib.lines.Line2D at 0x21e0f255ba8>]"
      ]
     },
     "execution_count": 141,
     "metadata": {},
     "output_type": "execute_result"
    },
    {
     "data": {
      "text/plain": [
       "[<matplotlib.lines.Line2D at 0x21e0f255f60>]"
      ]
     },
     "execution_count": 141,
     "metadata": {},
     "output_type": "execute_result"
    },
    {
     "data": {
      "text/plain": [
       "([<matplotlib.axis.XTick at 0x21e0f23c208>,\n",
       "  <matplotlib.axis.XTick at 0x21e0f180898>,\n",
       "  <matplotlib.axis.XTick at 0x21e0f19fb70>],\n",
       " <a list of 3 Text xticklabel objects>)"
      ]
     },
     "execution_count": 141,
     "metadata": {},
     "output_type": "execute_result"
    },
    {
     "data": {
      "text/plain": [
       "[<matplotlib.lines.Line2D at 0x21e0f264358>]"
      ]
     },
     "execution_count": 141,
     "metadata": {},
     "output_type": "execute_result"
    },
    {
     "data": {
      "text/plain": [
       "[<matplotlib.lines.Line2D at 0x21e0f264320>]"
      ]
     },
     "execution_count": 141,
     "metadata": {},
     "output_type": "execute_result"
    },
    {
     "data": {
      "text/plain": [
       "Text(0.5, 0, 'Degree')"
      ]
     },
     "execution_count": 141,
     "metadata": {},
     "output_type": "execute_result"
    },
    {
     "data": {
      "text/plain": [
       "<matplotlib.legend.Legend at 0x21e0f264e10>"
      ]
     },
     "execution_count": 141,
     "metadata": {},
     "output_type": "execute_result"
    },
    {
     "data": {
      "image/png": "[encoded data removed]",
      "text/plain": [
       "<Figure size 432x288 with 1 Axes>"
      ]
     },
     "metadata": {
      "needs_background": "light"
     },
     "output_type": "display_data"
    }
   ],
   "source": [
    "plt.plot(range(output_poly.shape[0]), output_poly['mean_train_score'], label = 'mean train score')\n",
    "plt.plot(range(output_poly.shape[0]), output_poly['mean_test_score'], label = 'mean test score')\n",
    "plt.xticks(range(output_poly.shape[0]), output_poly['param_polynomialfeatures__degree'], rotation = 90)\n",
    "plt.plot([grid_search_poly.best_index_], output_poly['mean_train_score'][grid_search_poly.best_index_], 'o', markersize = 10, fillstyle = \"none\")\n",
    "plt.plot([grid_search_poly.best_index_], output_poly['mean_test_score'][grid_search_poly.best_index_], 'o', markersize = 10, fillstyle = \"none\")\n",
    "plt.grid()\n",
    "plt.xlabel('Degree')\n",
    "plt.legend()"
   ]
  },
  {
   "cell_type": "markdown",
   "metadata": {},
   "source": [
    "Polynominal Regression Result:\n",
    "Best parameters: {'polynomialfeatures__degree': 2}\n",
    "Average Cross validation score: 0.7888\n",
    "Test score: 0.7942"
   ]
  },
  {
   "cell_type": "markdown",
   "metadata": {},
   "source": [
    "# Linear SVR (Simple)"
   ]
  },
  {
   "cell_type": "code",
   "execution_count": 142,
   "metadata": {},
   "outputs": [],
   "source": [
    "svrl_parms = {'C': [0.01, 0.1, 1, 10, 100], 'epsilon' : [0.01, 0.1, 1, 10, 100]}"
   ]
  },
  {
   "cell_type": "code",
   "execution_count": 143,
   "metadata": {},
   "outputs": [],
   "source": [
    "linearsvr = LinearSVR()\n",
    "grid_search_svrl = GridSearchCV(estimator = linearsvr,param_grid = svrl_parms,return_train_score=True,n_jobs= -1,cv=10)"
   ]
  },
  {
   "cell_type": "code",
   "execution_count": 144,
   "metadata": {},
   "outputs": [
    {
     "data": {
      "text/plain": [
       "GridSearchCV(cv=10, error_score=nan,\n",
       "             estimator=LinearSVR(C=1.0, dual=True, epsilon=0.0,\n",
       "                                 fit_intercept=True, intercept_scaling=1.0,\n",
       "                                 loss='epsilon_insensitive', max_iter=1000,\n",
       "                                 random_state=None, tol=0.0001, verbose=0),\n",
       "             iid='deprecated', n_jobs=-1,\n",
       "             param_grid={'C': [0.01, 0.1, 1, 10, 100],\n",
       "                         'epsilon': [0.01, 0.1, 1, 10, 100]},\n",
       "             pre_dispatch='2*n_jobs', refit=True, return_train_score=True,\n",
       "             scoring=None, verbose=0)"
      ]
     },
     "execution_count": 144,
     "metadata": {},
     "output_type": "execute_result"
    }
   ],
   "source": [
    "grid_search_svrl.fit(X_train_scale,y_train)"
   ]
  },
  {
   "cell_type": "code",
   "execution_count": 145,
   "metadata": {},
   "outputs": [
    {
     "name": "stdout",
     "output_type": "stream",
     "text": [
      "Best parameters: {'C': 100, 'epsilon': 0.1}\n",
      "Best cross-validation score: 0.5549\n"
     ]
    }
   ],
   "source": [
    "print(\"Best parameters: {}\".format(grid_search_svrl.best_params_))\n",
    "print(\"Best cross-validation score: {:.4f}\".format(grid_search_svrl.best_score_))"
   ]
  },
  {
   "cell_type": "code",
   "execution_count": 146,
   "metadata": {},
   "outputs": [
    {
     "data": {
      "text/plain": [
       "LinearSVR(C=100, dual=True, epsilon=0.1, fit_intercept=True,\n",
       "          intercept_scaling=1.0, loss='epsilon_insensitive', max_iter=1000,\n",
       "          random_state=None, tol=0.0001, verbose=0)"
      ]
     },
     "execution_count": 146,
     "metadata": {},
     "output_type": "execute_result"
    },
    {
     "name": "stdout",
     "output_type": "stream",
     "text": [
      "0.5676317761066476\n",
      "0.5714652665419389\n"
     ]
    }
   ],
   "source": [
    "lsvr_model = LinearSVR(C = 100, epsilon = 0.1)\n",
    "        \n",
    "lsvr_model.fit(X_train_scale, y_train)\n",
    "\n",
    "print(lsvr_model.score(X_train_scale, y_train))\n",
    "print(lsvr_model.score(X_test_scale, y_test))"
   ]
  },
  {
   "cell_type": "code",
   "execution_count": 148,
   "metadata": {},
   "outputs": [
    {
     "name": "stdout",
     "output_type": "stream",
     "text": [
      "Cross-validation scores:\n",
      "[0.54368223 0.57164709 0.56384241 0.55521531 0.584932   0.58348162\n",
      " 0.55699917 0.51826272 0.52211922 0.54876867]\n",
      "0.555007846029784\n"
     ]
    }
   ],
   "source": [
    "from sklearn.model_selection import KFold\n",
    "from sklearn.model_selection import cross_val_score\n",
    "\n",
    "  \n",
    "kfold = KFold(n_splits=10)\n",
    "print(\"Cross-validation scores:\\n{}\".format(cross_val_score(lsvr_model , X_train_scale, y_train, cv=kfold)))\n",
    "vals = cross_val_score(lsvr_model, X_train_scale, y_train, cv=kfold)\n",
    "print(np.mean(vals))"
   ]
  },
  {
   "cell_type": "code",
   "execution_count": 149,
   "metadata": {},
   "outputs": [
    {
     "data": {
      "text/html": [
       "<div>\n",
       "<style scoped>\n",
       "    .dataframe tbody tr th:only-of-type {\n",
       "        vertical-align: middle;\n",
       "    }\n",
       "\n",
       "    .dataframe tbody tr th {\n",
       "        vertical-align: top;\n",
       "    }\n",
       "\n",
       "    .dataframe thead th {\n",
       "        text-align: right;\n",
       "    }\n",
       "</style>\n",
       "<table border=\"1\" class=\"dataframe\">\n",
       "  <thead>\n",
       "    <tr style=\"text-align: right;\">\n",
       "      <th></th>\n",
       "      <th>mean_fit_time</th>\n",
       "      <th>std_fit_time</th>\n",
       "      <th>mean_score_time</th>\n",
       "      <th>std_score_time</th>\n",
       "      <th>param_C</th>\n",
       "      <th>param_epsilon</th>\n",
       "      <th>params</th>\n",
       "      <th>split0_test_score</th>\n",
       "      <th>split1_test_score</th>\n",
       "      <th>split2_test_score</th>\n",
       "      <th>...</th>\n",
       "      <th>split2_train_score</th>\n",
       "      <th>split3_train_score</th>\n",
       "      <th>split4_train_score</th>\n",
       "      <th>split5_train_score</th>\n",
       "      <th>split6_train_score</th>\n",
       "      <th>split7_train_score</th>\n",
       "      <th>split8_train_score</th>\n",
       "      <th>split9_train_score</th>\n",
       "      <th>mean_train_score</th>\n",
       "      <th>std_train_score</th>\n",
       "    </tr>\n",
       "  </thead>\n",
       "  <tbody>\n",
       "    <tr>\n",
       "      <th>0</th>\n",
       "      <td>0.026826</td>\n",
       "      <td>0.001923</td>\n",
       "      <td>0.000997</td>\n",
       "      <td>1.337909e-06</td>\n",
       "      <td>0.01</td>\n",
       "      <td>0.01</td>\n",
       "      <td>{'C': 0.01, 'epsilon': 0.01}</td>\n",
       "      <td>-1.972890</td>\n",
       "      <td>-2.290680</td>\n",
       "      <td>-2.219066</td>\n",
       "      <td>...</td>\n",
       "      <td>-2.144307</td>\n",
       "      <td>-2.158298</td>\n",
       "      <td>-2.141810</td>\n",
       "      <td>-2.125369</td>\n",
       "      <td>-2.150347</td>\n",
       "      <td>-2.165854</td>\n",
       "      <td>-2.187593</td>\n",
       "      <td>-2.132913</td>\n",
       "      <td>-2.151607</td>\n",
       "      <td>0.018454</td>\n",
       "    </tr>\n",
       "    <tr>\n",
       "      <th>1</th>\n",
       "      <td>0.027129</td>\n",
       "      <td>0.002266</td>\n",
       "      <td>0.001197</td>\n",
       "      <td>3.982206e-04</td>\n",
       "      <td>0.01</td>\n",
       "      <td>0.1</td>\n",
       "      <td>{'C': 0.01, 'epsilon': 0.1}</td>\n",
       "      <td>-1.972890</td>\n",
       "      <td>-2.290680</td>\n",
       "      <td>-2.219066</td>\n",
       "      <td>...</td>\n",
       "      <td>-2.144307</td>\n",
       "      <td>-2.158298</td>\n",
       "      <td>-2.141810</td>\n",
       "      <td>-2.125369</td>\n",
       "      <td>-2.150347</td>\n",
       "      <td>-2.165854</td>\n",
       "      <td>-2.187593</td>\n",
       "      <td>-2.132913</td>\n",
       "      <td>-2.151607</td>\n",
       "      <td>0.018454</td>\n",
       "    </tr>\n",
       "    <tr>\n",
       "      <th>2</th>\n",
       "      <td>0.030419</td>\n",
       "      <td>0.007195</td>\n",
       "      <td>0.003490</td>\n",
       "      <td>7.818067e-03</td>\n",
       "      <td>0.01</td>\n",
       "      <td>1</td>\n",
       "      <td>{'C': 0.01, 'epsilon': 1}</td>\n",
       "      <td>-1.972890</td>\n",
       "      <td>-2.290680</td>\n",
       "      <td>-2.219066</td>\n",
       "      <td>...</td>\n",
       "      <td>-2.144307</td>\n",
       "      <td>-2.158298</td>\n",
       "      <td>-2.141810</td>\n",
       "      <td>-2.125369</td>\n",
       "      <td>-2.150347</td>\n",
       "      <td>-2.165854</td>\n",
       "      <td>-2.187593</td>\n",
       "      <td>-2.132913</td>\n",
       "      <td>-2.151607</td>\n",
       "      <td>0.018454</td>\n",
       "    </tr>\n",
       "    <tr>\n",
       "      <th>3</th>\n",
       "      <td>0.038697</td>\n",
       "      <td>0.017030</td>\n",
       "      <td>0.000997</td>\n",
       "      <td>8.743821e-07</td>\n",
       "      <td>0.01</td>\n",
       "      <td>10</td>\n",
       "      <td>{'C': 0.01, 'epsilon': 10}</td>\n",
       "      <td>-1.972890</td>\n",
       "      <td>-2.290680</td>\n",
       "      <td>-2.219066</td>\n",
       "      <td>...</td>\n",
       "      <td>-2.144307</td>\n",
       "      <td>-2.158298</td>\n",
       "      <td>-2.141810</td>\n",
       "      <td>-2.125369</td>\n",
       "      <td>-2.150347</td>\n",
       "      <td>-2.165854</td>\n",
       "      <td>-2.187593</td>\n",
       "      <td>-2.132913</td>\n",
       "      <td>-2.151607</td>\n",
       "      <td>0.018454</td>\n",
       "    </tr>\n",
       "    <tr>\n",
       "      <th>4</th>\n",
       "      <td>0.030418</td>\n",
       "      <td>0.007291</td>\n",
       "      <td>0.004289</td>\n",
       "      <td>9.546352e-03</td>\n",
       "      <td>0.01</td>\n",
       "      <td>100</td>\n",
       "      <td>{'C': 0.01, 'epsilon': 100}</td>\n",
       "      <td>-1.972890</td>\n",
       "      <td>-2.290680</td>\n",
       "      <td>-2.219066</td>\n",
       "      <td>...</td>\n",
       "      <td>-2.144307</td>\n",
       "      <td>-2.158298</td>\n",
       "      <td>-2.141810</td>\n",
       "      <td>-2.125369</td>\n",
       "      <td>-2.150347</td>\n",
       "      <td>-2.165854</td>\n",
       "      <td>-2.187593</td>\n",
       "      <td>-2.132913</td>\n",
       "      <td>-2.151607</td>\n",
       "      <td>0.018454</td>\n",
       "    </tr>\n",
       "    <tr>\n",
       "      <th>5</th>\n",
       "      <td>0.033112</td>\n",
       "      <td>0.010721</td>\n",
       "      <td>0.001197</td>\n",
       "      <td>3.985775e-04</td>\n",
       "      <td>0.1</td>\n",
       "      <td>0.01</td>\n",
       "      <td>{'C': 0.1, 'epsilon': 0.01}</td>\n",
       "      <td>-1.964194</td>\n",
       "      <td>-2.280832</td>\n",
       "      <td>-2.209328</td>\n",
       "      <td>...</td>\n",
       "      <td>-2.134949</td>\n",
       "      <td>-2.148911</td>\n",
       "      <td>-2.132455</td>\n",
       "      <td>-2.116149</td>\n",
       "      <td>-2.140916</td>\n",
       "      <td>-2.156418</td>\n",
       "      <td>-2.178057</td>\n",
       "      <td>-2.123570</td>\n",
       "      <td>-2.142217</td>\n",
       "      <td>0.018374</td>\n",
       "    </tr>\n",
       "    <tr>\n",
       "      <th>6</th>\n",
       "      <td>0.028225</td>\n",
       "      <td>0.006084</td>\n",
       "      <td>0.001595</td>\n",
       "      <td>1.492824e-03</td>\n",
       "      <td>0.1</td>\n",
       "      <td>0.1</td>\n",
       "      <td>{'C': 0.1, 'epsilon': 0.1}</td>\n",
       "      <td>-1.964194</td>\n",
       "      <td>-2.280832</td>\n",
       "      <td>-2.209328</td>\n",
       "      <td>...</td>\n",
       "      <td>-2.134949</td>\n",
       "      <td>-2.148911</td>\n",
       "      <td>-2.132455</td>\n",
       "      <td>-2.116149</td>\n",
       "      <td>-2.140916</td>\n",
       "      <td>-2.156418</td>\n",
       "      <td>-2.178057</td>\n",
       "      <td>-2.123570</td>\n",
       "      <td>-2.142217</td>\n",
       "      <td>0.018374</td>\n",
       "    </tr>\n",
       "    <tr>\n",
       "      <th>7</th>\n",
       "      <td>0.033510</td>\n",
       "      <td>0.005430</td>\n",
       "      <td>0.001198</td>\n",
       "      <td>3.992925e-04</td>\n",
       "      <td>0.1</td>\n",
       "      <td>1</td>\n",
       "      <td>{'C': 0.1, 'epsilon': 1}</td>\n",
       "      <td>-1.964194</td>\n",
       "      <td>-2.280832</td>\n",
       "      <td>-2.209328</td>\n",
       "      <td>...</td>\n",
       "      <td>-2.134949</td>\n",
       "      <td>-2.148911</td>\n",
       "      <td>-2.132455</td>\n",
       "      <td>-2.116149</td>\n",
       "      <td>-2.140916</td>\n",
       "      <td>-2.156418</td>\n",
       "      <td>-2.178057</td>\n",
       "      <td>-2.123570</td>\n",
       "      <td>-2.142217</td>\n",
       "      <td>0.018374</td>\n",
       "    </tr>\n",
       "    <tr>\n",
       "      <th>8</th>\n",
       "      <td>0.031016</td>\n",
       "      <td>0.005890</td>\n",
       "      <td>0.001397</td>\n",
       "      <td>4.880432e-04</td>\n",
       "      <td>0.1</td>\n",
       "      <td>10</td>\n",
       "      <td>{'C': 0.1, 'epsilon': 10}</td>\n",
       "      <td>-1.964194</td>\n",
       "      <td>-2.280832</td>\n",
       "      <td>-2.209328</td>\n",
       "      <td>...</td>\n",
       "      <td>-2.134949</td>\n",
       "      <td>-2.148911</td>\n",
       "      <td>-2.132455</td>\n",
       "      <td>-2.116149</td>\n",
       "      <td>-2.140916</td>\n",
       "      <td>-2.156418</td>\n",
       "      <td>-2.178057</td>\n",
       "      <td>-2.123570</td>\n",
       "      <td>-2.142217</td>\n",
       "      <td>0.018374</td>\n",
       "    </tr>\n",
       "    <tr>\n",
       "      <th>9</th>\n",
       "      <td>0.030817</td>\n",
       "      <td>0.004645</td>\n",
       "      <td>0.001197</td>\n",
       "      <td>3.987565e-04</td>\n",
       "      <td>0.1</td>\n",
       "      <td>100</td>\n",
       "      <td>{'C': 0.1, 'epsilon': 100}</td>\n",
       "      <td>-1.964194</td>\n",
       "      <td>-2.280832</td>\n",
       "      <td>-2.209328</td>\n",
       "      <td>...</td>\n",
       "      <td>-2.134949</td>\n",
       "      <td>-2.148911</td>\n",
       "      <td>-2.132455</td>\n",
       "      <td>-2.116149</td>\n",
       "      <td>-2.140916</td>\n",
       "      <td>-2.156418</td>\n",
       "      <td>-2.178057</td>\n",
       "      <td>-2.123570</td>\n",
       "      <td>-2.142217</td>\n",
       "      <td>0.018374</td>\n",
       "    </tr>\n",
       "    <tr>\n",
       "      <th>10</th>\n",
       "      <td>0.031216</td>\n",
       "      <td>0.005695</td>\n",
       "      <td>0.001196</td>\n",
       "      <td>3.985422e-04</td>\n",
       "      <td>1</td>\n",
       "      <td>0.01</td>\n",
       "      <td>{'C': 1, 'epsilon': 0.01}</td>\n",
       "      <td>-1.878278</td>\n",
       "      <td>-2.183521</td>\n",
       "      <td>-2.113123</td>\n",
       "      <td>...</td>\n",
       "      <td>-2.042493</td>\n",
       "      <td>-2.056175</td>\n",
       "      <td>-2.040027</td>\n",
       "      <td>-2.025054</td>\n",
       "      <td>-2.047740</td>\n",
       "      <td>-2.063200</td>\n",
       "      <td>-2.083845</td>\n",
       "      <td>-2.031263</td>\n",
       "      <td>-2.049443</td>\n",
       "      <td>0.017578</td>\n",
       "    </tr>\n",
       "    <tr>\n",
       "      <th>11</th>\n",
       "      <td>0.034907</td>\n",
       "      <td>0.015119</td>\n",
       "      <td>0.001197</td>\n",
       "      <td>3.989706e-04</td>\n",
       "      <td>1</td>\n",
       "      <td>0.1</td>\n",
       "      <td>{'C': 1, 'epsilon': 0.1}</td>\n",
       "      <td>-1.878278</td>\n",
       "      <td>-2.183521</td>\n",
       "      <td>-2.113123</td>\n",
       "      <td>...</td>\n",
       "      <td>-2.042493</td>\n",
       "      <td>-2.056175</td>\n",
       "      <td>-2.040027</td>\n",
       "      <td>-2.025054</td>\n",
       "      <td>-2.047740</td>\n",
       "      <td>-2.063200</td>\n",
       "      <td>-2.083845</td>\n",
       "      <td>-2.031263</td>\n",
       "      <td>-2.049443</td>\n",
       "      <td>0.017578</td>\n",
       "    </tr>\n",
       "    <tr>\n",
       "      <th>12</th>\n",
       "      <td>0.030218</td>\n",
       "      <td>0.008249</td>\n",
       "      <td>0.001198</td>\n",
       "      <td>3.988156e-04</td>\n",
       "      <td>1</td>\n",
       "      <td>1</td>\n",
       "      <td>{'C': 1, 'epsilon': 1}</td>\n",
       "      <td>-1.878278</td>\n",
       "      <td>-2.183521</td>\n",
       "      <td>-2.113123</td>\n",
       "      <td>...</td>\n",
       "      <td>-2.042493</td>\n",
       "      <td>-2.056175</td>\n",
       "      <td>-2.040027</td>\n",
       "      <td>-2.025054</td>\n",
       "      <td>-2.047740</td>\n",
       "      <td>-2.063200</td>\n",
       "      <td>-2.083845</td>\n",
       "      <td>-2.031263</td>\n",
       "      <td>-2.049443</td>\n",
       "      <td>0.017578</td>\n",
       "    </tr>\n",
       "    <tr>\n",
       "      <th>13</th>\n",
       "      <td>0.030220</td>\n",
       "      <td>0.007356</td>\n",
       "      <td>0.001296</td>\n",
       "      <td>4.563633e-04</td>\n",
       "      <td>1</td>\n",
       "      <td>10</td>\n",
       "      <td>{'C': 1, 'epsilon': 10}</td>\n",
       "      <td>-1.878278</td>\n",
       "      <td>-2.183521</td>\n",
       "      <td>-2.113123</td>\n",
       "      <td>...</td>\n",
       "      <td>-2.042493</td>\n",
       "      <td>-2.056175</td>\n",
       "      <td>-2.040027</td>\n",
       "      <td>-2.025054</td>\n",
       "      <td>-2.047740</td>\n",
       "      <td>-2.063200</td>\n",
       "      <td>-2.083845</td>\n",
       "      <td>-2.031263</td>\n",
       "      <td>-2.049443</td>\n",
       "      <td>0.017578</td>\n",
       "    </tr>\n",
       "    <tr>\n",
       "      <th>14</th>\n",
       "      <td>0.031914</td>\n",
       "      <td>0.012679</td>\n",
       "      <td>0.000998</td>\n",
       "      <td>1.392046e-06</td>\n",
       "      <td>1</td>\n",
       "      <td>100</td>\n",
       "      <td>{'C': 1, 'epsilon': 100}</td>\n",
       "      <td>-1.878278</td>\n",
       "      <td>-2.183521</td>\n",
       "      <td>-2.113123</td>\n",
       "      <td>...</td>\n",
       "      <td>-2.042493</td>\n",
       "      <td>-2.056175</td>\n",
       "      <td>-2.040027</td>\n",
       "      <td>-2.025054</td>\n",
       "      <td>-2.047740</td>\n",
       "      <td>-2.063200</td>\n",
       "      <td>-2.083845</td>\n",
       "      <td>-2.031263</td>\n",
       "      <td>-2.049443</td>\n",
       "      <td>0.017578</td>\n",
       "    </tr>\n",
       "    <tr>\n",
       "      <th>15</th>\n",
       "      <td>0.041788</td>\n",
       "      <td>0.009476</td>\n",
       "      <td>0.001197</td>\n",
       "      <td>3.991986e-04</td>\n",
       "      <td>10</td>\n",
       "      <td>0.01</td>\n",
       "      <td>{'C': 10, 'epsilon': 0.01}</td>\n",
       "      <td>-1.104818</td>\n",
       "      <td>-1.306134</td>\n",
       "      <td>-1.246803</td>\n",
       "      <td>...</td>\n",
       "      <td>-1.209235</td>\n",
       "      <td>-1.221706</td>\n",
       "      <td>-1.209484</td>\n",
       "      <td>-1.204604</td>\n",
       "      <td>-1.211205</td>\n",
       "      <td>-1.225054</td>\n",
       "      <td>-1.237060</td>\n",
       "      <td>-1.201071</td>\n",
       "      <td>-1.214951</td>\n",
       "      <td>0.010953</td>\n",
       "    </tr>\n",
       "    <tr>\n",
       "      <th>16</th>\n",
       "      <td>0.035405</td>\n",
       "      <td>0.004330</td>\n",
       "      <td>0.000997</td>\n",
       "      <td>1.462732e-06</td>\n",
       "      <td>10</td>\n",
       "      <td>0.1</td>\n",
       "      <td>{'C': 10, 'epsilon': 0.1}</td>\n",
       "      <td>-1.105011</td>\n",
       "      <td>-1.306241</td>\n",
       "      <td>-1.248590</td>\n",
       "      <td>...</td>\n",
       "      <td>-1.210945</td>\n",
       "      <td>-1.221706</td>\n",
       "      <td>-1.208502</td>\n",
       "      <td>-1.204604</td>\n",
       "      <td>-1.211205</td>\n",
       "      <td>-1.225054</td>\n",
       "      <td>-1.235330</td>\n",
       "      <td>-1.198605</td>\n",
       "      <td>-1.214632</td>\n",
       "      <td>0.010940</td>\n",
       "    </tr>\n",
       "    <tr>\n",
       "      <th>17</th>\n",
       "      <td>0.043583</td>\n",
       "      <td>0.008864</td>\n",
       "      <td>0.001396</td>\n",
       "      <td>9.136507e-04</td>\n",
       "      <td>10</td>\n",
       "      <td>1</td>\n",
       "      <td>{'C': 10, 'epsilon': 1}</td>\n",
       "      <td>-1.104966</td>\n",
       "      <td>-1.304071</td>\n",
       "      <td>-1.247616</td>\n",
       "      <td>...</td>\n",
       "      <td>-1.210046</td>\n",
       "      <td>-1.221706</td>\n",
       "      <td>-1.209424</td>\n",
       "      <td>-1.203484</td>\n",
       "      <td>-1.211205</td>\n",
       "      <td>-1.224941</td>\n",
       "      <td>-1.235223</td>\n",
       "      <td>-1.200897</td>\n",
       "      <td>-1.214523</td>\n",
       "      <td>0.010874</td>\n",
       "    </tr>\n",
       "    <tr>\n",
       "      <th>18</th>\n",
       "      <td>0.037500</td>\n",
       "      <td>0.012069</td>\n",
       "      <td>0.001097</td>\n",
       "      <td>2.990259e-04</td>\n",
       "      <td>10</td>\n",
       "      <td>10</td>\n",
       "      <td>{'C': 10, 'epsilon': 10}</td>\n",
       "      <td>-1.102802</td>\n",
       "      <td>-1.306065</td>\n",
       "      <td>-1.248594</td>\n",
       "      <td>...</td>\n",
       "      <td>-1.210949</td>\n",
       "      <td>-1.221197</td>\n",
       "      <td>-1.209483</td>\n",
       "      <td>-1.204604</td>\n",
       "      <td>-1.210563</td>\n",
       "      <td>-1.225054</td>\n",
       "      <td>-1.234958</td>\n",
       "      <td>-1.198331</td>\n",
       "      <td>-1.214308</td>\n",
       "      <td>0.010668</td>\n",
       "    </tr>\n",
       "    <tr>\n",
       "      <th>19</th>\n",
       "      <td>0.039195</td>\n",
       "      <td>0.009793</td>\n",
       "      <td>0.001297</td>\n",
       "      <td>4.565878e-04</td>\n",
       "      <td>10</td>\n",
       "      <td>100</td>\n",
       "      <td>{'C': 10, 'epsilon': 100}</td>\n",
       "      <td>-1.105050</td>\n",
       "      <td>-1.306033</td>\n",
       "      <td>-1.248588</td>\n",
       "      <td>...</td>\n",
       "      <td>-1.210942</td>\n",
       "      <td>-1.221706</td>\n",
       "      <td>-1.207519</td>\n",
       "      <td>-1.204619</td>\n",
       "      <td>-1.209931</td>\n",
       "      <td>-1.224885</td>\n",
       "      <td>-1.237095</td>\n",
       "      <td>-1.200912</td>\n",
       "      <td>-1.214781</td>\n",
       "      <td>0.011082</td>\n",
       "    </tr>\n",
       "    <tr>\n",
       "      <th>20</th>\n",
       "      <td>0.054156</td>\n",
       "      <td>0.011407</td>\n",
       "      <td>0.001197</td>\n",
       "      <td>3.985173e-04</td>\n",
       "      <td>100</td>\n",
       "      <td>0.01</td>\n",
       "      <td>{'C': 100, 'epsilon': 0.01}</td>\n",
       "      <td>0.543519</td>\n",
       "      <td>0.571261</td>\n",
       "      <td>0.562956</td>\n",
       "      <td>...</td>\n",
       "      <td>0.553752</td>\n",
       "      <td>0.557863</td>\n",
       "      <td>0.551034</td>\n",
       "      <td>0.554094</td>\n",
       "      <td>0.552893</td>\n",
       "      <td>0.556961</td>\n",
       "      <td>0.557259</td>\n",
       "      <td>0.551895</td>\n",
       "      <td>0.554285</td>\n",
       "      <td>0.002785</td>\n",
       "    </tr>\n",
       "    <tr>\n",
       "      <th>21</th>\n",
       "      <td>0.047673</td>\n",
       "      <td>0.002308</td>\n",
       "      <td>0.001197</td>\n",
       "      <td>3.990657e-04</td>\n",
       "      <td>100</td>\n",
       "      <td>0.1</td>\n",
       "      <td>{'C': 100, 'epsilon': 0.1}</td>\n",
       "      <td>0.543982</td>\n",
       "      <td>0.571328</td>\n",
       "      <td>0.563383</td>\n",
       "      <td>...</td>\n",
       "      <td>0.554046</td>\n",
       "      <td>0.557258</td>\n",
       "      <td>0.551090</td>\n",
       "      <td>0.554091</td>\n",
       "      <td>0.553051</td>\n",
       "      <td>0.556233</td>\n",
       "      <td>0.557141</td>\n",
       "      <td>0.552683</td>\n",
       "      <td>0.554329</td>\n",
       "      <td>0.002604</td>\n",
       "    </tr>\n",
       "    <tr>\n",
       "      <th>22</th>\n",
       "      <td>0.050066</td>\n",
       "      <td>0.003302</td>\n",
       "      <td>0.000998</td>\n",
       "      <td>9.933790e-07</td>\n",
       "      <td>100</td>\n",
       "      <td>1</td>\n",
       "      <td>{'C': 100, 'epsilon': 1}</td>\n",
       "      <td>0.544102</td>\n",
       "      <td>0.571040</td>\n",
       "      <td>0.562635</td>\n",
       "      <td>...</td>\n",
       "      <td>0.553349</td>\n",
       "      <td>0.557740</td>\n",
       "      <td>0.550332</td>\n",
       "      <td>0.553740</td>\n",
       "      <td>0.552984</td>\n",
       "      <td>0.556536</td>\n",
       "      <td>0.557098</td>\n",
       "      <td>0.552547</td>\n",
       "      <td>0.554184</td>\n",
       "      <td>0.002858</td>\n",
       "    </tr>\n",
       "    <tr>\n",
       "      <th>23</th>\n",
       "      <td>0.050963</td>\n",
       "      <td>0.011172</td>\n",
       "      <td>0.001696</td>\n",
       "      <td>1.265612e-03</td>\n",
       "      <td>100</td>\n",
       "      <td>10</td>\n",
       "      <td>{'C': 100, 'epsilon': 10}</td>\n",
       "      <td>0.544083</td>\n",
       "      <td>0.571368</td>\n",
       "      <td>0.562766</td>\n",
       "      <td>...</td>\n",
       "      <td>0.553531</td>\n",
       "      <td>0.558278</td>\n",
       "      <td>0.551027</td>\n",
       "      <td>0.553341</td>\n",
       "      <td>0.553262</td>\n",
       "      <td>0.556396</td>\n",
       "      <td>0.557005</td>\n",
       "      <td>0.552416</td>\n",
       "      <td>0.554319</td>\n",
       "      <td>0.002774</td>\n",
       "    </tr>\n",
       "    <tr>\n",
       "      <th>24</th>\n",
       "      <td>0.058742</td>\n",
       "      <td>0.012251</td>\n",
       "      <td>0.001696</td>\n",
       "      <td>1.482641e-03</td>\n",
       "      <td>100</td>\n",
       "      <td>100</td>\n",
       "      <td>{'C': 100, 'epsilon': 100}</td>\n",
       "      <td>0.543404</td>\n",
       "      <td>0.571584</td>\n",
       "      <td>0.562717</td>\n",
       "      <td>...</td>\n",
       "      <td>0.553468</td>\n",
       "      <td>0.557640</td>\n",
       "      <td>0.550668</td>\n",
       "      <td>0.553194</td>\n",
       "      <td>0.552885</td>\n",
       "      <td>0.556427</td>\n",
       "      <td>0.557834</td>\n",
       "      <td>0.552186</td>\n",
       "      <td>0.554164</td>\n",
       "      <td>0.002757</td>\n",
       "    </tr>\n",
       "  </tbody>\n",
       "</table>\n",
       "<p>25 rows × 32 columns</p>\n",
       "</div>"
      ],
      "text/plain": [
       "    mean_fit_time  std_fit_time  mean_score_time  std_score_time param_C  \\\n",
       "0        0.026826      0.001923         0.000997    1.337909e-06    0.01   \n",
       "1        0.027129      0.002266         0.001197    3.982206e-04    0.01   \n",
       "2        0.030419      0.007195         0.003490    7.818067e-03    0.01   \n",
       "3        0.038697      0.017030         0.000997    8.743821e-07    0.01   \n",
       "4        0.030418      0.007291         0.004289    9.546352e-03    0.01   \n",
       "5        0.033112      0.010721         0.001197    3.985775e-04     0.1   \n",
       "6        0.028225      0.006084         0.001595    1.492824e-03     0.1   \n",
       "7        0.033510      0.005430         0.001198    3.992925e-04     0.1   \n",
       "8        0.031016      0.005890         0.001397    4.880432e-04     0.1   \n",
       "9        0.030817      0.004645         0.001197    3.987565e-04     0.1   \n",
       "10       0.031216      0.005695         0.001196    3.985422e-04       1   \n",
       "11       0.034907      0.015119         0.001197    3.989706e-04       1   \n",
       "12       0.030218      0.008249         0.001198    3.988156e-04       1   \n",
       "13       0.030220      0.007356         0.001296    4.563633e-04       1   \n",
       "14       0.031914      0.012679         0.000998    1.392046e-06       1   \n",
       "15       0.041788      0.009476         0.001197    3.991986e-04      10   \n",
       "16       0.035405      0.004330         0.000997    1.462732e-06      10   \n",
       "17       0.043583      0.008864         0.001396    9.136507e-04      10   \n",
       "18       0.037500      0.012069         0.001097    2.990259e-04      10   \n",
       "19       0.039195      0.009793         0.001297    4.565878e-04      10   \n",
       "20       0.054156      0.011407         0.001197    3.985173e-04     100   \n",
       "21       0.047673      0.002308         0.001197    3.990657e-04     100   \n",
       "22       0.050066      0.003302         0.000998    9.933790e-07     100   \n",
       "23       0.050963      0.011172         0.001696    1.265612e-03     100   \n",
       "24       0.058742      0.012251         0.001696    1.482641e-03     100   \n",
       "\n",
       "   param_epsilon                        params  split0_test_score  \\\n",
       "0           0.01  {'C': 0.01, 'epsilon': 0.01}          -1.972890   \n",
       "1            0.1   {'C': 0.01, 'epsilon': 0.1}          -1.972890   \n",
       "2              1     {'C': 0.01, 'epsilon': 1}          -1.972890   \n",
       "3             10    {'C': 0.01, 'epsilon': 10}          -1.972890   \n",
       "4            100   {'C': 0.01, 'epsilon': 100}          -1.972890   \n",
       "5           0.01   {'C': 0.1, 'epsilon': 0.01}          -1.964194   \n",
       "6            0.1    {'C': 0.1, 'epsilon': 0.1}          -1.964194   \n",
       "7              1      {'C': 0.1, 'epsilon': 1}          -1.964194   \n",
       "8             10     {'C': 0.1, 'epsilon': 10}          -1.964194   \n",
       "9            100    {'C': 0.1, 'epsilon': 100}          -1.964194   \n",
       "10          0.01     {'C': 1, 'epsilon': 0.01}          -1.878278   \n",
       "11           0.1      {'C': 1, 'epsilon': 0.1}          -1.878278   \n",
       "12             1        {'C': 1, 'epsilon': 1}          -1.878278   \n",
       "13            10       {'C': 1, 'epsilon': 10}          -1.878278   \n",
       "14           100      {'C': 1, 'epsilon': 100}          -1.878278   \n",
       "15          0.01    {'C': 10, 'epsilon': 0.01}          -1.104818   \n",
       "16           0.1     {'C': 10, 'epsilon': 0.1}          -1.105011   \n",
       "17             1       {'C': 10, 'epsilon': 1}          -1.104966   \n",
       "18            10      {'C': 10, 'epsilon': 10}          -1.102802   \n",
       "19           100     {'C': 10, 'epsilon': 100}          -1.105050   \n",
       "20          0.01   {'C': 100, 'epsilon': 0.01}           0.543519   \n",
       "21           0.1    {'C': 100, 'epsilon': 0.1}           0.543982   \n",
       "22             1      {'C': 100, 'epsilon': 1}           0.544102   \n",
       "23            10     {'C': 100, 'epsilon': 10}           0.544083   \n",
       "24           100    {'C': 100, 'epsilon': 100}           0.543404   \n",
       "\n",
       "    split1_test_score  split2_test_score  ...  split2_train_score  \\\n",
       "0           -2.290680          -2.219066  ...           -2.144307   \n",
       "1           -2.290680          -2.219066  ...           -2.144307   \n",
       "2           -2.290680          -2.219066  ...           -2.144307   \n",
       "3           -2.290680          -2.219066  ...           -2.144307   \n",
       "4           -2.290680          -2.219066  ...           -2.144307   \n",
       "5           -2.280832          -2.209328  ...           -2.134949   \n",
       "6           -2.280832          -2.209328  ...           -2.134949   \n",
       "7           -2.280832          -2.209328  ...           -2.134949   \n",
       "8           -2.280832          -2.209328  ...           -2.134949   \n",
       "9           -2.280832          -2.209328  ...           -2.134949   \n",
       "10          -2.183521          -2.113123  ...           -2.042493   \n",
       "11          -2.183521          -2.113123  ...           -2.042493   \n",
       "12          -2.183521          -2.113123  ...           -2.042493   \n",
       "13          -2.183521          -2.113123  ...           -2.042493   \n",
       "14          -2.183521          -2.113123  ...           -2.042493   \n",
       "15          -1.306134          -1.246803  ...           -1.209235   \n",
       "16          -1.306241          -1.248590  ...           -1.210945   \n",
       "17          -1.304071          -1.247616  ...           -1.210046   \n",
       "18          -1.306065          -1.248594  ...           -1.210949   \n",
       "19          -1.306033          -1.248588  ...           -1.210942   \n",
       "20           0.571261           0.562956  ...            0.553752   \n",
       "21           0.571328           0.563383  ...            0.554046   \n",
       "22           0.571040           0.562635  ...            0.553349   \n",
       "23           0.571368           0.562766  ...            0.553531   \n",
       "24           0.571584           0.562717  ...            0.553468   \n",
       "\n",
       "    split3_train_score  split4_train_score  split5_train_score  \\\n",
       "0            -2.158298           -2.141810           -2.125369   \n",
       "1            -2.158298           -2.141810           -2.125369   \n",
       "2            -2.158298           -2.141810           -2.125369   \n",
       "3            -2.158298           -2.141810           -2.125369   \n",
       "4            -2.158298           -2.141810           -2.125369   \n",
       "5            -2.148911           -2.132455           -2.116149   \n",
       "6            -2.148911           -2.132455           -2.116149   \n",
       "7            -2.148911           -2.132455           -2.116149   \n",
       "8            -2.148911           -2.132455           -2.116149   \n",
       "9            -2.148911           -2.132455           -2.116149   \n",
       "10           -2.056175           -2.040027           -2.025054   \n",
       "11           -2.056175           -2.040027           -2.025054   \n",
       "12           -2.056175           -2.040027           -2.025054   \n",
       "13           -2.056175           -2.040027           -2.025054   \n",
       "14           -2.056175           -2.040027           -2.025054   \n",
       "15           -1.221706           -1.209484           -1.204604   \n",
       "16           -1.221706           -1.208502           -1.204604   \n",
       "17           -1.221706           -1.209424           -1.203484   \n",
       "18           -1.221197           -1.209483           -1.204604   \n",
       "19           -1.221706           -1.207519           -1.204619   \n",
       "20            0.557863            0.551034            0.554094   \n",
       "21            0.557258            0.551090            0.554091   \n",
       "22            0.557740            0.550332            0.553740   \n",
       "23            0.558278            0.551027            0.553341   \n",
       "24            0.557640            0.550668            0.553194   \n",
       "\n",
       "    split6_train_score  split7_train_score  split8_train_score  \\\n",
       "0            -2.150347           -2.165854           -2.187593   \n",
       "1            -2.150347           -2.165854           -2.187593   \n",
       "2            -2.150347           -2.165854           -2.187593   \n",
       "3            -2.150347           -2.165854           -2.187593   \n",
       "4            -2.150347           -2.165854           -2.187593   \n",
       "5            -2.140916           -2.156418           -2.178057   \n",
       "6            -2.140916           -2.156418           -2.178057   \n",
       "7            -2.140916           -2.156418           -2.178057   \n",
       "8            -2.140916           -2.156418           -2.178057   \n",
       "9            -2.140916           -2.156418           -2.178057   \n",
       "10           -2.047740           -2.063200           -2.083845   \n",
       "11           -2.047740           -2.063200           -2.083845   \n",
       "12           -2.047740           -2.063200           -2.083845   \n",
       "13           -2.047740           -2.063200           -2.083845   \n",
       "14           -2.047740           -2.063200           -2.083845   \n",
       "15           -1.211205           -1.225054           -1.237060   \n",
       "16           -1.211205           -1.225054           -1.235330   \n",
       "17           -1.211205           -1.224941           -1.235223   \n",
       "18           -1.210563           -1.225054           -1.234958   \n",
       "19           -1.209931           -1.224885           -1.237095   \n",
       "20            0.552893            0.556961            0.557259   \n",
       "21            0.553051            0.556233            0.557141   \n",
       "22            0.552984            0.556536            0.557098   \n",
       "23            0.553262            0.556396            0.557005   \n",
       "24            0.552885            0.556427            0.557834   \n",
       "\n",
       "    split9_train_score  mean_train_score  std_train_score  \n",
       "0            -2.132913         -2.151607         0.018454  \n",
       "1            -2.132913         -2.151607         0.018454  \n",
       "2            -2.132913         -2.151607         0.018454  \n",
       "3            -2.132913         -2.151607         0.018454  \n",
       "4            -2.132913         -2.151607         0.018454  \n",
       "5            -2.123570         -2.142217         0.018374  \n",
       "6            -2.123570         -2.142217         0.018374  \n",
       "7            -2.123570         -2.142217         0.018374  \n",
       "8            -2.123570         -2.142217         0.018374  \n",
       "9            -2.123570         -2.142217         0.018374  \n",
       "10           -2.031263         -2.049443         0.017578  \n",
       "11           -2.031263         -2.049443         0.017578  \n",
       "12           -2.031263         -2.049443         0.017578  \n",
       "13           -2.031263         -2.049443         0.017578  \n",
       "14           -2.031263         -2.049443         0.017578  \n",
       "15           -1.201071         -1.214951         0.010953  \n",
       "16           -1.198605         -1.214632         0.010940  \n",
       "17           -1.200897         -1.214523         0.010874  \n",
       "18           -1.198331         -1.214308         0.010668  \n",
       "19           -1.200912         -1.214781         0.011082  \n",
       "20            0.551895          0.554285         0.002785  \n",
       "21            0.552683          0.554329         0.002604  \n",
       "22            0.552547          0.554184         0.002858  \n",
       "23            0.552416          0.554319         0.002774  \n",
       "24            0.552186          0.554164         0.002757  \n",
       "\n",
       "[25 rows x 32 columns]"
      ]
     },
     "execution_count": 149,
     "metadata": {},
     "output_type": "execute_result"
    }
   ],
   "source": [
    "output_linearsvr = pd.DataFrame(grid_search_svrl.cv_results_)\n",
    "output_linearsvr"
   ]
  },
  {
   "cell_type": "code",
   "execution_count": 150,
   "metadata": {},
   "outputs": [
    {
     "data": {
      "text/plain": [
       "[<matplotlib.lines.Line2D at 0x21e0f3fb828>]"
      ]
     },
     "execution_count": 150,
     "metadata": {},
     "output_type": "execute_result"
    },
    {
     "data": {
      "text/plain": [
       "[<matplotlib.lines.Line2D at 0x21e0f2d6780>]"
      ]
     },
     "execution_count": 150,
     "metadata": {},
     "output_type": "execute_result"
    },
    {
     "data": {
      "text/plain": [
       "([<matplotlib.axis.XTick at 0x21e0f3d2b70>,\n",
       "  <matplotlib.axis.XTick at 0x21e0f3d24a8>,\n",
       "  <matplotlib.axis.XTick at 0x21e0f3d2390>,\n",
       "  <matplotlib.axis.XTick at 0x21e0f4082b0>,\n",
       "  <matplotlib.axis.XTick at 0x21e0f408780>,\n",
       "  <matplotlib.axis.XTick at 0x21e0f408cf8>,\n",
       "  <matplotlib.axis.XTick at 0x21e0f4062b0>,\n",
       "  <matplotlib.axis.XTick at 0x21e0f406828>,\n",
       "  <matplotlib.axis.XTick at 0x21e0f406da0>,\n",
       "  <matplotlib.axis.XTick at 0x21e0f413358>,\n",
       "  <matplotlib.axis.XTick at 0x21e0f413898>,\n",
       "  <matplotlib.axis.XTick at 0x21e0f406e80>,\n",
       "  <matplotlib.axis.XTick at 0x21e0f408208>,\n",
       "  <matplotlib.axis.XTick at 0x21e0f413e80>,\n",
       "  <matplotlib.axis.XTick at 0x21e0f41a438>,\n",
       "  <matplotlib.axis.XTick at 0x21e0f41a9b0>,\n",
       "  <matplotlib.axis.XTick at 0x21e0f41af28>,\n",
       "  <matplotlib.axis.XTick at 0x21e0f4214e0>,\n",
       "  <matplotlib.axis.XTick at 0x21e0f421a58>,\n",
       "  <matplotlib.axis.XTick at 0x21e0f421ba8>,\n",
       "  <matplotlib.axis.XTick at 0x21e0f4215c0>,\n",
       "  <matplotlib.axis.XTick at 0x21e0f41a828>,\n",
       "  <matplotlib.axis.XTick at 0x21e0f427438>,\n",
       "  <matplotlib.axis.XTick at 0x21e0f427b00>,\n",
       "  <matplotlib.axis.XTick at 0x21e0f42d128>],\n",
       " <a list of 25 Text xticklabel objects>)"
      ]
     },
     "execution_count": 150,
     "metadata": {},
     "output_type": "execute_result"
    },
    {
     "data": {
      "text/plain": [
       "[<matplotlib.lines.Line2D at 0x21e0f3fbf28>]"
      ]
     },
     "execution_count": 150,
     "metadata": {},
     "output_type": "execute_result"
    },
    {
     "data": {
      "text/plain": [
       "[<matplotlib.lines.Line2D at 0x21e0f42d208>]"
      ]
     },
     "execution_count": 150,
     "metadata": {},
     "output_type": "execute_result"
    },
    {
     "data": {
      "text/plain": [
       "<matplotlib.legend.Legend at 0x21e0f430588>"
      ]
     },
     "execution_count": 150,
     "metadata": {},
     "output_type": "execute_result"
    },
    {
     "data": {
      "text/plain": [
       "Text(0.5, 0, 'Alpha')"
      ]
     },
     "execution_count": 150,
     "metadata": {},
     "output_type": "execute_result"
    },
    {
     "data": {
      "image/png": "[encoded data removed]",
      "text/plain": [
       "<Figure size 432x288 with 1 Axes>"
      ]
     },
     "metadata": {
      "needs_background": "light"
     },
     "output_type": "display_data"
    }
   ],
   "source": [
    "plt.plot(range(output_linearsvr.shape[0]), output_linearsvr['mean_train_score'], label = 'mean train score')\n",
    "plt.plot(range(output_linearsvr.shape[0]), output_linearsvr['mean_test_score'], label = 'mean test score')\n",
    "plt.xticks(range(output_linearsvr.shape[0]), output_linearsvr['param_C'], rotation = 90)\n",
    "plt.plot([grid_search_svrl.best_index_], output_linearsvr['mean_train_score'][grid_search_svrl.best_index_], 'o', markersize = 10, fillstyle = \"none\")\n",
    "plt.plot([grid_search_svrl.best_index_], output_linearsvr['mean_test_score'][grid_search_svrl.best_index_], 'o', markersize = 10, fillstyle = \"none\")\n",
    "plt.grid()\n",
    "plt.legend()\n",
    "plt.xlabel('Alpha')"
   ]
  },
  {
   "cell_type": "markdown",
   "metadata": {},
   "source": [
    "Linear (Simple) SVR Result:\n",
    "Best parameters: {'C': 100, 'epsilon': 0.1}\n",
    "Average Cross validation score: 0.5550\n",
    "Test score: 0.5714"
   ]
  },
  {
   "cell_type": "markdown",
   "metadata": {},
   "source": [
    "# SVR with kernel 'Linear'"
   ]
  },
  {
   "cell_type": "code",
   "execution_count": 151,
   "metadata": {},
   "outputs": [],
   "source": [
    "parms_linear = {'C': [0.01,0.1, 1, 10, 100]}"
   ]
  },
  {
   "cell_type": "code",
   "execution_count": 153,
   "metadata": {},
   "outputs": [],
   "source": [
    "svr_linear_model = SVR(kernel='linear')\n",
    "grid_svr = GridSearchCV(estimator = svr_linear_model,param_grid = parms_linear,return_train_score=True,n_jobs= -1,cv=6)"
   ]
  },
  {
   "cell_type": "code",
   "execution_count": 154,
   "metadata": {},
   "outputs": [
    {
     "data": {
      "text/plain": [
       "GridSearchCV(cv=6, error_score=nan,\n",
       "             estimator=SVR(C=1.0, cache_size=200, coef0=0.0, degree=3,\n",
       "                           epsilon=0.1, gamma='scale', kernel='linear',\n",
       "                           max_iter=-1, shrinking=True, tol=0.001,\n",
       "                           verbose=False),\n",
       "             iid='deprecated', n_jobs=-1,\n",
       "             param_grid={'C': [0.01, 0.1, 1, 10, 100]}, pre_dispatch='2*n_jobs',\n",
       "             refit=True, return_train_score=True, scoring=None, verbose=0)"
      ]
     },
     "execution_count": 154,
     "metadata": {},
     "output_type": "execute_result"
    }
   ],
   "source": [
    "grid_svr.fit(X_train_scale,y_train)"
   ]
  },
  {
   "cell_type": "code",
   "execution_count": 155,
   "metadata": {},
   "outputs": [
    {
     "name": "stdout",
     "output_type": "stream",
     "text": [
      "Best parameters: {'C': 100}\n",
      "Best cross-validation score: 0.6314\n"
     ]
    }
   ],
   "source": [
    "print(\"Best parameters: {}\".format(grid_svr.best_params_))\n",
    "print(\"Best cross-validation score: {:.4f}\".format(grid_svr.best_score_))"
   ]
  },
  {
   "cell_type": "code",
   "execution_count": 158,
   "metadata": {},
   "outputs": [
    {
     "data": {
      "text/plain": [
       "SVR(C=100, cache_size=200, coef0=0.0, degree=3, epsilon=0.1, gamma='scale',\n",
       "    kernel='linear', max_iter=-1, shrinking=True, tol=0.001, verbose=False)"
      ]
     },
     "execution_count": 158,
     "metadata": {},
     "output_type": "execute_result"
    },
    {
     "name": "stdout",
     "output_type": "stream",
     "text": [
      "0.6348328278540143\n",
      "0.6353844906334997\n"
     ]
    }
   ],
   "source": [
    "svr_model = SVR(kernel = 'linear',C = 100)\n",
    "        \n",
    "        #train the model\n",
    "svr_model.fit(X_train_scale, y_train)\n",
    "        \n",
    "        #evaluate the model\n",
    "print(svr_model.score(X_train_scale, y_train))\n",
    "print(svr_model.score(X_test_scale, y_test))"
   ]
  },
  {
   "cell_type": "code",
   "execution_count": 159,
   "metadata": {},
   "outputs": [
    {
     "name": "stdout",
     "output_type": "stream",
     "text": [
      "Cross-validation scores:\n",
      "[0.63422556 0.63669179 0.64669818 0.6479737  0.58166086 0.64105005]\n",
      "0.631383357184734\n"
     ]
    }
   ],
   "source": [
    "from sklearn.model_selection import KFold\n",
    "from sklearn.model_selection import cross_val_score\n",
    "\n",
    "kfold = KFold(n_splits=6)\n",
    "print(\"Cross-validation scores:\\n{}\".format(cross_val_score(svr_model , X_train_scale, y_train, cv=kfold)))\n",
    "vals = cross_val_score(svr_model , X_train_scale, y_train, cv=kfold)\n",
    "print(np.mean(vals))"
   ]
  },
  {
   "cell_type": "code",
   "execution_count": 160,
   "metadata": {},
   "outputs": [
    {
     "data": {
      "text/html": [
       "<div>\n",
       "<style scoped>\n",
       "    .dataframe tbody tr th:only-of-type {\n",
       "        vertical-align: middle;\n",
       "    }\n",
       "\n",
       "    .dataframe tbody tr th {\n",
       "        vertical-align: top;\n",
       "    }\n",
       "\n",
       "    .dataframe thead th {\n",
       "        text-align: right;\n",
       "    }\n",
       "</style>\n",
       "<table border=\"1\" class=\"dataframe\">\n",
       "  <thead>\n",
       "    <tr style=\"text-align: right;\">\n",
       "      <th></th>\n",
       "      <th>mean_fit_time</th>\n",
       "      <th>std_fit_time</th>\n",
       "      <th>mean_score_time</th>\n",
       "      <th>std_score_time</th>\n",
       "      <th>param_C</th>\n",
       "      <th>params</th>\n",
       "      <th>split0_test_score</th>\n",
       "      <th>split1_test_score</th>\n",
       "      <th>split2_test_score</th>\n",
       "      <th>split3_test_score</th>\n",
       "      <th>...</th>\n",
       "      <th>std_test_score</th>\n",
       "      <th>rank_test_score</th>\n",
       "      <th>split0_train_score</th>\n",
       "      <th>split1_train_score</th>\n",
       "      <th>split2_train_score</th>\n",
       "      <th>split3_train_score</th>\n",
       "      <th>split4_train_score</th>\n",
       "      <th>split5_train_score</th>\n",
       "      <th>mean_train_score</th>\n",
       "      <th>std_train_score</th>\n",
       "    </tr>\n",
       "  </thead>\n",
       "  <tbody>\n",
       "    <tr>\n",
       "      <th>0</th>\n",
       "      <td>16.255866</td>\n",
       "      <td>0.107221</td>\n",
       "      <td>1.939650</td>\n",
       "      <td>0.074600</td>\n",
       "      <td>0.01</td>\n",
       "      <td>{'C': 0.01}</td>\n",
       "      <td>-0.054742</td>\n",
       "      <td>-0.061662</td>\n",
       "      <td>-0.054574</td>\n",
       "      <td>-0.057759</td>\n",
       "      <td>...</td>\n",
       "      <td>0.004656</td>\n",
       "      <td>5</td>\n",
       "      <td>-0.058992</td>\n",
       "      <td>-0.057824</td>\n",
       "      <td>-0.057455</td>\n",
       "      <td>-0.058377</td>\n",
       "      <td>-0.059391</td>\n",
       "      <td>-0.057003</td>\n",
       "      <td>-0.058174</td>\n",
       "      <td>0.000837</td>\n",
       "    </tr>\n",
       "    <tr>\n",
       "      <th>1</th>\n",
       "      <td>17.143243</td>\n",
       "      <td>0.791652</td>\n",
       "      <td>1.948993</td>\n",
       "      <td>0.210386</td>\n",
       "      <td>0.1</td>\n",
       "      <td>{'C': 0.1}</td>\n",
       "      <td>-0.041476</td>\n",
       "      <td>-0.048757</td>\n",
       "      <td>-0.040642</td>\n",
       "      <td>-0.043708</td>\n",
       "      <td>...</td>\n",
       "      <td>0.004734</td>\n",
       "      <td>4</td>\n",
       "      <td>-0.045785</td>\n",
       "      <td>-0.045157</td>\n",
       "      <td>-0.043882</td>\n",
       "      <td>-0.045076</td>\n",
       "      <td>-0.046509</td>\n",
       "      <td>-0.045062</td>\n",
       "      <td>-0.045245</td>\n",
       "      <td>0.000798</td>\n",
       "    </tr>\n",
       "    <tr>\n",
       "      <th>2</th>\n",
       "      <td>17.397369</td>\n",
       "      <td>0.371891</td>\n",
       "      <td>2.074771</td>\n",
       "      <td>0.193320</td>\n",
       "      <td>1</td>\n",
       "      <td>{'C': 1}</td>\n",
       "      <td>0.070101</td>\n",
       "      <td>0.064285</td>\n",
       "      <td>0.073345</td>\n",
       "      <td>0.072720</td>\n",
       "      <td>...</td>\n",
       "      <td>0.007385</td>\n",
       "      <td>3</td>\n",
       "      <td>0.064905</td>\n",
       "      <td>0.065755</td>\n",
       "      <td>0.066958</td>\n",
       "      <td>0.065359</td>\n",
       "      <td>0.067099</td>\n",
       "      <td>0.063688</td>\n",
       "      <td>0.065627</td>\n",
       "      <td>0.001177</td>\n",
       "    </tr>\n",
       "    <tr>\n",
       "      <th>3</th>\n",
       "      <td>16.782994</td>\n",
       "      <td>0.238473</td>\n",
       "      <td>2.016958</td>\n",
       "      <td>0.092639</td>\n",
       "      <td>10</td>\n",
       "      <td>{'C': 10}</td>\n",
       "      <td>0.457867</td>\n",
       "      <td>0.459039</td>\n",
       "      <td>0.466940</td>\n",
       "      <td>0.472310</td>\n",
       "      <td>...</td>\n",
       "      <td>0.024842</td>\n",
       "      <td>2</td>\n",
       "      <td>0.449768</td>\n",
       "      <td>0.452084</td>\n",
       "      <td>0.450769</td>\n",
       "      <td>0.450361</td>\n",
       "      <td>0.460493</td>\n",
       "      <td>0.449161</td>\n",
       "      <td>0.452106</td>\n",
       "      <td>0.003858</td>\n",
       "    </tr>\n",
       "    <tr>\n",
       "      <th>4</th>\n",
       "      <td>12.728864</td>\n",
       "      <td>0.162196</td>\n",
       "      <td>1.465803</td>\n",
       "      <td>0.035413</td>\n",
       "      <td>100</td>\n",
       "      <td>{'C': 100}</td>\n",
       "      <td>0.634226</td>\n",
       "      <td>0.636692</td>\n",
       "      <td>0.646698</td>\n",
       "      <td>0.647974</td>\n",
       "      <td>...</td>\n",
       "      <td>0.022774</td>\n",
       "      <td>1</td>\n",
       "      <td>0.629511</td>\n",
       "      <td>0.628956</td>\n",
       "      <td>0.623595</td>\n",
       "      <td>0.631100</td>\n",
       "      <td>0.638699</td>\n",
       "      <td>0.627956</td>\n",
       "      <td>0.629969</td>\n",
       "      <td>0.004535</td>\n",
       "    </tr>\n",
       "  </tbody>\n",
       "</table>\n",
       "<p>5 rows × 23 columns</p>\n",
       "</div>"
      ],
      "text/plain": [
       "   mean_fit_time  std_fit_time  mean_score_time  std_score_time param_C  \\\n",
       "0      16.255866      0.107221         1.939650        0.074600    0.01   \n",
       "1      17.143243      0.791652         1.948993        0.210386     0.1   \n",
       "2      17.397369      0.371891         2.074771        0.193320       1   \n",
       "3      16.782994      0.238473         2.016958        0.092639      10   \n",
       "4      12.728864      0.162196         1.465803        0.035413     100   \n",
       "\n",
       "        params  split0_test_score  split1_test_score  split2_test_score  \\\n",
       "0  {'C': 0.01}          -0.054742          -0.061662          -0.054574   \n",
       "1   {'C': 0.1}          -0.041476          -0.048757          -0.040642   \n",
       "2     {'C': 1}           0.070101           0.064285           0.073345   \n",
       "3    {'C': 10}           0.457867           0.459039           0.466940   \n",
       "4   {'C': 100}           0.634226           0.636692           0.646698   \n",
       "\n",
       "   split3_test_score  ...  std_test_score  rank_test_score  \\\n",
       "0          -0.057759  ...        0.004656                5   \n",
       "1          -0.043708  ...        0.004734                4   \n",
       "2           0.072720  ...        0.007385                3   \n",
       "3           0.472310  ...        0.024842                2   \n",
       "4           0.647974  ...        0.022774                1   \n",
       "\n",
       "   split0_train_score  split1_train_score  split2_train_score  \\\n",
       "0           -0.058992           -0.057824           -0.057455   \n",
       "1           -0.045785           -0.045157           -0.043882   \n",
       "2            0.064905            0.065755            0.066958   \n",
       "3            0.449768            0.452084            0.450769   \n",
       "4            0.629511            0.628956            0.623595   \n",
       "\n",
       "   split3_train_score  split4_train_score  split5_train_score  \\\n",
       "0           -0.058377           -0.059391           -0.057003   \n",
       "1           -0.045076           -0.046509           -0.045062   \n",
       "2            0.065359            0.067099            0.063688   \n",
       "3            0.450361            0.460493            0.449161   \n",
       "4            0.631100            0.638699            0.627956   \n",
       "\n",
       "   mean_train_score  std_train_score  \n",
       "0         -0.058174         0.000837  \n",
       "1         -0.045245         0.000798  \n",
       "2          0.065627         0.001177  \n",
       "3          0.452106         0.003858  \n",
       "4          0.629969         0.004535  \n",
       "\n",
       "[5 rows x 23 columns]"
      ]
     },
     "execution_count": 160,
     "metadata": {},
     "output_type": "execute_result"
    }
   ],
   "source": [
    "output_svr_linear = pd.DataFrame(grid_svr.cv_results_)\n",
    "output_svr_linear"
   ]
  },
  {
   "cell_type": "code",
   "execution_count": 161,
   "metadata": {},
   "outputs": [
    {
     "data": {
      "text/plain": [
       "[<matplotlib.lines.Line2D at 0x21e0f4dba20>]"
      ]
     },
     "execution_count": 161,
     "metadata": {},
     "output_type": "execute_result"
    },
    {
     "data": {
      "text/plain": [
       "[<matplotlib.lines.Line2D at 0x21e0f117f28>]"
      ]
     },
     "execution_count": 161,
     "metadata": {},
     "output_type": "execute_result"
    },
    {
     "data": {
      "text/plain": [
       "([<matplotlib.axis.XTick at 0x21e0f4c30b8>,\n",
       "  <matplotlib.axis.XTick at 0x21e0f4b7cc0>,\n",
       "  <matplotlib.axis.XTick at 0x21e0f117e80>,\n",
       "  <matplotlib.axis.XTick at 0x21e0f4ea390>,\n",
       "  <matplotlib.axis.XTick at 0x21e0f4ea860>],\n",
       " <a list of 5 Text xticklabel objects>)"
      ]
     },
     "execution_count": 161,
     "metadata": {},
     "output_type": "execute_result"
    },
    {
     "data": {
      "text/plain": [
       "[<matplotlib.lines.Line2D at 0x21e0f4dbe10>]"
      ]
     },
     "execution_count": 161,
     "metadata": {},
     "output_type": "execute_result"
    },
    {
     "data": {
      "text/plain": [
       "[<matplotlib.lines.Line2D at 0x21e0f1172b0>]"
      ]
     },
     "execution_count": 161,
     "metadata": {},
     "output_type": "execute_result"
    },
    {
     "data": {
      "text/plain": [
       "<matplotlib.legend.Legend at 0x21e0f4f0198>"
      ]
     },
     "execution_count": 161,
     "metadata": {},
     "output_type": "execute_result"
    },
    {
     "data": {
      "text/plain": [
       "Text(0.5, 0, 'C')"
      ]
     },
     "execution_count": 161,
     "metadata": {},
     "output_type": "execute_result"
    },
    {
     "data": {
      "image/png": "[encoded data removed]",
      "text/plain": [
       "<Figure size 432x288 with 1 Axes>"
      ]
     },
     "metadata": {
      "needs_background": "light"
     },
     "output_type": "display_data"
    }
   ],
   "source": [
    "plt.plot(range(output_svr_linear.shape[0]), output_svr_linear['mean_train_score'], label = 'mean train score')\n",
    "plt.plot(range(output_svr_linear.shape[0]), output_svr_linear['mean_test_score'], label = 'mean test score')\n",
    "plt.xticks(range(output_svr_linear.shape[0]), output_svr_linear['param_C'], rotation = 90)\n",
    "plt.plot([grid_svr.best_index_], output_svr_linear['mean_train_score'][grid_svr.best_index_], 'o', markersize = 10, fillstyle = \"none\")\n",
    "plt.plot([grid_svr.best_index_], output_svr_linear['mean_test_score'][grid_svr.best_index_], 'o', markersize = 10, fillstyle = \"none\")\n",
    "plt.grid()\n",
    "plt.legend()\n",
    "plt.xlabel('C')"
   ]
  },
  {
   "cell_type": "markdown",
   "metadata": {},
   "source": [
    "SVR with Kernel as 'Linear' Result:\n",
    "Best parameters: {'C': 100}\n",
    "Average Cross validation score: 0.6313\n",
    "Test score: 0.6353"
   ]
  },
  {
   "cell_type": "markdown",
   "metadata": {},
   "source": [
    "# SVR with kernel 'Poly'"
   ]
  },
  {
   "cell_type": "code",
   "execution_count": 162,
   "metadata": {},
   "outputs": [],
   "source": [
    "parms_svrp = {'C': [1, 10, 100],'degree':[1,3]}"
   ]
  },
  {
   "cell_type": "code",
   "execution_count": 163,
   "metadata": {},
   "outputs": [],
   "source": [
    "svr_poly_model = SVR(kernel='poly')\n",
    "grid_svr_poly1 = GridSearchCV(estimator = svr_poly_model,param_grid = parms_svrp,return_train_score=True,n_jobs= -1,cv=3)"
   ]
  },
  {
   "cell_type": "code",
   "execution_count": 164,
   "metadata": {},
   "outputs": [
    {
     "data": {
      "text/plain": [
       "GridSearchCV(cv=3, error_score=nan,\n",
       "             estimator=SVR(C=1.0, cache_size=200, coef0=0.0, degree=3,\n",
       "                           epsilon=0.1, gamma='scale', kernel='poly',\n",
       "                           max_iter=-1, shrinking=True, tol=0.001,\n",
       "                           verbose=False),\n",
       "             iid='deprecated', n_jobs=-1,\n",
       "             param_grid={'C': [1, 10, 100], 'degree': [1, 3]},\n",
       "             pre_dispatch='2*n_jobs', refit=True, return_train_score=True,\n",
       "             scoring=None, verbose=0)"
      ]
     },
     "execution_count": 164,
     "metadata": {},
     "output_type": "execute_result"
    }
   ],
   "source": [
    "grid_svr_poly1.fit(X_train_scale,y_train)"
   ]
  },
  {
   "cell_type": "code",
   "execution_count": 165,
   "metadata": {},
   "outputs": [
    {
     "name": "stdout",
     "output_type": "stream",
     "text": [
      "Best parameters: {'C': 100, 'degree': 1}\n",
      "Best cross-validation score: 0.2062\n"
     ]
    },
    {
     "data": {
      "text/html": [
       "<div>\n",
       "<style scoped>\n",
       "    .dataframe tbody tr th:only-of-type {\n",
       "        vertical-align: middle;\n",
       "    }\n",
       "\n",
       "    .dataframe tbody tr th {\n",
       "        vertical-align: top;\n",
       "    }\n",
       "\n",
       "    .dataframe thead th {\n",
       "        text-align: right;\n",
       "    }\n",
       "</style>\n",
       "<table border=\"1\" class=\"dataframe\">\n",
       "  <thead>\n",
       "    <tr style=\"text-align: right;\">\n",
       "      <th></th>\n",
       "      <th>mean_fit_time</th>\n",
       "      <th>std_fit_time</th>\n",
       "      <th>mean_score_time</th>\n",
       "      <th>std_score_time</th>\n",
       "      <th>param_C</th>\n",
       "      <th>param_degree</th>\n",
       "      <th>params</th>\n",
       "      <th>split0_test_score</th>\n",
       "      <th>split1_test_score</th>\n",
       "      <th>split2_test_score</th>\n",
       "      <th>mean_test_score</th>\n",
       "      <th>std_test_score</th>\n",
       "      <th>rank_test_score</th>\n",
       "      <th>split0_train_score</th>\n",
       "      <th>split1_train_score</th>\n",
       "      <th>split2_train_score</th>\n",
       "      <th>mean_train_score</th>\n",
       "      <th>std_train_score</th>\n",
       "    </tr>\n",
       "  </thead>\n",
       "  <tbody>\n",
       "    <tr>\n",
       "      <th>0</th>\n",
       "      <td>9.980691</td>\n",
       "      <td>0.460353</td>\n",
       "      <td>2.778706</td>\n",
       "      <td>0.009513</td>\n",
       "      <td>1</td>\n",
       "      <td>1</td>\n",
       "      <td>{'C': 1, 'degree': 1}</td>\n",
       "      <td>-0.055817</td>\n",
       "      <td>-0.050827</td>\n",
       "      <td>-0.058735</td>\n",
       "      <td>-0.055126</td>\n",
       "      <td>0.003265</td>\n",
       "      <td>6</td>\n",
       "      <td>-0.056217</td>\n",
       "      <td>-0.053303</td>\n",
       "      <td>-0.055940</td>\n",
       "      <td>-0.055153</td>\n",
       "      <td>0.001313</td>\n",
       "    </tr>\n",
       "    <tr>\n",
       "      <th>1</th>\n",
       "      <td>10.105689</td>\n",
       "      <td>0.432827</td>\n",
       "      <td>2.900631</td>\n",
       "      <td>0.032834</td>\n",
       "      <td>1</td>\n",
       "      <td>3</td>\n",
       "      <td>{'C': 1, 'degree': 3}</td>\n",
       "      <td>-0.055384</td>\n",
       "      <td>-0.050666</td>\n",
       "      <td>-0.057320</td>\n",
       "      <td>-0.054457</td>\n",
       "      <td>0.002795</td>\n",
       "      <td>5</td>\n",
       "      <td>-0.055730</td>\n",
       "      <td>-0.052352</td>\n",
       "      <td>-0.054983</td>\n",
       "      <td>-0.054355</td>\n",
       "      <td>0.001449</td>\n",
       "    </tr>\n",
       "    <tr>\n",
       "      <th>2</th>\n",
       "      <td>10.306086</td>\n",
       "      <td>0.546102</td>\n",
       "      <td>2.966709</td>\n",
       "      <td>0.158297</td>\n",
       "      <td>10</td>\n",
       "      <td>1</td>\n",
       "      <td>{'C': 10, 'degree': 1}</td>\n",
       "      <td>-0.024499</td>\n",
       "      <td>-0.017177</td>\n",
       "      <td>-0.030188</td>\n",
       "      <td>-0.023955</td>\n",
       "      <td>0.005326</td>\n",
       "      <td>3</td>\n",
       "      <td>-0.025420</td>\n",
       "      <td>-0.021319</td>\n",
       "      <td>-0.025313</td>\n",
       "      <td>-0.024017</td>\n",
       "      <td>0.001909</td>\n",
       "    </tr>\n",
       "    <tr>\n",
       "      <th>3</th>\n",
       "      <td>10.921282</td>\n",
       "      <td>0.131707</td>\n",
       "      <td>3.234545</td>\n",
       "      <td>0.053433</td>\n",
       "      <td>10</td>\n",
       "      <td>3</td>\n",
       "      <td>{'C': 10, 'degree': 3}</td>\n",
       "      <td>-0.024842</td>\n",
       "      <td>-0.024014</td>\n",
       "      <td>-0.024109</td>\n",
       "      <td>-0.024322</td>\n",
       "      <td>0.000370</td>\n",
       "      <td>4</td>\n",
       "      <td>-0.024701</td>\n",
       "      <td>-0.017563</td>\n",
       "      <td>-0.026115</td>\n",
       "      <td>-0.022793</td>\n",
       "      <td>0.003743</td>\n",
       "    </tr>\n",
       "    <tr>\n",
       "      <th>4</th>\n",
       "      <td>10.879605</td>\n",
       "      <td>0.209138</td>\n",
       "      <td>3.095922</td>\n",
       "      <td>0.047679</td>\n",
       "      <td>100</td>\n",
       "      <td>1</td>\n",
       "      <td>{'C': 100, 'degree': 1}</td>\n",
       "      <td>0.209063</td>\n",
       "      <td>0.219464</td>\n",
       "      <td>0.190068</td>\n",
       "      <td>0.206198</td>\n",
       "      <td>0.012171</td>\n",
       "      <td>1</td>\n",
       "      <td>0.203979</td>\n",
       "      <td>0.204453</td>\n",
       "      <td>0.209725</td>\n",
       "      <td>0.206052</td>\n",
       "      <td>0.002604</td>\n",
       "    </tr>\n",
       "    <tr>\n",
       "      <th>5</th>\n",
       "      <td>7.165883</td>\n",
       "      <td>2.796501</td>\n",
       "      <td>2.040896</td>\n",
       "      <td>0.818454</td>\n",
       "      <td>100</td>\n",
       "      <td>3</td>\n",
       "      <td>{'C': 100, 'degree': 3}</td>\n",
       "      <td>0.177025</td>\n",
       "      <td>0.138430</td>\n",
       "      <td>0.200229</td>\n",
       "      <td>0.171895</td>\n",
       "      <td>0.025489</td>\n",
       "      <td>2</td>\n",
       "      <td>0.180627</td>\n",
       "      <td>0.207605</td>\n",
       "      <td>0.168006</td>\n",
       "      <td>0.185413</td>\n",
       "      <td>0.016517</td>\n",
       "    </tr>\n",
       "  </tbody>\n",
       "</table>\n",
       "</div>"
      ],
      "text/plain": [
       "   mean_fit_time  std_fit_time  mean_score_time  std_score_time param_C  \\\n",
       "0       9.980691      0.460353         2.778706        0.009513       1   \n",
       "1      10.105689      0.432827         2.900631        0.032834       1   \n",
       "2      10.306086      0.546102         2.966709        0.158297      10   \n",
       "3      10.921282      0.131707         3.234545        0.053433      10   \n",
       "4      10.879605      0.209138         3.095922        0.047679     100   \n",
       "5       7.165883      2.796501         2.040896        0.818454     100   \n",
       "\n",
       "  param_degree                   params  split0_test_score  split1_test_score  \\\n",
       "0            1    {'C': 1, 'degree': 1}          -0.055817          -0.050827   \n",
       "1            3    {'C': 1, 'degree': 3}          -0.055384          -0.050666   \n",
       "2            1   {'C': 10, 'degree': 1}          -0.024499          -0.017177   \n",
       "3            3   {'C': 10, 'degree': 3}          -0.024842          -0.024014   \n",
       "4            1  {'C': 100, 'degree': 1}           0.209063           0.219464   \n",
       "5            3  {'C': 100, 'degree': 3}           0.177025           0.138430   \n",
       "\n",
       "   split2_test_score  mean_test_score  std_test_score  rank_test_score  \\\n",
       "0          -0.058735        -0.055126        0.003265                6   \n",
       "1          -0.057320        -0.054457        0.002795                5   \n",
       "2          -0.030188        -0.023955        0.005326                3   \n",
       "3          -0.024109        -0.024322        0.000370                4   \n",
       "4           0.190068         0.206198        0.012171                1   \n",
       "5           0.200229         0.171895        0.025489                2   \n",
       "\n",
       "   split0_train_score  split1_train_score  split2_train_score  \\\n",
       "0           -0.056217           -0.053303           -0.055940   \n",
       "1           -0.055730           -0.052352           -0.054983   \n",
       "2           -0.025420           -0.021319           -0.025313   \n",
       "3           -0.024701           -0.017563           -0.026115   \n",
       "4            0.203979            0.204453            0.209725   \n",
       "5            0.180627            0.207605            0.168006   \n",
       "\n",
       "   mean_train_score  std_train_score  \n",
       "0         -0.055153         0.001313  \n",
       "1         -0.054355         0.001449  \n",
       "2         -0.024017         0.001909  \n",
       "3         -0.022793         0.003743  \n",
       "4          0.206052         0.002604  \n",
       "5          0.185413         0.016517  "
      ]
     },
     "execution_count": 165,
     "metadata": {},
     "output_type": "execute_result"
    }
   ],
   "source": [
    "print(\"Best parameters: {}\".format(grid_svr_poly1.best_params_))\n",
    "print(\"Best cross-validation score: {:.4f}\".format(grid_svr_poly1.best_score_))\n",
    "pd.DataFrame(grid_svr_poly1.cv_results_)"
   ]
  },
  {
   "cell_type": "code",
   "execution_count": 166,
   "metadata": {},
   "outputs": [
    {
     "data": {
      "text/plain": [
       "SVR(C=100, cache_size=200, coef0=0.0, degree=1, epsilon=0.1, gamma='scale',\n",
       "    kernel='poly', max_iter=-1, shrinking=True, tol=0.001, verbose=False)"
      ]
     },
     "execution_count": 166,
     "metadata": {},
     "output_type": "execute_result"
    },
    {
     "data": {
      "text/plain": [
       "0.28374394889912624"
      ]
     },
     "execution_count": 166,
     "metadata": {},
     "output_type": "execute_result"
    },
    {
     "data": {
      "text/plain": [
       "0.29004806678585404"
      ]
     },
     "execution_count": 166,
     "metadata": {},
     "output_type": "execute_result"
    }
   ],
   "source": [
    "svr_pol = SVR(kernel='poly',C=100,degree = 1)\n",
    "svr_pol.fit(X_train_scale, y_train)\n",
    "svr_pol.score(X_train_scale, y_train)\n",
    "svr_pol.score(X_test_scale, y_test)"
   ]
  },
  {
   "cell_type": "code",
   "execution_count": 167,
   "metadata": {},
   "outputs": [
    {
     "name": "stdout",
     "output_type": "stream",
     "text": [
      "Cross-validation scores:\n",
      "[0.25284202 0.24968403 0.25938189 0.26149269 0.21341599 0.25768203]\n",
      "0.24908310807989376\n"
     ]
    }
   ],
   "source": [
    "from sklearn.model_selection import KFold\n",
    "from sklearn.model_selection import cross_val_score\n",
    "#scores = cross_val_score(logreg, iris.data, iris.target)\n",
    "kfold = KFold(n_splits=6)\n",
    "print(\"Cross-validation scores:\\n{}\".format(cross_val_score(svr_pol, X_train_scale, y_train, cv=kfold)))\n",
    "vals = cross_val_score(svr_pol, X_train_scale, y_train, cv=kfold)\n",
    "print(np.mean(vals))"
   ]
  },
  {
   "cell_type": "code",
   "execution_count": 168,
   "metadata": {},
   "outputs": [
    {
     "data": {
      "text/html": [
       "<div>\n",
       "<style scoped>\n",
       "    .dataframe tbody tr th:only-of-type {\n",
       "        vertical-align: middle;\n",
       "    }\n",
       "\n",
       "    .dataframe tbody tr th {\n",
       "        vertical-align: top;\n",
       "    }\n",
       "\n",
       "    .dataframe thead th {\n",
       "        text-align: right;\n",
       "    }\n",
       "</style>\n",
       "<table border=\"1\" class=\"dataframe\">\n",
       "  <thead>\n",
       "    <tr style=\"text-align: right;\">\n",
       "      <th></th>\n",
       "      <th>mean_fit_time</th>\n",
       "      <th>std_fit_time</th>\n",
       "      <th>mean_score_time</th>\n",
       "      <th>std_score_time</th>\n",
       "      <th>param_C</th>\n",
       "      <th>param_degree</th>\n",
       "      <th>params</th>\n",
       "      <th>split0_test_score</th>\n",
       "      <th>split1_test_score</th>\n",
       "      <th>split2_test_score</th>\n",
       "      <th>mean_test_score</th>\n",
       "      <th>std_test_score</th>\n",
       "      <th>rank_test_score</th>\n",
       "      <th>split0_train_score</th>\n",
       "      <th>split1_train_score</th>\n",
       "      <th>split2_train_score</th>\n",
       "      <th>mean_train_score</th>\n",
       "      <th>std_train_score</th>\n",
       "    </tr>\n",
       "  </thead>\n",
       "  <tbody>\n",
       "    <tr>\n",
       "      <th>0</th>\n",
       "      <td>9.980691</td>\n",
       "      <td>0.460353</td>\n",
       "      <td>2.778706</td>\n",
       "      <td>0.009513</td>\n",
       "      <td>1</td>\n",
       "      <td>1</td>\n",
       "      <td>{'C': 1, 'degree': 1}</td>\n",
       "      <td>-0.055817</td>\n",
       "      <td>-0.050827</td>\n",
       "      <td>-0.058735</td>\n",
       "      <td>-0.055126</td>\n",
       "      <td>0.003265</td>\n",
       "      <td>6</td>\n",
       "      <td>-0.056217</td>\n",
       "      <td>-0.053303</td>\n",
       "      <td>-0.055940</td>\n",
       "      <td>-0.055153</td>\n",
       "      <td>0.001313</td>\n",
       "    </tr>\n",
       "    <tr>\n",
       "      <th>1</th>\n",
       "      <td>10.105689</td>\n",
       "      <td>0.432827</td>\n",
       "      <td>2.900631</td>\n",
       "      <td>0.032834</td>\n",
       "      <td>1</td>\n",
       "      <td>3</td>\n",
       "      <td>{'C': 1, 'degree': 3}</td>\n",
       "      <td>-0.055384</td>\n",
       "      <td>-0.050666</td>\n",
       "      <td>-0.057320</td>\n",
       "      <td>-0.054457</td>\n",
       "      <td>0.002795</td>\n",
       "      <td>5</td>\n",
       "      <td>-0.055730</td>\n",
       "      <td>-0.052352</td>\n",
       "      <td>-0.054983</td>\n",
       "      <td>-0.054355</td>\n",
       "      <td>0.001449</td>\n",
       "    </tr>\n",
       "    <tr>\n",
       "      <th>2</th>\n",
       "      <td>10.306086</td>\n",
       "      <td>0.546102</td>\n",
       "      <td>2.966709</td>\n",
       "      <td>0.158297</td>\n",
       "      <td>10</td>\n",
       "      <td>1</td>\n",
       "      <td>{'C': 10, 'degree': 1}</td>\n",
       "      <td>-0.024499</td>\n",
       "      <td>-0.017177</td>\n",
       "      <td>-0.030188</td>\n",
       "      <td>-0.023955</td>\n",
       "      <td>0.005326</td>\n",
       "      <td>3</td>\n",
       "      <td>-0.025420</td>\n",
       "      <td>-0.021319</td>\n",
       "      <td>-0.025313</td>\n",
       "      <td>-0.024017</td>\n",
       "      <td>0.001909</td>\n",
       "    </tr>\n",
       "    <tr>\n",
       "      <th>3</th>\n",
       "      <td>10.921282</td>\n",
       "      <td>0.131707</td>\n",
       "      <td>3.234545</td>\n",
       "      <td>0.053433</td>\n",
       "      <td>10</td>\n",
       "      <td>3</td>\n",
       "      <td>{'C': 10, 'degree': 3}</td>\n",
       "      <td>-0.024842</td>\n",
       "      <td>-0.024014</td>\n",
       "      <td>-0.024109</td>\n",
       "      <td>-0.024322</td>\n",
       "      <td>0.000370</td>\n",
       "      <td>4</td>\n",
       "      <td>-0.024701</td>\n",
       "      <td>-0.017563</td>\n",
       "      <td>-0.026115</td>\n",
       "      <td>-0.022793</td>\n",
       "      <td>0.003743</td>\n",
       "    </tr>\n",
       "    <tr>\n",
       "      <th>4</th>\n",
       "      <td>10.879605</td>\n",
       "      <td>0.209138</td>\n",
       "      <td>3.095922</td>\n",
       "      <td>0.047679</td>\n",
       "      <td>100</td>\n",
       "      <td>1</td>\n",
       "      <td>{'C': 100, 'degree': 1}</td>\n",
       "      <td>0.209063</td>\n",
       "      <td>0.219464</td>\n",
       "      <td>0.190068</td>\n",
       "      <td>0.206198</td>\n",
       "      <td>0.012171</td>\n",
       "      <td>1</td>\n",
       "      <td>0.203979</td>\n",
       "      <td>0.204453</td>\n",
       "      <td>0.209725</td>\n",
       "      <td>0.206052</td>\n",
       "      <td>0.002604</td>\n",
       "    </tr>\n",
       "    <tr>\n",
       "      <th>5</th>\n",
       "      <td>7.165883</td>\n",
       "      <td>2.796501</td>\n",
       "      <td>2.040896</td>\n",
       "      <td>0.818454</td>\n",
       "      <td>100</td>\n",
       "      <td>3</td>\n",
       "      <td>{'C': 100, 'degree': 3}</td>\n",
       "      <td>0.177025</td>\n",
       "      <td>0.138430</td>\n",
       "      <td>0.200229</td>\n",
       "      <td>0.171895</td>\n",
       "      <td>0.025489</td>\n",
       "      <td>2</td>\n",
       "      <td>0.180627</td>\n",
       "      <td>0.207605</td>\n",
       "      <td>0.168006</td>\n",
       "      <td>0.185413</td>\n",
       "      <td>0.016517</td>\n",
       "    </tr>\n",
       "  </tbody>\n",
       "</table>\n",
       "</div>"
      ],
      "text/plain": [
       "   mean_fit_time  std_fit_time  mean_score_time  std_score_time param_C  \\\n",
       "0       9.980691      0.460353         2.778706        0.009513       1   \n",
       "1      10.105689      0.432827         2.900631        0.032834       1   \n",
       "2      10.306086      0.546102         2.966709        0.158297      10   \n",
       "3      10.921282      0.131707         3.234545        0.053433      10   \n",
       "4      10.879605      0.209138         3.095922        0.047679     100   \n",
       "5       7.165883      2.796501         2.040896        0.818454     100   \n",
       "\n",
       "  param_degree                   params  split0_test_score  split1_test_score  \\\n",
       "0            1    {'C': 1, 'degree': 1}          -0.055817          -0.050827   \n",
       "1            3    {'C': 1, 'degree': 3}          -0.055384          -0.050666   \n",
       "2            1   {'C': 10, 'degree': 1}          -0.024499          -0.017177   \n",
       "3            3   {'C': 10, 'degree': 3}          -0.024842          -0.024014   \n",
       "4            1  {'C': 100, 'degree': 1}           0.209063           0.219464   \n",
       "5            3  {'C': 100, 'degree': 3}           0.177025           0.138430   \n",
       "\n",
       "   split2_test_score  mean_test_score  std_test_score  rank_test_score  \\\n",
       "0          -0.058735        -0.055126        0.003265                6   \n",
       "1          -0.057320        -0.054457        0.002795                5   \n",
       "2          -0.030188        -0.023955        0.005326                3   \n",
       "3          -0.024109        -0.024322        0.000370                4   \n",
       "4           0.190068         0.206198        0.012171                1   \n",
       "5           0.200229         0.171895        0.025489                2   \n",
       "\n",
       "   split0_train_score  split1_train_score  split2_train_score  \\\n",
       "0           -0.056217           -0.053303           -0.055940   \n",
       "1           -0.055730           -0.052352           -0.054983   \n",
       "2           -0.025420           -0.021319           -0.025313   \n",
       "3           -0.024701           -0.017563           -0.026115   \n",
       "4            0.203979            0.204453            0.209725   \n",
       "5            0.180627            0.207605            0.168006   \n",
       "\n",
       "   mean_train_score  std_train_score  \n",
       "0         -0.055153         0.001313  \n",
       "1         -0.054355         0.001449  \n",
       "2         -0.024017         0.001909  \n",
       "3         -0.022793         0.003743  \n",
       "4          0.206052         0.002604  \n",
       "5          0.185413         0.016517  "
      ]
     },
     "execution_count": 168,
     "metadata": {},
     "output_type": "execute_result"
    }
   ],
   "source": [
    "output_svr_poly= pd.DataFrame(grid_svr_poly1.cv_results_)\n",
    "output_svr_poly"
   ]
  },
  {
   "cell_type": "code",
   "execution_count": 169,
   "metadata": {},
   "outputs": [
    {
     "data": {
      "text/plain": [
       "[<matplotlib.lines.Line2D at 0x21e0f558c50>]"
      ]
     },
     "execution_count": 169,
     "metadata": {},
     "output_type": "execute_result"
    },
    {
     "data": {
      "text/plain": [
       "[<matplotlib.lines.Line2D at 0x21e0f558fd0>]"
      ]
     },
     "execution_count": 169,
     "metadata": {},
     "output_type": "execute_result"
    },
    {
     "data": {
      "text/plain": [
       "([<matplotlib.axis.XTick at 0x21e0f53c160>,\n",
       "  <matplotlib.axis.XTick at 0x21e0f51ee10>,\n",
       "  <matplotlib.axis.XTick at 0x21e0f29b4a8>,\n",
       "  <matplotlib.axis.XTick at 0x21e0f56b748>,\n",
       "  <matplotlib.axis.XTick at 0x21e0f56bc88>,\n",
       "  <matplotlib.axis.XTick at 0x21e0f568278>],\n",
       " <a list of 6 Text xticklabel objects>)"
      ]
     },
     "execution_count": 169,
     "metadata": {},
     "output_type": "execute_result"
    },
    {
     "data": {
      "text/plain": [
       "[<matplotlib.lines.Line2D at 0x21e0f56b390>]"
      ]
     },
     "execution_count": 169,
     "metadata": {},
     "output_type": "execute_result"
    },
    {
     "data": {
      "text/plain": [
       "[<matplotlib.lines.Line2D at 0x21e0f5684a8>]"
      ]
     },
     "execution_count": 169,
     "metadata": {},
     "output_type": "execute_result"
    },
    {
     "data": {
      "text/plain": [
       "<matplotlib.legend.Legend at 0x21e0f53ee80>"
      ]
     },
     "execution_count": 169,
     "metadata": {},
     "output_type": "execute_result"
    },
    {
     "data": {
      "image/png": "[encoded data removed]",
      "text/plain": [
       "<Figure size 432x288 with 1 Axes>"
      ]
     },
     "metadata": {
      "needs_background": "light"
     },
     "output_type": "display_data"
    }
   ],
   "source": [
    "plt.plot(range(output_svr_poly.shape[0]), output_svr_poly['mean_train_score'], label = 'mean train score')\n",
    "plt.plot(range(output_svr_poly.shape[0]), output_svr_poly['mean_test_score'], label = 'mean test score')\n",
    "plt.xticks(range(output_svr_poly.shape[0]), output_svr_poly['param_C'], rotation = 90)\n",
    "plt.plot([grid_svr_poly1.best_index_], output_svr_poly['mean_train_score'][grid_svr_poly1.best_index_], 'o', markersize = 10, fillstyle = \"none\")\n",
    "plt.plot([grid_svr_poly1.best_index_], output_svr_poly['mean_test_score'][grid_svr_poly1.best_index_], 'o', markersize = 10, fillstyle = \"none\")\n",
    "plt.grid()\n",
    "plt.legend()"
   ]
  },
  {
   "cell_type": "markdown",
   "metadata": {},
   "source": [
    "SVR with Kernel as 'Poly' Result:\n",
    "Best parameters: {'C': 100, 'degree': 1}\n",
    "Average Cross validation score: 0.2490\n",
    "Test score: 0.2900"
   ]
  },
  {
   "cell_type": "markdown",
   "metadata": {},
   "source": [
    "# SVR with kernel 'rbf'"
   ]
  },
  {
   "cell_type": "code",
   "execution_count": 170,
   "metadata": {},
   "outputs": [],
   "source": [
    "parms_rbf = {'C': [0.1, 1, 10, 100],'gamma':[0.1, 1, 10, 100]}"
   ]
  },
  {
   "cell_type": "code",
   "execution_count": 171,
   "metadata": {},
   "outputs": [],
   "source": [
    "svr_rbf_model = SVR(kernel='rbf')\n",
    "grid_svr_rbf1 = GridSearchCV(estimator = svr_rbf_model,param_grid = parms_rbf,return_train_score=True,n_jobs= -1,cv=3)"
   ]
  },
  {
   "cell_type": "code",
   "execution_count": 172,
   "metadata": {},
   "outputs": [
    {
     "data": {
      "text/plain": [
       "GridSearchCV(cv=3, error_score=nan,\n",
       "             estimator=SVR(C=1.0, cache_size=200, coef0=0.0, degree=3,\n",
       "                           epsilon=0.1, gamma='scale', kernel='rbf',\n",
       "                           max_iter=-1, shrinking=True, tol=0.001,\n",
       "                           verbose=False),\n",
       "             iid='deprecated', n_jobs=-1,\n",
       "             param_grid={'C': [0.1, 1, 10, 100], 'gamma': [0.1, 1, 10, 100]},\n",
       "             pre_dispatch='2*n_jobs', refit=True, return_train_score=True,\n",
       "             scoring=None, verbose=0)"
      ]
     },
     "execution_count": 172,
     "metadata": {},
     "output_type": "execute_result"
    }
   ],
   "source": [
    "grid_svr_rbf1.fit(X_train_scale,y_train)"
   ]
  },
  {
   "cell_type": "code",
   "execution_count": 173,
   "metadata": {},
   "outputs": [
    {
     "name": "stdout",
     "output_type": "stream",
     "text": [
      "Best parameters: {'C': 100, 'gamma': 0.1}\n",
      "Best cross-validation score: -0.0412\n"
     ]
    }
   ],
   "source": [
    "print(\"Best parameters: {}\".format(grid_svr_rbf1.best_params_))\n",
    "print(\"Best cross-validation score: {:.4f}\".format(grid_svr_rbf1.best_score_))"
   ]
  },
  {
   "cell_type": "code",
   "execution_count": 174,
   "metadata": {},
   "outputs": [
    {
     "data": {
      "text/plain": [
       "SVR(C=100, cache_size=200, coef0=0.0, degree=3, epsilon=0.1, gamma=0.1,\n",
       "    kernel='rbf', max_iter=-1, shrinking=True, tol=0.001, verbose=False)"
      ]
     },
     "execution_count": 174,
     "metadata": {},
     "output_type": "execute_result"
    },
    {
     "data": {
      "text/plain": [
       "-0.03284497872152081"
      ]
     },
     "execution_count": 174,
     "metadata": {},
     "output_type": "execute_result"
    },
    {
     "data": {
      "text/plain": [
       "-0.03450481563485375"
      ]
     },
     "execution_count": 174,
     "metadata": {},
     "output_type": "execute_result"
    }
   ],
   "source": [
    "svr_rbf1 = SVR(kernel='rbf',C=100,gamma=0.1)\n",
    "svr_rbf1.fit(X_train_scale, y_train)\n",
    "svr_rbf1.score(X_train_scale, y_train)\n",
    "svr_rbf1.score(X_test_scale, y_test)"
   ]
  },
  {
   "cell_type": "code",
   "execution_count": 175,
   "metadata": {},
   "outputs": [
    {
     "name": "stdout",
     "output_type": "stream",
     "text": [
      "Cross-validation scores:\n",
      "[-0.03381098 -0.04146739 -0.03190042 -0.03328877 -0.03862552 -0.04433173]\n",
      "-0.03723746771095412\n"
     ]
    }
   ],
   "source": [
    "from sklearn.model_selection import KFold\n",
    "from sklearn.model_selection import cross_val_score\n",
    "kfold = KFold(n_splits=6)\n",
    "print(\"Cross-validation scores:\\n{}\".format(cross_val_score(svr_rbf1, X_train_scale, y_train, cv=kfold)))\n",
    "vals = cross_val_score(svr_rbf1, X_train_scale, y_train, cv=kfold)\n",
    "print(np.mean(vals))"
   ]
  },
  {
   "cell_type": "code",
   "execution_count": 176,
   "metadata": {},
   "outputs": [
    {
     "data": {
      "text/html": [
       "<div>\n",
       "<style scoped>\n",
       "    .dataframe tbody tr th:only-of-type {\n",
       "        vertical-align: middle;\n",
       "    }\n",
       "\n",
       "    .dataframe tbody tr th {\n",
       "        vertical-align: top;\n",
       "    }\n",
       "\n",
       "    .dataframe thead th {\n",
       "        text-align: right;\n",
       "    }\n",
       "</style>\n",
       "<table border=\"1\" class=\"dataframe\">\n",
       "  <thead>\n",
       "    <tr style=\"text-align: right;\">\n",
       "      <th></th>\n",
       "      <th>mean_fit_time</th>\n",
       "      <th>std_fit_time</th>\n",
       "      <th>mean_score_time</th>\n",
       "      <th>std_score_time</th>\n",
       "      <th>param_C</th>\n",
       "      <th>param_gamma</th>\n",
       "      <th>params</th>\n",
       "      <th>split0_test_score</th>\n",
       "      <th>split1_test_score</th>\n",
       "      <th>split2_test_score</th>\n",
       "      <th>mean_test_score</th>\n",
       "      <th>std_test_score</th>\n",
       "      <th>rank_test_score</th>\n",
       "      <th>split0_train_score</th>\n",
       "      <th>split1_train_score</th>\n",
       "      <th>split2_train_score</th>\n",
       "      <th>mean_train_score</th>\n",
       "      <th>std_train_score</th>\n",
       "    </tr>\n",
       "  </thead>\n",
       "  <tbody>\n",
       "    <tr>\n",
       "      <th>0</th>\n",
       "      <td>9.231647</td>\n",
       "      <td>0.081920</td>\n",
       "      <td>3.486480</td>\n",
       "      <td>0.141910</td>\n",
       "      <td>0.1</td>\n",
       "      <td>0.1</td>\n",
       "      <td>{'C': 0.1, 'gamma': 0.1}</td>\n",
       "      <td>-0.059580</td>\n",
       "      <td>-0.054365</td>\n",
       "      <td>-0.061541</td>\n",
       "      <td>-0.058495</td>\n",
       "      <td>0.003028</td>\n",
       "      <td>6</td>\n",
       "      <td>-0.059921</td>\n",
       "      <td>-0.056656</td>\n",
       "      <td>-0.058974</td>\n",
       "      <td>-0.058517</td>\n",
       "      <td>0.001371</td>\n",
       "    </tr>\n",
       "    <tr>\n",
       "      <th>1</th>\n",
       "      <td>10.167808</td>\n",
       "      <td>0.021062</td>\n",
       "      <td>3.517541</td>\n",
       "      <td>0.089564</td>\n",
       "      <td>0.1</td>\n",
       "      <td>1</td>\n",
       "      <td>{'C': 0.1, 'gamma': 1}</td>\n",
       "      <td>-0.059598</td>\n",
       "      <td>-0.054388</td>\n",
       "      <td>-0.061547</td>\n",
       "      <td>-0.058511</td>\n",
       "      <td>0.003022</td>\n",
       "      <td>9</td>\n",
       "      <td>-0.059939</td>\n",
       "      <td>-0.056678</td>\n",
       "      <td>-0.058981</td>\n",
       "      <td>-0.058533</td>\n",
       "      <td>0.001369</td>\n",
       "    </tr>\n",
       "    <tr>\n",
       "      <th>2</th>\n",
       "      <td>11.523168</td>\n",
       "      <td>1.286379</td>\n",
       "      <td>4.878902</td>\n",
       "      <td>0.266187</td>\n",
       "      <td>0.1</td>\n",
       "      <td>10</td>\n",
       "      <td>{'C': 0.1, 'gamma': 10}</td>\n",
       "      <td>-0.059598</td>\n",
       "      <td>-0.054389</td>\n",
       "      <td>-0.061547</td>\n",
       "      <td>-0.058511</td>\n",
       "      <td>0.003022</td>\n",
       "      <td>10</td>\n",
       "      <td>-0.059940</td>\n",
       "      <td>-0.056678</td>\n",
       "      <td>-0.058981</td>\n",
       "      <td>-0.058533</td>\n",
       "      <td>0.001369</td>\n",
       "    </tr>\n",
       "    <tr>\n",
       "      <th>3</th>\n",
       "      <td>19.400827</td>\n",
       "      <td>0.166637</td>\n",
       "      <td>8.256718</td>\n",
       "      <td>0.243531</td>\n",
       "      <td>0.1</td>\n",
       "      <td>100</td>\n",
       "      <td>{'C': 0.1, 'gamma': 100}</td>\n",
       "      <td>-0.059598</td>\n",
       "      <td>-0.054389</td>\n",
       "      <td>-0.061547</td>\n",
       "      <td>-0.058511</td>\n",
       "      <td>0.003022</td>\n",
       "      <td>11</td>\n",
       "      <td>-0.059940</td>\n",
       "      <td>-0.056678</td>\n",
       "      <td>-0.058981</td>\n",
       "      <td>-0.058533</td>\n",
       "      <td>0.001369</td>\n",
       "    </tr>\n",
       "    <tr>\n",
       "      <th>4</th>\n",
       "      <td>11.568979</td>\n",
       "      <td>0.137313</td>\n",
       "      <td>3.972651</td>\n",
       "      <td>0.053561</td>\n",
       "      <td>1</td>\n",
       "      <td>0.1</td>\n",
       "      <td>{'C': 1, 'gamma': 0.1}</td>\n",
       "      <td>-0.059412</td>\n",
       "      <td>-0.054148</td>\n",
       "      <td>-0.061467</td>\n",
       "      <td>-0.058342</td>\n",
       "      <td>0.003082</td>\n",
       "      <td>4</td>\n",
       "      <td>-0.059744</td>\n",
       "      <td>-0.056457</td>\n",
       "      <td>-0.058887</td>\n",
       "      <td>-0.058362</td>\n",
       "      <td>0.001392</td>\n",
       "    </tr>\n",
       "    <tr>\n",
       "      <th>5</th>\n",
       "      <td>12.535336</td>\n",
       "      <td>0.163066</td>\n",
       "      <td>4.175453</td>\n",
       "      <td>0.191018</td>\n",
       "      <td>1</td>\n",
       "      <td>1</td>\n",
       "      <td>{'C': 1, 'gamma': 1}</td>\n",
       "      <td>-0.059593</td>\n",
       "      <td>-0.054384</td>\n",
       "      <td>-0.061547</td>\n",
       "      <td>-0.058508</td>\n",
       "      <td>0.003023</td>\n",
       "      <td>8</td>\n",
       "      <td>-0.059931</td>\n",
       "      <td>-0.056671</td>\n",
       "      <td>-0.058977</td>\n",
       "      <td>-0.058526</td>\n",
       "      <td>0.001369</td>\n",
       "    </tr>\n",
       "    <tr>\n",
       "      <th>6</th>\n",
       "      <td>13.612775</td>\n",
       "      <td>0.126324</td>\n",
       "      <td>5.309943</td>\n",
       "      <td>0.038469</td>\n",
       "      <td>1</td>\n",
       "      <td>10</td>\n",
       "      <td>{'C': 1, 'gamma': 10}</td>\n",
       "      <td>-0.059597</td>\n",
       "      <td>-0.054389</td>\n",
       "      <td>-0.061548</td>\n",
       "      <td>-0.058511</td>\n",
       "      <td>0.003022</td>\n",
       "      <td>12</td>\n",
       "      <td>-0.059936</td>\n",
       "      <td>-0.056675</td>\n",
       "      <td>-0.058979</td>\n",
       "      <td>-0.058530</td>\n",
       "      <td>0.001369</td>\n",
       "    </tr>\n",
       "    <tr>\n",
       "      <th>7</th>\n",
       "      <td>19.435095</td>\n",
       "      <td>0.129692</td>\n",
       "      <td>8.378228</td>\n",
       "      <td>0.144763</td>\n",
       "      <td>1</td>\n",
       "      <td>100</td>\n",
       "      <td>{'C': 1, 'gamma': 100}</td>\n",
       "      <td>-0.059598</td>\n",
       "      <td>-0.054389</td>\n",
       "      <td>-0.061548</td>\n",
       "      <td>-0.058512</td>\n",
       "      <td>0.003022</td>\n",
       "      <td>13</td>\n",
       "      <td>-0.059936</td>\n",
       "      <td>-0.056675</td>\n",
       "      <td>-0.058979</td>\n",
       "      <td>-0.058530</td>\n",
       "      <td>0.001369</td>\n",
       "    </tr>\n",
       "    <tr>\n",
       "      <th>8</th>\n",
       "      <td>11.576464</td>\n",
       "      <td>0.108327</td>\n",
       "      <td>4.115675</td>\n",
       "      <td>0.052441</td>\n",
       "      <td>10</td>\n",
       "      <td>0.1</td>\n",
       "      <td>{'C': 10, 'gamma': 0.1}</td>\n",
       "      <td>-0.057719</td>\n",
       "      <td>-0.052482</td>\n",
       "      <td>-0.060441</td>\n",
       "      <td>-0.056881</td>\n",
       "      <td>0.003303</td>\n",
       "      <td>2</td>\n",
       "      <td>-0.057960</td>\n",
       "      <td>-0.054952</td>\n",
       "      <td>-0.057727</td>\n",
       "      <td>-0.056880</td>\n",
       "      <td>0.001367</td>\n",
       "    </tr>\n",
       "    <tr>\n",
       "      <th>9</th>\n",
       "      <td>13.876755</td>\n",
       "      <td>0.987342</td>\n",
       "      <td>4.991816</td>\n",
       "      <td>0.578728</td>\n",
       "      <td>10</td>\n",
       "      <td>1</td>\n",
       "      <td>{'C': 10, 'gamma': 1}</td>\n",
       "      <td>-0.059543</td>\n",
       "      <td>-0.054339</td>\n",
       "      <td>-0.061531</td>\n",
       "      <td>-0.058471</td>\n",
       "      <td>0.003033</td>\n",
       "      <td>5</td>\n",
       "      <td>-0.059850</td>\n",
       "      <td>-0.056603</td>\n",
       "      <td>-0.058928</td>\n",
       "      <td>-0.058461</td>\n",
       "      <td>0.001366</td>\n",
       "    </tr>\n",
       "    <tr>\n",
       "      <th>10</th>\n",
       "      <td>16.342362</td>\n",
       "      <td>0.937660</td>\n",
       "      <td>6.707465</td>\n",
       "      <td>0.849383</td>\n",
       "      <td>10</td>\n",
       "      <td>10</td>\n",
       "      <td>{'C': 10, 'gamma': 10}</td>\n",
       "      <td>-0.059592</td>\n",
       "      <td>-0.054386</td>\n",
       "      <td>-0.061557</td>\n",
       "      <td>-0.058512</td>\n",
       "      <td>0.003026</td>\n",
       "      <td>14</td>\n",
       "      <td>-0.059901</td>\n",
       "      <td>-0.056644</td>\n",
       "      <td>-0.058957</td>\n",
       "      <td>-0.058501</td>\n",
       "      <td>0.001368</td>\n",
       "    </tr>\n",
       "    <tr>\n",
       "      <th>11</th>\n",
       "      <td>24.030615</td>\n",
       "      <td>0.713443</td>\n",
       "      <td>10.734146</td>\n",
       "      <td>1.331960</td>\n",
       "      <td>10</td>\n",
       "      <td>100</td>\n",
       "      <td>{'C': 10, 'gamma': 100}</td>\n",
       "      <td>-0.059595</td>\n",
       "      <td>-0.054389</td>\n",
       "      <td>-0.061559</td>\n",
       "      <td>-0.058514</td>\n",
       "      <td>0.003025</td>\n",
       "      <td>15</td>\n",
       "      <td>-0.059904</td>\n",
       "      <td>-0.056647</td>\n",
       "      <td>-0.058959</td>\n",
       "      <td>-0.058503</td>\n",
       "      <td>0.001368</td>\n",
       "    </tr>\n",
       "    <tr>\n",
       "      <th>12</th>\n",
       "      <td>14.163737</td>\n",
       "      <td>0.492678</td>\n",
       "      <td>4.768011</td>\n",
       "      <td>0.614883</td>\n",
       "      <td>100</td>\n",
       "      <td>0.1</td>\n",
       "      <td>{'C': 100, 'gamma': 0.1}</td>\n",
       "      <td>-0.042108</td>\n",
       "      <td>-0.034929</td>\n",
       "      <td>-0.046710</td>\n",
       "      <td>-0.041249</td>\n",
       "      <td>0.004847</td>\n",
       "      <td>1</td>\n",
       "      <td>-0.041484</td>\n",
       "      <td>-0.038970</td>\n",
       "      <td>-0.042628</td>\n",
       "      <td>-0.041027</td>\n",
       "      <td>0.001528</td>\n",
       "    </tr>\n",
       "    <tr>\n",
       "      <th>13</th>\n",
       "      <td>13.893598</td>\n",
       "      <td>0.749715</td>\n",
       "      <td>4.498026</td>\n",
       "      <td>0.235996</td>\n",
       "      <td>100</td>\n",
       "      <td>1</td>\n",
       "      <td>{'C': 100, 'gamma': 1}</td>\n",
       "      <td>-0.059032</td>\n",
       "      <td>-0.053817</td>\n",
       "      <td>-0.061291</td>\n",
       "      <td>-0.058047</td>\n",
       "      <td>0.003130</td>\n",
       "      <td>3</td>\n",
       "      <td>-0.059025</td>\n",
       "      <td>-0.055861</td>\n",
       "      <td>-0.058350</td>\n",
       "      <td>-0.057745</td>\n",
       "      <td>0.001361</td>\n",
       "    </tr>\n",
       "    <tr>\n",
       "      <th>14</th>\n",
       "      <td>14.381640</td>\n",
       "      <td>0.101673</td>\n",
       "      <td>5.503392</td>\n",
       "      <td>0.290037</td>\n",
       "      <td>100</td>\n",
       "      <td>10</td>\n",
       "      <td>{'C': 100, 'gamma': 10}</td>\n",
       "      <td>-0.059533</td>\n",
       "      <td>-0.054361</td>\n",
       "      <td>-0.061616</td>\n",
       "      <td>-0.058503</td>\n",
       "      <td>0.003050</td>\n",
       "      <td>7</td>\n",
       "      <td>-0.059545</td>\n",
       "      <td>-0.056336</td>\n",
       "      <td>-0.058714</td>\n",
       "      <td>-0.058198</td>\n",
       "      <td>0.001360</td>\n",
       "    </tr>\n",
       "    <tr>\n",
       "      <th>15</th>\n",
       "      <td>19.465429</td>\n",
       "      <td>0.306767</td>\n",
       "      <td>5.963338</td>\n",
       "      <td>0.223425</td>\n",
       "      <td>100</td>\n",
       "      <td>100</td>\n",
       "      <td>{'C': 100, 'gamma': 100}</td>\n",
       "      <td>-0.059564</td>\n",
       "      <td>-0.054387</td>\n",
       "      <td>-0.061638</td>\n",
       "      <td>-0.058530</td>\n",
       "      <td>0.003049</td>\n",
       "      <td>16</td>\n",
       "      <td>-0.059578</td>\n",
       "      <td>-0.056359</td>\n",
       "      <td>-0.058737</td>\n",
       "      <td>-0.058224</td>\n",
       "      <td>0.001363</td>\n",
       "    </tr>\n",
       "  </tbody>\n",
       "</table>\n",
       "</div>"
      ],
      "text/plain": [
       "    mean_fit_time  std_fit_time  mean_score_time  std_score_time param_C  \\\n",
       "0        9.231647      0.081920         3.486480        0.141910     0.1   \n",
       "1       10.167808      0.021062         3.517541        0.089564     0.1   \n",
       "2       11.523168      1.286379         4.878902        0.266187     0.1   \n",
       "3       19.400827      0.166637         8.256718        0.243531     0.1   \n",
       "4       11.568979      0.137313         3.972651        0.053561       1   \n",
       "5       12.535336      0.163066         4.175453        0.191018       1   \n",
       "6       13.612775      0.126324         5.309943        0.038469       1   \n",
       "7       19.435095      0.129692         8.378228        0.144763       1   \n",
       "8       11.576464      0.108327         4.115675        0.052441      10   \n",
       "9       13.876755      0.987342         4.991816        0.578728      10   \n",
       "10      16.342362      0.937660         6.707465        0.849383      10   \n",
       "11      24.030615      0.713443        10.734146        1.331960      10   \n",
       "12      14.163737      0.492678         4.768011        0.614883     100   \n",
       "13      13.893598      0.749715         4.498026        0.235996     100   \n",
       "14      14.381640      0.101673         5.503392        0.290037     100   \n",
       "15      19.465429      0.306767         5.963338        0.223425     100   \n",
       "\n",
       "   param_gamma                    params  split0_test_score  \\\n",
       "0          0.1  {'C': 0.1, 'gamma': 0.1}          -0.059580   \n",
       "1            1    {'C': 0.1, 'gamma': 1}          -0.059598   \n",
       "2           10   {'C': 0.1, 'gamma': 10}          -0.059598   \n",
       "3          100  {'C': 0.1, 'gamma': 100}          -0.059598   \n",
       "4          0.1    {'C': 1, 'gamma': 0.1}          -0.059412   \n",
       "5            1      {'C': 1, 'gamma': 1}          -0.059593   \n",
       "6           10     {'C': 1, 'gamma': 10}          -0.059597   \n",
       "7          100    {'C': 1, 'gamma': 100}          -0.059598   \n",
       "8          0.1   {'C': 10, 'gamma': 0.1}          -0.057719   \n",
       "9            1     {'C': 10, 'gamma': 1}          -0.059543   \n",
       "10          10    {'C': 10, 'gamma': 10}          -0.059592   \n",
       "11         100   {'C': 10, 'gamma': 100}          -0.059595   \n",
       "12         0.1  {'C': 100, 'gamma': 0.1}          -0.042108   \n",
       "13           1    {'C': 100, 'gamma': 1}          -0.059032   \n",
       "14          10   {'C': 100, 'gamma': 10}          -0.059533   \n",
       "15         100  {'C': 100, 'gamma': 100}          -0.059564   \n",
       "\n",
       "    split1_test_score  split2_test_score  mean_test_score  std_test_score  \\\n",
       "0           -0.054365          -0.061541        -0.058495        0.003028   \n",
       "1           -0.054388          -0.061547        -0.058511        0.003022   \n",
       "2           -0.054389          -0.061547        -0.058511        0.003022   \n",
       "3           -0.054389          -0.061547        -0.058511        0.003022   \n",
       "4           -0.054148          -0.061467        -0.058342        0.003082   \n",
       "5           -0.054384          -0.061547        -0.058508        0.003023   \n",
       "6           -0.054389          -0.061548        -0.058511        0.003022   \n",
       "7           -0.054389          -0.061548        -0.058512        0.003022   \n",
       "8           -0.052482          -0.060441        -0.056881        0.003303   \n",
       "9           -0.054339          -0.061531        -0.058471        0.003033   \n",
       "10          -0.054386          -0.061557        -0.058512        0.003026   \n",
       "11          -0.054389          -0.061559        -0.058514        0.003025   \n",
       "12          -0.034929          -0.046710        -0.041249        0.004847   \n",
       "13          -0.053817          -0.061291        -0.058047        0.003130   \n",
       "14          -0.054361          -0.061616        -0.058503        0.003050   \n",
       "15          -0.054387          -0.061638        -0.058530        0.003049   \n",
       "\n",
       "    rank_test_score  split0_train_score  split1_train_score  \\\n",
       "0                 6           -0.059921           -0.056656   \n",
       "1                 9           -0.059939           -0.056678   \n",
       "2                10           -0.059940           -0.056678   \n",
       "3                11           -0.059940           -0.056678   \n",
       "4                 4           -0.059744           -0.056457   \n",
       "5                 8           -0.059931           -0.056671   \n",
       "6                12           -0.059936           -0.056675   \n",
       "7                13           -0.059936           -0.056675   \n",
       "8                 2           -0.057960           -0.054952   \n",
       "9                 5           -0.059850           -0.056603   \n",
       "10               14           -0.059901           -0.056644   \n",
       "11               15           -0.059904           -0.056647   \n",
       "12                1           -0.041484           -0.038970   \n",
       "13                3           -0.059025           -0.055861   \n",
       "14                7           -0.059545           -0.056336   \n",
       "15               16           -0.059578           -0.056359   \n",
       "\n",
       "    split2_train_score  mean_train_score  std_train_score  \n",
       "0            -0.058974         -0.058517         0.001371  \n",
       "1            -0.058981         -0.058533         0.001369  \n",
       "2            -0.058981         -0.058533         0.001369  \n",
       "3            -0.058981         -0.058533         0.001369  \n",
       "4            -0.058887         -0.058362         0.001392  \n",
       "5            -0.058977         -0.058526         0.001369  \n",
       "6            -0.058979         -0.058530         0.001369  \n",
       "7            -0.058979         -0.058530         0.001369  \n",
       "8            -0.057727         -0.056880         0.001367  \n",
       "9            -0.058928         -0.058461         0.001366  \n",
       "10           -0.058957         -0.058501         0.001368  \n",
       "11           -0.058959         -0.058503         0.001368  \n",
       "12           -0.042628         -0.041027         0.001528  \n",
       "13           -0.058350         -0.057745         0.001361  \n",
       "14           -0.058714         -0.058198         0.001360  \n",
       "15           -0.058737         -0.058224         0.001363  "
      ]
     },
     "execution_count": 176,
     "metadata": {},
     "output_type": "execute_result"
    }
   ],
   "source": [
    "output_rbf = pd.DataFrame(grid_svr_rbf1.cv_results_)\n",
    "output_rbf"
   ]
  },
  {
   "cell_type": "code",
   "execution_count": 177,
   "metadata": {},
   "outputs": [
    {
     "data": {
      "text/plain": [
       "[<matplotlib.lines.Line2D at 0x21e14445160>]"
      ]
     },
     "execution_count": 177,
     "metadata": {},
     "output_type": "execute_result"
    },
    {
     "data": {
      "text/plain": [
       "[<matplotlib.lines.Line2D at 0x21e144454a8>]"
      ]
     },
     "execution_count": 177,
     "metadata": {},
     "output_type": "execute_result"
    },
    {
     "data": {
      "text/plain": [
       "([<matplotlib.axis.XTick at 0x21e0f58f390>,\n",
       "  <matplotlib.axis.XTick at 0x21e0f5a2080>,\n",
       "  <matplotlib.axis.XTick at 0x21e0f5a2e48>,\n",
       "  <matplotlib.axis.XTick at 0x21e14445ac8>,\n",
       "  <matplotlib.axis.XTick at 0x21e14445e80>,\n",
       "  <matplotlib.axis.XTick at 0x21e1444e4a8>],\n",
       " <a list of 6 Text xticklabel objects>)"
      ]
     },
     "execution_count": 177,
     "metadata": {},
     "output_type": "execute_result"
    },
    {
     "data": {
      "text/plain": [
       "[<matplotlib.lines.Line2D at 0x21e0f516e10>]"
      ]
     },
     "execution_count": 177,
     "metadata": {},
     "output_type": "execute_result"
    },
    {
     "data": {
      "text/plain": [
       "[<matplotlib.lines.Line2D at 0x21e1444ee10>]"
      ]
     },
     "execution_count": 177,
     "metadata": {},
     "output_type": "execute_result"
    },
    {
     "data": {
      "text/plain": [
       "<matplotlib.legend.Legend at 0x21e144594a8>"
      ]
     },
     "execution_count": 177,
     "metadata": {},
     "output_type": "execute_result"
    },
    {
     "data": {
      "image/png": "[encoded data removed]",
      "text/plain": [
       "<Figure size 432x288 with 1 Axes>"
      ]
     },
     "metadata": {
      "needs_background": "light"
     },
     "output_type": "display_data"
    }
   ],
   "source": [
    "plt.plot(range(output_rbf.shape[0]), output_rbf['mean_train_score'], label = 'mean train score')\n",
    "plt.plot(range(output_rbf.shape[0]), output_rbf['mean_test_score'], label = 'mean test score')\n",
    "plt.xticks(range(output_svr_poly.shape[0]), output_rbf['param_C'], rotation = 90)\n",
    "plt.plot([grid_svr_rbf1.best_index_],output_rbf['mean_train_score'][grid_svr_rbf1.best_index_], 'o', markersize = 10, fillstyle = \"none\")\n",
    "plt.plot([grid_svr_rbf1.best_index_], output_rbf['mean_test_score'][grid_svr_rbf1.best_index_], 'o', markersize = 10, fillstyle = \"none\")\n",
    "plt.grid()\n",
    "plt.legend()"
   ]
  },
  {
   "cell_type": "markdown",
   "metadata": {},
   "source": [
    "SVR with Kernel as 'rbf' Result:\n",
    "Best parameters: {'C': 100, 'gamma': 0.1}\n",
    "Average Cross validation score: -0.0372\n",
    "Test score: -0.0345"
   ]
  },
  {
   "cell_type": "markdown",
   "metadata": {},
   "source": [
    "# Best Model for the prediction"
   ]
  },
  {
   "cell_type": "markdown",
   "metadata": {},
   "source": [
    "From all the cross validation score and the test score for above models, it is clear that the polynominal regression is the best model to predict the house prices."
   ]
  },
  {
   "cell_type": "code",
   "execution_count": 178,
   "metadata": {},
   "outputs": [],
   "source": [
    "qwerty = {'Model': ['Linear Regression', 'KNN Regression','Ridge Regression','Lasso Regression','Polynominal Regression','Simple SVR','SVR with Linear kernel','SVR with Poly kernel','SVR with rbf kernel'], \n",
    "     'Cross-Validation Score': [grid_search_lr.best_score_, grid_search_knn.best_score_,grid_ridge.best_score_,grid_lasso.best_score_,grid_search_poly.best_score_,grid_search_svrl.best_score_,grid_svr.best_score_,grid_svr_poly1.best_score_,grid_svr_rbf1.best_score_]}"
   ]
  },
  {
   "cell_type": "code",
   "execution_count": 179,
   "metadata": {},
   "outputs": [
    {
     "data": {
      "text/html": [
       "<div>\n",
       "<style scoped>\n",
       "    .dataframe tbody tr th:only-of-type {\n",
       "        vertical-align: middle;\n",
       "    }\n",
       "\n",
       "    .dataframe tbody tr th {\n",
       "        vertical-align: top;\n",
       "    }\n",
       "\n",
       "    .dataframe thead th {\n",
       "        text-align: right;\n",
       "    }\n",
       "</style>\n",
       "<table border=\"1\" class=\"dataframe\">\n",
       "  <thead>\n",
       "    <tr style=\"text-align: right;\">\n",
       "      <th></th>\n",
       "      <th>Model</th>\n",
       "      <th>Cross-Validation Score</th>\n",
       "    </tr>\n",
       "  </thead>\n",
       "  <tbody>\n",
       "    <tr>\n",
       "      <th>0</th>\n",
       "      <td>Linear Regression</td>\n",
       "      <td>0.703861</td>\n",
       "    </tr>\n",
       "    <tr>\n",
       "      <th>1</th>\n",
       "      <td>KNN Regression</td>\n",
       "      <td>0.705064</td>\n",
       "    </tr>\n",
       "    <tr>\n",
       "      <th>2</th>\n",
       "      <td>Ridge Regression</td>\n",
       "      <td>0.704405</td>\n",
       "    </tr>\n",
       "    <tr>\n",
       "      <th>3</th>\n",
       "      <td>Lasso Regression</td>\n",
       "      <td>0.704398</td>\n",
       "    </tr>\n",
       "    <tr>\n",
       "      <th>4</th>\n",
       "      <td>Polynominal Regression</td>\n",
       "      <td>0.791462</td>\n",
       "    </tr>\n",
       "    <tr>\n",
       "      <th>5</th>\n",
       "      <td>Simple SVR</td>\n",
       "      <td>0.554876</td>\n",
       "    </tr>\n",
       "    <tr>\n",
       "      <th>6</th>\n",
       "      <td>SVR with Linear kernel</td>\n",
       "      <td>0.631383</td>\n",
       "    </tr>\n",
       "    <tr>\n",
       "      <th>7</th>\n",
       "      <td>SVR with Poly kernel</td>\n",
       "      <td>0.206198</td>\n",
       "    </tr>\n",
       "    <tr>\n",
       "      <th>8</th>\n",
       "      <td>SVR with rbf kernel</td>\n",
       "      <td>-0.041249</td>\n",
       "    </tr>\n",
       "  </tbody>\n",
       "</table>\n",
       "</div>"
      ],
      "text/plain": [
       "                    Model  Cross-Validation Score\n",
       "0       Linear Regression                0.703861\n",
       "1          KNN Regression                0.705064\n",
       "2        Ridge Regression                0.704405\n",
       "3        Lasso Regression                0.704398\n",
       "4  Polynominal Regression                0.791462\n",
       "5              Simple SVR                0.554876\n",
       "6  SVR with Linear kernel                0.631383\n",
       "7    SVR with Poly kernel                0.206198\n",
       "8     SVR with rbf kernel               -0.041249"
      ]
     },
     "execution_count": 179,
     "metadata": {},
     "output_type": "execute_result"
    }
   ],
   "source": [
    "final_output = pd.DataFrame(data=qwerty)\n",
    "final_output"
   ]
  },
  {
   "cell_type": "code",
   "execution_count": 180,
   "metadata": {},
   "outputs": [
    {
     "data": {
      "text/plain": [
       "LinearRegression(copy_X=True, fit_intercept=True, n_jobs=None, normalize=False)"
      ]
     },
     "execution_count": 180,
     "metadata": {},
     "output_type": "execute_result"
    }
   ],
   "source": [
    "pol = PolynomialFeatures(degree = 2)\n",
    "Xpol = pol.fit_transform(X_traindata)\n",
    "Xtpol = pol.fit_transform(X_testdata)\n",
    "pol_reg_model = LinearRegression()\n",
    "pol_reg_model.fit(Xpol,y_train)\n",
    "y_pred = pol_reg_model.predict(Xtpol)"
   ]
  },
  {
   "cell_type": "code",
   "execution_count": 181,
   "metadata": {},
   "outputs": [
    {
     "name": "stdout",
     "output_type": "stream",
     "text": [
      "[ 341592.73748714  702667.37247121  484602.50295557  429294.5658748\n",
      "  378655.41394655  291045.28972087  910598.44690343  921104.77044669\n",
      "  460617.47636302  586550.66735013  731339.96841915  394659.86169827\n",
      "  475202.76408218  426663.4563321   822995.07744168  758350.51684819\n",
      "  654129.84569643  666326.41223673  298051.40156476  590545.8861292\n",
      "  559036.56963371  385054.50486406  221439.51622809  547973.74209088\n",
      "  337678.89718459  753777.2049035   429844.95224516  224468.29138376\n",
      "  478858.97366694  431388.71704354  489926.17792625  414934.53985176\n",
      "  292005.225144    332530.38085852  852038.84558054  265890.48536271\n",
      "  316982.5315212   262758.25376737  548420.44289669  384402.02524814\n",
      "  457103.03000892  750349.86201475 1187279.83665116  794666.3712254\n",
      "  426534.65943564  397197.2599421   689819.85399862  474513.44564784\n",
      "  379118.43899577  883936.92415974 1041522.6393923   751245.46532998\n",
      "  513185.35124074  339291.46422092  333044.71135102  479922.34706489\n",
      "  436833.70816643  231423.12433456  268730.20162767  720035.04537421\n",
      "  448312.55058468  651350.70872523  554848.66058586  762796.14679615\n",
      "  962322.06212905  535000.70979527  345488.12369207  600986.73100138\n",
      "  257288.78433548  288195.8662163   921665.28562818  233582.11966174\n",
      " 1260683.17687736  338787.74078454  273999.97342438  540885.12421368\n",
      "  329785.83619587  382753.02905852  879706.71207481  310030.90532088\n",
      "  699942.07160827  974992.84106393  608152.24537662  482860.30836887\n",
      "  420454.27913211  564058.36560529  680999.58220651  642990.79222697\n",
      "  601386.19599646  368988.15354359  434160.68773497  444081.36716022\n",
      "  431568.4004655   610301.9340169   347873.64711065  491778.4845617\n",
      "  560187.03116324  503153.83534898 1359145.66907108  214289.67638316\n",
      " 1871311.7298765   308898.60153298  320834.62327201  723743.65948149\n",
      "  992513.37076187  274979.62151835  781906.01237847  307156.64642625\n",
      "  650184.38100468  352278.34983686  482218.95056821  254600.15237033\n",
      "  349805.52948679  435479.69840427  284334.19849802  490979.59818741\n",
      " 1262482.02636017  497469.09650415  291936.22148741  672156.43026602\n",
      "  331827.76954352  646816.39922277  462714.85072737  281779.79172367\n",
      "  617885.87553288  397157.6018898   492669.47495167  390864.60666956\n",
      "  573345.14169443  267216.51980104  447225.88781645  751322.72842785\n",
      "  455086.27317092  346139.67264378  413447.28013016  420320.46262236\n",
      "  775594.12845954  456014.78567856  232611.0521008   416402.77918504\n",
      "  479639.17611806  396738.53922713  355021.05502498  851180.51892047\n",
      "  675528.25273987  411067.64017332  463235.71660359  568764.70876036\n",
      " 1092776.85535714  641204.17064173  270811.51917845  525965.37833305\n",
      " 1152335.44813938  343415.072917    244294.44462297  403076.53551493\n",
      "  377484.72321734  420310.7395456   352133.18535748  404857.0318641\n",
      "  432427.88274321  372180.894255    801345.13351628  529025.23542453\n",
      "  546297.64794265  413393.46888324  414893.73601699  493314.63379675\n",
      "  510509.47841086  384603.11726653  692948.55677437  263093.56573989\n",
      "  520274.48604777  574691.63496125  590524.17296383 1218148.55598831\n",
      "  340189.33332538  705778.94302989  285298.79746233  333664.9408061\n",
      "  490387.77349145  391590.34331473  519438.8260839   336543.46294044\n",
      "  197522.22408799 1176916.83872217  347348.27181157  595677.87359166\n",
      "  363796.09846673  505168.80829269  348717.48509293 1099179.52122197\n",
      "  444338.34772206  523548.70674558  210710.80360896  404803.30193686\n",
      "  410881.05629436  766676.66241693  510205.94283065  483631.42946036\n",
      "  776444.59389166  437157.19794916  429247.9435244   319091.22836032\n",
      "  454787.59174071  443782.68744113  458336.6823222   384403.57761107\n",
      "  345433.35075297  576241.45596751 1183087.57120199  119986.08170803\n",
      "  540684.84118454 1023326.35991236  238211.76578799 1247449.92429292\n",
      "  667587.19035744  475069.52776946  516738.1569385   624158.59717532\n",
      "  511990.00062887  370900.32470098  592228.43593865  437733.10819654\n",
      "  409030.28064114  626437.68726334  571738.11087551  311731.65948719\n",
      "  445726.18758152  949723.51436807  183888.07567353  806512.27677457\n",
      "  789164.97234542  381855.4758633   251329.37500371  749339.51501583\n",
      "  494441.670453    313571.13199772  408734.60872112  431266.17861309\n",
      "  257142.94453755  469390.92259141  845068.09757524 1436429.33786488\n",
      "  293916.09161789  506020.14851051  691422.89785032 1101840.33692161\n",
      "  221950.90726629  335716.04931259  405439.09125277  356941.31106405\n",
      "  496989.57407548  348264.8120444   785287.39270379  234075.61799356\n",
      "  766673.48159773  381987.92844213 1488158.15303308  419905.60577016\n",
      "  405260.2267648  2221000.86786535  581839.93266071  264626.67419023\n",
      "  295946.40132781  181198.93148983  294719.50022633  915349.95364142\n",
      "  602088.61671809  781343.70662552  432685.94958828  519150.62048594\n",
      "  278647.14225922  821770.13220621  327820.83627343  283360.7505803\n",
      "  248121.30471582  424200.72135262  474433.10789227 1015631.31034878\n",
      "  412070.22454881  800759.74713775  449933.16414214  486436.73412085\n",
      "  467153.80058471  706398.47930382  330577.41795677  501855.23897399\n",
      "  637276.00166579  535062.60356829  587673.51315667  708956.12326306\n",
      "  478819.9665571   412291.93395384  364451.4727934   494047.04678914\n",
      "  829481.60947023  415867.74930801  463459.89019606  213041.63543321\n",
      "  155670.26322378  259218.46566747  464878.43766017  807813.91185245\n",
      "  732384.30550681  372433.15679835  479068.96388482  415850.19180118\n",
      "  247986.67175293  470515.41146965  190792.25927571  435438.9316525\n",
      "  652940.3152977   446531.86958541  687890.83565396  765328.89499643\n",
      "  583326.48314137  964209.28174693  389204.80223486  862591.07702072\n",
      " 1507046.8183022   384037.26007665  742007.53093528  226612.76469734\n",
      "  411403.27729252  445655.67711464  525510.99444115  565314.93062761\n",
      "  457593.49809922  474081.31481572  361435.71644145  575503.78370846\n",
      "  358163.13824873  373884.84168793  751063.61063993  413387.02251327\n",
      "  571552.62953475  464354.92710945  495332.90763416  403103.34383273\n",
      "  392180.30044629  449726.12144875  395604.10470566  665412.06447882\n",
      "  337612.50946929  765311.57234815  304868.48309597 1475192.3863927\n",
      "  319908.2237565  1433060.93812644  273777.9318121   422653.25173023\n",
      "  452632.1179058   731673.25259925  458486.91077189  703684.35289093\n",
      "  276425.59488327  931090.8134117   504824.55576138  597233.32055632\n",
      "  724849.990332    362404.15469947  586729.04850119  615064.61623022\n",
      "  793652.55389609  191860.7436858   412609.28714763  397335.23350224\n",
      "  358859.66629834  602932.33843698  380682.01389842 1018102.50107542\n",
      " 1131829.07833828  319727.29101284  494764.37996551  387600.29116849\n",
      "  573573.31748029 1110137.08594912  439554.70324728  417395.75011433\n",
      "  413367.14684573  261203.55368142  430007.06526467  574996.20911495\n",
      "  264777.17262875  505654.76668061  685197.8726032   464177.64850542\n",
      "  354571.76932618  463995.27960733  352623.31946053  293854.4852103\n",
      "  296107.03594982  233962.1009336   227108.21723159  356316.2325175\n",
      "  576704.05037223  230730.23482334  429547.67143928  509553.71951925\n",
      "  373465.65756018  361704.08409411  596205.17541732  298344.17637676\n",
      "  498434.52413815  328317.83324599  214409.57104836 1381210.58740943\n",
      "  512449.55601893  359329.9481895   362652.04950093  426909.40689943\n",
      "  532353.0641398   221903.72917936  412627.67874458  668786.58750198\n",
      "  321794.38979511  261962.55903173  512469.4563859   629773.66582258\n",
      "  262352.91205164  573914.05817237  627974.89819527  651542.62101964\n",
      "  442481.64003734  589632.59638991  210824.57554856  266999.15382224\n",
      "  496491.31259932  375816.02011446  325466.39207328  936698.57124194\n",
      "  312691.0801401   247698.72716114  831085.69762231  534096.6311748\n",
      "  366322.53642008 1308922.69358083  597942.50647807  497878.99599241\n",
      " 1586501.18434847  258696.45598493  459122.62670101  345454.30503153\n",
      " 1936543.81612402  692489.75700908  693134.53120396  412458.26591671\n",
      "  223457.29008196  635939.70284578  325935.08017962  717795.58168661\n",
      " 1089443.59824222  253217.87013266  340335.62028152  647711.18442077\n",
      "  543310.96227828  362801.95555126  392374.76509457  343757.08766997\n",
      "  313541.16066852  517234.5015647   385210.53249679  216682.34063638\n",
      "  477485.51375445  382382.22082865  593621.7317552  1068212.7859157\n",
      "  212408.05232126  725481.67367543  427490.26466457  422178.22131945\n",
      "  779771.08942832  413329.48450786  332925.6262147  1011200.72716047\n",
      "  397412.90995687  255696.4370629   436679.96155989  432534.10433345\n",
      "  329977.8911593   482188.59052575  736477.95854417  594295.55989297\n",
      "  289302.56016089  549194.2164184   415021.58948695  124058.98234952\n",
      "  361327.53806668 1014099.72549215  338629.32905589  669744.22234282\n",
      " 1180198.8832053   290994.14852573  432521.08277998  582522.80601183\n",
      "  286122.942995    489701.45392941  460290.44226401  409051.94772737\n",
      "  769665.43539285 1017652.86422181  257249.31142984  822335.0322177\n",
      "  322413.8727028  1249777.07027092  778565.9082112   365239.82928079\n",
      "  509550.33920577  343395.34740939  924114.03056834  924660.44937202\n",
      "  616043.85239364  444563.9008532   362974.10715754  666151.23912531\n",
      "  290411.06049232  637536.23205286  588379.10498686  302687.72818675\n",
      "  224437.84112387  591185.90126353  555271.51600063  457559.5303348\n",
      "  239633.27298067  515130.70608724  379868.87470748  903821.70359593\n",
      "  348980.41872647  253986.18837292  746749.54434426  989691.22275041\n",
      "  532753.05038922  473190.0769867   548165.5723847   245357.29605\n",
      "  358842.95485865  456443.03042349  382524.1412758   817865.54657264\n",
      "  290866.59360762  470234.84230273  340005.75977832  291973.61177246\n",
      "  339428.28102129  501804.10958795  345019.82134     329780.00852172\n",
      "  407173.36583018  624736.53801036  457701.23654374  401678.29778541\n",
      "  524540.49980302  551964.33311701  620808.48084304  453334.50080314\n",
      "  319022.38712175  398373.2749007  1066133.57723137  567468.62315164\n",
      "  198297.60952234  603679.94491132  195165.96507471  347978.03894758\n",
      "  291936.33447705 1241509.5656671   195678.45001205  397088.44107439\n",
      "  730709.52991002  624586.0291047   539755.33811693  404420.75966151\n",
      "  652732.15430598  352173.69834383  466175.06492856  374291.4604915\n",
      "  572429.81413222  447397.3336273   277408.93295147  376417.76041126\n",
      "  204908.83903949  714388.26642257  533262.64188288  306176.76449015\n",
      " 1636227.55533135  360880.38756102  451390.06662712  536381.02837847\n",
      "  332371.34440811  359141.83602827  473032.37864438 1360807.92244808\n",
      "  230877.48640834  240089.35043355  490346.14258432 1291669.82493933\n",
      "  544022.40501072  326469.47937946  535341.70490576  193810.3636617\n",
      "  276702.79155481  346469.83279505  548711.12147258 1396406.58823123\n",
      "  577765.17631819  355531.92414719 1746623.20495602  527915.72589747\n",
      "  506443.89293713  731353.48515971  309517.7586149   337912.17199088\n",
      "  561122.08776603  783559.83242105  390962.46109757  383192.47129832\n",
      "  261904.41583629  443402.00362907  278798.94692433  344231.34343489\n",
      "  334951.63472152  490434.10726593  464076.70335983  311859.90630846\n",
      "  732940.60790266  534499.52331086  489836.78319501  455698.64611866\n",
      "  370883.91495929  275437.36895817  309862.11398709  329230.35349677\n",
      "  556059.35717208 1160824.7318142  2167134.40194223  369603.18112441\n",
      "  343176.72924956  630022.83211015  493328.14341938  300351.22545508\n",
      "  452130.40623516  559474.650263    423946.09377502  608301.68828317\n",
      "  557599.16525706 1836643.89209405  413928.32429551  427533.56155473\n",
      "  891822.16772371  514304.31900685  419082.92495168  338217.97415519\n",
      "  261145.78505025  543904.90623439  585838.12875897  551257.59314756\n",
      "  571411.51778931  454464.79740621  846593.53134603  723221.08138244\n",
      "  813516.48986907  590250.24929173  706062.4117271   397707.89208943\n",
      "  324821.45912648  279399.09411248  995118.28307939  414504.23655168\n",
      "  280456.53784616  752325.1350774   708927.05615437  391592.18822508\n",
      "  975488.33287476  429642.1583284   367969.26634202  559122.07231991\n",
      "  202170.68979889  649853.82539428  363121.37576807  296057.45461235\n",
      "  650896.42975959  606176.96322636  335121.29779033  497413.5954597\n",
      "  237109.24935976  860375.43089387  478840.11463063  367804.49783055\n",
      "  680606.75873059  705895.4383946   260040.9747446   312271.94146654\n",
      "  438065.64472324  598041.83696364  729157.35772225  594409.79876693\n",
      "  624375.7683181   402290.30174003  383421.1569703   354711.16977243\n",
      "  416126.96768672  486089.51544403  701039.95976329  252996.68350647\n",
      "  300649.72981816  342912.89430419  730545.51402099  350102.0763424\n",
      "  372809.51014156  449539.98101191  644277.95680683  363358.8345356\n",
      "  549247.50293556  476127.69421529  235748.50454485  346921.93076673\n",
      "  377968.10580395  377315.88139357  726646.42593817  721483.02212996\n",
      "  574745.4560026   329411.50683765  283379.60153605  484296.77326496\n",
      "  336879.51177351  511210.42696513  376454.10434482  269052.72297906\n",
      "  433403.9637396   365452.12296946  903174.00368879  467157.95555772\n",
      "  500706.83207526  636901.66401871  323876.6958971   546163.42061788\n",
      "  636553.24176641  468974.28207813  343505.47187456  520201.24247811\n",
      "  396059.7535485   406910.97631413  617367.28938204  254563.6354252\n",
      "  293209.94472811  428418.32885557  289843.83878728  744432.13788386\n",
      "  271939.72527064  577429.8416024  1074133.82095683  609894.34176593\n",
      "  509237.78351525 1137745.85506659  436454.00592892  330590.56922668\n",
      "  460419.89273258  314881.95818358  344242.42556968  329329.78772995\n",
      "  764970.37097767  782528.66571264  368869.31848972  310220.87545959\n",
      "  573035.06725034  944390.46760691  269056.29809785  305779.3813978\n",
      " 2397581.48938312  518066.59682206  604988.46600776  362603.39845851\n",
      "  319671.46969841  531476.97373661  822395.43267262  546092.91198929\n",
      "  689061.34348729  559100.36582198  301524.56211237  263809.56972839\n",
      "  201248.73985658 1227970.45978207  458431.89373336 1286013.74210662\n",
      "  371388.00189826  467962.37314852  368385.81740726  548331.02364962\n",
      " 1001504.12979757  269544.78222956  534458.07486062  494248.82798135\n",
      "  695776.96048065  516283.55571997  305325.09149646  488880.32440711\n",
      "  219939.90995514  275042.53717565  425374.39233791  315731.73574005\n",
      "  634244.15872606  194931.03580771  947784.12925504  838196.65963979\n",
      "  583411.08940603  423428.8704364   695640.73461897  547775.4779062\n",
      "  504243.43274782  718076.77222674  382283.48147477  660013.86803275\n",
      "  476247.66272521  538820.20547056  342554.11257157  390345.897409\n",
      "  480752.50514025 1389532.7020025   685001.95463118  412488.13301677\n",
      "  939755.95820866  600449.76355213 1394532.73090082  465537.48968554\n",
      "  269551.19386674 1757798.52926985  367704.66508078  741426.17292667\n",
      "  300620.82550684  371640.53589153  445854.80397922  347351.02003661\n",
      "  288544.42342842  403473.30765528  850856.26856358  418272.44032075\n",
      "  492183.55202282  827656.52467991  819451.46882548  610393.88610778\n",
      "  388597.1768951   394327.4970917   595439.08405954  611821.96172244\n",
      "  210091.04754972  365308.60180337  395095.89638629 1076527.61245283\n",
      "  672968.06537295  411217.1313141   526088.60802423  303170.12851345\n",
      "  317193.31316175  537890.01575449  249742.10635473 1593912.27603049\n",
      "  592260.83264086  735931.45675479  262790.66749414  481765.47418893\n",
      "  576683.28128821 2189525.32235706  429295.29294502  344530.01399704\n",
      "  285255.30611815  493544.02140222  541847.95690816  379161.77814437\n",
      "  400528.91162482  309606.69386485  536759.2927883   436854.46001687\n",
      "  328571.68377279  321394.45623922  628758.70153469  423428.59726216\n",
      "  295794.90048394  551209.2243746   506877.09046006  364903.21780542\n",
      "  366221.77071604  532043.02818426  410571.79126786  788274.11375617\n",
      "  247600.24435342  382694.33011044 1580774.32783317  245124.68431065\n",
      "  336933.93866299  361850.65123023  957231.4131997   935609.40904638\n",
      "  463625.35061047  178832.61695428  253606.76512192  327852.26509927\n",
      " 1018554.6810564   503122.79758469  310073.70172598  468671.44170926\n",
      "  317283.77874214  237738.37707109  911498.68060465  596841.28500961\n",
      "  363595.1577677   696713.8501523   664059.01740516  582449.24350399\n",
      " 1192523.89903303  297080.22366697  521733.81247631  377328.46226634\n",
      "  364624.5130653   325770.93714588  942713.78081213  275183.43765851\n",
      "  702307.1538087  1751731.59886273 1048425.39717142  312879.29301103\n",
      "  450314.97240771  865150.02654099  940072.47901941  367420.3293438\n",
      "  451842.55610971  317770.30791521  619497.1105499   381242.89344375\n",
      "  941916.83957451  417512.07602334  588870.60102636  186043.38789013\n",
      "  401034.13521941  317194.05231847  338063.6141422  1072272.21286538\n",
      "  500064.73038403  738402.92926946 1603203.66867371  622190.92526594\n",
      "  460704.72091468  638946.44960811  744634.41460248  290321.39181733\n",
      "  521107.69394599  476706.42256541  398384.84889001  315480.98573852\n",
      "  356089.94712141 1436265.11345758  636265.28973063  337499.86693473\n",
      " 1138958.18441858  649203.94007575  759736.00242824  340256.49177286\n",
      "  793290.04962608 1803863.00879264  272559.59051408  404475.82341929\n",
      "  892664.67791763  478705.49103454  319079.6704476   559652.8263374\n",
      "  580929.35743431  522074.41152721  401080.27459641 1019747.25894379\n",
      "  343504.53747075  245797.370475    451790.02676543  482922.27653095\n",
      "  514348.96233229  597721.14420781  744608.3875133  1006777.62676047\n",
      "  588878.5104438   262407.82765924  351578.45002894  425108.79447491\n",
      "  355445.3863059   415647.24509915  374411.64123955  322490.37108086\n",
      "  441182.96631064  321369.37479419  586057.95494782 1776958.19596143\n",
      "  600203.08212586  328103.92814909  467540.39993538  668447.16262495\n",
      "  319326.36315697  412939.77077249  306229.69839458  469972.4141088\n",
      "  530156.20306534  841876.48340594  571374.66753209  369380.58442604\n",
      "  270030.92097425  471924.75350494  246936.18741709  503379.95012223\n",
      "  536090.23686805  659188.79398194  300201.46750495  489284.32605395\n",
      "  413517.09032927  428472.44063454  266034.66391784 1238131.52464272\n",
      "  704705.83473853  415757.85765051  652171.45271812  213786.59946631\n",
      " 1171582.48519712  463846.43146918  394721.48791036  631256.30728443\n",
      "  376139.70140006  880120.14955612  432799.56020282  560256.60542143\n",
      "  760247.56132205  663130.99074209  387671.0947086   411061.0435887\n",
      " 1010688.39108037  729231.54467935  583719.25882167  336872.11932325\n",
      "  715132.00824545  572106.16176266  316595.85436395 1441695.74985416\n",
      "  317214.36513771  344251.92023639  391151.97178337  599898.7389205\n",
      "  559068.06743226  407318.26664317  331315.38765757  324260.84825702\n",
      "  635864.44677696  479211.01983145  662993.76215322 1819296.92335798\n",
      "  550462.59485924  673628.26223557  442782.34853538  641881.9739817\n",
      "  462371.17067839 1264497.01451039  436268.74808807  891514.91055364\n",
      "  450367.27947831  629712.46813137  592303.62448805  426787.3510608\n",
      "  295206.7638144   338690.89141144  377799.22180706  496525.27459277\n",
      "  534941.18718125  485200.12391114  990272.41246873  541023.88407304\n",
      "  300563.2093592   493197.77592449 1561037.17795027  652610.15803234\n",
      "  343363.68571607  342450.81415495  555417.31325547  319995.75394999\n",
      "  606885.69421621  371873.48811728  411473.86505997  537278.5162912\n",
      "  260301.13768713  485981.70534138  371211.19493335  253883.56266005\n",
      "  951681.71972074  652869.58912665  273548.72200793  472877.3361247\n",
      "  389975.88932181  953443.37316456  394996.16100571  418386.00463571\n",
      "  324651.66448105  360244.66300607  335094.07847593  523470.4348231\n",
      "  639052.05511057  615358.67563497 1311656.76585252  444610.28423695\n",
      "  436451.69298435  529820.98339362  443645.89091747  379205.97819946\n",
      "  835955.51477223  317782.61818196  498501.12713468  777748.53576631\n",
      "  236075.60868947  304645.2509675   617475.47791431  472869.58475887\n",
      "  246220.89983145  563231.81286555 3760795.70724724  276858.82946864\n",
      " 1002520.93714684  822168.38364673  966294.73127691  579792.76020125\n",
      "  382782.21518935  454050.20028247  350046.11761834  749218.45307873\n",
      "  259414.45104964  379947.39197002  521848.22947976  239344.76507034\n",
      "  281158.26100414  409833.52077183  336170.05260345  734761.59914356\n",
      " 1258024.18908246  468450.40066989  410549.88909328 1177844.92362693\n",
      "  370428.83975737  236174.60218653  301679.85527673  311082.2575746\n",
      "  499135.8751316   737386.62126123  396161.25119678  212802.98749051\n",
      "  289358.92535158  585710.47541754  754008.24365567  350305.04518697\n",
      "  203846.9225628   408056.92911234  432734.82294451 1185816.40270302\n",
      "  413327.79010895  437418.11106475 1069101.7182235  1502736.7754453\n",
      " 1050330.25811127  769658.67350463  484897.04823755  743979.7607112\n",
      "  307992.70390379  489250.96257219  611142.24252772  509922.29766206\n",
      "  596165.80529172  385321.97167035  539420.21832562  314486.20806143\n",
      "  626342.91316439  770553.36881756  523653.06652044  492945.98772584\n",
      "  423739.74711804 1636403.09598849  795591.71400115  305554.54774923\n",
      "  807767.56161685 2246676.76155557  531830.3683132   410287.7105309\n",
      "  344632.26472232  334414.49073647  443491.67177332  361427.88174419\n",
      "  544686.0235999   736752.99526039  485550.41469253  698440.34286086\n",
      "  605431.35538452  480530.96902558  600783.97210642  845300.43967605\n",
      "  469150.97458061  375627.22257284  846863.29260103  405135.223602\n",
      "  726845.98452054  549533.04169623 1975701.32571743 1791919.75152347\n",
      "  624926.48430897  448636.85428261  890468.71573266  766237.01745062\n",
      "  402099.37667545  286772.97615481  510542.37505924 1794127.9262481\n",
      "  318417.30503696 1139236.11831239  668722.82301709  680830.73914035\n",
      "  241826.69327233  468850.23297739  757655.41732218  535656.93950739\n",
      "  746902.7901097   472591.92398964  383949.31405849  469035.54385277\n",
      "  256755.45325699  931636.15110921  752995.45774704  290153.26793191\n",
      "  930932.03832672  311397.9529036  1219442.06208988  231259.88857048\n",
      "  851900.5560882   243002.4901769   425456.99922619  411719.31895338\n",
      "  756087.14026196  334492.33114157  215473.43898844  343505.00533893\n",
      "  948955.52103641  335933.1675654  1477963.40507557 1012286.56259412\n",
      "  751014.23115816  256700.73940816  524493.65529321  324290.27148668\n",
      "  544403.04313017  611245.79490702  271212.54369183  311365.10649113\n",
      "  339334.18782843  547009.41612602  245020.52004577  233707.51247419\n",
      "  705735.46970082  618700.95796315  613565.09105712  528532.48268667\n",
      " 2549817.62033773  623291.86235849  281421.0172818   868649.47187288\n",
      "  258635.94450276  465404.62045452  330740.72898185  292878.42588746\n",
      "  417059.47943093  414835.27820057  215330.56569608  350765.90552998\n",
      " 2017330.04054206  485138.42494689  331753.42751729  844790.45317823\n",
      "  723548.64989236  442452.91166799  350263.65529931  539976.75710503\n",
      "  276131.3889606   403883.49626378  350297.20123441  561182.05963112\n",
      "  516980.9615095   251774.56029453  311334.57146536  849287.39433772\n",
      " 1010673.737853    526247.0575979   585149.42909004  314532.8940515\n",
      "  387319.73839645  300250.36071293  302579.08392042  655677.54019391\n",
      "  329559.16827305  562579.02926171  489240.49774313  283504.52736642\n",
      "  213352.14542596 1355613.24821252  383932.15822959  154386.30062382\n",
      "  930383.85430047  447919.17614656  515100.01037492 1002501.18409325\n",
      "  381594.78150286  589155.22874633  269782.80992012  324397.59301916\n",
      "  351362.88483861  402315.74882081  464802.39552827  900875.78641709\n",
      "  471723.35016002  696597.54850061  550793.14274463  706479.89911761\n",
      "  555999.52236622  364306.16303566 1111566.89752373  325780.571349\n",
      "  494129.94524883  426104.39761693  649959.93524955  390415.37362578\n",
      "  362801.03512492  387619.38729546  406628.91244677  235259.95495182\n",
      "  794794.19467594  365512.30501628  576992.83275825  321609.5096192\n",
      "  476780.5933721   532557.83812637  449074.23736703  431170.63012121\n",
      "  588846.10309111  349248.8518999   359383.91520512  293201.59704184\n",
      "  629072.32282928  486040.50858539  365333.61983393  420239.25644313\n",
      "  783939.489854    331488.10470475  876362.78910207  622960.49004223\n",
      "  420990.21398798  311224.05896139 1369378.84427385  425416.01377263\n",
      "  438366.74799856  527257.70429274  341641.76441342  369648.24466942\n",
      "  529358.80013097  344271.65451094 1104171.75177216  720078.84687922\n",
      " 1021907.41349444  444295.13960591  303628.76665469  384531.73222444\n",
      "  377459.19878871  193437.18493919  510979.93582953  324805.32599513\n",
      "  508202.99807777  440854.15427369  318243.08460462  316487.79503347\n",
      "  410962.90205791  344074.63244437  455754.77771135  484307.82915042\n",
      "  429345.07743206  458821.11247598  673800.75668708  397471.32674763\n",
      "  399982.94381207  518187.50849329  329939.16215802  220828.31896717\n",
      "  662557.94820914  246794.72765543  366053.56402248  442047.97732877\n",
      "  415175.35932478  374447.23932937  410905.43292388 1251061.99824557\n",
      "  383158.79191926  299654.15294686  401531.42487624  284454.18990082\n",
      "  493041.60927141  364102.65316321  339470.07226508  679853.99146343\n",
      "  500115.23519419  362146.5514888   270633.6109544   301274.04428315\n",
      "  499427.12178962  344790.92887013  304867.76016919  413719.08585038\n",
      "  393379.77728098  432422.65065839  280020.93161366 1013989.64115341\n",
      "  304411.15630991  370772.92154606  366129.95436495  656029.69233967\n",
      "  286433.42808217  314903.80732072  851862.32534683  498989.66739772\n",
      "  852423.08023737  998684.51082026  346993.77462479  573929.59181718\n",
      "  504666.68672355  364739.66852686  386302.88352738  254869.8365364\n",
      "  576883.66749995 1027159.13883568  496374.66828443  343410.91838298\n",
      "  686109.03429832  315716.04433008  516824.22698706  241671.88200848\n",
      "  233414.59102693  401041.84600276  414564.53866684  571572.97564116\n",
      "  632229.32690576  466976.2520582   304417.83133348  376735.97921933\n",
      "  272691.34177306  210857.99211211 1233935.15149953  789103.20036282\n",
      "  621993.14522174  747026.62394809  412553.68261929  484799.89588253\n",
      "  650248.24031131 1579692.23517512  453620.72234884  495497.37615581\n",
      "  438355.97981164  717587.67344882  456831.53340598  357762.01097805\n",
      "  671723.39788733  667600.15129257  380495.18064953  632972.35373587\n",
      "  670986.96908694  369505.45617655  208592.2961357   348853.22605377\n",
      " 1236999.79484178  375740.94075641  913258.47064388  289658.9208294\n",
      "  792377.36826528  410417.91795018  533790.49059909  262429.19417531\n",
      "  468551.74961257  498037.5569303   365515.43744104  499946.12364638\n",
      "  505356.35852925  209008.07153915  402764.44913165  519342.83646573\n",
      "  394520.5004892   609191.62490774  460296.85138484  349179.23127712\n",
      "  276242.01293735  650308.35999922  992386.44894165  382776.5988245\n",
      "  496269.23694737  317346.80674411 1211990.11283933  298250.36060817\n",
      "  390453.81207778  366839.40343865  351510.60518583  580051.67653583\n",
      "  752998.31145825 2234458.24804375  828652.0415426   425743.86559891\n",
      "  337582.84385243  380291.61355541  221158.76572644 1624669.86134733\n",
      "  337769.89248585  899200.18536536 1122117.69557587  606645.47010254\n",
      "  353912.77186953  324322.52237166  329381.76256638  380979.80850413\n",
      "  424762.1310753   377954.90848391  651168.20559194  814634.89544915\n",
      " 1048568.27219467  672842.30034185  417680.60920316  462914.80577463\n",
      "  305869.93468361  886649.05031802  493820.8028831   250280.55180564\n",
      "  885046.82103698  624532.51706209  312649.93446022  358932.45915777\n",
      "  327775.80975327  966024.14083617  338124.05230521 1129246.93133866\n",
      "  347414.86819704  400534.05947711  508723.67713147  492276.73486058\n",
      "  534454.23674497  536514.81010241  413839.58606144  221225.77303707\n",
      "  318357.77184628  288052.28163471  370869.99015297  456285.49970659\n",
      "  522729.9681293   565998.56154111  212392.53374886  560782.32435881\n",
      "  558225.60777548  275227.84031119  443566.51880136  316821.88291542\n",
      " 1159998.89905476  551013.18863848  292998.61393359  426249.91513112\n",
      "  398957.13412587 1080955.43106172  404768.29355649  474502.5327407\n",
      "  322763.15873427  455875.52987725  314811.91768875  369473.30909764\n",
      "  438967.44666989  178144.94784265  349512.50642299  779504.21206485\n",
      "  308633.23438646  594127.71977647  772581.43523228  305703.9467718\n",
      "  343308.63038169  800469.71434695 1091280.35222698  848406.48823275\n",
      "  457659.72570438  434004.24589298 1374946.13332107  257712.57173063\n",
      "  394466.83557996  937152.73809547  687326.13737008  283401.75845378\n",
      "  505447.21516598  708521.53044397  487909.89110424  536760.7438788\n",
      "  304604.58984185  344442.43305162  328645.29058049  682687.14656665\n",
      "  322771.64719695  411119.15189112  497260.26474843  421920.60026736\n",
      "  393804.39143483  560623.80802906  758691.19804163  546135.84887476\n",
      "  515579.2820168   435232.95768912  217641.29262531  908792.76134634\n",
      "  929792.37505011  252394.01960774  985725.46836914  276083.49692357\n",
      "  539424.5551534  1491877.95240542  550561.20130361  464299.61897723\n",
      "  177728.51849832  727071.85052938  646707.34963311  237977.12478371\n",
      "  297576.56633246  371061.92353861  340356.51371162  307380.52907321\n",
      "  480617.35412238  815697.56765032  225578.54242624  463877.18367458\n",
      " 1174921.44601282  308035.45300593  475743.51092041  568636.30141351\n",
      "  395310.27604253  331621.09192202  281210.3423028   404640.33099283\n",
      "  322597.8393121   366753.71476346  265063.40544813  775678.98154983\n",
      "  859396.82032837  290119.24210208  349569.43633727  466671.60160743\n",
      "  297307.00188408  297867.10725243  252590.24751664 1583658.9324555\n",
      "  486870.32307758  836231.52296207  396026.19206623  526448.13508338\n",
      "  454792.4351044   273787.4630383   560337.34865099  553668.16221847\n",
      "  459517.70527871  362141.83849303  544324.27792342  762327.26676598\n",
      "  640462.02275013  615723.87385147  443597.62616185  702279.62145849\n",
      "  559076.67606632  694894.81157991  510378.04382663  204037.31864647\n",
      "  448308.7423414   631208.75078081  716950.37605547  385719.46516537\n",
      "  859678.03555817  392991.44356758  305752.0481862  1366635.00334628\n",
      " 1185658.96426544  393052.32510151  343134.3267783   685735.33987277\n",
      "  355935.51038929  765359.33730608  353535.87784594  447898.44021756\n",
      " 1088473.291037   3844743.72409679  727730.52103396 2000787.77774251\n",
      "  447895.26331521  729088.51112675  336330.4071018   207205.10322777\n",
      "  924561.03554022 1593332.10993414  495923.2526354   494508.28601733\n",
      "  363485.29479559  484873.68198356  667905.43630166  291055.2525773\n",
      "  767405.39566303  432693.55797952  324348.99726726  264687.29674069\n",
      "  375125.60920016 1276473.19041925  361955.96707203  365988.49223817\n",
      "  410917.73901516  474735.31704048  606996.29886464  501099.20638302\n",
      "  462011.61835797  480451.04977812  695290.32633685  404073.81836686\n",
      "  557974.59009911  390613.56855098  691616.20732179 1233569.40248062\n",
      "  825208.95906409  508935.02976336  235224.00154445  314260.66712002\n",
      "  371716.72272456  495649.26191427  476047.39322743  542188.9124831\n",
      "  563416.40174899  258422.80026553  432638.5474812   508837.72001092\n",
      "  466118.149144    525228.98908607  480429.87983322  389468.53884098\n",
      "  255434.71573994  323579.81970776  417772.01105003  438575.91997856\n",
      "  330041.81045089  336387.63278109  913638.55057516  925322.07558515\n",
      "  507602.27897674  346942.65844153  315716.30556233  522075.42406483\n",
      "  872322.06196213  481373.56287096  406916.81150792  674276.34419053\n",
      "  574862.33920201  377677.29721476  381902.71439954  370781.31524556\n",
      "  468110.94084342  316637.91813582  333476.08504404  368519.37265704\n",
      "  378813.98971864  337259.99967414  300688.23526217  528444.87268367\n",
      "  424935.60842817  485815.36582188  375685.43926128  296192.64045863\n",
      " 1162966.69099649  514776.91632465  189273.79711465  311124.4513794\n",
      " 5888341.93135924  409259.55117612 1694530.54355697  492179.5681587\n",
      "  319868.69059134 1181373.62010504  399343.19936629  725927.10728643\n",
      "  358330.10860448  271438.08767358  669348.39775967  472471.21721198\n",
      "  760057.06830533  348913.80401704  888081.37468488  292172.59295146\n",
      "  357260.88636079  722076.45609827  588696.98184545  402396.26625828\n",
      " 1322522.34673069  254981.8562856   844164.75398545  415214.90136415\n",
      "  929260.18317764  351286.18533586  473192.10774293  553677.95357687\n",
      "  371098.0724009   240341.03296195 1290158.87346182  725140.82728386\n",
      "  414997.65862002 1177478.4712548   488735.62308879  334451.34779124\n",
      "  360495.55615709  706984.72669772  172533.95285108  881260.54655388\n",
      "  384634.37764301  548348.38371769  651211.01206797  302114.38518221\n",
      "  329601.36692808  294247.98464354  433920.59053724  387883.21283571\n",
      "  335960.29292397  628402.6402665   392547.38889624 1731134.5982465\n",
      "  575633.13809996  814460.74236552  375608.78244618  840914.9352694\n",
      "  340676.38947769  453675.58329903  753624.29425977  924754.36541593\n",
      "  454033.41864851  837727.63902409  460876.51645657  388574.08886468\n",
      "  628605.48735823  250985.11433972  437247.3321431   457451.16460829\n",
      "  340429.83310108  366798.2025855  1023719.12027439  544007.67673359\n",
      "  354160.2282793   543698.23990709  374778.2496273   440699.23334667\n",
      "  684052.62432998  693728.89068294  419575.49273894  604296.5889353\n",
      "  305907.49692695  789407.56482738  792932.13134807  775996.94669679\n",
      "  286970.43237792  260907.89421122  484190.05936899  394954.27020212\n",
      "  680502.86265083  476107.34801114  267299.98040248  379463.45218358\n",
      "  568340.74378574 2522596.13653833  439161.79625959  352685.4073952\n",
      "  443999.95806701 1576984.56986579  327803.59445135  496225.05402979\n",
      "  398142.44986964  414947.47568528  346549.2888452   311710.69911037\n",
      "  373191.3838235   609243.39980028  375224.04747806  461675.98682772\n",
      "  283688.83701098  446908.41138245  316855.57553473  315472.02201475\n",
      " 1020602.74741854  369126.28364799 1370278.51052449  316854.7867608\n",
      "  391112.91783388  454493.0608364   693883.03794301  724503.88691751\n",
      "  277846.03653103  339475.26427455  287506.18423827  606322.77519886\n",
      "  347832.37132949  470333.24144364  437067.64799435  594149.37020353\n",
      "  416051.35414978  727039.06830928  665128.4186975   893342.25354911\n",
      "  480603.9649457   510262.07268413  402227.76921151  548718.2465854\n",
      "  330820.28323496  561406.92166059  605376.09464298  263516.71078744\n",
      "  323834.41592223  236430.67817745  371616.71111748  470493.00032482\n",
      "  325838.31446152  375766.93860815  366451.05114364  330245.18568612\n",
      "  370895.04909122  609572.22096999  340819.22940892  402112.99882396\n",
      "  228711.59385358  465346.85158392  278873.70336333  375213.99845674\n",
      "  369330.55839861  368983.16959766  547871.2799762   268870.6479766\n",
      "  199766.34961586  909850.2804834   772584.04702786  172391.66336557\n",
      "  325994.46810874  404789.65262969  503968.20095891  480352.22698725\n",
      "  609610.28552958  552333.86716599  267978.63908043  378532.24949362\n",
      "  285197.34220193  314109.92435988  267241.50999938  312471.91322096\n",
      "  913721.15855235  585877.04760614  301628.37586957  341524.18243648\n",
      "  311876.13240283  911860.56148491  571158.1381363   524112.38173273\n",
      "  614917.38518672  239467.99186317  270951.06029354  866171.40313854\n",
      "  800389.49116645  999618.93463004  336161.30894924 1170104.0612131\n",
      "  231096.57077698  372917.21581475  257557.72058758  409496.58219726\n",
      "  345684.5157607   768309.0483393   260671.65608032  520544.92606765\n",
      "  242554.68476667  797768.44318349  613443.57617097  351155.48321348\n",
      "  338652.22171047  765627.67319762  367668.01072915  576644.67366626\n",
      "  276704.85198358  931017.3928238  1123707.34111311 1517700.60792056\n",
      "  799686.3534889   360157.64753287  481980.27740632  990939.76164107\n",
      "  357025.6117759   419640.12123581  366108.98999002  480615.26241088\n",
      "  259513.17145528  537571.86006252  437277.76313062  522126.76405053\n",
      "  811588.5322404   304357.19839269  629017.05056458  414281.86809415\n",
      "  321330.08739372  533133.80493647  440534.41495974  335458.24756293\n",
      "  794955.94506127  232872.14379619  420992.21523954  612245.40827719\n",
      "  406480.39647965  535866.74554391 2302651.47108247  348579.12048745\n",
      "  360579.70782268  672310.73005397  350043.26699533  158546.71990765\n",
      "  233285.94835426  356915.59331502  853765.2940248   418543.51482278\n",
      "  606630.58488694  266126.94946971  645332.32898371  598277.32633314\n",
      " 1157390.60692937  438463.10319292  762772.4343714   578437.95896792\n",
      " 1359925.54265944  485234.41517221  530910.20925031  519874.66773425\n",
      "  539201.24841609  707082.21510774  431680.35603237  695139.54643731\n",
      "  810366.3298762   382813.29364189 1902737.76137966  339497.12508306\n",
      "  435099.10618035  193908.33799849 2039848.58768878  660457.74218773\n",
      "  291864.74782455  432005.20133279  363282.46909439  546464.73004206\n",
      "  688350.13523301  477595.0958816   374902.16433165  413214.35355873\n",
      "  574166.79975789 1512112.64909641  464865.05303331  483214.37633586\n",
      "  462569.06841072  410818.91995827  523575.37027208  234732.81102871\n",
      "  224380.81163495  504948.63824555  454770.34874204  928313.07518187\n",
      "  331199.82995146  602903.66407341  328466.84784988  425480.80484416\n",
      "  498024.16665909  518797.00650565 1213355.85032259  673746.40696379\n",
      "  251980.98276088  792681.01534366  203242.65518202  393261.99593184\n",
      "  201064.90490494  263888.27693781  376626.42614325  230254.33084981\n",
      "  394351.67724961  169961.30861399  185507.28263129  472817.89007038\n",
      "  570334.95186847  470994.89304411  693996.6312241   816060.44802842\n",
      "  308768.52405187  717605.98470235  316484.65327087  417604.86037908\n",
      "  639216.63479058  673396.79315547  624952.54085235  802871.67114024\n",
      "  646111.51923384  519903.04643932  444174.65929143  652658.28792319\n",
      "  358666.38169936  495332.60068678  384511.80272541  548745.4129832\n",
      "  529437.95054627  241486.83248782  313411.89778187  356101.08606838\n",
      "  316362.00987274  671794.45338941  401237.141416    477901.99779128\n",
      "  338613.67226395  445008.54802941  562935.71554376  525626.7927904\n",
      "  387029.21340206 2521672.33568099  562679.69716013  871223.37814083\n",
      "  315807.40957095  744633.80954415  359315.89690362  528524.37667134\n",
      "  205622.02967068  373739.38519125  269397.30427479  452133.1640531\n",
      "  594686.13719221  449031.96640617  242170.84029122  626458.28365618\n",
      "  412017.81928768  973100.59375561  324028.25253306  434161.11185567\n",
      "  367872.8801503   862312.8994796   887186.5324282   571250.25329577\n",
      "  428827.55847724  782599.35578025 2996485.99278575  546393.74883908\n",
      "  657749.2916426   430420.31742472  461991.50847546  549377.86718236\n",
      "  281247.14032713  525655.99987412  567254.82022239  569305.99146311\n",
      "  345391.12113544 3277194.93651907  340002.89497507  404954.4465903\n",
      "  568451.50127348  625035.36125326  380642.07975804  893789.34290052\n",
      " 1284767.0263793   477584.20189325  495676.8243616   354457.8850876\n",
      "  540143.66254497  458468.54529888 1158875.73614023  329071.12278809\n",
      "  341320.21111337  401804.15882453  376565.39974621  371002.30967833\n",
      "  408941.71024519  356359.04594217  438694.77621438  726537.67454763\n",
      "  607894.98969714  266067.49667698  414925.57025338  265126.16754707\n",
      "  398915.54324121  473988.14653094  789346.52952129  287433.52929747\n",
      "  998217.38421486  424527.84302691  464066.12281357  332606.91753121\n",
      "  348530.61375152  485295.94107592  400638.29848377  753272.76243625\n",
      "  305022.10180193  257849.1947598   242899.78071963  285866.20039429\n",
      "  579273.68158716  435401.84161586  345353.40927775  204857.81339938\n",
      "  513355.48300319  487463.50913348  254549.6146965   402660.4672717\n",
      "  246522.27790051  465800.72395785  664413.45931582  439588.35300913\n",
      "  319025.31643067 1084937.64254423 2613179.83129969  700065.3077548\n",
      "  491404.25322535  595702.6438076   378220.46130243  788168.02091809\n",
      "  272299.40188964  248099.30999491  318753.71590638  410492.99989131\n",
      "  320333.72365298  528044.34206575  483916.57919065  283985.71550996\n",
      "  286434.88161963  320424.04571286  764077.37031341  275857.78369705\n",
      "  852333.80281553  445396.78460323  303347.891655    507259.5720278\n",
      "  250221.31819805  578740.92960243 1264774.80269608  649734.85168242\n",
      " 1400647.8077582   355274.51076444  406788.64914898  322114.84332172\n",
      "  275451.34283657  266857.54557044  338203.87005832  457073.49534804\n",
      " 1287659.58583589  849885.15488532  275897.52485949  510736.70972608\n",
      "  262426.37652573  430635.04549024  332903.68515635  279312.83294639\n",
      "  531179.1949114   390993.43465256  844805.84314902  406219.3335894\n",
      "  383570.31814572  458559.76806472  259508.65554053  508320.26099839\n",
      "  578150.48735978  409204.67944263  363920.3932725   439030.61750353\n",
      "  714478.86307837  246988.09754017  582894.03907007  546493.29874376\n",
      "  328889.14307011  582496.98651163  374099.41454343  437072.66601296\n",
      "  353783.40123834  321320.41616734  339266.82093926 1221981.74962864\n",
      "  343871.57630304  385174.69895129  599244.71781019  359705.02216733\n",
      "  304808.00162911  376549.01170938  150722.39384297 1251188.0128279\n",
      "  531891.74259619  501181.55951519  343658.58034804  438960.91502051\n",
      "  355690.38303554  622565.12369079  424882.45736744  567797.01766131\n",
      "  422090.23534193  373513.83303953  502940.14296391  443323.89181682\n",
      "  644990.2812266   575033.4801286   332733.57666713  419865.57486425\n",
      "  330971.25173193  591311.49033018  468683.23582841  780437.75257566\n",
      "  316464.63257508  966122.221997    484296.51375396  729506.10091404\n",
      "  720434.84966659  364911.73337158  499028.21763253  210280.09852111\n",
      "  791022.35308397  302169.65531539  701628.57553316  404786.71913926\n",
      "  607362.74255965  635880.7571306   310247.01423563  348731.87534182\n",
      "  863434.55224109  373557.87699782  360820.9338861  1151664.23041828\n",
      "  413576.346441    765513.80371923  605319.71361788  527787.13491074\n",
      "  493357.2094255   621609.38252067  346907.56264052  452355.77503504\n",
      "  384290.68208254  208924.74146314  578092.60956657  391068.66315283\n",
      "  518106.48756036  749052.95336813  215678.912131    467915.22295353\n",
      "  851618.92352966  797253.84903679  499139.63386188  420735.74898557\n",
      " 2673792.60671445  559404.92409086  645042.91371327  472151.84329154\n",
      "  409019.45324274  405730.45777376  508125.58229367  779276.57740235\n",
      "  710273.08472569  339807.22732839  329876.4132049   834593.81520916\n",
      " 1528018.98621497  438382.02812976  496782.2186807   396894.43169961\n",
      "  531792.1352013   483532.69330399  229038.57078901  260605.76808085\n",
      "  312617.35033221  403692.86002067 1122674.5576731   436373.57278733\n",
      "  365511.86498136  383518.72348673  535181.690634    504783.60340057\n",
      "  760176.95093409  429506.70465265  887308.3461167   477041.64880879\n",
      "  198447.47629248  753397.90662097  290691.9392455  1406171.14617838\n",
      "  541935.56474662  448802.05885709  683706.97665846  900932.18288586\n",
      "  282545.99286567  287090.09693398  307613.83761011  528083.5520223\n",
      "  443744.50859128 1274792.25916115  280922.85525834  573688.15877797\n",
      "  369259.75888898  748845.43835595  346261.40428319  276791.27776612\n",
      "  948016.1419206   410829.08391495  543323.38673225  696686.10669817\n",
      "  372243.75015351  794814.54672581  483202.93653342  413932.82750896\n",
      "  812691.17170708  220446.2302307   443854.07668923  370245.56793212\n",
      "  340417.98129296  634923.12830081  514427.48798226  224947.67493026\n",
      "  520408.16810029  513796.93402479  422097.95818094  257213.92719054\n",
      "  406351.50448952  299382.54439022  684985.30435477  484654.37748133\n",
      "  345922.41822111  493444.8706154   493809.12376773  448717.92927684\n",
      "  410081.08606187  462756.47955265  367933.63653871  481150.84903354\n",
      "  363251.22484862  293728.51404057  250250.57877163  416993.63050543\n",
      "  814954.70522059  418282.00705502  463877.65759183  239335.80912843\n",
      "  138087.04095287  912245.62624759  610148.90448291  619801.98652988\n",
      "  294640.16756654  544214.35335563  469044.0958306   327394.55439966\n",
      "  638952.68758117  428086.61516634  259956.36105637  253486.70414662\n",
      "  278145.8868271   481272.60153799 1533563.98970088  672222.5973884\n",
      "  305449.33972772 1085253.69626071  498656.34642833  339064.07264718\n",
      "  375654.49763099  643412.38312535  385494.48609313 1005387.44681279\n",
      "  399942.43078514  824828.02592472  766896.82094188  794677.23506794\n",
      "  413167.86236497 1341110.57988353  390963.0371466   399735.62093362\n",
      "  401978.1986846   724295.04282013  198196.40458769  496555.50841412\n",
      "  505150.42229129  305770.20163186  423218.87421622  223436.00537443\n",
      "  613560.50337512  765776.34194458 1339491.97249217  594687.62618894\n",
      "  562689.80753173  624970.92737035  588381.72751549  197243.54117649\n",
      "  270357.29241641  678973.51495278 1755760.33730944  482789.8941148\n",
      "  390108.10171547  308730.96114626  245421.06653645  309347.5247324\n",
      "  725910.00092292  386069.75274467  347223.40021508  310698.53757883\n",
      "  577593.50379467  727897.06692989  272145.14682683  484090.62905898\n",
      " 1375597.16308109  374181.67325783  295738.54851148  237023.14860388\n",
      "  349032.04326649  346148.05941686  408332.76425795  914131.154244\n",
      "  361354.12457985  651437.51387685  364528.45647132  289810.70188041\n",
      " 1628762.4882214   343890.27921892  288325.52687458  620773.5950956\n",
      "  668067.48896577  370198.37303683  382436.15262684  775646.7858525\n",
      "  432544.60225628  362729.30892873  407501.20727472  239533.14482371\n",
      "  299942.88944751  489922.27717754  398569.64687682  585647.20283373\n",
      "  412845.52095391 1336822.94775266  763092.44827585  266113.36941891\n",
      " 1423905.01408436  580914.13177505  401251.06714766  267904.55289013\n",
      "  538783.67442351  352970.79733909 1828410.00975125  245035.48509931\n",
      "  177356.54733516  342003.25043708  601568.00917441  607976.69161409\n",
      "  511814.13417557  930732.74757144  321727.13639663  379028.38022712\n",
      "  322890.6764664   479076.34260878  604662.13044863  325752.84091616\n",
      "  463251.49381539 1239149.66012036  495238.69953475  297945.68287412\n",
      "  597310.13892209  360103.10972596  440737.13690515  517431.0731244\n",
      "  583989.88706883  411957.08340345  239822.84581465  508871.83462091\n",
      "  269751.28656532  229998.73210934  331427.8329673   591938.03177306\n",
      "  362590.91859711  674565.75451421  824069.95792823  754003.92242236\n",
      "  350368.55403348  368718.81629264  295039.70543823  436763.86588309\n",
      "  586454.62820192  246701.56829181  878520.81883664  603428.21925658\n",
      "  281984.91580115  445773.76448938  352003.91286194  375119.72421233\n",
      "  442779.11709226  481436.31130215  715288.30999902  516239.1295999\n",
      " 1430706.64659659  677073.66712837  282762.41215204  330023.69248851\n",
      "  279792.25381883  368991.22935927  255421.22742044  589063.03712691\n",
      "  592603.48467731  520469.3530634   389499.20857725  413107.35949208\n",
      "  426808.13487252  338405.53595147  716201.8174193   230122.56680855\n",
      "  527001.2260449   413305.00696906  572979.5040097   306705.77676335\n",
      "  786298.78577324  341398.87011444  425558.29560372  311038.92079381\n",
      "  367212.13262588  490559.36028569  435517.22840518  576992.5786119\n",
      "  565271.46837368  180226.63751776  308848.60602983  376289.09760333\n",
      "  844273.99978803  317905.37513064  875435.99706046  358767.45707864\n",
      "  485467.16198427  461827.02300908  381231.70619519  313892.44832262\n",
      "  239842.77390764  301700.85391115  327266.04159616  674435.10669453\n",
      "  325152.62182343  472071.93196842  590223.22458703  451859.53561725\n",
      "  559875.39439     501199.1160031   395387.02927235  309130.37262698\n",
      " 1504531.45190072  226162.94695094 1168642.95954672  208348.70369\n",
      "  652930.37742163  218558.19623477 1501295.40843553  585103.93791706\n",
      "  280456.80574915  934985.89882966  219177.1408657  1059884.04446311\n",
      "  272590.32390141  834912.86519864 1288478.75504373  297861.05588291\n",
      " 1074460.9894488   539242.86263343  729504.10755878  250943.49647892\n",
      "  747823.02494604  289045.45920731  872478.56339076  411613.2611905\n",
      "  356483.8071413   493677.4122121   300686.89727275  321547.81585295\n",
      "  487449.35029957  303644.11952014  339337.88725033  332060.1668407\n",
      "  497043.02369403  749299.48237447  526210.73857631  642129.74082599\n",
      "  698405.49136735  360411.1468445   705875.18290216  388793.87372963\n",
      "  232811.30849423  673894.82873062  945472.63034967  426203.84797373\n",
      "  353510.58474102  498857.25626879  259671.8617051   443770.98216214\n",
      "  308171.66788225  570518.70175978  439382.58748548  695563.05637904\n",
      "  589233.92152909  742557.71401973  365100.30283695  990838.73950043\n",
      "  372873.14147234 2808793.59476951  492606.97125598  225569.95257171\n",
      "  255897.9578444  2477265.84172364  603117.24353842  579295.63932938\n",
      "  638805.91476612  450075.59285598  693735.60795391  521857.49391727\n",
      "  220474.54490759  217887.14580026 2020824.83381449  491966.65868331\n",
      "  513919.50713657  355887.22836259  458192.40724326  346953.66678273\n",
      "  424045.57051988  410920.72875223 1597181.6322235   626398.95339295\n",
      "  546511.20382073  395143.96521286  233574.6290979   312049.40024498\n",
      "  390767.308044   1099063.39432449  725045.70649889  592804.2509554\n",
      "  510159.5723144   266777.07960854  169509.88702355  330429.03028716\n",
      "  317255.50927234  212447.87108293  896538.98652612  347674.48485648\n",
      "  790970.02630483  430704.3921595   280734.55007804  282820.87579196\n",
      "  477616.38509534  494699.18946547  551839.41119025  780270.91613729\n",
      "  453466.46116698  496886.7884757   645060.22229819  419444.56607773\n",
      " 1139735.10433949  588352.63645707 1045787.9680517   453435.29466892\n",
      "  375727.39874705  647891.32752106  309346.06102916  485719.52793097\n",
      "  388977.99803005  826698.14850901  393323.72568144  690752.83711135\n",
      "  401621.75522705  337273.14922935  764133.3551704   420325.35269662\n",
      "  431581.19500522  517858.10257084  394488.12907614  360562.90228472\n",
      "  379734.81680969  485729.87479198  457780.7802802   619358.8876374\n",
      "  633311.28936012  161190.43487232  505682.99828668  610354.71633267\n",
      "  396056.02803687  478980.90430365  707973.95473478  379178.11146601\n",
      "  431321.98893736  371293.17552045  306019.47647319  316819.84525278\n",
      "  297487.31010569  490017.0222353   931079.26707184  267726.56407597\n",
      "  671993.80988608  237304.39245214  331114.04726583  674458.86075988\n",
      "  754918.17659889  378888.41465087  340378.24112002  224068.10132855\n",
      " 1115655.5904593   407954.27442872  655385.21042949  458762.16172279\n",
      "  710015.92209272  363837.94060383  505241.91217697  375150.0884969\n",
      "  306036.85578518  374645.76081978  326908.68585972 1030687.77250579\n",
      "  660486.21787371  623707.1363215   356181.25792873  418691.42879588\n",
      "  663190.65841481  649306.01954351 1202434.39538288  668144.21956096\n",
      "  555032.34219633  472110.9399317   554590.44315357  467919.52123552\n",
      "  530093.62498884  676368.77520411  328909.97752036  317297.46379872\n",
      "  823284.85764036  424999.6932857   760559.23651854  347315.34835199\n",
      "  225506.41569215  299353.32477978  357384.03502554  335130.57888599\n",
      "  268733.24522995  478827.44902938  186202.49370555  304072.08854924\n",
      "  760576.65065577  284046.32210643  668490.71393892  599388.18398436\n",
      "  944284.81306152  309236.84335881  362335.10366393  406194.39631914\n",
      "  576580.13837546  511624.71339422  379547.1623133   349878.54299345\n",
      "  655243.532095    332939.75566273  562386.71753977 1066622.44506306\n",
      "  346070.7213804   459318.53883029  260354.9683066   330294.73298537\n",
      "  303724.82938214  686429.6338158   299651.79724252  460152.65775276\n",
      "  361527.67896791  279150.75214069  326328.58888099  388681.64261945\n",
      "  587464.71843115  243571.50077711 1903249.84436925  250397.00096056\n",
      "  363945.09442809  318094.13062716  362235.81042925  548705.25102438\n",
      "  211969.65534387  507873.45392097  306827.26690793  370577.66422509\n",
      "  252667.11647694  432279.0454752   339684.60701076  402160.43710442\n",
      "  296217.67321826  308838.01320033  423391.89529897  361655.23241704\n",
      "  422351.79923501  471728.26869056  534252.35047256  271047.2238313\n",
      "  615730.12479837  516777.98710895  324545.68839532  475140.22751915\n",
      "  256869.84732798  400936.50578142  277145.04142521  791132.50005631\n",
      "  634990.40670595  451196.20669786  427060.9724673  1515353.30469293\n",
      "  312621.54597554  399708.05678798  555407.84727009  409086.57866164\n",
      "  680534.02516705  323145.62004594  341680.24315006  373669.38538615\n",
      "  450596.28279608  308148.29243564  445309.17401791  301401.14039636\n",
      "  535923.19862521 1019814.09313147  319704.20100824  343908.65517318\n",
      "  661146.21350607  210232.20339343  594675.01763617  223036.57054159\n",
      "  319468.57607497  704877.73819949  313063.59933561  335280.10438029\n",
      "  350572.30031106  559779.27150913 1538579.6347177   957260.44659775\n",
      "  382528.0415187   441836.05898366  451633.85805892  160522.81411777\n",
      "  678494.11279579  580040.79438488  426580.70023627  294746.2296794\n",
      "  445679.88499364  489777.51519017  520623.9286618  1322197.45229557\n",
      "  745816.75894198  335666.08255006  799743.8553712   255543.64004917\n",
      "  505000.53712204  226195.02551783  800820.23749379  543731.63888128\n",
      "  353537.76747153  375119.2256035   269722.03288523  585551.7205245\n",
      "  318812.37331031 1085722.27578898 1409482.47097498  373337.51694697\n",
      "  626223.13276685  515422.54014627  866639.43222252  750814.14848342\n",
      "  867185.89864448  664180.71144898  404619.34118969  429258.17889914\n",
      "  743358.95203918 2173848.72863103  481282.92318293  709904.69293706\n",
      "  408600.35160835  269162.24321302  453087.40090924 1169214.46489939\n",
      "  521769.57481231  612164.64320323  620734.61627734  545754.21171196\n",
      "  624132.84715622  280223.86360505  530419.49348902  457792.96736306\n",
      "  402200.85349546  446387.9535664   527489.98340531  682214.28528705\n",
      "  251264.39034906  845207.04725284  592802.72236629  312288.26758538\n",
      "  370789.46231354  238033.15463792  322807.29740912  432355.72874336\n",
      "  609456.82151714  307675.89604644  258374.3750845   604377.06440167\n",
      "  401955.12182181  882422.34384614  433672.33596993  255873.43465322\n",
      "  752516.27230629  234385.76621922  553466.77522246  473479.5987146\n",
      "  417995.84533888  460848.05823673  743267.46053014  308734.30374902\n",
      "  769072.90923816  646206.97497246  330772.69716953  344996.90546386\n",
      "  570177.06022438  842437.93624176 1378296.81057211  305016.69522698\n",
      "  813395.15254097 1325100.70129105  532810.52719256 2324955.11668554\n",
      "  232093.16765122 2072811.77195685  358747.33124978  293205.20633349\n",
      "  404973.63440538  359526.02738342  272896.44620707 1987949.90096021\n",
      "  622060.0921902   551103.46199271  507611.91748854  470693.65929511\n",
      "  323245.94714256  520335.26973543  483370.23509909  373709.84279403\n",
      "  361506.30905192  315046.5152793   390688.32000002  324082.5830575\n",
      "  323192.91577225  351746.77777935  491562.12518267 1258129.48077111\n",
      "  380422.17626072  231075.9171551   778220.28244955  320398.95522953\n",
      "  520898.04762444  387112.26854853  847300.7230776   269856.79809059\n",
      "  793987.33826111  317156.92590486  314077.04374678  512580.22459303\n",
      " 2841323.47749487  277738.22600092  325006.03098898  484795.05789731\n",
      "  349153.79313426  792306.62714179  254256.98315532  365612.36037345\n",
      "  488885.90445705  292979.54532709  267445.14359391  226984.6080843\n",
      "  954895.27344405  761354.67272514  602505.47823977  794524.73870077\n",
      "  314316.88944382  607823.75284992  361454.6127671   280595.24359878\n",
      "  495758.33523396  345274.11961558  497180.64833466  316213.15542518\n",
      "  226192.7760709   614603.7317487   414934.18418893  537300.7228041\n",
      "  337224.01273668  634767.43070134 1501531.91574755  481704.64739459\n",
      "  304172.74780223  537459.01204519  423750.44834802  390589.00622229\n",
      "  753342.74136812  358390.62798942  415513.49487333  551682.02585145\n",
      "  744014.28867422  215967.47087603  701650.78685793  753575.84358172\n",
      "  296686.65274712  921753.75769172  609998.86406361 1566394.40902408\n",
      "  982312.23492252  533515.7368538   310922.85555516  456706.71865345\n",
      "  657990.48243825  626926.83598241  269725.50706875 1561640.12657611\n",
      "  347330.95110358  286618.49483183  298863.1587858   611415.4593908\n",
      "  454743.11414661  301905.46218617  429651.84685416  653313.24173462\n",
      "  351560.21165646  517381.12275983  617661.94427872  589127.33451831\n",
      "  457716.62905714  740336.10073604 1123350.18337694  801931.98871974\n",
      " 3245495.63675408  338237.11085342  701917.59285791  493474.95359323\n",
      "  322742.4882276   386432.0108837   297757.51712663  451258.84761953\n",
      "  383683.08352774  585536.77423723  411761.22421976  667920.73142961\n",
      "  718116.35025979  217144.04108882  570646.87187101  611507.86673563\n",
      "  167302.16098989  320816.9732211   194821.57217666  461379.29490843\n",
      "  410879.9016931   959600.89444172  317561.38580572  296912.69561666\n",
      "  871301.07919317  391340.76743299  705164.38962531  830648.11026187\n",
      "  529595.19708978  802031.65098805  660323.6849059   307288.51993124\n",
      "  537059.87639449  243236.13651745  706044.31272656  369175.27140942\n",
      "  338154.4097131   298216.93350914  522358.29135524  242830.12064287\n",
      "  451880.4505328   344191.91235995  413397.87993647  624731.00986988\n",
      "  355767.48389167  450855.42485114  338211.83828928  538079.97227935\n",
      "  517668.91277596  353308.30133897  565878.64825306  422901.43258996\n",
      "  356375.4288852   803947.25078312 1186178.13396351  552162.12135357\n",
      "  472422.59506726  833457.28037751  593267.98867591  488696.83436105\n",
      "  333459.86974495  224823.35949145  606750.73270698  169900.32543207\n",
      " 1080458.38721701  564546.70366836  445295.62811334  404877.33057222\n",
      " 1204878.32012329  319784.89138433  539006.7303757   347562.12805376\n",
      "  504270.06488607  705284.75643401  182451.2315601   416968.19216284\n",
      "  219035.77047769  369605.95307491  439302.74904697  337320.23146927\n",
      "  639203.41605251  309801.1408035   241320.25363727  739651.97495215\n",
      "  518252.91472031  439051.65503527  333673.112487    344548.33931635\n",
      "  684968.17467091  356640.1568578   981231.25183334  385506.64363985\n",
      "  734167.2193525   437759.0504902   492876.66786473  243085.88026617\n",
      "  990602.48141108  519906.39724451  454916.96704965  463798.14844768\n",
      "  469891.61250199  229350.84460302  343314.00813945  275973.63798133\n",
      " 1728707.63768752  459203.76873536 1390497.53333398  337283.5887333\n",
      "  448805.18915834  570850.17328016  698701.27992992  340066.88571089\n",
      "  592677.13423824  292716.31061229  517434.78577935  618482.11587172\n",
      " 1015594.81284214  938624.29343028  357959.31190932  274862.98301816\n",
      "  326807.32367046  682090.60671635  487408.6134706   427862.13554451\n",
      "  238309.03654335  353498.26165685  824877.76313902  634500.36007861\n",
      "  635359.46338311 1005326.02012045  431240.15431301 1585747.74116845\n",
      "  231395.5443153   990762.53120146  403464.85614733  327287.04697113\n",
      "  214553.57033409  588447.15645178  229848.06569121  321924.41690235\n",
      " 1702609.63226367  400713.53402321  333642.7213437   403789.73475721\n",
      "  324679.68373876  765654.91102026  437782.58278905  275077.26350826\n",
      "  283641.15135306  346145.78421961  694189.67016976 1163128.60100675\n",
      "  445934.67983374 1220775.65369783  396480.41368242  456075.44908867\n",
      "  388923.92165032  662154.71247805  180087.20388145  341344.69755653\n",
      "  275157.7297528   235521.8056979   461622.30823599  405199.26626901\n",
      "  450252.06298239  276864.85367911  799433.95685895  361320.4749219\n",
      "  205304.71794407  468591.09348526  222189.81368348 1136023.21502378\n",
      " 1199721.07377816  413430.59222235  450340.07692678  980147.30760424\n",
      "  512812.66925899  860674.01332437  814694.80564677 2114073.95512415\n",
      "  230405.88913521 1280067.27790384  814118.61999485  670815.11525146\n",
      "  691660.42881018  281468.35427833  289550.37782688 2144098.07272558\n",
      "  902398.94739897  264206.06168594 1079592.19460445  277151.49573748\n",
      "  321438.80105853  415055.55537354 1017269.14033996  579912.67302682\n",
      "  248885.39318558  258530.04481901  800013.51354971  755305.02747159\n",
      "  640785.5821131   578723.15534385  909898.8149554  1038030.26528415\n",
      "  326145.23525406  442366.44362821  457357.73855404  402871.19556956\n",
      "  484950.99855228  418791.76255275  244357.58432527  902374.42060262\n",
      "  595619.22183956  554334.03255774  309274.93701915  495822.82803067\n",
      "  360876.52961825  337582.98464028  476441.98174062  333815.07823825\n",
      "  776526.18003657  933446.37778496  405730.39912959  317956.31329304\n",
      "  400328.09677745  549388.74328774  271216.6162659   556409.25753783\n",
      "  582264.22137963  302419.76920394  867617.69791452  736361.99670462\n",
      "  322725.15951917  517283.20915324  317980.66122356  205982.92024189\n",
      "  476170.2236512   445129.4403215   256375.39781544  540563.86371204\n",
      "  456854.1829025   604137.42321605  364748.4427283   303598.91739614\n",
      "  611662.57649177  642298.83985623  513042.67074313  654381.32176388\n",
      "  841795.57296459  717382.37191165  290543.41364236  501779.31048888\n",
      "  517600.79910376 1104132.03645796  341472.93457991  954355.15751254\n",
      "  745995.89737742  186993.52716939  277557.6402944   554055.16074518\n",
      "  434992.86111142  335658.37697279  342826.24864145  490710.1544533\n",
      "  327042.93632585  461144.98619019  449531.61147704  348971.51334818\n",
      "  181679.65891797  363598.6894375   687410.83508763  612740.74085583\n",
      "  762746.86126707  682649.08473657  458725.14107208  382709.44876051\n",
      "  598959.20627291  512219.63030928  359232.0695382   292957.86703014\n",
      "  571457.73634122  373794.48591204  366384.02486355  299888.1418484\n",
      "  484686.53716229  753018.87784383  402835.44151329  801277.47336613\n",
      "  344603.95905503  514666.44917203  355292.40434486  708733.23346104\n",
      "  316470.01879168  453354.66397774  332224.32195305  506056.7799852\n",
      "  332992.31871928  668547.41103958  388279.49397993  541599.6420954\n",
      "  659252.80820324  290924.98434357  427857.12862861  339217.826172\n",
      "  403404.33605271  178557.09183903  789860.65014142  264363.66994084\n",
      " 1927540.00490184  596631.06358557  604072.86200513  632615.1027876\n",
      "  532619.55428755  475628.88869209  333882.02414803  845202.8486648\n",
      "  551448.30998647  531915.12136851  463747.58955713 1141085.68823946\n",
      "  209081.57842581  477095.19679692  441974.17854367  238380.20913346\n",
      "  402678.14290454  620112.92804592  317910.38235498  327202.49335317\n",
      "  507835.72587457  392181.23312112  326284.09197211 1044802.62258714\n",
      "  378313.29543302  305213.02777459 1486402.95766222  678525.86852983\n",
      "  278594.44815681  916345.18935754  374117.19846696  420079.35559324\n",
      "  769593.16109014  342140.22415618 2045580.59901457  216288.92265044\n",
      "  769395.63401227  805756.99008331 2230971.32015201  435878.87324217\n",
      "  557033.53474119  383977.22578809  404575.56551737  399908.13215552\n",
      "  425505.11075982  707380.24345116  505880.67847615  574480.09791785\n",
      "  323259.56619997  524399.59672912  526372.61777202  284367.18591774\n",
      "  337597.05127643  302460.50052116  417270.3027025   505323.32467058\n",
      "  823258.23624402  540395.15401285  571693.19266934  448930.91011658\n",
      "  696256.77996259  411146.54791018  875380.99975186  604003.92850035\n",
      " 1036513.66845622  385511.73629132  450291.74999104  189778.43781764\n",
      "  911974.05956625  318023.60959808  799901.28111988  335674.2688948\n",
      "  435028.38688693  474108.9535794   384285.77537686  343298.13236611\n",
      "  505966.62390861  328135.62366916  441320.29914407  462260.21957329\n",
      "  794795.44511629  742442.21452522  496194.18374605  591216.75555504\n",
      "  762238.1413052   958952.0496489   753690.62210025  976394.59502176\n",
      "  732675.56793704  202297.6012835   838105.54368825  811357.27687901\n",
      "  364107.47742764  490557.08508333  282950.47305915  213026.26849065\n",
      "  389374.69887939  463965.49755799  280821.53094073  412196.53746309\n",
      "  445175.57520961  549965.43169533  435559.42069048  688202.1960437\n",
      "  304054.89308433  474028.85457181  477268.60152106  658424.38874301\n",
      "  343481.8140541   274308.54097619  235668.22023158  581502.75232973\n",
      "  497138.52443982 1479851.80413877  326260.36138578  249132.98263919\n",
      "  906379.10472173 1088632.67163113  575715.57693068  507953.7970699\n",
      "  875712.51568778  597044.97802707  495544.34638365  492467.51793155\n",
      "  277670.37160513  596020.13658212  331703.1068431   420875.26199869\n",
      "  490934.95941767  391672.13921413  314847.01524825  255299.09535395\n",
      "  304193.60215987  641802.61823837  343510.62084415  337812.49321288\n",
      "  614935.8808809  1029909.40989541  665965.66741376  352760.58688001\n",
      "  742968.23475186  506730.68589867  289102.48587203  716988.94596609\n",
      "  782341.29995873  398466.16789568  651890.879343    309328.9628535\n",
      "  706595.12210723  426223.45767526  483793.27467508 1454508.49127022\n",
      "  194641.6126836  1167225.71078817  364195.12785284  368217.63283774\n",
      "  428052.33660666  477165.01165173 1445651.63523701  444290.62447534\n",
      "  294509.00059563  388322.2296969  1740137.16081208  348257.80629893\n",
      "  481486.13671478  337572.70505163  475906.68502605  745553.66843966\n",
      "  352108.76965645  556747.51953263  569010.72413565  437279.15734202\n",
      "  938004.12644206  392668.5577482   469546.73591768  465622.77617114\n",
      "  555853.80019145  377751.32006027  459753.27000008  851411.31730824\n",
      "  356511.02516533  427655.02093982  263905.97256981  232421.05604436\n",
      "  239844.0562118   695530.05183678  405910.708243    604207.90711303\n",
      "  182010.04720762  336608.14248984  368112.93303665  278906.68429266\n",
      "  373978.90958392  210885.02735252  589205.2254192  1164376.19130798\n",
      "  280154.48879674  454990.9306663   502141.48658759  271545.89175384\n",
      "  418261.93145436 1387184.55308817  301925.60135164  384851.18207939\n",
      "  624872.89005389  797980.43121431  302852.96133838  315985.01949832\n",
      "  220396.4255287   804016.29865413  421534.64253464  473496.67390128\n",
      " 1291048.06848789  343263.50222552  867327.32485961  477256.93171868\n",
      " 1414251.51140475  343971.14002384  616825.71102752  476368.30395751\n",
      "  551432.69846718  239374.91291904  464867.52356198  409353.58686274\n",
      "  710686.77585389 1398066.17844441  898707.82047556  511258.76855162\n",
      "  664941.57951204  302440.92546987  295801.05378589  321810.95135475\n",
      "  643739.29269204  299719.87530045  263213.96738395  405318.68813666\n",
      "  247237.88857259  537425.02779633  380219.72070549  412314.5764067\n",
      "  414986.55656008  323168.0225234   282328.83831956  550384.60932865\n",
      "  426636.01150809 1017459.41304992  331800.41366807  362341.99998467\n",
      "  549543.65986409  591749.13719776  251362.26928435  372078.81202981\n",
      "  968216.11070156  521388.03276047  494389.30074649  983532.30555394\n",
      "  489457.15365838  800373.03317197  356831.58261451  186859.40362691\n",
      "  457397.5127217   189313.22642666  338534.65053479  463184.28317437\n",
      "  650354.48856121  375704.69049662  240534.13755456  437988.11398158\n",
      "  329550.91233394  548366.26404404  239905.6820525   452539.37210709\n",
      "  394545.14740704  189120.11209272  477569.5328577   516364.10066382\n",
      "  731243.57854485  328099.50139408  408065.00590824  205029.17763819\n",
      " 1814761.17968444  443744.76817105  683589.45485292  867370.16153888\n",
      "  818070.06685184  463223.16837081  411388.82504762  890472.26839292\n",
      "  538262.97278809  297407.86003916  361074.97017585  478724.38138552\n",
      "  436607.39296086  304074.04779165  421362.97308298  450224.08199299\n",
      " 1075484.62708033  371691.57593395  500039.98033952  675399.94054132\n",
      " 1243146.72608417  249365.55500213  857800.49276346  450778.70805075\n",
      " 1940471.49870375  163201.71202055  638068.79887353  229918.82882454\n",
      "  579076.18687044  800392.99630052  253114.64702265  452544.24687885\n",
      "  415732.338274    491407.24780084  523697.30552849  512211.0913316\n",
      "  668832.74781052  322082.13673461  477769.6557226   343520.57208783\n",
      "  406502.51636093  201145.16983721  585731.98677594  448987.93355276\n",
      "  574948.66955696  757016.34126028  464680.90017137  547958.06895526\n",
      "  414315.87014876  360934.13944313  316712.61460356  954013.40591289\n",
      "  410411.62398315  527642.18307015  336594.88393353  418355.41640456\n",
      "  367287.27907089  427597.11891226  376238.92253773  718509.15881816\n",
      "  572143.49109568  328554.2014768   526813.26344628  340096.37149743\n",
      "  319450.82558271  330321.52866393  780142.58737446  299525.32295842\n",
      "  305875.81151179  345276.6265971  1285978.90120681  806088.01974315\n",
      "  481032.25203511  421227.67708798  444434.22610362  542402.85022687\n",
      "  646031.69388391  368211.62386126  315607.89715356  518694.7636999\n",
      "  570173.71136435 1020806.01145041  624862.22203432  250661.79303255\n",
      "  388057.30581487  741781.67435118  532059.81673019  695754.59673509\n",
      "  434626.85328734  906714.05166061  579082.10022546  810467.2187419\n",
      "  448068.91245796  407696.7525378  1182962.19420265  391593.27721258\n",
      "  490339.8811176   229253.21438579  525051.37972411  551601.26296143\n",
      " 2068340.07462719  370120.00982365 1136886.10452714  367690.58474019\n",
      "  953894.09720634  383695.48056498  368611.9965042   367160.77097559\n",
      " 1021046.06344724  398529.10588814  288129.82065649  492974.46640279\n",
      "  480901.10366602  445788.82087039  399807.76517287  332173.93749851\n",
      "  593483.89267335  410299.36119574  345732.15122291  528829.10903707\n",
      "  346148.4331103   260472.24870459  314591.17225751  398590.52768678\n",
      "  762643.09750965  457301.17112264  416079.24638432  168403.82354669\n",
      "  518438.37669313 1315561.69717321  375654.91273412  707480.57370282\n",
      "  587149.977592    419735.12923434 1574518.6821752  1205422.35689242\n",
      "  514966.13442792  659555.0834524   398666.71560461  504015.76825237\n",
      "  796368.81639247  343365.8692942   563030.99509141  460843.63400634\n",
      "  559042.98451915  670557.81493076  256311.47591802  367208.87821681\n",
      "  648937.9294917   405550.63317754  473554.59120333  312301.75048797\n",
      "  307383.9582671   313608.85493788  723158.10290909  549636.45685355\n",
      "  221691.58924178 1295057.91046919  589759.51663038  976393.24080656\n",
      "  568171.28494349  446337.23367093  436324.78116363  363768.35423947\n",
      "  504122.58191391 1106752.80754089  274782.64845523  538569.67058284\n",
      "  719573.39324887  549598.40996061  386654.12838968  786422.56419479\n",
      "  307454.71517861  535223.63767528  257238.36751304  378024.92239246\n",
      "  643981.15129397  542784.80779059  481229.57943987  657340.6643521\n",
      " 1494453.77696113  513817.62156903  397797.33146725  443823.12055534\n",
      "  242086.75364822  370907.14630914  537632.3645176   241837.204565\n",
      "  899050.74647995  369131.04922275  889306.84153551  694471.46164006\n",
      "  358741.59046612  367597.98836144  282049.88310298  648763.87814108\n",
      "  234091.53458549  622776.98385674  731956.44340452  361360.20046874\n",
      "  540895.85762292  321387.2539947   236990.08350693  529789.05729007\n",
      " 1018045.56999243  765163.37069719  536501.37230113  491265.63856668\n",
      "  802714.21767534  438296.7660196   602259.66967297  232682.00159752\n",
      "  878247.8183131   409919.28517304  393906.80582931  312971.90434804\n",
      "  346339.52084866  381240.21561035  702057.0584069   818158.17797094\n",
      " 1041999.54371971  600315.50278561  376904.87648873  389758.02849851\n",
      "  607085.86541915 2175947.34679424  633593.57335574  706292.15492893\n",
      "  789840.40681519  495608.56278708  806226.16796413  605535.5268882\n",
      "  582090.55556016  244703.35688865  443843.57887146  614893.74796777\n",
      "  351109.11860488  226715.91957404  326454.17854813  412583.72461425\n",
      "  276714.80264111  546404.79155856  632191.45490754  251187.81209883\n",
      "  623653.35807905  351413.55275777  732510.5815372  1760653.47233863\n",
      "  348413.14072966  423721.66740752  872081.05511347  353335.00722942\n",
      "  281864.52916923  455786.96660499  822966.77533346 1156200.89564576\n",
      "  876882.79170789  287630.09672559  408932.2812783   965005.96188068\n",
      " 1539566.30010897 1160189.03271023  542789.92392996  260149.87894336\n",
      "  317480.30395067  434245.17598146  314135.90934763  452361.93045079\n",
      "  391043.44829343  560329.90749089  739426.39314156  560430.13408694\n",
      "  383496.13117159 2748488.78945666  274420.41126482  505405.61098752\n",
      "  285705.8921405   659572.03001487 1197269.45912881  291475.00637478\n",
      "  483687.91256042  594520.12557659  523017.34028351  395775.8248137\n",
      "  304640.18363994  470190.5994587   813956.47157918  578781.4093752\n",
      "  616618.31255256  429955.1142768   359958.28941546  204326.05053969\n",
      "  392778.89762048  299554.93137006 1073613.2167107   599012.12231583\n",
      "  976098.0778646   544966.05064754  314587.15270533 1976652.39344767\n",
      "  398545.4837963   312131.31601158  228906.29591972 2150310.23601338\n",
      "  651392.66171322  312699.53485604  647329.60133378  399410.24519992\n",
      "  511004.93961215  417597.18753114  309586.01219492  841292.61580999\n",
      "  381415.1015729   373210.64887649  353492.99954554  414993.33835682\n",
      "  330468.41761786  200172.6609646   777107.13796893  334911.59789676\n",
      "  321812.91277633  283393.188735   1039313.59305074  602841.45059768\n",
      "  945992.66894355  377405.7029421   505250.22709502  864169.36712122\n",
      "  596064.83994355  407658.96052111  382376.59608571  713426.46624635\n",
      "  288699.24370355  442547.34957386  605682.32893032  215401.07293194\n",
      "  345892.91289083  403198.7336764   771076.66633295  452908.4944409\n",
      "  411043.93515558  318050.24825772  291070.21577804  819184.73817751\n",
      "  473842.88218196  660720.76786021  591443.79725498  238750.49850619\n",
      "  477882.2884493   500341.33442249  379363.54139996  363034.60995707\n",
      "  489630.71125441  257745.16029841  437462.55879939  545792.91740925\n",
      "  291811.52223485  101753.144358    532061.66143768 1439806.99947073\n",
      "  605465.41903794  298542.58361352  194274.07284192  795705.43288515\n",
      "  476834.99700089  293387.69480877  635007.28437381  273513.01177024\n",
      "  281883.70828702  283514.31313217  314740.81604431  700805.04775494\n",
      "  359173.15286024  283438.27517784  347236.42527106  508616.1384669\n",
      "  573477.64273294  213027.74378907  339016.03365847  579751.71686603\n",
      "  454807.97421254  339712.13149574  648885.40734245  730958.07038254\n",
      "  464508.53423046  717090.66131234  446872.26172654  678352.72413438\n",
      "  484909.89980914  587051.05780588 1290543.18418534 1456040.37849727\n",
      "  341511.24365585  328588.37518947  344188.04432311  341358.40298634\n",
      "  449577.91471442  490490.8310789   481304.42710839  228722.33515209\n",
      "  185672.99703317  453003.87704825 2021825.64515303  305558.35432044\n",
      " 1664339.12756459  275975.83192495  635899.30426642  459678.16595528\n",
      " 1032474.05319517  752171.97353505  259551.31121724  362274.61649625\n",
      "  877347.38951762  301114.96672666  407697.77552467 1779009.92201206\n",
      "  480607.76363831  697128.58574601  256343.4420187   242268.42909756\n",
      "  620024.35572933  376249.57853534  924780.98764864  860235.86490927\n",
      "  325384.07114331  387997.80165691  347010.52019765  534821.5232174\n",
      "  722575.15961259  864927.22518302  818862.23064152  516283.8998961\n",
      "  243926.08056633  364137.2922948   851548.8428777   320462.67254978\n",
      "  215095.46536426  335145.7737224   486670.23392412  496148.48739633\n",
      "  356788.74545935  514763.26007064  498679.20132039  341703.06503826\n",
      "  330338.6632384   363071.71518887  816619.25791781  620566.3172987\n",
      "  354035.55990528  347744.4403445   513129.31286241  282277.33507175\n",
      "  278449.72761992  484160.58203817 1395037.78939283  635198.3374939\n",
      "  303510.75085349  389284.2075444   333296.95789722  356027.02709205\n",
      "  300108.94264606  674020.07362386  371933.33825396  369773.60050443\n",
      "  421165.69615839  215795.15823893  687886.60588518  793274.2048633\n",
      "  344630.4522939   799693.06362137  580223.95614406 1039881.92212563\n",
      "  273208.00607349  454382.31033499  539020.59976988  576080.96697539\n",
      "  316733.2426036   633368.70074393  745168.51482637  335312.21362813\n",
      "  465365.70538924  338297.71039059  277351.32735017  457067.21628342\n",
      " 1770244.05366949  446243.79291653  317377.50011634  347028.58843357\n",
      "  423651.66363416  487665.25566314 1353130.61462027 1744495.90599049\n",
      "  504970.59316921 1072233.39757811  447196.93578393  544291.36872652\n",
      "  856438.98917042  350984.74989245  324748.19958305  332161.54053312\n",
      "  730664.51722234  368874.24183784  335145.08406162  389830.96583105\n",
      "  790259.48229508  686769.82246741  285439.40220415  405398.89168023\n",
      "  667382.62085053 1641401.72847554  467334.95242029  340213.68236523\n",
      "  515559.8740501   326348.11906274  929721.03785127  790823.75537478\n",
      "  422204.67093731  593494.81825474  432063.90355061  907795.54832749\n",
      "  550537.77149656  723662.47652645  483351.96773812  440789.18418955\n",
      "  575934.85959562  608616.99234248  649266.82321891  315481.89509086\n",
      "  373168.41395933 1089281.28646565  486772.5367963   515467.50000963\n",
      " 1673054.44209374  572803.72492781  613057.40390957  527045.80938394\n",
      "  383426.26835752  310884.5442606   791119.27214027  551613.47730679\n",
      "  466545.21278908  406879.94896529  617340.79521742 1497363.57225499\n",
      "  415904.02823112  918852.88402464  216080.90287175  258736.59148491\n",
      "  344015.18438606  431906.46189089  500899.47506232  882364.81246749\n",
      " 1312470.16055903  288530.36224034  453076.49942975  626508.91422526\n",
      "  434144.01523506  409164.3776456   218882.13986878  366766.62408757\n",
      " 1240616.06237514  299604.72666209  194804.09135933  357807.72283908\n",
      "  689581.57725944  318509.74205355  724112.53131484  654595.5663137\n",
      "  388729.44906114 1884926.82101123  322492.23235266 1071513.87291253\n",
      "  321916.22330941 1148274.06155643  539944.46622054  898185.08722104\n",
      "  480011.01530066  418061.24869422  592398.39053986  310712.65900435\n",
      "  580609.10488612  325459.88750421  359240.87396899 1072984.69031747\n",
      "  413785.03865877 1148328.56822475  507352.32555653  660299.99452112\n",
      "  813654.3333698   381035.19003804  533186.97128045  149394.10387935\n",
      "  332005.53325498  428100.68529266  324462.44177518  413618.70900222\n",
      "  717537.31584721  441078.61854858  835677.21118978  864626.27389553\n",
      "  200786.19954731  351849.44146255  552372.7687462  1699820.88764582\n",
      "  667188.79747437  819118.64368952  294341.2734031   899936.48515211\n",
      "  618128.18164979  368884.24248991  764513.5571154   376246.99679347\n",
      "  550012.39966865  472326.12946028  597063.20921452  327035.86115756\n",
      "  236435.03589792  448090.6880224   264906.17901938  564764.0944499\n",
      "  277438.21683113  383962.89752253  298900.18712787  327618.17068784\n",
      "  569297.84779806  782971.20116687 2404673.1342082   572170.37612289\n",
      "  299880.78888559  244819.75750212  328222.93804036  496345.05923513\n",
      " 1765054.21249317  352394.57820037  367383.18278402  238425.93255671\n",
      "  276072.21663285  334528.10521007  941625.03667254  223614.67459853\n",
      "  428737.57830487  353024.61367475  348069.21850261  317301.80669662\n",
      "  880056.57967447  519465.41727811  380360.37829709  389792.02262695\n",
      " 1127257.62481082  326122.44791896  746030.34805258  348965.16969544\n",
      "  542233.33356391  647301.49805998  214924.00350853  261548.24669522\n",
      "  509207.2891565   274667.0130063   403171.39052584  303123.72953531\n",
      "  579386.47595285  897464.51304392  507796.59238613  524299.30183131\n",
      "  352203.65643656 1192118.57948852  306895.84655569  359666.16031456\n",
      "  599037.89961896  673040.95531309  471481.46608662  264995.42376476\n",
      " 1751224.42597138  469412.05816475  453638.02390822  786460.80758914\n",
      "  413201.91913795  593737.25529071  311541.71223691  766106.41195294\n",
      "  559321.53298706  490070.35003544  198491.7858714   575870.92963742\n",
      "  410886.48830678  448836.99567293  658577.40725214  344099.94581943\n",
      "  450170.1750659   460463.1416133   590752.81059306  202638.58940426\n",
      "  719597.40221506  251384.29071656  440072.74324072  306507.26054427\n",
      "  432847.30451749  869188.51058406  996102.53748636  429184.12453318\n",
      "  346957.31825969  285389.48546284  654699.16342164  569143.89291722\n",
      "  528051.95309417  645649.08205615  702427.47848598  321376.33448701\n",
      "  515384.01670977  952826.30191079  590270.67390097  532766.14615429\n",
      "  524356.38086097  558358.28906133  275529.28458582 1014706.1825418\n",
      "  461172.03994923  567078.59482388  721962.57276532  536404.78381318\n",
      "  402389.29556205  482082.6389479   472039.9338493   412656.17277102\n",
      "  336604.63239599  361474.9515327   236471.768087    977074.29473968\n",
      "  803865.49130382  401205.83448378  319365.84118932  331616.60887577\n",
      "  365291.84457315  391521.457607    560109.48297082  222413.62071792\n",
      "  259426.90549817 1029527.35624369  554894.12266511  360924.96727611\n",
      "  496901.60482534  731708.18637528  448536.73207591  476060.8973965\n",
      "  417300.25146236  376801.82743064  519205.6071777   512460.70988408\n",
      "  894285.42952962  487899.89071944 1099267.31278623  407829.43850758\n",
      " 1220018.02846588  868797.94683334  466942.94846455  669526.02832944\n",
      "  406432.98165016  511165.56252365  348475.86120449  438090.6532901\n",
      "  351898.09113039  394100.86989686  262396.90240063  380514.7774426\n",
      "  780089.12009278  496446.07645159  891458.97924249  601083.82440576\n",
      "  438145.39371989  447381.39728376  701426.56596548 2378831.57469889\n",
      "  243301.83766227  553015.35933083  482115.9159249   755076.44652852\n",
      "  286484.0902998   428242.93691924  266144.9632567   648343.85816105\n",
      "  880237.16501901  402459.28975121  613965.7599148  1126257.54633567\n",
      "  649837.25914116  609876.44827757  544163.64448631  503180.82739495\n",
      "  388725.99048753  312875.98476838  742888.40423246  491309.3399107\n",
      "  808923.43953978  442846.58438775  872325.68308991  246332.07763391\n",
      "  418674.96567868  331091.13457362  287631.97172556 1101385.4446593\n",
      "  213104.69166536 1087791.80051964  632100.1035119   175029.48738511\n",
      "  650921.55348111  432044.50866424  357074.27165972  462866.55446202\n",
      "  764920.62140077  356614.97481574  494988.09810124  427702.52801045\n",
      "  645898.86794194  814836.86620937  419560.99247722  402968.61816611\n",
      "  233354.36290938  418523.09472102  448115.19222235  683641.53136281\n",
      "  660249.04125461  845237.71657331  294733.28316738  565454.17001428\n",
      "  399353.22018011  858204.66568181  335857.96881428  703754.8205809\n",
      "  499091.90962194  352673.20107794  922781.72348576  429668.90148482\n",
      "  598282.39582002  763227.00432466  342344.65338035  650909.99489667\n",
      "  385567.40673508  727411.68042475  969281.65083321  219634.93917026\n",
      "  476381.79784386  523188.08453973  476699.00620264  607863.54592925\n",
      "  477941.18759404  634088.45695713  417817.5850461   353923.04781809\n",
      "  250578.82525628  376415.78652823  617980.11971077  277389.90543892\n",
      " 1131217.30356883  453955.74422691  398055.02434572  320847.90362912\n",
      "  885937.39147951  342819.00625117  554714.84264491  608113.01522407\n",
      " 1101911.3063586   411932.82866614  897335.25576778  211239.32050644\n",
      "  450109.22322797  329708.70165404  225824.01668333  396049.08982465\n",
      "  338101.29941121  280964.04419453  396446.78223037  343326.51218168\n",
      "  890289.18886098  461834.54829166  542763.14308638  424130.22653493\n",
      "  314000.02983897  705115.9499882   345753.15364784  343475.17608176\n",
      "  320982.15679772  652195.69971639  502508.48835639  217852.01786703\n",
      "  813960.62642444  507299.56704925  317496.77459818  378034.6797556\n",
      "  239714.28292451  607495.4749596   335167.37582663  316077.21643873\n",
      "  710840.59407426  314811.90593614  403420.80028402  295682.86823025\n",
      "  622103.45081058  664058.44677755  549704.55416823  629566.17398085\n",
      "  264038.45394483  497540.0467823   446770.28296904  640437.48027054\n",
      "  340078.33486369  790610.74919792  493468.77950384  339233.28188421\n",
      " 1012368.94986142 1019341.18458516  535015.70596744  548806.07857801\n",
      "  219644.65453121  418728.69431173  711775.68485561  796583.9975184\n",
      "  373212.99605674  352642.4625842   335924.10869526  423211.84249711\n",
      "  660764.06261745 1348802.71010867  725349.46030743  567878.09509875\n",
      " 1004258.45006633  219997.52822137 1409613.78509044  350050.32201369\n",
      "  554742.80016632  254985.00265894  670228.05794323  350601.63487021\n",
      "  385485.84257396  540877.70002759  679209.96940614  445393.52777659\n",
      "  590968.10117447  369487.16794272  382230.58601908  293355.87313564\n",
      "  487961.82535167  336646.83209406  422918.67279628  407165.48516246\n",
      "  313488.98442028  333492.85551107  590359.0198582   309970.91154012\n",
      "  412813.50879132  501298.57128261  642639.70958595  686018.03130969\n",
      "  824164.94895623 2689880.99935948  540842.7290359   691815.78176507\n",
      "  264306.1198851   557258.11799258  266232.51555525  182920.52564122\n",
      "  596737.71063508  409481.71653092  269914.19075444  250315.73385092\n",
      "  561999.3058089   382473.7200501   986200.79702464  722878.7620463\n",
      " 1140829.62073722  252400.28384702  897608.00451491  430200.701744\n",
      "  332328.83530599  657648.92219264  489620.65502882  399501.19010211\n",
      "  269566.9205735   788937.80802526  481844.27502251  376626.00549548\n",
      "  196159.96356145  460578.46980168  246998.73623707  480682.47548055\n",
      "  556045.4282354   526634.59413196  510023.69782147  368653.43950989\n",
      "  317542.8331523   925008.80582527  626302.83177628  356183.71836075\n",
      "  442605.08906193  655385.73873692  445313.3195923   338903.60021562\n",
      "  347895.05141846 1138028.48623175  271791.43761938  386452.2374822\n",
      "  612692.13370938  402770.11310365  499099.56016768  374652.77423826\n",
      "  329773.82437162  268361.4001937   551694.31592299  627587.49106561\n",
      "  510552.27601897  406730.8336322   653094.13786171  408861.72940065\n",
      "  358393.46368339  340041.46582218  234408.70342437  482409.51594782\n",
      "  386884.50388519  330667.62579334  321329.66461292  484554.99103683\n",
      "  415694.2969092   249446.6327832   870775.40798913  493731.86834016\n",
      "  533850.73011034  351327.24362044  471057.11587035  507187.57623648\n",
      "  395944.07849438  799760.37926595  531681.76013766  404097.90643295\n",
      "  394035.50357044 1189357.51108551  204614.80246393 1011820.55087208\n",
      "  339575.94545467  388023.87182641  372198.19053111  270741.080015\n",
      "  320267.94227512  808773.42265009  573176.18814475  852437.06997487\n",
      "  358466.30568315  390505.79626487  993647.66438211  290110.21977116\n",
      "  481028.05481823  828121.3160952   416823.43715246  754282.50627292\n",
      "  574305.45241437  304460.46337329  321020.17779034  566753.54285356\n",
      "  247977.12808199  184004.65217591  308139.67169592  368939.90785182\n",
      "  358301.23353175  861541.99132579  250016.06566427  508610.64576191\n",
      "  451856.4676211   491284.81021697  666665.2203436   408842.37366971\n",
      "  693683.60178348 1570709.75787003  327546.09952746  721195.20217455\n",
      "  229812.09092858  658014.66843009  787769.30081417  699510.03989033\n",
      "  916920.28784964  930464.33075218  558317.02493162  402787.6831225\n",
      "  727349.01702586  827976.72489891  526695.74322691  346465.47752409\n",
      " 1369586.51469977  591345.49902838  566009.43325873 1106009.81018466\n",
      "  481067.76699435  383044.84827266  354451.28010537  336699.90322752\n",
      " 1027613.74062922  498804.11094612  425449.72860608  541045.51764409\n",
      "  554789.92770589  587816.69142174  456719.63236988  450473.62105753\n",
      "  414169.47585045  340092.43444663  571915.65187623  543285.63638017\n",
      "  709027.25396189  515245.94983843  439643.78016312  615675.06000419\n",
      "  395084.34651256 1014269.68679536  689135.36607362  883155.92668382\n",
      "  394568.48952303  643141.49097785  416490.01033921  581352.87474503\n",
      "  548785.62850311  272509.90823143  731293.47502081  286267.96652497\n",
      "  588846.60949025  532316.00749328  707232.08009528  457423.18549315\n",
      "  296733.27076201  413526.94461792  757696.03100126  462082.25886601\n",
      "  494732.79438351  388611.77076894  710460.3868478   460334.16345129\n",
      "  326092.63995107  512423.40004063  413337.36247573  500408.72035397\n",
      "  408492.9835021 ]\n"
     ]
    }
   ],
   "source": [
    "with np.printoptions(threshold=np.inf):\n",
    "    print(y_pred)"
   ]
  },
  {
   "cell_type": "code",
   "execution_count": null,
   "metadata": {},
   "outputs": [],
   "source": []
  }
 ],
 "metadata": {
  "kernelspec": {
   "display_name": "Python 3",
   "language": "python",
   "name": "python3"
  }
 },
 "nbformat": 4,
 "nbformat_minor": 2
}
